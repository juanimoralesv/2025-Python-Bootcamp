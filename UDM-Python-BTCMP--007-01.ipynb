{
 "cells": [
  {
   "cell_type": "markdown",
   "id": "27ab4e5f",
   "metadata": {},
   "source": [
    "# Section 07 - Milestone Project - 1"
   ]
  },
  {
   "cell_type": "markdown",
   "id": "4624bdca",
   "metadata": {},
   "source": [
    "## 59 - Introduction to Warm up Project Exercises"
   ]
  },
  {
   "cell_type": "markdown",
   "id": "18211771",
   "metadata": {},
   "source": [
    "**Tic Tac Toe Program**\n",
    "\n",
    "- Take user input.\n",
    "- Manipulate a variable based on input.\n",
    "- Return back the adjusted variable."
   ]
  },
  {
   "cell_type": "markdown",
   "id": "6f0dad0e",
   "metadata": {},
   "source": [
    "**Interactive program:**\n",
    "\n",
    "- Visual representation\n",
    "- User input\n",
    "- Function using input\n",
    "- Internal updates\n",
    "- Updated visual representation"
   ]
  },
  {
   "cell_type": "markdown",
   "id": "0a523370",
   "metadata": {},
   "source": [
    "## 60 - Displaying Information"
   ]
  },
  {
   "cell_type": "code",
   "execution_count": 1,
   "id": "0c319887",
   "metadata": {},
   "outputs": [
    {
     "name": "stdout",
     "output_type": "stream",
     "text": [
      "[1, 2, 3]\n",
      "[4, 5, 6]\n",
      "[7, 8, 9]\n"
     ]
    }
   ],
   "source": [
    "# Printing multiple lines\n",
    "print([1, 2, 3])\n",
    "print([4, 5, 6])\n",
    "print([7, 8, 9])"
   ]
  },
  {
   "cell_type": "code",
   "execution_count": 2,
   "id": "c6eba0f7",
   "metadata": {},
   "outputs": [],
   "source": [
    "# Using a function\n",
    "def display(row1, row2, row3):\n",
    "    for row in [row1, row2, row3]:\n",
    "        print(row)"
   ]
  },
  {
   "cell_type": "code",
   "execution_count": 3,
   "id": "3568cd4c",
   "metadata": {},
   "outputs": [
    {
     "name": "stdout",
     "output_type": "stream",
     "text": [
      "[1, 2, 3]\n",
      "[4, 5, 6]\n",
      "[7, 8, 9]\n"
     ]
    }
   ],
   "source": [
    "# Executing the function\n",
    "display([1, 2, 3], [4, 5, 6], [7, 8, 9])"
   ]
  },
  {
   "cell_type": "code",
   "execution_count": 4,
   "id": "c2c5c6b2",
   "metadata": {},
   "outputs": [],
   "source": [
    "# Other type of objects, now already aiming at tic tac toe\n",
    "row1 = [' ', ' ', ' ']\n",
    "row2 = [' ', ' ', ' ']\n",
    "row3 = [' ', ' ', ' ']"
   ]
  },
  {
   "cell_type": "code",
   "execution_count": 5,
   "id": "e1bfd2bc",
   "metadata": {},
   "outputs": [
    {
     "name": "stdout",
     "output_type": "stream",
     "text": [
      "[' ', ' ', ' ']\n",
      "[' ', ' ', ' ']\n",
      "[' ', ' ', ' ']\n"
     ]
    }
   ],
   "source": [
    "display(row1, row2, row3)"
   ]
  },
  {
   "cell_type": "code",
   "execution_count": 6,
   "id": "59ac2c52",
   "metadata": {},
   "outputs": [],
   "source": [
    "# Update an element\n",
    "row2[1] = 'X'"
   ]
  },
  {
   "cell_type": "code",
   "execution_count": 7,
   "id": "6186d4a4",
   "metadata": {},
   "outputs": [
    {
     "name": "stdout",
     "output_type": "stream",
     "text": [
      "[' ', ' ', ' ']\n",
      "[' ', 'X', ' ']\n",
      "[' ', ' ', ' ']\n"
     ]
    }
   ],
   "source": [
    "display(row1, row2, row3)"
   ]
  },
  {
   "cell_type": "markdown",
   "id": "6813b29c",
   "metadata": {},
   "source": [
    "## 61 - Accepting User Input"
   ]
  },
  {
   "cell_type": "code",
   "execution_count": 8,
   "id": "936f76bc",
   "metadata": {},
   "outputs": [
    {
     "name": "stdout",
     "output_type": "stream",
     "text": [
      "Please enter a value: 4\n"
     ]
    },
    {
     "data": {
      "text/plain": [
       "'4'"
      ]
     },
     "execution_count": 8,
     "metadata": {},
     "output_type": "execute_result"
    }
   ],
   "source": [
    "input(\"Please enter a value: \")"
   ]
  },
  {
   "cell_type": "code",
   "execution_count": 9,
   "id": "762bbeda",
   "metadata": {},
   "outputs": [
    {
     "name": "stdout",
     "output_type": "stream",
     "text": [
      "Please enter a value: 8\n"
     ]
    }
   ],
   "source": [
    "value = input(\"Please enter a value: \")"
   ]
  },
  {
   "cell_type": "code",
   "execution_count": 10,
   "id": "0743fc84",
   "metadata": {},
   "outputs": [
    {
     "data": {
      "text/plain": [
       "'8'"
      ]
     },
     "execution_count": 10,
     "metadata": {},
     "output_type": "execute_result"
    }
   ],
   "source": [
    "value"
   ]
  },
  {
   "cell_type": "code",
   "execution_count": 11,
   "id": "379ca007",
   "metadata": {},
   "outputs": [
    {
     "name": "stdout",
     "output_type": "stream",
     "text": [
      "Please enter a value (0 to 9): 7\n"
     ]
    },
    {
     "data": {
      "text/plain": [
       "7"
      ]
     },
     "execution_count": 11,
     "metadata": {},
     "output_type": "execute_result"
    }
   ],
   "source": [
    "# Converting data type\n",
    "value = input(\"Please enter a value (0 to 9): \")\n",
    "value = int(value)\n",
    "value"
   ]
  },
  {
   "cell_type": "code",
   "execution_count": 1,
   "id": "4b8cf331",
   "metadata": {},
   "outputs": [
    {
     "name": "stdout",
     "output_type": "stream",
     "text": [
      "Please enter a value (integer from 0 to 9): a\n",
      "invalid literal for int() with base 10: 'a'\n",
      "The value needs to be an integer from 0 to 9.\n",
      "Please enter a value (integer from 0 to 9): 2.3\n",
      "invalid literal for int() with base 10: '2.3'\n",
      "The value needs to be an integer from 0 to 9.\n",
      "Please enter a value (integer from 0 to 9): 22\n",
      "Integer value not in range. It needs to be from 0 to 9.\n",
      "Please enter a value (integer from 0 to 9): 7\n",
      "Your value is 7.\n"
     ]
    }
   ],
   "source": [
    "# Validating data type\n",
    "flg_int_input = False\n",
    "\n",
    "while not flg_int_input:\n",
    "    # User input\n",
    "    value = input(\"Please enter a value (integer from 0 to 9): \")\n",
    "    \n",
    "    # Validate data type\n",
    "    try:\n",
    "        value = int(value)\n",
    "    except Exception as e:\n",
    "        print(e)\n",
    "        print(\"The value needs to be an integer from 0 to 9.\")\n",
    "    \n",
    "    # Validate value range\n",
    "    if isinstance(value, int): \n",
    "        if 0 <= value <= 9:\n",
    "            flg_int_input = True\n",
    "        else:\n",
    "            print(\"Integer value not in range. It needs to be from 0 to 9.\")\n",
    "\n",
    "print(f\"Your value is {value}.\")"
   ]
  },
  {
   "cell_type": "markdown",
   "id": "3ed1ede4",
   "metadata": {},
   "source": [
    "## 62 - Validating User Input"
   ]
  },
  {
   "cell_type": "markdown",
   "id": "70719036",
   "metadata": {},
   "source": [
    "User might enter a value that is not what the program needs. Typically, a `while` loop keeps asking for correct input to satisfy the data validation criteria. (I already did this in the previous lecture in advance.)"
   ]
  },
  {
   "cell_type": "markdown",
   "id": "493c437f",
   "metadata": {},
   "source": [
    "Carry out the same validation previously done, but now as function, and using `isdigit()`."
   ]
  },
  {
   "cell_type": "code",
   "execution_count": 12,
   "id": "c4bad792",
   "metadata": {},
   "outputs": [],
   "source": [
    "def user_input_int0_9():\n",
    "    '''\n",
    "    This function ask the user to input an integer from 0 to 9.\n",
    "    Subsequently, it validates data type, and value range.\n",
    "    '''\n",
    "    # Flags initially set to false\n",
    "    flg_integer = False\n",
    "    flg_range = False\n",
    "\n",
    "    while not flg_integer or not flg_range:\n",
    "        # User input\n",
    "        value = input(\"Please enter a value from 0 to 9: \")\n",
    "    \n",
    "        # Data type validation\n",
    "        if value.isdigit():\n",
    "            value = int(value)\n",
    "            flg_integer = True\n",
    "            \n",
    "            # Value range validation\n",
    "            if 0 <= value <= 9:\n",
    "            # Value is an integer inside range\n",
    "                flg_range = True\n",
    "            else:\n",
    "                # Value is an integer outside range\n",
    "                print(\"Integer value not in range. It needs to be from 0 to 9.\")\n",
    "        else:\n",
    "            # Value is not an integer\n",
    "            print(\"Value is not an integer. It needs to be one from 0 to 9.\")\n",
    "    \n",
    "    # Once validation is achieved\n",
    "    print(f\"Your value is {value}.\")\n",
    "    return value"
   ]
  },
  {
   "cell_type": "code",
   "execution_count": 13,
   "id": "9954c95e",
   "metadata": {},
   "outputs": [
    {
     "name": "stdout",
     "output_type": "stream",
     "text": [
      "Please enter a value from 0 to 9: a\n",
      "Value is not an integer. It needs to be one from 0 to 9.\n",
      "Please enter a value from 0 to 9: 2.3\n",
      "Value is not an integer. It needs to be one from 0 to 9.\n",
      "Please enter a value from 0 to 9: 22\n",
      "Integer value not in range. It needs to be from 0 to 9.\n",
      "Please enter a value from 0 to 9: 4\n",
      "Your value is 4.\n"
     ]
    },
    {
     "data": {
      "text/plain": [
       "4"
      ]
     },
     "execution_count": 13,
     "metadata": {},
     "output_type": "execute_result"
    }
   ],
   "source": [
    "# Executing the function\n",
    "user_input_int0_9()"
   ]
  },
  {
   "cell_type": "markdown",
   "id": "9a54b665",
   "metadata": {},
   "source": [
    "## 63 - Simple User Interaction"
   ]
  },
  {
   "cell_type": "markdown",
   "id": "90b9141b",
   "metadata": {},
   "source": [
    "Here, build a 'game' that takes a predifined `list` of three elements, asks the user to replace one of those elements by selecting the position first, and then the value to replace the previous one, and finally asks if the user wants to keep playing or not. "
   ]
  },
  {
   "cell_type": "code",
   "execution_count": 5,
   "id": "50cec5ea",
   "metadata": {},
   "outputs": [],
   "source": [
    "from IPython.display import clear_output"
   ]
  },
  {
   "cell_type": "code",
   "execution_count": 18,
   "id": "f3eb47d9",
   "metadata": {},
   "outputs": [],
   "source": [
    "# Definition of function where user inputs position to change\n",
    "def user_input_pos():\n",
    "    '''\n",
    "    This function ask the user to input an integer from 0 to 2.\n",
    "    Subsequently, it validates data type, and value range.\n",
    "    '''\n",
    "    # Flags initially set to false\n",
    "    flg_integer = False\n",
    "    flg_range = False\n",
    "\n",
    "    while not flg_integer or not flg_range:\n",
    "        # User input\n",
    "        pos = input(\"Please enter a number from 0 to 2: \")\n",
    "    \n",
    "        # Data type validation\n",
    "        if pos.isdigit():\n",
    "            pos = int(pos)\n",
    "            flg_integer = True\n",
    "            \n",
    "            # pos range validation\n",
    "            if 0 <= pos <= 2:\n",
    "            # pos is an integer inside range\n",
    "                flg_range = True\n",
    "            else:\n",
    "                # pos is an integer outside range\n",
    "                print(\"Integer not in range. It needs to be a number from 0 to 2.\")\n",
    "        else:\n",
    "            # pos is not an integer\n",
    "            print(\"Entered value is not an integer. It needs to be a number from 0 to 2.\")\n",
    "    \n",
    "    # Once validation is achieved\n",
    "    return pos"
   ]
  },
  {
   "cell_type": "code",
   "execution_count": 19,
   "id": "5a19248a",
   "metadata": {},
   "outputs": [],
   "source": [
    "# Definition of function for position and \n",
    "def user_input_modif():\n",
    "    '''\n",
    "    This function calls a function for asking the user the position to change, and validates.\n",
    "    Then, it asks what value should be entered into that position, and validates.\n",
    "    '''\n",
    "    # Call function for position input and validation\n",
    "    position = user_input_pos()\n",
    "    \n",
    "    # New value for that position\n",
    "    flg_valid_value = False\n",
    "    \n",
    "    while not flg_valid_value:\n",
    "        # Ask for a value\n",
    "        value = input(\"Enter the new value for that position (integer, decimal number, or letters):\\n\")\n",
    "        \n",
    "        # Verify it's an integer and convert\n",
    "        if value.isdigit():\n",
    "            value = int(value)\n",
    "            flg_valid_value = True\n",
    "        # Verify it's a float and convert\n",
    "        elif value.isdecimal():\n",
    "            value = float(value)\n",
    "            flg_valid_value = True\n",
    "        # Verify is a string and keep type\n",
    "        elif value.isascii():\n",
    "            flg_valid_value = True\n",
    "        # Invalid value\n",
    "        else:\n",
    "            print(\"Wrong value!\")\n",
    "    \n",
    "    # Once everything in order\n",
    "    return position, value"
   ]
  },
  {
   "cell_type": "code",
   "execution_count": 30,
   "id": "278c2c0c",
   "metadata": {},
   "outputs": [],
   "source": [
    "def user_input_gameon():\n",
    "    '''A'''\n",
    "    # Default use reply\n",
    "    reply = \"default\"\n",
    "    \n",
    "    while reply != \"y\" and reply != \"n\":\n",
    "        reply = input(\"Do you wish to continue playing? (y/n)\")\n",
    "        reply = reply.lower()\n",
    "            \n",
    "        # Give a boolean flag depending on reply\n",
    "        if reply == \"y\":\n",
    "            flag = True\n",
    "        elif reply == \"n\":\n",
    "            flag = False\n",
    "        elif reply != \"y\" and reply != \"n\":\n",
    "            print(\"Please provide a valid answer: (y/n) \")\n",
    "    \n",
    "    return flag"
   ]
  },
  {
   "cell_type": "code",
   "execution_count": 22,
   "id": "82737243",
   "metadata": {},
   "outputs": [],
   "source": [
    "def display_list(lst_input):\n",
    "    '''A'''\n",
    "    print(f\"The game list:\\n{lst_input}\")"
   ]
  },
  {
   "cell_type": "code",
   "execution_count": 23,
   "id": "3f0f93e0",
   "metadata": {},
   "outputs": [],
   "source": [
    "def modify_list(lst_input, pos, val):\n",
    "    '''A'''\n",
    "    lst_input[pos] = val\n",
    "    return lst_input"
   ]
  },
  {
   "cell_type": "code",
   "execution_count": 36,
   "id": "14bf82b1",
   "metadata": {},
   "outputs": [],
   "source": [
    "def play_modify_list():\n",
    "    '''\n",
    "    This function runs the whole game.\n",
    "    '''\n",
    "    # Define list\n",
    "    game_list = [1, 2, 3]\n",
    "        # Play on flag\n",
    "    play_on = True\n",
    "    \n",
    "    while play_on:\n",
    "        # Show the game list\n",
    "        display_list(game_list)\n",
    "        \n",
    "        # Call function for changing list, position and value\n",
    "        position, value = user_input_modif()\n",
    "        clear_output()\n",
    "        \n",
    "        # Expliciting game list change\n",
    "        display_list(game_list)\n",
    "        print(\"\\nChanges to:\")\n",
    "        \n",
    "        # Modify the list\n",
    "        game_list = modify_list(game_list, position, value)\n",
    "        \n",
    "        # Show the new list\n",
    "        display_list(game_list)\n",
    "    \n",
    "        # Ask if continue playing\n",
    "        play_on = user_input_gameon()\n",
    "        \n",
    "        # Clear the output\n",
    "        clear_output(wait = True)\n",
    "\n",
    "    # End of game message\n",
    "    print(\"Thanks for playing this marvelous game. Good bye!\")"
   ]
  },
  {
   "cell_type": "code",
   "execution_count": 37,
   "id": "ea810b88",
   "metadata": {
    "scrolled": true
   },
   "outputs": [
    {
     "name": "stdout",
     "output_type": "stream",
     "text": [
      "Thanks for playing this marvelous game. Good bye!\n"
     ]
    }
   ],
   "source": [
    "# Play the game!\n",
    "play_modify_list()"
   ]
  }
 ],
 "metadata": {
  "kernelspec": {
   "display_name": "Python 3 (ipykernel)",
   "language": "python",
   "name": "python3"
  },
  "language_info": {
   "codemirror_mode": {
    "name": "ipython",
    "version": 3
   },
   "file_extension": ".py",
   "mimetype": "text/x-python",
   "name": "python",
   "nbconvert_exporter": "python",
   "pygments_lexer": "ipython3",
   "version": "3.11.5"
  }
 },
 "nbformat": 4,
 "nbformat_minor": 5
}
