{
 "cells": [
  {
   "cell_type": "markdown",
   "id": "e926399d",
   "metadata": {},
   "source": [
    "# Section 13 - Python Generators"
   ]
  },
  {
   "cell_type": "markdown",
   "id": "89e953c5",
   "metadata": {},
   "source": [
    "## 100 - Generators with Python"
   ]
  },
  {
   "cell_type": "markdown",
   "id": "c9da1912-dcf3-433c-aac2-4c1f0cf117a8",
   "metadata": {},
   "source": [
    "- Generators are functions that allow for *returning?* a value and later continue executing from where they left.\n",
    "    - They generate a sequence of values over time, not creating it as a whole and keeping it in memory.\n",
    "    - Use of `yield` statement.\n",
    "    - `range()` is an example of a generator."
   ]
  },
  {
   "cell_type": "code",
   "execution_count": 8,
   "id": "fede5b94-0edb-4768-9c82-930bd1814f55",
   "metadata": {},
   "outputs": [],
   "source": [
    "# Function definition\n",
    "def create_cubes(n):\n",
    "    results = []\n",
    "    for x in range(n):\n",
    "        results.append(x**3)\n",
    "\n",
    "    return results"
   ]
  },
  {
   "cell_type": "code",
   "execution_count": 12,
   "id": "998d2604-ca75-4cdb-8f94-764ef1030638",
   "metadata": {},
   "outputs": [
    {
     "data": {
      "text/plain": [
       "[0, 1, 8, 27, 64, 125, 216, 343, 512, 729]"
      ]
     },
     "execution_count": 12,
     "metadata": {},
     "output_type": "execute_result"
    }
   ],
   "source": [
    "create_cubes(10)"
   ]
  },
  {
   "cell_type": "code",
   "execution_count": 14,
   "id": "33b489ba-e738-4578-8da4-4faaf6ae0054",
   "metadata": {},
   "outputs": [],
   "source": [
    "# Funcion redefinition as generator\n",
    "def create_cubes(n):\n",
    "    for x in range(n):\n",
    "        yield x**3"
   ]
  },
  {
   "cell_type": "code",
   "execution_count": 22,
   "id": "6d919f75-48e8-466d-9d69-67deb4ea0ac4",
   "metadata": {},
   "outputs": [
    {
     "data": {
      "text/plain": [
       "<generator object create_cubes at 0x00000182CDFD4380>"
      ]
     },
     "execution_count": 22,
     "metadata": {},
     "output_type": "execute_result"
    }
   ],
   "source": [
    "create_cubes(10)"
   ]
  },
  {
   "cell_type": "code",
   "execution_count": 18,
   "id": "7159510f-6654-4a18-b987-44d8a55a04be",
   "metadata": {},
   "outputs": [
    {
     "data": {
      "text/plain": [
       "[0, 1, 8, 27, 64, 125, 216, 343, 512, 729]"
      ]
     },
     "execution_count": 18,
     "metadata": {},
     "output_type": "execute_result"
    }
   ],
   "source": [
    "list(create_cubes(10))"
   ]
  },
  {
   "cell_type": "code",
   "execution_count": 24,
   "id": "2b26a9b4-4cbf-409b-99f7-15fa1b06e155",
   "metadata": {},
   "outputs": [],
   "source": [
    "# Another generator definition\n",
    "def gen_fibon(n):\n",
    "    a = 1\n",
    "    b = 1\n",
    "    for i in range(n):\n",
    "        yield a\n",
    "        a, b = b, a + b"
   ]
  },
  {
   "cell_type": "code",
   "execution_count": 26,
   "id": "b3e6fb3e-f22e-4ec6-8446-e572d5903a96",
   "metadata": {},
   "outputs": [
    {
     "name": "stdout",
     "output_type": "stream",
     "text": [
      "1\n",
      "1\n",
      "2\n",
      "3\n",
      "5\n",
      "8\n",
      "13\n",
      "21\n",
      "34\n",
      "55\n"
     ]
    }
   ],
   "source": [
    "for num in gen_fibon(10):\n",
    "    print(num)"
   ]
  },
  {
   "cell_type": "code",
   "execution_count": 28,
   "id": "888abda9-2b78-48d6-b0f5-e10d9f8d37f1",
   "metadata": {},
   "outputs": [
    {
     "data": {
      "text/plain": [
       "[1, 1, 2, 3, 5, 8, 13, 21, 34, 55]"
      ]
     },
     "execution_count": 28,
     "metadata": {},
     "output_type": "execute_result"
    }
   ],
   "source": [
    "list(gen_fibon(10))"
   ]
  },
  {
   "cell_type": "markdown",
   "id": "e5ed0930-829c-407d-aab9-37c7f2941f31",
   "metadata": {},
   "source": [
    "#### The `next()` Function"
   ]
  },
  {
   "cell_type": "code",
   "execution_count": 30,
   "id": "cd112fc7-50ea-4b9d-a495-3011d6e6584b",
   "metadata": {},
   "outputs": [],
   "source": [
    "# Another simple generator\n",
    "def simple_gen():\n",
    "    for x in range(3):\n",
    "        yield x"
   ]
  },
  {
   "cell_type": "code",
   "execution_count": 32,
   "id": "441c853a-0752-4352-96e5-3f3b1981bc98",
   "metadata": {},
   "outputs": [
    {
     "name": "stdout",
     "output_type": "stream",
     "text": [
      "0\n",
      "1\n",
      "2\n"
     ]
    }
   ],
   "source": [
    "for number in simple_gen():\n",
    "    print(number)"
   ]
  },
  {
   "cell_type": "code",
   "execution_count": 36,
   "id": "19ed82c8-d8ee-410c-898f-807e90149326",
   "metadata": {},
   "outputs": [
    {
     "data": {
      "text/plain": [
       "<generator object simple_gen at 0x00000182CDA39C00>"
      ]
     },
     "execution_count": 36,
     "metadata": {},
     "output_type": "execute_result"
    }
   ],
   "source": [
    "# Instance of that generator\n",
    "g = simple_gen()\n",
    "g"
   ]
  },
  {
   "cell_type": "code",
   "execution_count": 38,
   "id": "ec39e28d-b5b8-4ab7-a116-74e0af987d26",
   "metadata": {},
   "outputs": [
    {
     "data": {
      "text/plain": [
       "0"
      ]
     },
     "execution_count": 38,
     "metadata": {},
     "output_type": "execute_result"
    }
   ],
   "source": [
    "# Use of the next() function\n",
    "next(g)"
   ]
  },
  {
   "cell_type": "code",
   "execution_count": 40,
   "id": "2df89b95-5454-4c3b-983f-e1bd6ade1799",
   "metadata": {},
   "outputs": [
    {
     "data": {
      "text/plain": [
       "1"
      ]
     },
     "execution_count": 40,
     "metadata": {},
     "output_type": "execute_result"
    }
   ],
   "source": [
    "next(g)"
   ]
  },
  {
   "cell_type": "code",
   "execution_count": 42,
   "id": "6f7af91b-7383-4539-8ebb-b640d46e2a6a",
   "metadata": {},
   "outputs": [
    {
     "data": {
      "text/plain": [
       "2"
      ]
     },
     "execution_count": 42,
     "metadata": {},
     "output_type": "execute_result"
    }
   ],
   "source": [
    "next(g)"
   ]
  },
  {
   "cell_type": "code",
   "execution_count": 44,
   "id": "4165adaf-d695-4dcc-9b6a-426e68f4fd11",
   "metadata": {},
   "outputs": [
    {
     "ename": "StopIteration",
     "evalue": "",
     "output_type": "error",
     "traceback": [
      "\u001b[1;31m---------------------------------------------------------------------------\u001b[0m",
      "\u001b[1;31mStopIteration\u001b[0m                             Traceback (most recent call last)",
      "Cell \u001b[1;32mIn[44], line 1\u001b[0m\n\u001b[1;32m----> 1\u001b[0m \u001b[38;5;28mnext\u001b[39m(g)\n",
      "\u001b[1;31mStopIteration\u001b[0m: "
     ]
    }
   ],
   "source": [
    "next(g)"
   ]
  },
  {
   "cell_type": "markdown",
   "id": "ee4c61a9-9229-4043-bbcd-5fdcb2fa8b9a",
   "metadata": {},
   "source": [
    "That happened because all the values had been yielded. In a `for` loop the error is caught by the loop and it stops calling values from the generator."
   ]
  },
  {
   "cell_type": "markdown",
   "id": "6954a656-12f1-4d6f-9ea1-69ed63cbcc1c",
   "metadata": {},
   "source": [
    "#### The `iter()` Function"
   ]
  },
  {
   "cell_type": "code",
   "execution_count": 49,
   "id": "0e35a8d7-bb47-43f1-9216-e0e6ef7ecbed",
   "metadata": {},
   "outputs": [],
   "source": [
    "s = \"hello\""
   ]
  },
  {
   "cell_type": "code",
   "execution_count": 51,
   "id": "464032be-ad32-4953-af73-2463ffbeef38",
   "metadata": {},
   "outputs": [
    {
     "name": "stdout",
     "output_type": "stream",
     "text": [
      "h\n",
      "e\n",
      "l\n",
      "l\n",
      "o\n"
     ]
    }
   ],
   "source": [
    "for letter in s:\n",
    "    print(letter)"
   ]
  },
  {
   "cell_type": "code",
   "execution_count": 55,
   "id": "f0500dbe-2bb6-4ef8-999a-505af3e47005",
   "metadata": {},
   "outputs": [
    {
     "ename": "TypeError",
     "evalue": "'str' object is not an iterator",
     "output_type": "error",
     "traceback": [
      "\u001b[1;31m---------------------------------------------------------------------------\u001b[0m",
      "\u001b[1;31mTypeError\u001b[0m                                 Traceback (most recent call last)",
      "Cell \u001b[1;32mIn[55], line 1\u001b[0m\n\u001b[1;32m----> 1\u001b[0m \u001b[38;5;28mnext\u001b[39m(s)\n",
      "\u001b[1;31mTypeError\u001b[0m: 'str' object is not an iterator"
     ]
    }
   ],
   "source": [
    "next(s)"
   ]
  },
  {
   "cell_type": "code",
   "execution_count": 53,
   "id": "654aeb6b-8785-408c-9f72-ea889fb65e92",
   "metadata": {},
   "outputs": [
    {
     "data": {
      "text/plain": [
       "<str_ascii_iterator at 0x182d087ec50>"
      ]
     },
     "execution_count": 53,
     "metadata": {},
     "output_type": "execute_result"
    }
   ],
   "source": [
    "# Make a generator out of that string\n",
    "s_iter = iter(s)\n",
    "s_iter"
   ]
  },
  {
   "cell_type": "code",
   "execution_count": 57,
   "id": "27842830-4eee-4300-b265-37922146c2e3",
   "metadata": {},
   "outputs": [
    {
     "data": {
      "text/plain": [
       "'h'"
      ]
     },
     "execution_count": 57,
     "metadata": {},
     "output_type": "execute_result"
    }
   ],
   "source": [
    "next(s_iter)"
   ]
  },
  {
   "cell_type": "code",
   "execution_count": 59,
   "id": "74ecce52-928a-403e-b65f-c7701554df79",
   "metadata": {},
   "outputs": [
    {
     "data": {
      "text/plain": [
       "'e'"
      ]
     },
     "execution_count": 59,
     "metadata": {},
     "output_type": "execute_result"
    }
   ],
   "source": [
    "next(s_iter)"
   ]
  },
  {
   "cell_type": "markdown",
   "id": "8dc5410d-ee57-4b12-bd1a-1db1ec786f10",
   "metadata": {},
   "source": [
    "## 101 - Generators Homework"
   ]
  },
  {
   "cell_type": "code",
   "execution_count": null,
   "id": "58814bb6-b18e-4859-a3ba-55f535299a4d",
   "metadata": {},
   "outputs": [],
   "source": []
  }
 ],
 "metadata": {
  "kernelspec": {
   "display_name": "Python [conda env:base] *",
   "language": "python",
   "name": "conda-base-py"
  },
  "language_info": {
   "codemirror_mode": {
    "name": "ipython",
    "version": 3
   },
   "file_extension": ".py",
   "mimetype": "text/x-python",
   "name": "python",
   "nbconvert_exporter": "python",
   "pygments_lexer": "ipython3",
   "version": "3.12.7"
  }
 },
 "nbformat": 4,
 "nbformat_minor": 5
}
