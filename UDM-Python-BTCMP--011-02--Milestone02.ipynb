{
 "cells": [
  {
   "cell_type": "markdown",
   "id": "88d89334",
   "metadata": {},
   "source": [
    "# Blackjack Game\n",
    "- Computer dealer and human player.\n",
    "- Start with normal deck of 52 cards represented in Python.\n",
    "- Player has a bankroll.\n",
    "- Player places a bet.\n",
    "- Player starts with two cards face up; dealer, one card face up, one face down.\n",
    "- Player goal: get closer to 21 than the dealer does.\n",
    "- Hit, get another card; stay, stop getting cards.\n",
    "- Ignore insurance, split, double down.\n",
    "- After the player's turn, the dealer keeps 'hitting' until they win or they bust (going over 21).\n",
    "- Possible ways for the game to end:\n",
    "    - The player keeps hitting until they bust; the dealer wins, collecting the money.\n",
    "    - The dealer hits some cards and gets a sum that's higher than that of the player, without busting.\n",
    "    - The dealer hits some cards and busts; the player's bet is doubled and added to their bankroll.\n",
    "- Card values:\n",
    "    - Face cards (Jack, Queen, King) have a value of 10.\n",
    "    - Aces have a value of 1 or 11, depending on convenience."
   ]
  },
  {
   "cell_type": "markdown",
   "id": "123efc89",
   "metadata": {},
   "source": [
    "## Programming Logic's Guidelines"
   ]
  },
  {
   "cell_type": "markdown",
   "id": "d6ab3425",
   "metadata": {},
   "source": [
    "- Intro and brief game explanation.\n",
    "- Choice: play, or leave.\n",
    "- Instantiate a deck object, instantiating the necessary 52 card objects.\n",
    "- Shuffle the deck.\n",
    "- Instantiate player object and dealer object.\n",
    "- Deal cards alternatively, showing them (or not):\n",
    "    1. Player, show\n",
    "    2. Dealer, show\n",
    "    3. Player, show\n",
    "    4. Dealer, do not show\n",
    "- Game loop for rounds.\n",
    "- Player's turn:\n",
    "    - Loop:\n",
    "        - Ask if \"hit\" or \"stay\".\n",
    "        - Check if bust.\n",
    "- Dealer's turn:\n",
    "    - Loop:\n",
    "        - Check if sum is better than player's.\n",
    "        - If sum is not better, hit.\n",
    "        - Check if bust.\n",
    "- Take actions according to round winner.\n",
    "- Choice: keep playing, or leave."
   ]
  },
  {
   "cell_type": "markdown",
   "id": "5ff5584a",
   "metadata": {},
   "source": [
    "### Card Class"
   ]
  },
  {
   "cell_type": "code",
   "execution_count": 1,
   "id": "bec0c8de",
   "metadata": {},
   "outputs": [],
   "source": [
    "class Card():\n",
    "    '''\n",
    "    Card object.\n",
    "    '''\n",
    "    def __init__(self, suit, rank, value):\n",
    "        self.suit = suit\n",
    "        self.rank = rank\n",
    "        self.value = value\n",
    "        \n",
    "    def __str__(self):\n",
    "        return f\"{self.rank} of {self.suit}\""
   ]
  },
  {
   "cell_type": "markdown",
   "id": "f0a45ef7",
   "metadata": {},
   "source": [
    "### Deck Class"
   ]
  },
  {
   "cell_type": "code",
   "execution_count": 10,
   "id": "88c94eb4",
   "metadata": {},
   "outputs": [],
   "source": [
    "class Deck():\n",
    "    '''\n",
    "    Deck object.\n",
    "    '''\n",
    "    # Suits\n",
    "    suits = (\"Hearts\", \"Diamonds\", \"Spades\", \"Clubs\")\n",
    "    # Ranks\n",
    "    ranks = (\"Two\", \"Three\", \"Four\", \"Five\", \"Six\", \"Seven\", \"Eight\", \"Nine\", \"Ten\", \"Jack\", \"Queen\", \"King\", \"Ace\")\n",
    "    # Value dictionary\n",
    "    values = {\n",
    "        \"Two\": 2, \"Three\": 3, \"Four\": 4, \"Five\": 5, \"Six\": 6, \"Seven\": 7, \"Eight\": 8,\n",
    "        \"Nine\": 9, \"Ten\": 10, \"Jack\": 10, \"Queen\": 10, \"King\": 10, \"Ace\": (1, 11)\n",
    "    }\n",
    "    \n",
    "    # Creation of the full deck\n",
    "    def __init__(self):\n",
    "        self.all_cards = [Card(suit, rank, self.values[rank]) for suit in self.suits for rank in self.ranks]\n",
    "    \n",
    "    # Shuffling the deck\n",
    "    def shuffle_deck(self):\n",
    "        import random\n",
    "        random.shuffle(self.all_cards)\n",
    "    \n",
    "    # Dealing (removing) a card from the deck\n",
    "    def deal_one(self):\n",
    "        return self.all_cards.pop()"
   ]
  },
  {
   "cell_type": "markdown",
   "id": "687eeca9",
   "metadata": {},
   "source": [
    "### Player Class"
   ]
  },
  {
   "cell_type": "code",
   "execution_count": 76,
   "id": "6b78e280",
   "metadata": {},
   "outputs": [],
   "source": [
    "class Player():\n",
    "    '''\n",
    "    Player object.\n",
    "    '''\n",
    "    def __init__(self, name, bankroll):\n",
    "        self.name = name\n",
    "        self.up_cards = []\n",
    "        self.bankroll\n",
    "        \n",
    "    def __str__(self):\n",
    "        cards_list = [f\"{card.rank} of {card.suit}\" for card in self.up_cards]\n",
    "        hand_cards = '\\n'.join(cards_list)\n",
    "        return f\"Player {self.name} has the following cards:\\n{hand_cards}\"\n",
    "    \n",
    "    def add_card(self, one_card):\n",
    "        self.up_cards.append(one_card)\n",
    "    \n",
    "    def score(self):\n",
    "        if not self.up_cards:\n",
    "            return 0\n",
    "        else:\n",
    "            flag_val_int = all([isinstance(card.value, int) for card in self.up_cards])\n",
    "            \n",
    "            # No aces present\n",
    "            if flag_val_int:\n",
    "                cards_values = [card.value for card in self.up_cards]\n",
    "                total_score = sum(cards_values)\n",
    "                return total_score\n",
    "\n",
    "            # At least one ace present\n",
    "            else:\n",
    "                # List of values, and filter into two list depending on type\n",
    "                cards_values = [card.value for card in self.up_cards]\n",
    "                cards_val_int = [value for value in cards_values if isinstance(value, int)]\n",
    "                cards_val_tup = [value for value in cards_values if isinstance(value, tuple)]\n",
    "\n",
    "                # Score initialization\n",
    "                if cards_val_int:\n",
    "                    # When only some aces\n",
    "                    total_score = sum(cards_val_int)\n",
    "                else:\n",
    "                    # When all aces\n",
    "                    total_score = 0\n",
    "\n",
    "                # Adding values of aces\n",
    "                for value in card_val_tup:\n",
    "                    if total_score + 11 <= 21:\n",
    "                        total_score += 11\n",
    "                    else:\n",
    "                        total_score += 1\n",
    "                \n",
    "                return total_score"
   ]
  },
  {
   "cell_type": "code",
   "execution_count": 144,
   "id": "c3c424c6",
   "metadata": {},
   "outputs": [
    {
     "data": {
      "text/plain": [
       "[1, 2, 0]"
      ]
     },
     "execution_count": 144,
     "metadata": {},
     "output_type": "execute_result"
    }
   ],
   "source": [
    "[a * b for a, b in zip([1, 2, 3], [True, True, False])]"
   ]
  },
  {
   "cell_type": "code",
   "execution_count": 145,
   "id": "827f30a4",
   "metadata": {},
   "outputs": [
    {
     "data": {
      "text/plain": [
       "[1, 2, 3]"
      ]
     },
     "execution_count": 145,
     "metadata": {},
     "output_type": "execute_result"
    }
   ],
   "source": [
    "[1, 2, 3] + []"
   ]
  },
  {
   "cell_type": "markdown",
   "id": "f0ccef97",
   "metadata": {},
   "source": [
    "### Dealer Class"
   ]
  },
  {
   "cell_type": "code",
   "execution_count": 134,
   "id": "b357a7a3",
   "metadata": {},
   "outputs": [],
   "source": [
    "class Dealer():\n",
    "    '''\n",
    "    Dealer object.\n",
    "    '''\n",
    "    def __init__(self):\n",
    "        self.up_cards = []\n",
    "        self.down_card = []\n",
    "    \n",
    "    def __str__(self):\n",
    "        cards_list = [\"Mystery Card\"]\n",
    "        cards_list.extend([f\"{card.rank} of {card.suit}\" for card in self.up_cards])\n",
    "        hand_cards = '\\n'.join(cards_list)\n",
    "        return f\"The dealer has the following cards:\\n{hand_cards}\"\n",
    "        \n",
    "    def add_card(self, one_card):\n",
    "        if not self.down_card:\n",
    "            self.down_card.append(one_card)\n",
    "        else:\n",
    "            self.up_cards.append(one_card)\n",
    "    \n",
    "    def score(self):\n",
    "        # When no cards (this is not realistic)\n",
    "        if not self.down_card:\n",
    "            return 0\n",
    "        # When at least one card (the down card)\n",
    "        else:\n",
    "            # Gather all values into a single list of them\n",
    "            down_value = [self.down_card[0].value]\n",
    "            up_values = [card.value for card in self.up_cards]\n",
    "            all_values = down_value + up_values\n",
    "            \n",
    "            # Check if all of them are integers\n",
    "            flag_val_int = all([isinstance(value, int) for value in all_values])\n",
    "            \n",
    "            # No aces (tuples) present\n",
    "            if flag_val_int:\n",
    "                total_score = sum(all_values)\n",
    "                return total_score\n",
    "\n",
    "            # At least one ace present\n",
    "            else:\n",
    "                # Filter into two lists depending on type\n",
    "                cards_val_int = [value for value in all_values if isinstance(value, int)]\n",
    "                cards_val_tup = [value for value in all_values if isinstance(value, tuple)]\n",
    "\n",
    "                # Score initialization\n",
    "                if cards_val_int:\n",
    "                    # When only some aces\n",
    "                    total_score = sum(cards_val_int)\n",
    "                else:\n",
    "                    # When all aces\n",
    "                    total_score = 0\n",
    "\n",
    "                # Adding values of aces\n",
    "                for value in card_val_tup:\n",
    "                    if total_score + value[1] <= 21:\n",
    "                        total_score += value[1] # Adds 11\n",
    "                    else:\n",
    "                        total_score += value[0] # Adds 1\n",
    "                \n",
    "                return total_score"
   ]
  },
  {
   "cell_type": "markdown",
   "id": "6f972b11",
   "metadata": {},
   "source": [
    "### Game"
   ]
  },
  {
   "cell_type": "code",
   "execution_count": null,
   "id": "196107b4",
   "metadata": {},
   "outputs": [],
   "source": []
  }
 ],
 "metadata": {
  "kernelspec": {
   "display_name": "Python 3 (ipykernel)",
   "language": "python",
   "name": "python3"
  },
  "language_info": {
   "codemirror_mode": {
    "name": "ipython",
    "version": 3
   },
   "file_extension": ".py",
   "mimetype": "text/x-python",
   "name": "python",
   "nbconvert_exporter": "python",
   "pygments_lexer": "ipython3",
   "version": "3.11.5"
  }
 },
 "nbformat": 4,
 "nbformat_minor": 5
}
