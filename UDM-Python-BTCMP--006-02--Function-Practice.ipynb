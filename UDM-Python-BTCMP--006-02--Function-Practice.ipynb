{
 "cells": [
  {
   "cell_type": "markdown",
   "metadata": {},
   "source": [
    "___\n",
    "\n",
    "<a href='https://www.udemy.com/user/joseportilla/'><img src='https://raw.githubusercontent.com/Pierian-Data/Complete-Python-3-Bootcamp/refs/heads/master/Pierian_Data_Logo.png'/></a>\n",
    "___\n",
    "<center><em>Content Copyright by Pierian Data</em></center>"
   ]
  },
  {
   "cell_type": "markdown",
   "metadata": {},
   "source": [
    "# Function Practice Exercises\n",
    "\n",
    "Problems are arranged in increasing difficulty:\n",
    "* Warmup - these can be solved using basic comparisons and methods\n",
    "* Level 1 - these may involve if/then conditional statements and simple methods\n",
    "* Level 2 - these may require iterating over sequences, usually with some kind of loop\n",
    "* Challenging - these will take some creativity to solve"
   ]
  },
  {
   "cell_type": "markdown",
   "metadata": {},
   "source": [
    "## WARMUP SECTION:"
   ]
  },
  {
   "cell_type": "markdown",
   "metadata": {},
   "source": [
    "#### LESSER OF TWO EVENS: Write a function that returns the lesser of two given numbers *if* both numbers are even, but returns the greater if one or both numbers are odd\n",
    "    lesser_of_two_evens(2,4) --> 2\n",
    "    lesser_of_two_evens(2,5) --> 5"
   ]
  },
  {
   "cell_type": "code",
   "execution_count": 3,
   "metadata": {},
   "outputs": [],
   "source": [
    "def lesser_of_two_evens(a,b):\n",
    "    # Check which one is smaller, and\n",
    "    # Check numbers are not equal as no instruction was given for that case\n",
    "    a_smaller = True\n",
    "    if b < a:\n",
    "        a_smaller = False\n",
    "    elif a == b:\n",
    "        print(\"Can't proceed: numbers are equal.\")\n",
    "        return None\n",
    "    \n",
    "    # Check if all of them are even\n",
    "    even = []\n",
    "    for val in (a, b):\n",
    "        if val % 2 == 0:\n",
    "            even.append(True)\n",
    "        else:\n",
    "            even.append(False)\n",
    "    \n",
    "    # Return values according to conditions\n",
    "    if all(even) and a_smaller:\n",
    "        return a\n",
    "    elif all(even) and not a_smaller:\n",
    "        return b\n",
    "    elif not all(even) and not a_smaller:\n",
    "        return a\n",
    "    else:\n",
    "        return b"
   ]
  },
  {
   "cell_type": "code",
   "execution_count": 6,
   "metadata": {},
   "outputs": [
    {
     "name": "stdout",
     "output_type": "stream",
     "text": [
      "2\n",
      "5\n",
      "4\n",
      "6\n"
     ]
    }
   ],
   "source": [
    "# Check\n",
    "print(lesser_of_two_evens(2,4))\n",
    "print(lesser_of_two_evens(2,5))\n",
    "print(lesser_of_two_evens(6,4))\n",
    "print(lesser_of_two_evens(6,5))"
   ]
  },
  {
   "cell_type": "markdown",
   "metadata": {},
   "source": [
    "Forgot the `min()` and `max()` functions!"
   ]
  },
  {
   "cell_type": "markdown",
   "metadata": {},
   "source": [
    "#### ANIMAL CRACKERS: Write a function takes a two-word string and returns True if both words begin with same letter\n",
    "    animal_crackers('Levelheaded Llama') --> True\n",
    "    animal_crackers('Crazy Kangaroo') --> False"
   ]
  },
  {
   "cell_type": "code",
   "execution_count": 84,
   "metadata": {},
   "outputs": [],
   "source": [
    "def animal_crackers(text):\n",
    "    words = text.split()\n",
    "    # Corroborate it's a two-worded string\n",
    "    if len(words) > 2:\n",
    "        print(\"String must have only two words separated by a blank.\")\n",
    "        return None\n",
    "    \n",
    "    # Compare and return according to instructions\n",
    "    #if words[0][0].lower() == words[1][0].lower():\n",
    "    #    return True\n",
    "    #else:\n",
    "    #    return False\n",
    "    \n",
    "    # Improvement after watching solutions\n",
    "    return words[0][0].lower() == words[1][0].lower() # Use .lower() before the .split()!"
   ]
  },
  {
   "cell_type": "code",
   "execution_count": 85,
   "metadata": {},
   "outputs": [
    {
     "name": "stdout",
     "output_type": "stream",
     "text": [
      "True\n",
      "False\n",
      "String must have only two words separated by a blank.\n",
      "None\n"
     ]
    }
   ],
   "source": [
    "# Check\n",
    "print(animal_crackers('Levelheaded Llama'))\n",
    "print(animal_crackers('Crazy Kangaroo'))\n",
    "print(animal_crackers('Saluting Soy Saucers'))"
   ]
  },
  {
   "cell_type": "markdown",
   "metadata": {},
   "source": [
    "#### MAKES TWENTY: Given two integers, return True if the sum of the integers is 20 *or* if one of the integers is 20. If not, return False\n",
    "\n",
    "    makes_twenty(20,10) --> True\n",
    "    makes_twenty(12,8) --> True\n",
    "    makes_twenty(2,3) --> False"
   ]
  },
  {
   "cell_type": "code",
   "execution_count": 86,
   "metadata": {},
   "outputs": [],
   "source": [
    "def makes_twenty(n1, n2):\n",
    "    #if n1 == 20 or n2 == 20:\n",
    "    #    return True\n",
    "    #elif n1 + n2 == 20:\n",
    "    #    return True\n",
    "    #else:\n",
    "    #    return False\n",
    "    \n",
    "    # Improvement from solutions\n",
    "    return (n1 + n2) == 20 or n1 == 20 or n2 == 20"
   ]
  },
  {
   "cell_type": "code",
   "execution_count": 87,
   "metadata": {},
   "outputs": [
    {
     "name": "stdout",
     "output_type": "stream",
     "text": [
      "True\n",
      "True\n",
      "False\n"
     ]
    }
   ],
   "source": [
    "# Check\n",
    "print(makes_twenty(20,10))\n",
    "print(makes_twenty(12,8))\n",
    "print(makes_twenty(2,3))"
   ]
  },
  {
   "cell_type": "markdown",
   "metadata": {},
   "source": [
    "# LEVEL 1 PROBLEMS"
   ]
  },
  {
   "cell_type": "markdown",
   "metadata": {},
   "source": [
    "#### OLD MACDONALD: Write a function that capitalizes the first and fourth letters of a name\n",
    "     \n",
    "    old_macdonald('macdonald') --> MacDonald\n",
    "    \n",
    "Note: `'macdonald'.capitalize()` returns `'MacDonald'`"
   ]
  },
  {
   "cell_type": "code",
   "execution_count": 18,
   "metadata": {},
   "outputs": [],
   "source": [
    "def old_macdonald(name):\n",
    "    letters = []\n",
    "    # Iterate over each letter of the name\n",
    "    for i, letter in enumerate(name):\n",
    "        # Check position in word to return upper or lower case\n",
    "        if i in [0, 3]:\n",
    "            letters.append(letter.upper())\n",
    "        else:\n",
    "            letters.append(letter.lower())\n",
    "    # From a list make the string again and return it\n",
    "    return ''.join(letters)"
   ]
  },
  {
   "cell_type": "code",
   "execution_count": 19,
   "metadata": {},
   "outputs": [
    {
     "data": {
      "text/plain": [
       "'MacDonald'"
      ]
     },
     "execution_count": 19,
     "metadata": {},
     "output_type": "execute_result"
    }
   ],
   "source": [
    "# Check\n",
    "old_macdonald('macdonald')"
   ]
  },
  {
   "cell_type": "markdown",
   "metadata": {},
   "source": [
    "Could have used slicing and `.upper()`, or slicing and `.capitalize()`."
   ]
  },
  {
   "cell_type": "markdown",
   "metadata": {},
   "source": [
    "#### MASTER YODA: Given a sentence, return a sentence with the words reversed\n",
    "\n",
    "    master_yoda('I am home') --> 'home am I'\n",
    "    master_yoda('We are ready') --> 'ready are We'\n",
    "    \n",
    "Note: The .join() method may be useful here. The .join() method allows you to join together strings in a list with some connector string. For example, some uses of the .join() method:\n",
    "\n",
    "    >>> \"--\".join(['a','b','c'])\n",
    "    >>> 'a--b--c'\n",
    "\n",
    "This means if you had a list of words you wanted to turn back into a sentence, you could just join them with a single space string:\n",
    "\n",
    "    >>> \" \".join(['Hello','world'])\n",
    "    >>> \"Hello world\""
   ]
  },
  {
   "cell_type": "code",
   "execution_count": 20,
   "metadata": {},
   "outputs": [],
   "source": [
    "def master_yoda(text):\n",
    "    # Split into words (list)\n",
    "    words = text.split()\n",
    "    # Reverse the list\n",
    "    words = words[::-1]\n",
    "    # Return the reversed text\n",
    "    return ' '.join(words)"
   ]
  },
  {
   "cell_type": "code",
   "execution_count": 21,
   "metadata": {},
   "outputs": [
    {
     "name": "stdout",
     "output_type": "stream",
     "text": [
      "home am I\n",
      "ready are We\n"
     ]
    }
   ],
   "source": [
    "# Check\n",
    "print(master_yoda('I am home'))\n",
    "print(master_yoda('We are ready'))"
   ]
  },
  {
   "cell_type": "markdown",
   "metadata": {},
   "source": [
    "#### ALMOST THERE: Given an integer n, return True if n is within 10 of either 100 or 200\n",
    "\n",
    "    almost_there(90) --> True\n",
    "    almost_there(104) --> True\n",
    "    almost_there(150) --> False\n",
    "    almost_there(209) --> True\n",
    "    \n",
    "NOTE: `abs(num)` returns the absolute value of a number"
   ]
  },
  {
   "cell_type": "code",
   "execution_count": 23,
   "metadata": {},
   "outputs": [],
   "source": [
    "def almost_there(n):\n",
    "    # Check conditions and return accordingly\n",
    "    if (90 <= n <= 110) or (190 <= n <= 210):\n",
    "        return True\n",
    "    else:\n",
    "        return False"
   ]
  },
  {
   "cell_type": "code",
   "execution_count": 24,
   "metadata": {},
   "outputs": [
    {
     "name": "stdout",
     "output_type": "stream",
     "text": [
      "False\n",
      "True\n",
      "True\n",
      "True\n",
      "False\n",
      "True\n",
      "True\n",
      "True\n",
      "False\n"
     ]
    }
   ],
   "source": [
    "# Check\n",
    "print(almost_there(75))\n",
    "print(almost_there(96))\n",
    "print(almost_there(100))\n",
    "print(almost_there(104))\n",
    "print(almost_there(150))\n",
    "print(almost_there(191))\n",
    "print(almost_there(200))\n",
    "print(almost_there(209))\n",
    "print(almost_there(312))"
   ]
  },
  {
   "cell_type": "markdown",
   "metadata": {},
   "source": [
    "Could have used `abs()`!!"
   ]
  },
  {
   "cell_type": "markdown",
   "metadata": {},
   "source": [
    "# LEVEL 2 PROBLEMS"
   ]
  },
  {
   "cell_type": "markdown",
   "metadata": {},
   "source": [
    "#### FIND 33: \n",
    "\n",
    "Given a list of ints, return True if the array contains a 3 next to a 3 somewhere.\n",
    "\n",
    "    has_33([1, 3, 3]) → True\n",
    "    has_33([1, 3, 1, 3]) → False\n",
    "    has_33([3, 1, 3]) → False"
   ]
  },
  {
   "cell_type": "code",
   "execution_count": 29,
   "metadata": {},
   "outputs": [],
   "source": [
    "def has_33(nums):\n",
    "    # Iterate\n",
    "    for i in range(len(nums)):\n",
    "        # Check not using indeces outside bounds\n",
    "        if (i + 1) <= (len(nums) - 1):\n",
    "            # Evaluate and return, according to requirement\n",
    "            if nums[i] == nums[i + 1] == 3:\n",
    "                return True\n",
    "        else:\n",
    "            return False"
   ]
  },
  {
   "cell_type": "code",
   "execution_count": 30,
   "metadata": {},
   "outputs": [
    {
     "name": "stdout",
     "output_type": "stream",
     "text": [
      "True\n",
      "False\n",
      "False\n"
     ]
    }
   ],
   "source": [
    "# Check\n",
    "print(has_33([1, 3, 3]))\n",
    "print(has_33([1, 3, 1, 3]))\n",
    "print(has_33([3, 1, 3]))"
   ]
  },
  {
   "cell_type": "markdown",
   "metadata": {},
   "source": [
    "Could have limited the `range()` in the `for` loop to avoid checking indices out of bounds, like this:"
   ]
  },
  {
   "cell_type": "code",
   "execution_count": 8,
   "metadata": {},
   "outputs": [],
   "source": [
    "def has_33(nums):\n",
    "    # Iterate\n",
    "    for i in range(len(nums) - 1):\n",
    "        # Evaluate and return only if requirement met\n",
    "        if nums[i] == nums[i + 1] == 3: # Alternatively -> if nums[i: i + 2] == [3, 3]:\n",
    "            return True\n",
    "    # If requirement not met\n",
    "    return False"
   ]
  },
  {
   "cell_type": "code",
   "execution_count": 9,
   "metadata": {},
   "outputs": [
    {
     "name": "stdout",
     "output_type": "stream",
     "text": [
      "True\n",
      "False\n",
      "False\n"
     ]
    }
   ],
   "source": [
    "# Check\n",
    "print(has_33([1, 3, 3]))\n",
    "print(has_33([1, 3, 1, 3]))\n",
    "print(has_33([3, 1, 3]))"
   ]
  },
  {
   "cell_type": "markdown",
   "metadata": {},
   "source": [
    "#### PAPER DOLL: Given a string, return a string where for every character in the original there are three characters\n",
    "    paper_doll('Hello') --> 'HHHeeellllllooo'\n",
    "    paper_doll('Mississippi') --> 'MMMiiissssssiiippppppiii'"
   ]
  },
  {
   "cell_type": "code",
   "execution_count": 33,
   "metadata": {},
   "outputs": [],
   "source": [
    "def paper_doll(text):\n",
    "    # List of tripled characters\n",
    "    tripled = [letter * 3 for letter in text]\n",
    "    # Return the joind list of characters\n",
    "    return ''.join(tripled)"
   ]
  },
  {
   "cell_type": "code",
   "execution_count": 34,
   "metadata": {},
   "outputs": [
    {
     "name": "stdout",
     "output_type": "stream",
     "text": [
      "HHHeeellllllooo\n",
      "MMMiiissssssiiissssssiiippppppiii\n"
     ]
    }
   ],
   "source": [
    "# Check\n",
    "print(paper_doll('Hello'))\n",
    "print(paper_doll('Mississippi'))"
   ]
  },
  {
   "cell_type": "markdown",
   "metadata": {},
   "source": [
    "Alternatively, from solutions:"
   ]
  },
  {
   "cell_type": "code",
   "execution_count": 10,
   "metadata": {},
   "outputs": [],
   "source": [
    "def paper_doll(text):\n",
    "    result = ''\n",
    "    for char in text:\n",
    "        result += char * 3 # concatenate three of each character\n",
    "    return result"
   ]
  },
  {
   "cell_type": "code",
   "execution_count": 11,
   "metadata": {},
   "outputs": [
    {
     "name": "stdout",
     "output_type": "stream",
     "text": [
      "HHHeeellllllooo\n",
      "MMMiiissssssiiissssssiiippppppiii\n"
     ]
    }
   ],
   "source": [
    "# Check\n",
    "print(paper_doll('Hello'))\n",
    "print(paper_doll('Mississippi'))"
   ]
  },
  {
   "cell_type": "markdown",
   "metadata": {},
   "source": [
    "#### BLACKJACK: Given three integers between 1 and 11, if their sum is less than or equal to 21, return their sum. If their sum exceeds 21 *and* there's an eleven, reduce the total sum by 10. Finally, if the sum (even after adjustment) exceeds 21, return 'BUST'\n",
    "    blackjack(5,6,7) --> 18\n",
    "    blackjack(9,9,9) --> 'BUST'\n",
    "    blackjack(9,9,11) --> 19"
   ]
  },
  {
   "cell_type": "code",
   "execution_count": 45,
   "metadata": {},
   "outputs": [],
   "source": [
    "def blackjack(a,b,c):\n",
    "    # Data validation\n",
    "    # Type\n",
    "    valid_type = []\n",
    "    for val in (a, b, c):\n",
    "        if type(val) == int:\n",
    "            valid_type.append(True)\n",
    "        else:\n",
    "            valid_type.append(False)\n",
    "    \n",
    "    # Check valid type\n",
    "    if not all(valid_type):\n",
    "        print(\"One of the entered values is of an incorrect data type.\")\n",
    "        return None\n",
    "    \n",
    "    # Value\n",
    "    valid_value = []\n",
    "    for val in (a, b, c):\n",
    "        if 1 <= val <= 11:\n",
    "            valid_value.append(True)\n",
    "        else:\n",
    "            valid_value.append(False)\n",
    "    \n",
    "    # Check valid value\n",
    "    if not all(valid_value):\n",
    "        print(\"One of the entered values is not between 1 and 11, inclusive.\")\n",
    "        return None\n",
    "    \n",
    "    # Check sum against rules\n",
    "    if a + b + c <= 21:\n",
    "        return a + b + c\n",
    "    else:\n",
    "        if 11 in (a, b, c):\n",
    "            if (a + b + c - 10) <= 21:\n",
    "                return a + b + c - 10\n",
    "            else:\n",
    "                return 'BUST'\n",
    "        else:\n",
    "            return 'BUST'"
   ]
  },
  {
   "cell_type": "code",
   "execution_count": 46,
   "metadata": {},
   "outputs": [
    {
     "name": "stdout",
     "output_type": "stream",
     "text": [
      "18\n",
      "BUST\n",
      "19\n",
      "BUST\n",
      "One of the entered values is not between 1 and 11, inclusive.\n",
      "None\n",
      "One of the entered values is of an incorrect data type.\n",
      "None\n"
     ]
    }
   ],
   "source": [
    "# Check\n",
    "print(blackjack(5,6,7))\n",
    "print(blackjack(9,9,9))\n",
    "print(blackjack(9,9,11))\n",
    "print(blackjack(11,11,11))\n",
    "print(blackjack(11,11,20))\n",
    "print(blackjack(11,11,'a'))"
   ]
  },
  {
   "cell_type": "code",
   "execution_count": 47,
   "metadata": {},
   "outputs": [],
   "source": [
    "# Improved by DeepSeek\n",
    "\n",
    "def blackjack(a, b, c):\n",
    "    # Type validation\n",
    "    # During the iteration, if an incorrect type is found, it stops executing the function\n",
    "    for val in (a, b, c):\n",
    "        if not isinstance(val, int):  # better practice than type(val) == int\n",
    "            print(\"One of the entered values is of an incorrect data type.\")\n",
    "            return None\n",
    "\n",
    "    # During the iteration, if a value is out of range, it stops executing the function\n",
    "    for val in (a, b, c):\n",
    "        if not (1 <= val <= 11):\n",
    "            print(\"One of the entered values is not between 1 and 11, inclusive.\")\n",
    "            return None\n",
    "\n",
    "    # Blackjack's logic\n",
    "    total = a + b + c # using a total variable improves readability\n",
    "    if total <= 21:\n",
    "        return total\n",
    "    elif 11 in (a, b, c):\n",
    "        total -= 10\n",
    "        return total if total <= 21 else 'BUST'\n",
    "    else:\n",
    "        return 'BUST'"
   ]
  },
  {
   "cell_type": "code",
   "execution_count": 48,
   "metadata": {},
   "outputs": [
    {
     "name": "stdout",
     "output_type": "stream",
     "text": [
      "18\n",
      "BUST\n",
      "19\n",
      "BUST\n",
      "One of the entered values is not between 1 and 11, inclusive.\n",
      "None\n",
      "One of the entered values is of an incorrect data type.\n",
      "None\n"
     ]
    }
   ],
   "source": [
    "# Check\n",
    "print(blackjack(5,6,7))\n",
    "print(blackjack(9,9,9))\n",
    "print(blackjack(9,9,11))\n",
    "print(blackjack(11,11,11))\n",
    "print(blackjack(11,11,20))\n",
    "print(blackjack(11,11,'a'))"
   ]
  },
  {
   "cell_type": "markdown",
   "metadata": {},
   "source": [
    "#### SUMMER OF '69: Return the sum of the numbers in the array, except ignore sections of numbers starting with a 6 and extending to the next 9 (every 6 will be followed by at least one 9). Return 0 for no numbers.\n",
    " \n",
    "    summer_69([1, 3, 5]) --> 9\n",
    "    summer_69([4, 5, 6, 7, 8, 9]) --> 9\n",
    "    summer_69([2, 1, 6, 9, 11]) --> 14"
   ]
  },
  {
   "cell_type": "code",
   "execution_count": 25,
   "metadata": {},
   "outputs": [],
   "source": [
    "def summer_69(arr):\n",
    "    result = 0\n",
    "    adding = True\n",
    "    \n",
    "    # Iterate over arrange\n",
    "    for num in arr:\n",
    "        # Flag true indicating addition in course\n",
    "        if adding:\n",
    "            if num != 6:\n",
    "                result += num\n",
    "            # When finding a six, stopp adding\n",
    "            else:\n",
    "                adding = False\n",
    "        # Flag false indicating no addition in course\n",
    "        elif not adding:\n",
    "            # When finding a nine, indicates resume adding\n",
    "            # starting with next element in arrange\n",
    "            if num == 9:\n",
    "                adding = True\n",
    "    \n",
    "    return result"
   ]
  },
  {
   "cell_type": "code",
   "execution_count": 26,
   "metadata": {},
   "outputs": [
    {
     "name": "stdout",
     "output_type": "stream",
     "text": [
      "9\n",
      "9\n",
      "14\n"
     ]
    }
   ],
   "source": [
    "# Check\n",
    "print(summer_69([1, 3, 5]))\n",
    "print(summer_69([4, 5, 6, 7, 8, 9]))\n",
    "print(summer_69([2, 1, 6, 9, 11]))"
   ]
  },
  {
   "cell_type": "markdown",
   "metadata": {},
   "source": [
    "Solutions give this:\n",
    "```Python\n",
    "def summer_69(arr):\n",
    "    total = 0\n",
    "    add = True\n",
    "    for num in arr:\n",
    "        while add:\n",
    "            if num != 6:\n",
    "                total += num\n",
    "                break\n",
    "            else:\n",
    "                add = False\n",
    "        while not add:\n",
    "            if num != 9:\n",
    "                break\n",
    "            else:\n",
    "                add = True\n",
    "                break\n",
    "    return total\n",
    "```"
   ]
  },
  {
   "cell_type": "markdown",
   "metadata": {},
   "source": [
    "A simplified version by me:"
   ]
  },
  {
   "cell_type": "code",
   "execution_count": 27,
   "metadata": {},
   "outputs": [],
   "source": [
    "def summer_69(arr):\n",
    "    result = 0\n",
    "    adding = True\n",
    "    \n",
    "    for num in arr:\n",
    "        if adding and num != 6:\n",
    "            result += num\n",
    "        elif adding and num == 6:\n",
    "            adding = False\n",
    "        elif not adding and num == 9:\n",
    "            adding = True\n",
    "    \n",
    "    return result"
   ]
  },
  {
   "cell_type": "code",
   "execution_count": 28,
   "metadata": {},
   "outputs": [
    {
     "name": "stdout",
     "output_type": "stream",
     "text": [
      "9\n",
      "9\n",
      "14\n"
     ]
    }
   ],
   "source": [
    "# Check\n",
    "print(summer_69([1, 3, 5]))\n",
    "print(summer_69([4, 5, 6, 7, 8, 9]))\n",
    "print(summer_69([2, 1, 6, 9, 11]))"
   ]
  },
  {
   "cell_type": "markdown",
   "metadata": {},
   "source": [
    "# CHALLENGING PROBLEMS"
   ]
  },
  {
   "cell_type": "markdown",
   "metadata": {},
   "source": [
    "#### SPY GAME: Write a function that takes in a list of integers and returns True if it contains 007 in order\n",
    "\n",
    "     spy_game([1,2,4,0,0,7,5]) --> True\n",
    "     spy_game([1,0,2,4,0,5,7]) --> True\n",
    "     spy_game([1,7,2,0,4,5,0]) --> False\n"
   ]
  },
  {
   "cell_type": "code",
   "execution_count": 54,
   "metadata": {},
   "outputs": [],
   "source": [
    "def spy_game(nums):\n",
    "    # Keep only zeros and sevens\n",
    "    new_nums = [num for num in nums if num in [0, 7]]\n",
    "    # New array length\n",
    "    arr_length = len(new_nums)\n",
    "    \n",
    "    # Iterate\n",
    "    for i in range(arr_length):\n",
    "        # Check not using indices outside bounds\n",
    "        if (i + 2) <= arr_length - 1:\n",
    "            # Evaluate and return, according to requirement\n",
    "            if new_nums[i] == 0 and new_nums[i + 1] == 0 and new_nums[i + 2] == 7:\n",
    "                return True\n",
    "        else:\n",
    "            return False"
   ]
  },
  {
   "cell_type": "code",
   "execution_count": 55,
   "metadata": {},
   "outputs": [
    {
     "name": "stdout",
     "output_type": "stream",
     "text": [
      "True\n",
      "True\n",
      "False\n"
     ]
    }
   ],
   "source": [
    "# Check\n",
    "print(spy_game([1,2,4,0,0,7,5]))\n",
    "print(spy_game([1,0,2,4,0,5,7]))\n",
    "print(spy_game([1,7,2,0,4,5,0]))"
   ]
  },
  {
   "cell_type": "markdown",
   "metadata": {},
   "source": [
    "My improvement:"
   ]
  },
  {
   "cell_type": "code",
   "execution_count": 23,
   "metadata": {},
   "outputs": [],
   "source": [
    "def spy_game(nums):\n",
    "    # Keep only zeros and sevens\n",
    "    new_nums = [num for num in nums if num in [0, 7]]\n",
    "    # New array length\n",
    "    arr_length = len(new_nums)\n",
    "    \n",
    "    # Iterate\n",
    "    for i in range(arr_length - 2): # Checking indices not outside bounds\n",
    "        # Evaluate and return according to requirement\n",
    "        if new_nums[i] == 0 and new_nums[i + 1] == 0 and new_nums[i + 2] == 7:\n",
    "            return True\n",
    "    \n",
    "    return False"
   ]
  },
  {
   "cell_type": "code",
   "execution_count": 24,
   "metadata": {},
   "outputs": [
    {
     "name": "stdout",
     "output_type": "stream",
     "text": [
      "True\n",
      "True\n",
      "False\n",
      "True\n",
      "False\n"
     ]
    }
   ],
   "source": [
    "# Check\n",
    "print(spy_game([1,2,4,0,0,7,5]))\n",
    "print(spy_game([1,0,2,4,0,5,7]))\n",
    "print(spy_game([1,7,2,0,4,5,0]))\n",
    "print(spy_game([8,7,2,0,0,0,7]))\n",
    "print(spy_game([0,7,7,0,7,0,7])) # Should this be true?"
   ]
  },
  {
   "cell_type": "markdown",
   "metadata": {},
   "source": [
    "Alternatively, in solutions the following is proposed:"
   ]
  },
  {
   "cell_type": "code",
   "execution_count": 20,
   "metadata": {},
   "outputs": [],
   "source": [
    "def spy_game(nums):\n",
    "    code = [0, 0, 7, 'x']\n",
    "    \n",
    "    for num in nums:\n",
    "        if num == code[0]:\n",
    "            code.pop(0)\n",
    "    \n",
    "    return len(code) == 1"
   ]
  },
  {
   "cell_type": "code",
   "execution_count": 22,
   "metadata": {},
   "outputs": [
    {
     "name": "stdout",
     "output_type": "stream",
     "text": [
      "True\n",
      "True\n",
      "False\n",
      "True\n"
     ]
    }
   ],
   "source": [
    "# Check\n",
    "print(spy_game([1,2,4,0,0,7,5]))\n",
    "print(spy_game([1,0,2,4,0,5,7]))\n",
    "print(spy_game([1,7,2,0,4,5,0]))\n",
    "print(spy_game([0,7,7,0,7,0,7])) # Should this be true?"
   ]
  },
  {
   "cell_type": "markdown",
   "metadata": {},
   "source": [
    "#### COUNT PRIMES: Write a function that returns the *number* of prime numbers that exist up to and including a given number\n",
    "    count_primes(100) --> 25\n",
    "\n",
    "By convention, 0 and 1 are not prime."
   ]
  },
  {
   "cell_type": "code",
   "execution_count": 73,
   "metadata": {},
   "outputs": [],
   "source": [
    "def count_primes(num):\n",
    "    # Finds primes up to num, where num <= 100 (approximately)\n",
    "    numbers = [i for i in range(num + 1)] # Create list up to num\n",
    "    numbers = [\n",
    "        i for i in numbers if (\n",
    "            (i not in [0, 1]) and # Exclude 0 and 1\n",
    "            ((i % 2 != 0) or (i == 2)) and # Exclude multiples of 2 (and so on)\n",
    "            ((i % 3 != 0) or (i == 3)) and\n",
    "            ((i % 5 != 0) or (i == 5)) and\n",
    "            ((i % 7 != 0) or (i == 7))\n",
    "        )\n",
    "    ]\n",
    "    return len(numbers)"
   ]
  },
  {
   "cell_type": "code",
   "execution_count": 74,
   "metadata": {},
   "outputs": [
    {
     "data": {
      "text/plain": [
       "25"
      ]
     },
     "execution_count": 74,
     "metadata": {},
     "output_type": "execute_result"
    }
   ],
   "source": [
    "# Check\n",
    "count_primes(100)"
   ]
  },
  {
   "cell_type": "code",
   "execution_count": 71,
   "metadata": {},
   "outputs": [],
   "source": [
    "# A more general function provided by DeepSeek: the Sieve of Erathostenes\n",
    "def count_primes(num):\n",
    "    if num < 2:\n",
    "        return 0\n",
    "    \n",
    "    sieve = [True] * (num + 1)\n",
    "    sieve[0] = sieve[1] = False\n",
    "    \n",
    "    for i in range(2, int(num ** 0.5) + 1):\n",
    "        if sieve[i]:\n",
    "            sieve[i * i : num + 1 : i] = [False] * len(sieve[i * i : num + 1 : i])\n",
    "    \n",
    "    return sum(sieve)"
   ]
  },
  {
   "cell_type": "code",
   "execution_count": 72,
   "metadata": {},
   "outputs": [
    {
     "data": {
      "text/plain": [
       "168"
      ]
     },
     "execution_count": 72,
     "metadata": {},
     "output_type": "execute_result"
    }
   ],
   "source": [
    "# Check\n",
    "count_primes(1001)"
   ]
  },
  {
   "cell_type": "markdown",
   "metadata": {},
   "source": [
    "In solutions is given:"
   ]
  },
  {
   "cell_type": "code",
   "execution_count": 54,
   "metadata": {},
   "outputs": [],
   "source": [
    "def count_primes(num):\n",
    "    if num < 2:\n",
    "        return 0\n",
    "    \n",
    "    primes = [2]\n",
    "    x = 3\n",
    "    \n",
    "    while x <= num:\n",
    "        for y in range(3, x, 2): # or primes instead of range(...)\n",
    "            if x % y == 0:\n",
    "                x += 2\n",
    "                break\n",
    "        else:\n",
    "            primes.append(x)\n",
    "            x += 2\n",
    "        \n",
    "    return len(primes)"
   ]
  },
  {
   "cell_type": "code",
   "execution_count": 56,
   "metadata": {},
   "outputs": [
    {
     "data": {
      "text/plain": [
       "25"
      ]
     },
     "execution_count": 56,
     "metadata": {},
     "output_type": "execute_result"
    }
   ],
   "source": [
    "# Check\n",
    "count_primes(100)"
   ]
  },
  {
   "cell_type": "markdown",
   "metadata": {},
   "source": [
    "### Just for fun:\n",
    "#### PRINT BIG: Write a function that takes in a single letter, and returns a 5x5 representation of that letter\n",
    "    print_big('a')\n",
    "    \n",
    "    out:   *  \n",
    "          * *\n",
    "         *****\n",
    "         *   *\n",
    "         *   *\n",
    "HINT: Consider making a dictionary of possible patterns, and mapping the alphabet to specific 5-line combinations of patterns. <br>For purposes of this exercise, it's ok if your dictionary stops at \"E\"."
   ]
  },
  {
   "cell_type": "code",
   "execution_count": 81,
   "metadata": {},
   "outputs": [],
   "source": [
    "def print_big(letter):\n",
    "    letter_dict = {\n",
    "    'A': '  *  \\n * * \\n*****\\n*   *\\n*   *',\n",
    "    'B': '**** \\n*   *\\n**** \\n*   *\\n**** ',\n",
    "    'C': ' ****\\n*    \\n*    \\n*    \\n ****',\n",
    "    'D': '**** \\n*   *\\n*   *\\n*   *\\n**** ',\n",
    "    'E': '*****\\n*    \\n*****\\n*    \\n*****',\n",
    "    'F': '*****\\n*    \\n*****\\n*    \\n*    ',\n",
    "    'G': ' ****\\n*    \\n*  **\\n*   *\\n ****',\n",
    "    'H': '*   *\\n*   *\\n*****\\n*   *\\n*   *',\n",
    "    'I': '*****\\n  *  \\n  *  \\n  *  \\n*****',\n",
    "    'J': '*****\\n    *\\n    *\\n*   *\\n *** ',\n",
    "    'K': '*   *\\n*  * \\n***  \\n*  * \\n*   *',\n",
    "    'L': '*    \\n*    \\n*    \\n*    \\n*****',\n",
    "    'M': '*   *\\n** **\\n* * *\\n*   *\\n*   *',\n",
    "    'N': '*   *\\n**  *\\n* * *\\n*  **\\n*   *',\n",
    "    'O': ' *** \\n*   *\\n*   *\\n*   *\\n *** ',\n",
    "    'P': '**** \\n*   *\\n**** \\n*    \\n*    ',\n",
    "    'Q': ' *** \\n*   *\\n*   *\\n*  * \\n ** *',\n",
    "    'R': '**** \\n*   *\\n**** \\n*  * \\n*   *',\n",
    "    'S': ' ****\\n*    \\n *** \\n    *\\n**** ',\n",
    "    'T': '*****\\n  *  \\n  *  \\n  *  \\n  *  ',\n",
    "    'U': '*   *\\n*   *\\n*   *\\n*   *\\n *** ',\n",
    "    'V': '*   *\\n*   *\\n*   *\\n * * \\n  *  ',\n",
    "    'W': '*   *\\n*   *\\n* * *\\n** **\\n*   *',\n",
    "    'X': '*   *\\n * * \\n  *  \\n * * \\n*   *',\n",
    "    'Y': '*   *\\n * * \\n  *  \\n  *  \\n  *  ',\n",
    "    'Z': '*****\\n   * \\n  *  \\n *   \\n*****'\n",
    "    }\n",
    "    \n",
    "    print(letter_dict[letter.upper()])"
   ]
  },
  {
   "cell_type": "code",
   "execution_count": 83,
   "metadata": {},
   "outputs": [
    {
     "name": "stdout",
     "output_type": "stream",
     "text": [
      "*****\n",
      "   * \n",
      "  *  \n",
      " *   \n",
      "*****\n"
     ]
    }
   ],
   "source": [
    "print_big('z')"
   ]
  },
  {
   "cell_type": "markdown",
   "metadata": {},
   "source": [
    "## Great Job!"
   ]
  }
 ],
 "metadata": {
  "kernelspec": {
   "display_name": "Python 3 (ipykernel)",
   "language": "python",
   "name": "python3"
  },
  "language_info": {
   "codemirror_mode": {
    "name": "ipython",
    "version": 3
   },
   "file_extension": ".py",
   "mimetype": "text/x-python",
   "name": "python",
   "nbconvert_exporter": "python",
   "pygments_lexer": "ipython3",
   "version": "3.11.5"
  }
 },
 "nbformat": 4,
 "nbformat_minor": 2
}
