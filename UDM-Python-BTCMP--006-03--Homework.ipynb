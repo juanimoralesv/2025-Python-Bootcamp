{
 "cells": [
  {
   "cell_type": "markdown",
   "metadata": {},
   "source": [
    "___\n",
    "\n",
    "<a href='https://www.udemy.com/user/joseportilla/'><img src='https://raw.githubusercontent.com/Pierian-Data/Complete-Python-3-Bootcamp/refs/heads/master/Pierian_Data_Logo.png'/></a>\n",
    "___\n",
    "<center><em>Content Copyright by Pierian Data</em></center>"
   ]
  },
  {
   "cell_type": "markdown",
   "metadata": {},
   "source": [
    "# Functions and Methods Homework \n",
    "\n",
    "Complete the following questions:\n",
    "____\n",
    "**Write a function that computes the volume of a sphere given its radius.**\n",
    "<p>The volume of a sphere is given as $$\\frac{4}{3} πr^3$$</p>"
   ]
  },
  {
   "cell_type": "code",
   "execution_count": 1,
   "metadata": {},
   "outputs": [],
   "source": [
    "def vol(rad):\n",
    "    return (4 / 3) * 3.14159 * rad ** 3"
   ]
  },
  {
   "cell_type": "code",
   "execution_count": 2,
   "metadata": {},
   "outputs": [
    {
     "data": {
      "text/plain": [
       "33.51029333333333"
      ]
     },
     "execution_count": 2,
     "metadata": {},
     "output_type": "execute_result"
    }
   ],
   "source": [
    "# Check\n",
    "vol(2)"
   ]
  },
  {
   "cell_type": "markdown",
   "metadata": {},
   "source": [
    "___\n",
    "**Write a function that checks whether a number is in a given range (inclusive of high and low)**"
   ]
  },
  {
   "cell_type": "code",
   "execution_count": 3,
   "metadata": {},
   "outputs": [],
   "source": [
    "def ran_check(num,low,high):\n",
    "    if low <= num <= high:\n",
    "        print(f\"{num} is in the range between {low} and {high}.\")"
   ]
  },
  {
   "cell_type": "code",
   "execution_count": 4,
   "metadata": {},
   "outputs": [
    {
     "name": "stdout",
     "output_type": "stream",
     "text": [
      "5 is in the range between 2 and 7.\n"
     ]
    }
   ],
   "source": [
    "# Check\n",
    "ran_check(5, 2, 7)"
   ]
  },
  {
   "cell_type": "markdown",
   "metadata": {},
   "source": [
    "If you only wanted to return a boolean:"
   ]
  },
  {
   "cell_type": "code",
   "execution_count": 5,
   "metadata": {},
   "outputs": [],
   "source": [
    "def ran_bool(num, low, high):\n",
    "    return low <= num <= high"
   ]
  },
  {
   "cell_type": "code",
   "execution_count": 6,
   "metadata": {},
   "outputs": [
    {
     "data": {
      "text/plain": [
       "True"
      ]
     },
     "execution_count": 6,
     "metadata": {},
     "output_type": "execute_result"
    }
   ],
   "source": [
    "ran_bool(3, 1, 10)"
   ]
  },
  {
   "cell_type": "markdown",
   "metadata": {},
   "source": [
    "Another version using the `in` operator:"
   ]
  },
  {
   "cell_type": "code",
   "execution_count": 50,
   "metadata": {},
   "outputs": [],
   "source": [
    "def ran_bool(num, low, high):\n",
    "    return num in range(low, high + 1)"
   ]
  },
  {
   "cell_type": "code",
   "execution_count": 51,
   "metadata": {},
   "outputs": [
    {
     "data": {
      "text/plain": [
       "True"
      ]
     },
     "execution_count": 51,
     "metadata": {},
     "output_type": "execute_result"
    }
   ],
   "source": [
    "ran_bool(3, 1, 10)"
   ]
  },
  {
   "cell_type": "markdown",
   "metadata": {},
   "source": [
    "____\n",
    "**Write a Python function that accepts a string and calculates the number of upper case letters and lower case letters.**\n",
    "\n",
    "    Sample String : 'Hello Mr. Rogers, how are you this fine Tuesday?'\n",
    "    Expected Output : \n",
    "    No. of Upper case characters : 4\n",
    "    No. of Lower case Characters : 33\n",
    "\n",
    "HINT: Two string methods that might prove useful: **.isupper()** and **.islower()**\n",
    "\n",
    "If you feel ambitious, explore the Collections module to solve this problem!"
   ]
  },
  {
   "cell_type": "code",
   "execution_count": 54,
   "metadata": {},
   "outputs": [],
   "source": [
    "def up_low(text):\n",
    "    # Remove anything that is not a letter\n",
    "    lst_clean_text = list(filter(lambda x: x.isalpha(), text))\n",
    "    stg_clean_text = ''.join(lst_clean_text)\n",
    "    \n",
    "    # Obtain lists containing either upper or lower letters\n",
    "    lst_uppers = list(filter(lambda x: x.isupper(), stg_clean_text))\n",
    "    lst_lowers = list(filter(lambda x: x.islower(), stg_clean_text))\n",
    "    \n",
    "    # Count how many letters in each list\n",
    "    qty_uppers = len(lst_uppers)\n",
    "    qty_lowers = len(lst_lowers)\n",
    "    \n",
    "    # Print the count\n",
    "    print(f\"No. of upper case characters : {qty_uppers}\")\n",
    "    print(f\"No. of lower case characters : {qty_lowers}\")"
   ]
  },
  {
   "cell_type": "code",
   "execution_count": 66,
   "metadata": {},
   "outputs": [
    {
     "name": "stdout",
     "output_type": "stream",
     "text": [
      "No. of upper case characters : 4\n",
      "No. of lower case characters : 33\n"
     ]
    }
   ],
   "source": [
    "s = 'Hello Mr. Rogers, how are you this fine Tuesday?'\n",
    "up_low(s)"
   ]
  },
  {
   "cell_type": "markdown",
   "metadata": {},
   "source": [
    "From solutions:"
   ]
  },
  {
   "cell_type": "code",
   "execution_count": 56,
   "metadata": {},
   "outputs": [],
   "source": [
    "def up_low_bis(text):\n",
    "    # Initialize counts\n",
    "    uppers = 0\n",
    "    lowers = 0\n",
    "    \n",
    "    # Count via loop\n",
    "    for char in text:\n",
    "        if char.isupper():\n",
    "            uppers += 1\n",
    "        elif char.islower():\n",
    "            lowers += 1\n",
    "        else:\n",
    "            pass\n",
    "        \n",
    "    # Print the count\n",
    "    print(f\"No. of upper case characters : {uppers}\")\n",
    "    print(f\"No. of lower case characters : {lowers}\")"
   ]
  },
  {
   "cell_type": "code",
   "execution_count": 65,
   "metadata": {},
   "outputs": [
    {
     "name": "stdout",
     "output_type": "stream",
     "text": [
      "No. of upper case characters : 4\n",
      "No. of lower case characters : 33\n"
     ]
    }
   ],
   "source": [
    "s = 'Hello Mr. Rogers, how are you this fine Tuesday?'\n",
    "up_low_bis(s)"
   ]
  },
  {
   "cell_type": "markdown",
   "metadata": {},
   "source": [
    "- Performance?"
   ]
  },
  {
   "cell_type": "code",
   "execution_count": 58,
   "metadata": {},
   "outputs": [],
   "source": [
    "lorem = \"Lorem ipsum dolor sit amet, consectetur adipiscing elit. Vivamus vestibulum odio vitae gravida luctus. Suspendisse quis pellentesque massa, non aliquam neque. Phasellus euismod convallis aliquet. Integer eleifend, nisl ac suscipit tincidunt, ex dui accumsan ipsum, nec porttitor neque nunc ut dui. Donec mollis massa quis elit ornare lacinia. Maecenas vestibulum turpis porttitor tellus vestibulum suscipit. Curabitur vitae aliquam est. Nam vestibulum ex sed tellus luctus bibendum. Donec dictum mollis lorem, eget faucibus massa vestibulum vel.\\\n",
    "Vivamus consectetur lorem bibendum, ultrices felis sit amet, aliquam quam. Vestibulum elementum, lorem non vestibulum gravida, augue lacus molestie lorem, nec tincidunt tellus lacus vitae justo. Pellentesque ultrices purus ut risus congue ullamcorper. Morbi sagittis enim vitae justo interdum egestas. Proin pretium, enim vitae iaculis fermentum, elit sem faucibus libero, eu ultrices elit risus sed diam. Vestibulum sed metus tincidunt, efficitur nulla in, feugiat augue. Pellentesque porttitor bibendum lectus eu pretium. Phasellus feugiat, nibh quis vestibulum ornare, diam est pharetra odio, ac ultrices mi massa ut enim. Aliquam odio libero, ultrices et viverra vitae, venenatis ac nisi. Sed a lorem in sem tristique interdum quis et ex. Aenean massa arcu, dictum in lorem in, malesuada dignissim erat. Orci varius natoque penatibus et magnis dis parturient montes, nascetur ridiculus mus.\\\n",
    "Phasellus venenatis elementum lorem, sed consectetur felis tristique ac. Nullam et auctor purus. Integer neque tortor, pharetra id ex ac, pulvinar rhoncus mi. Integer dolor dui, semper et mi eget, accumsan blandit ipsum. Morbi ut libero risus. Ut porta mi id porttitor consectetur. Donec feugiat dui in libero feugiat, eu consectetur ex suscipit. Pellentesque a eleifend nulla. Vivamus convallis at neque non semper. Duis tempus blandit tempor. Ut venenatis rhoncus justo eu aliquam. Nulla ultrices nulla sapien, quis dignissim odio fringilla placerat.\\\n",
    "Donec convallis accumsan bibendum. Orci varius natoque penatibus et magnis dis parturient montes, nascetur ridiculus mus. Vivamus maximus efficitur mauris eget hendrerit. Vestibulum finibus nisi felis, vitae lobortis lorem molestie nec. Phasellus quis mi tempus, semper velit at, bibendum odio. Integer eget nibh eu dui aliquam tincidunt. Phasellus rhoncus aliquam maximus.\\\n",
    "Vestibulum rutrum nunc vel urna blandit sagittis. Vestibulum eu tortor ante. Proin placerat nisl at lorem bibendum vestibulum. Etiam imperdiet mauris vel tincidunt ultricies. Maecenas sed risus ut mi condimentum vehicula ac sit amet enim. Aenean at tristique augue, id tempus turpis. Aenean eu dolor ligula. Duis velit justo, finibus nec risus ut, dignissim faucibus purus. Nullam condimentum dignissim nisl sed ornare. Curabitur ac diam ac metus aliquam interdum vel eu felis. Morbi tincidunt, urna id viverra tristique, ex metus semper nunc, ac bibendum augue risus nec augue.\\\n",
    "Quisque posuere augue quis dictum consequat. Sed eleifend in purus eget molestie. Vivamus eu velit urna. Duis gravida ex ut diam venenatis, in aliquam felis dapibus. Etiam vehicula lorem nec mi consequat posuere. Nullam sit amet orci ac sapien dignissim vestibulum at sit amet mauris. Morbi aliquam volutpat tempor. Maecenas mi ipsum, hendrerit vitae odio id, sodales gravida ligula. Aenean at magna tortor. Vestibulum consequat nisi et molestie vestibulum. Sed venenatis lectus in imperdiet tempus.\""
   ]
  },
  {
   "cell_type": "code",
   "execution_count": 63,
   "metadata": {},
   "outputs": [
    {
     "name": "stdout",
     "output_type": "stream",
     "text": [
      "No. of upper case characters : 63\n",
      "No. of lower case characters : 2777\n",
      "CPU times: total: 0 ns\n",
      "Wall time: 3 ms\n"
     ]
    }
   ],
   "source": [
    "%%time\n",
    "up_low(lorem)"
   ]
  },
  {
   "cell_type": "code",
   "execution_count": 64,
   "metadata": {},
   "outputs": [
    {
     "name": "stdout",
     "output_type": "stream",
     "text": [
      "No. of upper case characters : 63\n",
      "No. of lower case characters : 2777\n",
      "CPU times: total: 0 ns\n",
      "Wall time: 1 ms\n"
     ]
    }
   ],
   "source": [
    "%%time\n",
    "up_low_bis(lorem)"
   ]
  },
  {
   "cell_type": "markdown",
   "metadata": {},
   "source": [
    "____\n",
    "**Write a Python function that takes a list and returns a new list with unique elements of the first list.**\n",
    "\n",
    "    Sample List : [1,1,1,1,2,2,3,3,3,3,4,5]\n",
    "    Unique List : [1, 2, 3, 4, 5]"
   ]
  },
  {
   "cell_type": "code",
   "execution_count": 19,
   "metadata": {},
   "outputs": [],
   "source": [
    "def unique_list(lst):\n",
    "    return list(set(lst))"
   ]
  },
  {
   "cell_type": "code",
   "execution_count": 20,
   "metadata": {},
   "outputs": [
    {
     "data": {
      "text/plain": [
       "[1, 2, 3, 4, 5]"
      ]
     },
     "execution_count": 20,
     "metadata": {},
     "output_type": "execute_result"
    }
   ],
   "source": [
    "unique_list([1,1,1,1,2,2,3,3,3,3,4,5])"
   ]
  },
  {
   "cell_type": "markdown",
   "metadata": {},
   "source": [
    "____\n",
    "**Write a Python function to multiply all the numbers in a list.**\n",
    "\n",
    "    Sample List : [1, 2, 3, -4]\n",
    "    Expected Output : -24"
   ]
  },
  {
   "cell_type": "code",
   "execution_count": 32,
   "metadata": {},
   "outputs": [],
   "source": [
    "def multiply(numbers):  \n",
    "    # Verify a list type object is passed\n",
    "    if not isinstance(numbers, list):\n",
    "        print('A list type object was expected.')\n",
    "        return None\n",
    "    \n",
    "    # Verify the list is not empty\n",
    "    if numbers:\n",
    "        # First factor\n",
    "        result = numbers.pop(0)\n",
    "        # Multiply by all other factors, if any\n",
    "        for num in numbers:\n",
    "            result *= num\n",
    "        \n",
    "        return result\n",
    "    else:\n",
    "        print(\"The list was empty. No multiplication result available.\")"
   ]
  },
  {
   "cell_type": "code",
   "execution_count": 33,
   "metadata": {},
   "outputs": [
    {
     "name": "stdout",
     "output_type": "stream",
     "text": [
      "-24\n",
      "3\n",
      "The list was empty. No multiplication result available.\n",
      "None\n",
      "A list type object was expected.\n",
      "None\n"
     ]
    }
   ],
   "source": [
    "# check\n",
    "print(multiply([1,2,3,-4]))\n",
    "print(multiply([3]))\n",
    "print(multiply([]))\n",
    "print(multiply(\"Something.\"))"
   ]
  },
  {
   "cell_type": "markdown",
   "metadata": {},
   "source": [
    "____\n",
    "**Write a Python function that checks whether a word or phrase is palindrome or not.**\n",
    "\n",
    "Note: A palindrome is word, phrase, or sequence that reads the same backward as forward, e.g., madam,kayak,racecar, or a phrase \"nurses run\". Hint: You may want to check out the .replace() method in a string to help out with dealing with spaces. Also google search how to reverse a string in Python, there are some clever ways to do it with slicing notation."
   ]
  },
  {
   "cell_type": "code",
   "execution_count": 36,
   "metadata": {},
   "outputs": [],
   "source": [
    "def palindrome(text):\n",
    "    # Remove blanks, and turn to lower case\n",
    "    text = text.replace(' ', '').lower()\n",
    "    # Return\n",
    "    return text == text[::-1]"
   ]
  },
  {
   "cell_type": "code",
   "execution_count": 37,
   "metadata": {},
   "outputs": [
    {
     "name": "stdout",
     "output_type": "stream",
     "text": [
      "True\n",
      "True\n"
     ]
    }
   ],
   "source": [
    "print(palindrome('helleh'))\n",
    "print(palindrome('Nurses run'))"
   ]
  },
  {
   "cell_type": "markdown",
   "metadata": {},
   "source": [
    "____\n",
    "#### Hard:\n",
    "\n",
    "**Write a Python function to check whether a string is pangram or not. (Assume the string passed in does not have any punctuation)**\n",
    "\n",
    "    Note : Pangrams are words or sentences containing every letter of the alphabet at least once.\n",
    "    For example : \"The quick brown fox jumps over the lazy dog\"\n",
    "\n",
    "Hint: You may want to use .replace() method to get rid of spaces.\n",
    "\n",
    "Hint: Look at the [string module](https://stackoverflow.com/questions/16060899/alphabet-range-in-python)\n",
    "\n",
    "Hint: In case you want to use [set comparisons](https://medium.com/better-programming/a-visual-guide-to-set-comparisons-in-python-6ab7edb9ec41)"
   ]
  },
  {
   "cell_type": "code",
   "execution_count": 38,
   "metadata": {},
   "outputs": [],
   "source": [
    "import string"
   ]
  },
  {
   "cell_type": "code",
   "execution_count": 67,
   "metadata": {},
   "outputs": [],
   "source": [
    "def ispangram(text, alphabet = string.ascii_lowercase):\n",
    "    # Remove anything that is not a letter\n",
    "    lst_clean_text = list(filter(lambda x: x.isalpha(), text))\n",
    "    # Convert to lower case\n",
    "    lst_clean_text = list(map(lambda x: x.lower(), lst_clean_text))\n",
    "    \n",
    "    # Compare and return\n",
    "    return set(lst_clean_text) == set(alphabet)"
   ]
  },
  {
   "cell_type": "code",
   "execution_count": 68,
   "metadata": {},
   "outputs": [
    {
     "data": {
      "text/plain": [
       "True"
      ]
     },
     "execution_count": 68,
     "metadata": {},
     "output_type": "execute_result"
    }
   ],
   "source": [
    "ispangram(\"The quick 'brown' #fox jumps over the lazy dog!!!\")"
   ]
  },
  {
   "cell_type": "code",
   "execution_count": 17,
   "metadata": {},
   "outputs": [
    {
     "data": {
      "text/plain": [
       "'abcdefghijklmnopqrstuvwxyz'"
      ]
     },
     "execution_count": 17,
     "metadata": {},
     "output_type": "execute_result"
    }
   ],
   "source": [
    "string.ascii_lowercase"
   ]
  },
  {
   "cell_type": "markdown",
   "metadata": {
    "collapsed": true
   },
   "source": [
    "#### Great Job!"
   ]
  }
 ],
 "metadata": {
  "kernelspec": {
   "display_name": "Python 3 (ipykernel)",
   "language": "python",
   "name": "python3"
  },
  "language_info": {
   "codemirror_mode": {
    "name": "ipython",
    "version": 3
   },
   "file_extension": ".py",
   "mimetype": "text/x-python",
   "name": "python",
   "nbconvert_exporter": "python",
   "pygments_lexer": "ipython3",
   "version": "3.11.5"
  }
 },
 "nbformat": 4,
 "nbformat_minor": 1
}
