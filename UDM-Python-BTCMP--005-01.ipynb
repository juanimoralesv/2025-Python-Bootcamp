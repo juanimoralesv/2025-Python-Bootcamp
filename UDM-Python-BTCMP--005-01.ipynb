{
 "cells": [
  {
   "cell_type": "markdown",
   "id": "27ab4e5f",
   "metadata": {},
   "source": [
    "# Section 05 - Python Statements"
   ]
  },
  {
   "cell_type": "markdown",
   "id": "4624bdca",
   "metadata": {},
   "source": [
    "## 34 - `if`, `elif`, and `else` Statements in Python"
   ]
  },
  {
   "cell_type": "markdown",
   "id": "2ac1e1ab",
   "metadata": {},
   "source": [
    "**Control flow:** execute code only under specific conditions. To do this, use keywords:\n",
    "- `if`\n",
    "- `elif`\n",
    "- `else`\n",
    "\n",
    "**Very important:** use of colons and indentation."
   ]
  },
  {
   "cell_type": "markdown",
   "id": "31d2a78c",
   "metadata": {},
   "source": [
    "**Syntax:**\n",
    "\n",
    "```Python\n",
    "if condition:\n",
    "    # Execute this code\n",
    "elif another_condition:\n",
    "    # Execute this other code\n",
    "else:\n",
    "    # Execute this, when none of the above conditions is met\n",
    "```\n",
    "\n",
    "Conditions are, after evaluated, a boolean value."
   ]
  },
  {
   "cell_type": "code",
   "execution_count": 1,
   "id": "ab1a6f5d",
   "metadata": {},
   "outputs": [
    {
     "name": "stdout",
     "output_type": "stream",
     "text": [
      "It's true!\n"
     ]
    }
   ],
   "source": [
    "# Example\n",
    "if True:\n",
    "    print(\"It's true!\")"
   ]
  },
  {
   "cell_type": "code",
   "execution_count": 3,
   "id": "6c6da7c9",
   "metadata": {},
   "outputs": [
    {
     "name": "stdout",
     "output_type": "stream",
     "text": [
      "I'm not hungry.\n"
     ]
    }
   ],
   "source": [
    "# Another example\n",
    "hungry = False\n",
    "\n",
    "if hungry:\n",
    "    print(\"Feed me!\")\n",
    "else:\n",
    "    print(\"I'm not hungry.\")"
   ]
  },
  {
   "cell_type": "code",
   "execution_count": 11,
   "id": "cd30bff3",
   "metadata": {},
   "outputs": [
    {
     "name": "stdout",
     "output_type": "stream",
     "text": [
      "Case 1 is in location = Bank.\n",
      "\t\tMoney is cool!\n",
      "Case 2 is in location = Auto Shop.\n",
      "\t\tCars are cool!\n",
      "Case 3 is in location = Cathedral.\n",
      "\t\tI don't know much.\n",
      "Case 4 is in location = Store.\n",
      "\t\tWelcome to the store!\n"
     ]
    }
   ],
   "source": [
    "# Yet another example (using tools that still haven't been covered in this course)\n",
    "locations = ['Bank', 'Auto Shop', 'Cathedral', 'Store']\n",
    "\n",
    "for i, loc in enumerate(locations):\n",
    "    if loc == 'Auto Shop':\n",
    "        print(f\"Case {i + 1} is in location = {loc}.\\n\\t\\tCars are cool!\")\n",
    "    elif loc == 'Bank':\n",
    "        print(f\"Case {i + 1} is in location = {loc}.\\n\\t\\tMoney is cool!\")\n",
    "    elif loc == 'Store':\n",
    "        print(f\"Case {i + 1} is in location = {loc}.\\n\\t\\tWelcome to the store!\")\n",
    "    else:\n",
    "        print(f\"Case {i + 1} is in location = {loc}.\\n\\t\\tI don't know much.\")"
   ]
  },
  {
   "cell_type": "code",
   "execution_count": 13,
   "id": "9e2d9ff3",
   "metadata": {},
   "outputs": [
    {
     "name": "stdout",
     "output_type": "stream",
     "text": [
      "Hello, Sammy!\n"
     ]
    }
   ],
   "source": [
    "# Example, again\n",
    "name = 'Sammy'\n",
    "\n",
    "if name == 'Frankie':\n",
    "    print(f'Hello, {name}!')\n",
    "elif name == 'Sammy':\n",
    "    print(f'Hello, {name}!')\n",
    "else:\n",
    "    print(\"What's your name?\")"
   ]
  },
  {
   "cell_type": "markdown",
   "id": "eab0155f",
   "metadata": {},
   "source": [
    "## 35 - `for` Loops"
   ]
  },
  {
   "cell_type": "markdown",
   "id": "af9cacf8",
   "metadata": {},
   "source": [
    "Iterables are object over which it's possible to iterate, i.e., to perform an action over each element in the iterable.\n",
    "\n",
    "**Syntax:**\n",
    "```Python\n",
    "my_iterable = # a list, for example\n",
    "\n",
    "for `item` in `my_iterable`: # `item` will store each of the values in 'my_iterable', but one at a time in each iteration\n",
    "    # Execute this block of code, which can make use of `item`'s value\n",
    "```\n",
    "\n"
   ]
  },
  {
   "cell_type": "code",
   "execution_count": 14,
   "id": "57faca2b",
   "metadata": {},
   "outputs": [
    {
     "name": "stdout",
     "output_type": "stream",
     "text": [
      "1\n",
      "2\n",
      "3\n",
      "4\n",
      "5\n",
      "6\n",
      "7\n",
      "8\n",
      "9\n",
      "10\n"
     ]
    }
   ],
   "source": [
    "# Example\n",
    "my_list = [1, 2, 3, 4, 5, 6, 7, 8, 9, 10]\n",
    "\n",
    "for num in my_list: # num could have been jelly or any other name\n",
    "    print(num)"
   ]
  },
  {
   "cell_type": "code",
   "execution_count": 15,
   "id": "2e5e023e",
   "metadata": {
    "scrolled": true
   },
   "outputs": [
    {
     "name": "stdout",
     "output_type": "stream",
     "text": [
      "Hello!\n",
      "Hello!\n",
      "Hello!\n",
      "Hello!\n",
      "Hello!\n",
      "Hello!\n",
      "Hello!\n",
      "Hello!\n",
      "Hello!\n",
      "Hello!\n"
     ]
    }
   ],
   "source": [
    "# Example, similar but not quite the same\n",
    "my_list = [1, 2, 3, 4, 5, 6, 7, 8, 9, 10]\n",
    "\n",
    "for jelly in my_list:\n",
    "    print('Hello!')"
   ]
  },
  {
   "cell_type": "code",
   "execution_count": 17,
   "id": "1c8e8dda",
   "metadata": {},
   "outputs": [
    {
     "name": "stdout",
     "output_type": "stream",
     "text": [
      "Number 1 is an odd number.\n",
      "Number 2 is an even number.\n",
      "Number 3 is an odd number.\n",
      "Number 4 is an even number.\n",
      "Number 5 is an odd number.\n",
      "Number 6 is an even number.\n",
      "Number 7 is an odd number.\n",
      "Number 8 is an even number.\n",
      "Number 9 is an odd number.\n",
      "Number 10 is an even number.\n"
     ]
    }
   ],
   "source": [
    "# Print only the even numbers in the list\n",
    "for num in my_list:\n",
    "    if num % 2 == 0:\n",
    "        print(f'Number {num} is an even number.')\n",
    "    else:\n",
    "        print(f'Number {num} is an odd number.')"
   ]
  },
  {
   "cell_type": "code",
   "execution_count": 18,
   "id": "8a224fa9",
   "metadata": {},
   "outputs": [
    {
     "name": "stdout",
     "output_type": "stream",
     "text": [
      "55\n"
     ]
    }
   ],
   "source": [
    "# Loop for cumulative sum\n",
    "list_sum = 0\n",
    "\n",
    "for num in my_list:\n",
    "    list_sum = list_sum + num\n",
    "    \n",
    "print(list_sum)"
   ]
  },
  {
   "cell_type": "code",
   "execution_count": 19,
   "id": "f05579e7",
   "metadata": {},
   "outputs": [
    {
     "name": "stdout",
     "output_type": "stream",
     "text": [
      "H\n",
      "e\n",
      "l\n",
      "l\n",
      "o\n",
      ",\n",
      " \n",
      "w\n",
      "o\n",
      "r\n",
      "l\n",
      "d\n",
      "!\n"
     ]
    }
   ],
   "source": [
    "# Loop for accessing string characters\n",
    "my_string = \"Hello, world!\"\n",
    "\n",
    "for letter in my_string:\n",
    "    print(letter)"
   ]
  },
  {
   "cell_type": "code",
   "execution_count": 21,
   "id": "92a40795",
   "metadata": {},
   "outputs": [
    {
     "name": "stdout",
     "output_type": "stream",
     "text": [
      "Cool!\n",
      "Cool!\n",
      "Cool!\n",
      "Cool!\n",
      "Cool!\n",
      "Cool!\n",
      "Cool!\n",
      "Cool!\n",
      "Cool!\n",
      "Cool!\n",
      "Cool!\n",
      "Cool!\n",
      "Cool!\n"
     ]
    }
   ],
   "source": [
    "# Another case \n",
    "for _ in \"Hello, world!\": # _ highlights the value wasn't intended to be in the code inside the for loop\n",
    "    print(\"Cool!\")"
   ]
  },
  {
   "cell_type": "code",
   "execution_count": 22,
   "id": "dfca09dc",
   "metadata": {},
   "outputs": [
    {
     "name": "stdout",
     "output_type": "stream",
     "text": [
      "1\n",
      "5\n",
      "3\n"
     ]
    }
   ],
   "source": [
    "# Once again, example\n",
    "tup = (1, 5, 3)\n",
    "\n",
    "for i in tup:\n",
    "    print(i)"
   ]
  },
  {
   "cell_type": "markdown",
   "id": "3fa2517e",
   "metadata": {},
   "source": [
    "#### Tuple Unpacking"
   ]
  },
  {
   "cell_type": "code",
   "execution_count": 23,
   "id": "7178f0f2",
   "metadata": {},
   "outputs": [
    {
     "data": {
      "text/plain": [
       "[(1, 2), (3, 4), (5, 6), (7, 8)]"
      ]
     },
     "execution_count": 23,
     "metadata": {},
     "output_type": "execute_result"
    }
   ],
   "source": [
    "mylist = [(1, 2), (3, 4), (5, 6), (7, 8)] # This is a very common data structure in Python\n",
    "mylist"
   ]
  },
  {
   "cell_type": "code",
   "execution_count": 24,
   "id": "6526cc7c",
   "metadata": {},
   "outputs": [
    {
     "data": {
      "text/plain": [
       "4"
      ]
     },
     "execution_count": 24,
     "metadata": {},
     "output_type": "execute_result"
    }
   ],
   "source": [
    "len(mylist)"
   ]
  },
  {
   "cell_type": "code",
   "execution_count": 25,
   "id": "16746ce9",
   "metadata": {},
   "outputs": [
    {
     "name": "stdout",
     "output_type": "stream",
     "text": [
      "(1, 2)\n",
      "(3, 4)\n",
      "(5, 6)\n",
      "(7, 8)\n"
     ]
    }
   ],
   "source": [
    "# Print values\n",
    "for item in mylist:\n",
    "    print(item)"
   ]
  },
  {
   "cell_type": "code",
   "execution_count": 26,
   "id": "5b84062d",
   "metadata": {},
   "outputs": [
    {
     "name": "stdout",
     "output_type": "stream",
     "text": [
      "1\n",
      "2\n",
      "3\n",
      "4\n",
      "5\n",
      "6\n",
      "7\n",
      "8\n"
     ]
    }
   ],
   "source": [
    "# Continuing the example of printing the tuples\n",
    "for (a, b) in mylist:\n",
    "    print(a)\n",
    "    print(b)"
   ]
  },
  {
   "cell_type": "code",
   "execution_count": 27,
   "id": "9ac165db",
   "metadata": {},
   "outputs": [
    {
     "name": "stdout",
     "output_type": "stream",
     "text": [
      "2\n",
      "4\n",
      "6\n",
      "8\n"
     ]
    }
   ],
   "source": [
    "# Or:\n",
    "for a, b in mylist:\n",
    "    print(b)"
   ]
  },
  {
   "cell_type": "code",
   "execution_count": 28,
   "id": "76d110bd",
   "metadata": {},
   "outputs": [
    {
     "name": "stdout",
     "output_type": "stream",
     "text": [
      "2\n",
      "6\n",
      "9\n"
     ]
    }
   ],
   "source": [
    "# Once again, example\n",
    "new_list = [(1, 2, 3), (5, 6, 7), (8, 9, 10)]\n",
    "\n",
    "for a, b, c in new_list:\n",
    "    print(b)"
   ]
  },
  {
   "cell_type": "markdown",
   "id": "cd5a6a23",
   "metadata": {},
   "source": [
    "#### Dictionaries"
   ]
  },
  {
   "cell_type": "code",
   "execution_count": 29,
   "id": "73ce7ba7",
   "metadata": {},
   "outputs": [
    {
     "name": "stdout",
     "output_type": "stream",
     "text": [
      "k1\n",
      "k2\n",
      "k3\n"
     ]
    }
   ],
   "source": [
    "dictio = {'k1': 1, 'k2': 2, 'k3': 3}\n",
    "\n",
    "for key in dictio:\n",
    "    print(key)"
   ]
  },
  {
   "cell_type": "code",
   "execution_count": 30,
   "id": "17e1d89b",
   "metadata": {},
   "outputs": [
    {
     "name": "stdout",
     "output_type": "stream",
     "text": [
      "1\n",
      "2\n",
      "3\n"
     ]
    }
   ],
   "source": [
    "# Example getting the values\n",
    "for key in dictio:\n",
    "    print(dictio[key])"
   ]
  },
  {
   "cell_type": "code",
   "execution_count": 31,
   "id": "22920dcd",
   "metadata": {},
   "outputs": [
    {
     "name": "stdout",
     "output_type": "stream",
     "text": [
      "('k1', 1)\n",
      "('k2', 2)\n",
      "('k3', 3)\n"
     ]
    }
   ],
   "source": [
    "# Or:\n",
    "for item in dictio.items():\n",
    "    print(item)"
   ]
  },
  {
   "cell_type": "code",
   "execution_count": 32,
   "id": "d4a98fa9",
   "metadata": {},
   "outputs": [
    {
     "name": "stdout",
     "output_type": "stream",
     "text": [
      "1\n",
      "2\n",
      "3\n"
     ]
    }
   ],
   "source": [
    "# And using tuple unpacking\n",
    "for key, value in dictio.items():\n",
    "    print(value)"
   ]
  },
  {
   "cell_type": "code",
   "execution_count": 33,
   "id": "047d7fe7",
   "metadata": {},
   "outputs": [
    {
     "name": "stdout",
     "output_type": "stream",
     "text": [
      "1\n",
      "2\n",
      "3\n"
     ]
    }
   ],
   "source": [
    "# Only values\n",
    "for val in dictio.values():\n",
    "    print(val)"
   ]
  },
  {
   "cell_type": "markdown",
   "id": "af9c938d",
   "metadata": {},
   "source": [
    "## 36 - While Loops in Python"
   ]
  },
  {
   "cell_type": "markdown",
   "id": "7c290e5e",
   "metadata": {},
   "source": [
    "These loops continue to run a block of code over and over, as long as some condition remains true.\n",
    "\n",
    "Syntax:\n",
    "```Python\n",
    "while some_boolean_condition:\n",
    "    # Block of code to execute in loops\n",
    "```\n",
    "\n",
    "Syntax combined with `else`:\n",
    "```Python\n",
    "while some_boolean_condition:\n",
    "    # Block of code to execute in loops\n",
    "else:\n",
    "    # Block to execute if boolean condition is `False`\n",
    "```"
   ]
  },
  {
   "cell_type": "code",
   "execution_count": 3,
   "id": "b67e1e46",
   "metadata": {},
   "outputs": [
    {
     "name": "stdout",
     "output_type": "stream",
     "text": [
      "The current value of x is 0.\n",
      "The current value of x is 1.\n",
      "The current value of x is 2.\n",
      "The current value of x is 3.\n",
      "The current value of x is 4.\n",
      "x is not less than 5.\n"
     ]
    }
   ],
   "source": [
    "# Example\n",
    "x = 0\n",
    "\n",
    "while x < 5:\n",
    "    print(f\"The current value of x is {x}.\")\n",
    "    # Update x, otherwise infinite loop!\n",
    "    x += 1\n",
    "else:\n",
    "    print(\"x is not less than 5.\")"
   ]
  },
  {
   "cell_type": "markdown",
   "id": "9bd582a7",
   "metadata": {},
   "source": [
    "### `break`, `continue`, `pass`"
   ]
  },
  {
   "cell_type": "markdown",
   "id": "2f1fd911",
   "metadata": {},
   "source": [
    "These three keywords are useful when working with loops:\n",
    "\n",
    "- `break`: breaks out of the currently closest enclosing loop.\n",
    "- `continue`: goes to the top of the currently closest enclosing loop.\n",
    "- `pass`: does nothing at all."
   ]
  },
  {
   "cell_type": "code",
   "execution_count": 4,
   "id": "19872dbc",
   "metadata": {},
   "outputs": [
    {
     "name": "stdout",
     "output_type": "stream",
     "text": [
      "End of script.\n"
     ]
    }
   ],
   "source": [
    "# Example using `pass`\n",
    "x = [1, 2, 3]\n",
    "\n",
    "for item in x:\n",
    "    pass\n",
    "\n",
    "print(\"End of script.\")"
   ]
  },
  {
   "cell_type": "markdown",
   "id": "a377d09a",
   "metadata": {},
   "source": [
    "There, `pass` acted as a placeholder to avoid a syntax error. If there was a comment instead of the `pass` keyword, an error would have arisen."
   ]
  },
  {
   "cell_type": "code",
   "execution_count": 5,
   "id": "182e04ce",
   "metadata": {},
   "outputs": [
    {
     "name": "stdout",
     "output_type": "stream",
     "text": [
      "S\n",
      "a\n",
      "m\n",
      "m\n",
      "y\n"
     ]
    }
   ],
   "source": [
    "# Example using `continue`\n",
    "mystring = \"Sammy\"\n",
    "\n",
    "for letter in mystring:\n",
    "    print(letter)"
   ]
  },
  {
   "cell_type": "code",
   "execution_count": 6,
   "id": "6502863d",
   "metadata": {},
   "outputs": [
    {
     "name": "stdout",
     "output_type": "stream",
     "text": [
      "S\n",
      "m\n",
      "m\n",
      "y\n"
     ]
    }
   ],
   "source": [
    "# Avoid printing 'a'\n",
    "for letter in mystring:\n",
    "    if letter == 'a':\n",
    "        continue\n",
    "    print(letter)"
   ]
  },
  {
   "cell_type": "markdown",
   "id": "db3f9bbe",
   "metadata": {},
   "source": [
    "It found an 'a', so it went to the top of the loop, and started again with the following letter, in this case the first 'm'."
   ]
  },
  {
   "cell_type": "code",
   "execution_count": 8,
   "id": "8106b8ee",
   "metadata": {},
   "outputs": [
    {
     "name": "stdout",
     "output_type": "stream",
     "text": [
      "S\n"
     ]
    }
   ],
   "source": [
    "# Example using `break`\n",
    "for letter in mystring:\n",
    "    if letter == 'a':\n",
    "        break\n",
    "    print(letter)"
   ]
  },
  {
   "cell_type": "markdown",
   "id": "24d5e5e7",
   "metadata": {},
   "source": [
    "It found the 'a' and stopped running the loop."
   ]
  },
  {
   "cell_type": "code",
   "execution_count": 10,
   "id": "ca2e6ea6",
   "metadata": {},
   "outputs": [
    {
     "name": "stdout",
     "output_type": "stream",
     "text": [
      "0\n",
      "1\n"
     ]
    }
   ],
   "source": [
    "# Example of `break` inside a `while` loop\n",
    "x = 0\n",
    "\n",
    "while x < 5:\n",
    "    if x == 2: # weird condition in this context, but for illustrative purposes\n",
    "        break\n",
    "    print(x)\n",
    "    x += 1"
   ]
  },
  {
   "cell_type": "markdown",
   "id": "6cc18443",
   "metadata": {},
   "source": [
    "## 37 - Useful Operators in Python"
   ]
  },
  {
   "cell_type": "markdown",
   "id": "1ec3cc85",
   "metadata": {},
   "source": [
    "### `range()`"
   ]
  },
  {
   "cell_type": "markdown",
   "id": "cd8e3470",
   "metadata": {},
   "source": [
    "Related to creating a `list` or values to iterate over in a `for` loop, among other applications."
   ]
  },
  {
   "cell_type": "code",
   "execution_count": 11,
   "id": "9bd9057d",
   "metadata": {},
   "outputs": [
    {
     "name": "stdout",
     "output_type": "stream",
     "text": [
      "0\n",
      "1\n",
      "2\n",
      "3\n",
      "4\n"
     ]
    }
   ],
   "source": [
    "# Passing one argument\n",
    "# Assumes starting point is 0, and step is 1\n",
    "for i in range(5): # all the numbers up to, but not including 5 (similar to slicing)\n",
    "    print(i)"
   ]
  },
  {
   "cell_type": "code",
   "execution_count": 12,
   "id": "81299ed2",
   "metadata": {},
   "outputs": [
    {
     "name": "stdout",
     "output_type": "stream",
     "text": [
      "1\n",
      "2\n",
      "3\n",
      "4\n",
      "5\n"
     ]
    }
   ],
   "source": [
    "# Passing two arguments\n",
    "# Assumes step is 1\n",
    "for i in range(1, 6):\n",
    "    print(i)"
   ]
  },
  {
   "cell_type": "code",
   "execution_count": 15,
   "id": "615ef018",
   "metadata": {},
   "outputs": [
    {
     "name": "stdout",
     "output_type": "stream",
     "text": [
      "5\n",
      "4\n",
      "3\n",
      "2\n",
      "1\n"
     ]
    }
   ],
   "source": [
    "# Passing three arguments\n",
    "for i in range(5, 0, -1):\n",
    "    print(i)"
   ]
  },
  {
   "cell_type": "code",
   "execution_count": 16,
   "id": "662f9b43",
   "metadata": {},
   "outputs": [
    {
     "name": "stdout",
     "output_type": "stream",
     "text": [
      "0\n",
      "2\n",
      "4\n",
      "6\n",
      "8\n"
     ]
    }
   ],
   "source": [
    "# Another one with three arguments\n",
    "for i in range(0, 10, 2):\n",
    "    print(i)"
   ]
  },
  {
   "cell_type": "code",
   "execution_count": 17,
   "id": "02942213",
   "metadata": {},
   "outputs": [
    {
     "data": {
      "text/plain": [
       "range(0, 11, 2)"
      ]
     },
     "execution_count": 17,
     "metadata": {},
     "output_type": "execute_result"
    }
   ],
   "source": [
    "# Range is a generator (it generates the information instead of sending it to memory)\n",
    "range(0, 11, 2)"
   ]
  },
  {
   "cell_type": "code",
   "execution_count": 18,
   "id": "2ca68919",
   "metadata": {},
   "outputs": [
    {
     "data": {
      "text/plain": [
       "[0, 2, 4, 6, 8, 10]"
      ]
     },
     "execution_count": 18,
     "metadata": {},
     "output_type": "execute_result"
    }
   ],
   "source": [
    "# Cast into a list\n",
    "list(range(0, 11, 2))"
   ]
  },
  {
   "cell_type": "markdown",
   "id": "ee73924a",
   "metadata": {},
   "source": [
    "### `enumerate()`"
   ]
  },
  {
   "cell_type": "code",
   "execution_count": 19,
   "id": "5ecfa055",
   "metadata": {},
   "outputs": [
    {
     "name": "stdout",
     "output_type": "stream",
     "text": [
      "At index 0 the letter is a.\n",
      "At index 1 the letter is a.\n",
      "At index 2 the letter is a.\n",
      "At index 3 the letter is a.\n",
      "At index 4 the letter is a.\n"
     ]
    }
   ],
   "source": [
    "# Context\n",
    "index_count = 0\n",
    "\n",
    "for i in 'abcde':\n",
    "    print(\"At index {} the letter is {}.\".format(index_count, letter))\n",
    "    index_count += 1"
   ]
  },
  {
   "cell_type": "code",
   "execution_count": 20,
   "id": "97d9d814",
   "metadata": {},
   "outputs": [
    {
     "name": "stdout",
     "output_type": "stream",
     "text": [
      "At index 0 the letter is a.\n",
      "At index 1 the letter is b.\n",
      "At index 2 the letter is c.\n",
      "At index 3 the letter is d.\n",
      "At index 4 the letter is e.\n"
     ]
    }
   ],
   "source": [
    "# Simplify code using `enumerate()`\n",
    "for index, letter in enumerate(\"abcde\"): # (!) notice this includes tuple unpacking\n",
    "    print(\"At index {} the letter is {}.\".format(index, letter))"
   ]
  },
  {
   "cell_type": "markdown",
   "id": "43f0eb65",
   "metadata": {},
   "source": [
    "### `zip()`"
   ]
  },
  {
   "cell_type": "markdown",
   "id": "518174cc",
   "metadata": {},
   "source": [
    "This function creates pairs of values in two different lists, doing it index value by index value. Both lists need to have the same length. If lengths don't match, `zip()` joins up to the point where the shorter list if fully used."
   ]
  },
  {
   "cell_type": "code",
   "execution_count": 21,
   "id": "7380f828",
   "metadata": {},
   "outputs": [
    {
     "name": "stdout",
     "output_type": "stream",
     "text": [
      "(0, 'a')\n",
      "(1, 'b')\n",
      "(2, 'c')\n",
      "(3, 'd')\n",
      "(4, 'e')\n"
     ]
    }
   ],
   "source": [
    "# Example\n",
    "first_list = [0, 1, 2, 3, 4]\n",
    "second_list = list('abcde')\n",
    "\n",
    "for item in zip(first_list, second_list):\n",
    "    print(item)"
   ]
  },
  {
   "cell_type": "code",
   "execution_count": 22,
   "id": "40e49991",
   "metadata": {},
   "outputs": [
    {
     "data": {
      "text/plain": [
       "<zip at 0x1923b535080>"
      ]
     },
     "execution_count": 22,
     "metadata": {},
     "output_type": "execute_result"
    }
   ],
   "source": [
    "# It's a generator\n",
    "zip(first_list, second_list)"
   ]
  },
  {
   "cell_type": "markdown",
   "id": "d354ed01",
   "metadata": {},
   "source": [
    "`zip()` actually works with more than two lists."
   ]
  },
  {
   "cell_type": "code",
   "execution_count": 23,
   "id": "decc191f",
   "metadata": {},
   "outputs": [
    {
     "data": {
      "text/plain": [
       "[(0, 'a'), (1, 'b'), (2, 'c'), (3, 'd'), (4, 'e')]"
      ]
     },
     "execution_count": 23,
     "metadata": {},
     "output_type": "execute_result"
    }
   ],
   "source": [
    "# Cast into a list\n",
    "list(zip(first_list, second_list))"
   ]
  },
  {
   "cell_type": "markdown",
   "id": "bcb95321",
   "metadata": {},
   "source": [
    "### `in`"
   ]
  },
  {
   "cell_type": "markdown",
   "id": "da1816f7",
   "metadata": {},
   "source": [
    "It checks if an item is in a collection of items."
   ]
  },
  {
   "cell_type": "code",
   "execution_count": 24,
   "id": "49cbac5a",
   "metadata": {},
   "outputs": [
    {
     "data": {
      "text/plain": [
       "False"
      ]
     },
     "execution_count": 24,
     "metadata": {},
     "output_type": "execute_result"
    }
   ],
   "source": [
    "'x' in list(range(5))"
   ]
  },
  {
   "cell_type": "code",
   "execution_count": 25,
   "id": "9c4e8656",
   "metadata": {},
   "outputs": [
    {
     "data": {
      "text/plain": [
       "True"
      ]
     },
     "execution_count": 25,
     "metadata": {},
     "output_type": "execute_result"
    }
   ],
   "source": [
    "'x' in ['x', 'y', 'z']"
   ]
  },
  {
   "cell_type": "code",
   "execution_count": 26,
   "id": "4987132b",
   "metadata": {},
   "outputs": [
    {
     "data": {
      "text/plain": [
       "True"
      ]
     },
     "execution_count": 26,
     "metadata": {},
     "output_type": "execute_result"
    }
   ],
   "source": [
    "'x' in 'regex'"
   ]
  },
  {
   "cell_type": "code",
   "execution_count": 27,
   "id": "7af256a4",
   "metadata": {},
   "outputs": [
    {
     "data": {
      "text/plain": [
       "True"
      ]
     },
     "execution_count": 27,
     "metadata": {},
     "output_type": "execute_result"
    }
   ],
   "source": [
    "2 in list(range(5))"
   ]
  },
  {
   "cell_type": "code",
   "execution_count": 28,
   "id": "f8a63364",
   "metadata": {},
   "outputs": [
    {
     "data": {
      "text/plain": [
       "True"
      ]
     },
     "execution_count": 28,
     "metadata": {},
     "output_type": "execute_result"
    }
   ],
   "source": [
    "# It checks the keys of a dictionary\n",
    "'k2' in {'k1': 1,'k2': 2,'k3': 3}"
   ]
  },
  {
   "cell_type": "code",
   "execution_count": 31,
   "id": "23999f8f",
   "metadata": {},
   "outputs": [
    {
     "name": "stdout",
     "output_type": "stream",
     "text": [
      "False\n",
      "True\n",
      "False\n"
     ]
    }
   ],
   "source": [
    "diccio = {'k1': 1,'k2': 2,'k3': 3}\n",
    "\n",
    "print(2 in diccio)\n",
    "print(2 in diccio.values())\n",
    "print(2 in diccio.keys())"
   ]
  },
  {
   "cell_type": "markdown",
   "id": "02e3233a",
   "metadata": {},
   "source": [
    "### `min()`, `max()`"
   ]
  },
  {
   "cell_type": "code",
   "execution_count": 33,
   "id": "bcf0943c",
   "metadata": {},
   "outputs": [
    {
     "name": "stdout",
     "output_type": "stream",
     "text": [
      "10\n",
      "100\n"
     ]
    }
   ],
   "source": [
    "alist = [10, 20, 30, 40, 100]\n",
    "\n",
    "print(min(alist))\n",
    "print(max(alist))"
   ]
  },
  {
   "cell_type": "code",
   "execution_count": 34,
   "id": "a18137fe",
   "metadata": {},
   "outputs": [
    {
     "name": "stdout",
     "output_type": "stream",
     "text": [
      "10\n",
      "100\n"
     ]
    }
   ],
   "source": [
    "# With tuples?\n",
    "print(min(tuple(alist)))\n",
    "print(max(tuple(alist)))"
   ]
  },
  {
   "cell_type": "markdown",
   "id": "28589ad1",
   "metadata": {},
   "source": [
    "### `random` library"
   ]
  },
  {
   "cell_type": "markdown",
   "id": "546b3228",
   "metadata": {},
   "source": [
    "This is a built-in library."
   ]
  },
  {
   "cell_type": "code",
   "execution_count": 35,
   "id": "3d7ffe0c",
   "metadata": {},
   "outputs": [],
   "source": [
    "# Import a function from the library\n",
    "from random import shuffle"
   ]
  },
  {
   "cell_type": "code",
   "execution_count": 36,
   "id": "e81c82e7",
   "metadata": {},
   "outputs": [
    {
     "data": {
      "text/plain": [
       "[1, 2, 3, 4, 5, 6, 7, 8, 9, 10]"
      ]
     },
     "execution_count": 36,
     "metadata": {},
     "output_type": "execute_result"
    }
   ],
   "source": [
    "# Create an ordered list\n",
    "blist = list(range(1, 11))\n",
    "blist"
   ]
  },
  {
   "cell_type": "code",
   "execution_count": 37,
   "id": "cd7a12b2",
   "metadata": {},
   "outputs": [
    {
     "data": {
      "text/plain": [
       "[6, 7, 2, 10, 1, 8, 3, 9, 4, 5]"
      ]
     },
     "execution_count": 37,
     "metadata": {},
     "output_type": "execute_result"
    }
   ],
   "source": [
    "# Shuffle the list\n",
    "shuffle(blist) # it works in place !!!\n",
    "blist"
   ]
  },
  {
   "cell_type": "code",
   "execution_count": 38,
   "id": "b82f36de",
   "metadata": {},
   "outputs": [
    {
     "data": {
      "text/plain": [
       "[4, 3, 8, 1, 9, 7, 10, 5, 2, 6]"
      ]
     },
     "execution_count": 38,
     "metadata": {},
     "output_type": "execute_result"
    }
   ],
   "source": [
    "# Again, reshuffles\n",
    "shuffle(blist)\n",
    "blist"
   ]
  },
  {
   "cell_type": "code",
   "execution_count": 39,
   "id": "f31ee23f",
   "metadata": {},
   "outputs": [],
   "source": [
    "# Import another function\n",
    "from random import randint"
   ]
  },
  {
   "cell_type": "code",
   "execution_count": 40,
   "id": "e5b6e2c4",
   "metadata": {},
   "outputs": [
    {
     "data": {
      "text/plain": [
       "22"
      ]
     },
     "execution_count": 40,
     "metadata": {},
     "output_type": "execute_result"
    }
   ],
   "source": [
    "# Pick a random integer\n",
    "randint(0, 99) # bottom, top limits"
   ]
  },
  {
   "cell_type": "markdown",
   "id": "659aad4b",
   "metadata": {},
   "source": [
    "### `input()`"
   ]
  },
  {
   "cell_type": "code",
   "execution_count": 41,
   "id": "0156e3f8",
   "metadata": {},
   "outputs": [
    {
     "name": "stdout",
     "output_type": "stream",
     "text": [
      "Enter a number here: 10\n"
     ]
    },
    {
     "data": {
      "text/plain": [
       "'10'"
      ]
     },
     "execution_count": 41,
     "metadata": {},
     "output_type": "execute_result"
    }
   ],
   "source": [
    "input(\"Enter a number here: \")"
   ]
  },
  {
   "cell_type": "code",
   "execution_count": 42,
   "id": "1ae2f053",
   "metadata": {},
   "outputs": [
    {
     "name": "stdout",
     "output_type": "stream",
     "text": [
      "What's your name? Pepe\n"
     ]
    }
   ],
   "source": [
    "# Storing the input in a variable\n",
    "result = input(\"What's your name? \")"
   ]
  },
  {
   "cell_type": "code",
   "execution_count": 43,
   "id": "bdfc3fe8",
   "metadata": {},
   "outputs": [
    {
     "data": {
      "text/plain": [
       "'Pepe'"
      ]
     },
     "execution_count": 43,
     "metadata": {},
     "output_type": "execute_result"
    }
   ],
   "source": [
    "result"
   ]
  },
  {
   "cell_type": "markdown",
   "id": "37594049",
   "metadata": {},
   "source": [
    "This `input()` function only stores a `string` in the variable."
   ]
  },
  {
   "cell_type": "code",
   "execution_count": 44,
   "id": "a6f14096",
   "metadata": {},
   "outputs": [
    {
     "name": "stdout",
     "output_type": "stream",
     "text": [
      "Enter a number here: 1\n"
     ]
    }
   ],
   "source": [
    "user_input = input(\"Enter a number here: \")"
   ]
  },
  {
   "cell_type": "code",
   "execution_count": 45,
   "id": "49ce153c",
   "metadata": {},
   "outputs": [
    {
     "data": {
      "text/plain": [
       "'1'"
      ]
     },
     "execution_count": 45,
     "metadata": {},
     "output_type": "execute_result"
    }
   ],
   "source": [
    "user_input"
   ]
  },
  {
   "cell_type": "code",
   "execution_count": 46,
   "id": "6f847024",
   "metadata": {},
   "outputs": [
    {
     "data": {
      "text/plain": [
       "str"
      ]
     },
     "execution_count": 46,
     "metadata": {},
     "output_type": "execute_result"
    }
   ],
   "source": [
    "type(user_input)"
   ]
  },
  {
   "cell_type": "code",
   "execution_count": 47,
   "id": "9efb4123",
   "metadata": {},
   "outputs": [
    {
     "data": {
      "text/plain": [
       "1.0"
      ]
     },
     "execution_count": 47,
     "metadata": {},
     "output_type": "execute_result"
    }
   ],
   "source": [
    "# To have a number, cast the input into one\n",
    "float(user_input)"
   ]
  },
  {
   "cell_type": "markdown",
   "id": "8246f6d8",
   "metadata": {},
   "source": [
    "## 38 - List Comprehensions in Python"
   ]
  },
  {
   "cell_type": "markdown",
   "id": "e91ea926",
   "metadata": {},
   "source": [
    "They are a quick way of creating a `list` in Python, replacing a `for` loop containing an `append()` function inside."
   ]
  },
  {
   "cell_type": "code",
   "execution_count": 48,
   "id": "6fd3742c",
   "metadata": {},
   "outputs": [
    {
     "data": {
      "text/plain": [
       "['h', 'e', 'l', 'l', 'o']"
      ]
     },
     "execution_count": 48,
     "metadata": {},
     "output_type": "execute_result"
    }
   ],
   "source": [
    "# Create a `list` from a `string`\n",
    "# This can be simply done by casting, but for illustrative purposes:\n",
    "mystring = \"hello\"\n",
    "mylist= []\n",
    "\n",
    "for letter in mystring:\n",
    "    mylist.append(letter)\n",
    "    \n",
    "mylist"
   ]
  },
  {
   "cell_type": "code",
   "execution_count": 49,
   "id": "dea3ece8",
   "metadata": {},
   "outputs": [
    {
     "data": {
      "text/plain": [
       "['h', 'e', 'l', 'l', 'o']"
      ]
     },
     "execution_count": 49,
     "metadata": {},
     "output_type": "execute_result"
    }
   ],
   "source": [
    "# Simplify into a one-liner with list comprehension\n",
    "mylistagain = [letter for letter in mystring]\n",
    "mylistagain"
   ]
  },
  {
   "cell_type": "code",
   "execution_count": 50,
   "id": "93a3af6f",
   "metadata": {},
   "outputs": [
    {
     "data": {
      "text/plain": [
       "['h', 'l', 'l', 'o']"
      ]
     },
     "execution_count": 50,
     "metadata": {},
     "output_type": "execute_result"
    }
   ],
   "source": [
    "# Adding a condition\n",
    "mylistagain = [letter for letter in mystring if letter != 'e']\n",
    "mylistagain"
   ]
  },
  {
   "cell_type": "markdown",
   "id": "32aa0340",
   "metadata": {},
   "source": [
    "List comprehensions are flattened out for loops.\n",
    "\n",
    "Kind of generic syntax:\n",
    "\n",
    "`list` = [`element` for `element` in `iterable`]\n",
    "\n",
    "\n",
    "`element` must have the same name in both occurences. The first one is the occurrence that is going to be appended to the `list`. The second one is the occurrence grabbing the `element` from the `iterable` to do something with it.\n",
    "\n",
    "Operations can be applied to the first `element`. Conditions can be applied to the second `element`, writing them at the end of the line."
   ]
  },
  {
   "cell_type": "code",
   "execution_count": 51,
   "id": "f86d48d7",
   "metadata": {},
   "outputs": [
    {
     "data": {
      "text/plain": [
       "[0, 1, 2, 3, 4, 5, 6, 7, 8, 9, 10]"
      ]
     },
     "execution_count": 51,
     "metadata": {},
     "output_type": "execute_result"
    }
   ],
   "source": [
    "count_list = [num for num in range(0, 11)]\n",
    "count_list"
   ]
  },
  {
   "cell_type": "code",
   "execution_count": 52,
   "id": "250e27af",
   "metadata": {},
   "outputs": [
    {
     "data": {
      "text/plain": [
       "[0, 1, 4, 9, 16, 25, 36, 49, 64, 81, 100]"
      ]
     },
     "execution_count": 52,
     "metadata": {},
     "output_type": "execute_result"
    }
   ],
   "source": [
    "# Squares of those numbers in a list\n",
    "squared_list = [num ** 2 for num in range(0, 11)]\n",
    "squared_list"
   ]
  },
  {
   "cell_type": "code",
   "execution_count": 54,
   "id": "775f206c",
   "metadata": {},
   "outputs": [
    {
     "data": {
      "text/plain": [
       "[0, 2, 8, 18, 32, 50]"
      ]
     },
     "execution_count": 54,
     "metadata": {},
     "output_type": "execute_result"
    }
   ],
   "source": [
    "# Pick the even number to operate and append\n",
    "another_list = [int(0.5 * num ** 2) for num in range(0, 11) if num % 2 == 0]\n",
    "another_list"
   ]
  },
  {
   "cell_type": "code",
   "execution_count": 57,
   "id": "eedfeb64",
   "metadata": {},
   "outputs": [
    {
     "name": "stdout",
     "output_type": "stream",
     "text": [
      "0 °C\tis equal to 32.0 °F.\n",
      "10 °C\tis equal to 50.0 °F.\n",
      "20 °C\tis equal to 68.0 °F.\n",
      "34.5 °C\tis equal to 94.1 °F.\n"
     ]
    }
   ],
   "source": [
    "# Example with temperature unit conversion\n",
    "celsius = [0, 10, 20, 34.5]\n",
    "farenheit = [((9 / 5) * temp + 32) for temp in celsius]\n",
    "\n",
    "for c, f in zip(celsius, farenheit):\n",
    "    print(f\"{c} °C\\tis equal to {f} °F.\")"
   ]
  },
  {
   "cell_type": "code",
   "execution_count": 58,
   "id": "a1f2af9e",
   "metadata": {},
   "outputs": [
    {
     "data": {
      "text/plain": [
       "[0, 'Odd.', 2, 'Odd.', 4, 'Odd.', 6, 'Odd.', 8, 'Odd.', 10]"
      ]
     },
     "execution_count": 58,
     "metadata": {},
     "output_type": "execute_result"
    }
   ],
   "source": [
    "# More complex, kind of unreadable list comprehensions\n",
    "results = [x if x % 2 == 0 else 'Odd.' for x in range(0, 11)]\n",
    "results"
   ]
  },
  {
   "cell_type": "markdown",
   "id": "16a7fdbc",
   "metadata": {},
   "source": [
    "Prioritize readability and reproducibility. List comprehensions one-liners can become quite cryptic if not kept simple."
   ]
  },
  {
   "cell_type": "markdown",
   "id": "4b8a8cb0",
   "metadata": {},
   "source": [
    "#### List comprehensions with nested loops"
   ]
  },
  {
   "cell_type": "code",
   "execution_count": 60,
   "id": "37720b77",
   "metadata": {},
   "outputs": [
    {
     "data": {
      "text/plain": [
       "[2, 20, 200, 4, 40, 400, 6, 60, 600]"
      ]
     },
     "execution_count": 60,
     "metadata": {},
     "output_type": "execute_result"
    }
   ],
   "source": [
    "mylist = []\n",
    "\n",
    "for x in [2, 4, 6]:\n",
    "    for y in [1, 10, 100]:\n",
    "        mylist.append(x * y)\n",
    "\n",
    "mylist"
   ]
  },
  {
   "cell_type": "code",
   "execution_count": 62,
   "id": "5271ec28",
   "metadata": {},
   "outputs": [
    {
     "data": {
      "text/plain": [
       "[2, 20, 200, 4, 40, 400, 6, 60, 600]"
      ]
     },
     "execution_count": 62,
     "metadata": {},
     "output_type": "execute_result"
    }
   ],
   "source": [
    "# The same, but with list comprehensions\n",
    "mylist = [x * y for x in [2, 4, 6] for y in [1, 10, 100]]\n",
    "mylist"
   ]
  }
 ],
 "metadata": {
  "kernelspec": {
   "display_name": "Python 3 (ipykernel)",
   "language": "python",
   "name": "python3"
  },
  "language_info": {
   "codemirror_mode": {
    "name": "ipython",
    "version": 3
   },
   "file_extension": ".py",
   "mimetype": "text/x-python",
   "name": "python",
   "nbconvert_exporter": "python",
   "pygments_lexer": "ipython3",
   "version": "3.11.5"
  }
 },
 "nbformat": 4,
 "nbformat_minor": 5
}
