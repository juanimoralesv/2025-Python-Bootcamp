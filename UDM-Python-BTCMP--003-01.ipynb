{
 "cells": [
  {
   "cell_type": "markdown",
   "id": "4624bdca",
   "metadata": {},
   "source": [
    "## 11 - Data Types"
   ]
  },
  {
   "cell_type": "markdown",
   "id": "fb4bf5ff",
   "metadata": {},
   "source": [
    "| Name        | Type | Description                                                                |\n",
    "|-------------|------|-------------------------------------------------------------------------|\n",
    "| Integers    | int  | Whole numbers, such as: 3 300 200                                   |\n",
    "| Floating point | float | Numbers with a decimal point: 2.3 4.6 100.0                     |\n",
    "| Strings     | str  | Ordered sequence of characters: \"hello\" \"Sammy\" \"2000\" \"¡sí!\"       |\n",
    "| Lists       | list | Ordered sequence of objects: [10,\"hello\",200,3]                     |\n",
    "| Dictionaries| dict | Unordered Key:Value pairs: {\"mykey\":\"value\",\"name\":\"Frankie\"}      |\n",
    "| Tuples      | tup  | Ordered immutable sequence of objects: (10,\"hello\",200,3)          |\n",
    "| Sets        | set  | Unordered collection of unique objects: {\"a\",\"b\"}                   |\n",
    "| Booleans    | bool | Logical value indicating True or False                              |"
   ]
  },
  {
   "cell_type": "markdown",
   "id": "112e87b5",
   "metadata": {},
   "source": [
    "## 12 - Python Numbers"
   ]
  },
  {
   "cell_type": "code",
   "execution_count": 1,
   "id": "a720a433",
   "metadata": {},
   "outputs": [
    {
     "data": {
      "text/plain": [
       "3"
      ]
     },
     "execution_count": 1,
     "metadata": {},
     "output_type": "execute_result"
    }
   ],
   "source": [
    "2 + 1"
   ]
  },
  {
   "cell_type": "code",
   "execution_count": 2,
   "id": "aadc2446",
   "metadata": {},
   "outputs": [
    {
     "data": {
      "text/plain": [
       "1"
      ]
     },
     "execution_count": 2,
     "metadata": {},
     "output_type": "execute_result"
    }
   ],
   "source": [
    "2 - 1"
   ]
  },
  {
   "cell_type": "code",
   "execution_count": 3,
   "id": "a9d3426e",
   "metadata": {},
   "outputs": [
    {
     "data": {
      "text/plain": [
       "4"
      ]
     },
     "execution_count": 3,
     "metadata": {},
     "output_type": "execute_result"
    }
   ],
   "source": [
    "2 * 2"
   ]
  },
  {
   "cell_type": "code",
   "execution_count": 4,
   "id": "95db9e14",
   "metadata": {},
   "outputs": [
    {
     "data": {
      "text/plain": [
       "1.5"
      ]
     },
     "execution_count": 4,
     "metadata": {},
     "output_type": "execute_result"
    }
   ],
   "source": [
    "3 / 2"
   ]
  },
  {
   "cell_type": "code",
   "execution_count": 5,
   "id": "edfc686b",
   "metadata": {},
   "outputs": [
    {
     "data": {
      "text/plain": [
       "3"
      ]
     },
     "execution_count": 5,
     "metadata": {},
     "output_type": "execute_result"
    }
   ],
   "source": [
    "# Modulo or mod operator\n",
    "7 % 4"
   ]
  },
  {
   "cell_type": "code",
   "execution_count": 6,
   "id": "64fc5dd3",
   "metadata": {},
   "outputs": [
    {
     "name": "stdout",
     "output_type": "stream",
     "text": [
      "3 is the remainder of 3 / 4\n"
     ]
    }
   ],
   "source": [
    "# Modulo or Mod operator\n",
    "print(3 % 4, 'is the remainder of 3 / 4')"
   ]
  },
  {
   "cell_type": "markdown",
   "id": "811d943f",
   "metadata": {},
   "source": [
    "Useful to check if a number is divisible by another, or if it's even or not."
   ]
  },
  {
   "cell_type": "code",
   "execution_count": 7,
   "id": "1e8c5aba",
   "metadata": {},
   "outputs": [
    {
     "data": {
      "text/plain": [
       "1"
      ]
     },
     "execution_count": 7,
     "metadata": {},
     "output_type": "execute_result"
    }
   ],
   "source": [
    "23 % 2"
   ]
  },
  {
   "cell_type": "code",
   "execution_count": 8,
   "id": "feebdc09",
   "metadata": {},
   "outputs": [
    {
     "data": {
      "text/plain": [
       "0"
      ]
     },
     "execution_count": 8,
     "metadata": {},
     "output_type": "execute_result"
    }
   ],
   "source": [
    "20 % 2"
   ]
  },
  {
   "cell_type": "code",
   "execution_count": 9,
   "id": "b5a591be",
   "metadata": {},
   "outputs": [
    {
     "name": "stdout",
     "output_type": "stream",
     "text": [
      "8\n"
     ]
    }
   ],
   "source": [
    "# Powers\n",
    "print(2 ** 3)"
   ]
  },
  {
   "cell_type": "code",
   "execution_count": 10,
   "id": "0df4d340",
   "metadata": {},
   "outputs": [
    {
     "name": "stdout",
     "output_type": "stream",
     "text": [
      "2 + 10 * 10 + 3 = 105\n"
     ]
    }
   ],
   "source": [
    "# 'Complex' operations\n",
    "print('2 + 10 * 10 + 3 =', 2 + 10 * 10 + 3)"
   ]
  },
  {
   "cell_type": "code",
   "execution_count": 11,
   "id": "05a5dce1",
   "metadata": {},
   "outputs": [
    {
     "name": "stdout",
     "output_type": "stream",
     "text": [
      "(2 + 10) * (10 + 3) = 156\n"
     ]
    }
   ],
   "source": [
    "print('(2 + 10) * (10 + 3) =', (2 + 10) * (10 + 3))"
   ]
  },
  {
   "cell_type": "markdown",
   "id": "f3579001",
   "metadata": {},
   "source": [
    "## XX - Exercise"
   ]
  },
  {
   "cell_type": "code",
   "execution_count": 12,
   "id": "d14b068e",
   "metadata": {},
   "outputs": [
    {
     "data": {
      "text/plain": [
       "100.0"
      ]
     },
     "execution_count": 12,
     "metadata": {},
     "output_type": "execute_result"
    }
   ],
   "source": [
    "# Expression that results in 100\n",
    "((12 ** 2 - 12 * 4 + 5) % 2 + 299) / 3"
   ]
  },
  {
   "cell_type": "markdown",
   "id": "372cddd0",
   "metadata": {},
   "source": [
    "## 13 - FAQ Numbers"
   ]
  },
  {
   "cell_type": "code",
   "execution_count": 13,
   "id": "54a64e66",
   "metadata": {},
   "outputs": [
    {
     "name": "stdout",
     "output_type": "stream",
     "text": [
      "0.1 + 0.2 - 0.3 = 5.551115123125783e-17\n"
     ]
    }
   ],
   "source": [
    "print('0.1 + 0.2 - 0.3 =', 0.1 + 0.2 - 0.3)"
   ]
  },
  {
   "cell_type": "markdown",
   "id": "65fa10a3",
   "metadata": {},
   "source": [
    "See: https://docs.python.org/2/tutorial/floatingpoint.html"
   ]
  },
  {
   "cell_type": "markdown",
   "id": "9d4ef981",
   "metadata": {},
   "source": [
    "## 14 - Variable Assignment"
   ]
  },
  {
   "cell_type": "markdown",
   "id": "601fc0a5",
   "metadata": {},
   "source": [
    "In `Python` variables can't have names starting with numbers, nor have blanks (use underscore instead), nor have any of these symbols: :'\",<>\\/?\\\\|()!@#$%^&*~-+. Best practices (PEP8), lowercase. Avoid built-in keywords."
   ]
  },
  {
   "cell_type": "markdown",
   "id": "44b5dcda",
   "metadata": {},
   "source": [
    "`Python` uses dynamic typing, meaning that the type of data a variable contains can be easily changed, which is not the case in other programming languages.\n",
    "- Beware of the wrong data type leaking into some part of the program where it shouldn't reach."
   ]
  },
  {
   "cell_type": "code",
   "execution_count": 1,
   "id": "74db0226",
   "metadata": {},
   "outputs": [],
   "source": [
    "a = 5"
   ]
  },
  {
   "cell_type": "code",
   "execution_count": 2,
   "id": "a7031dbf",
   "metadata": {},
   "outputs": [
    {
     "data": {
      "text/plain": [
       "5"
      ]
     },
     "execution_count": 2,
     "metadata": {},
     "output_type": "execute_result"
    }
   ],
   "source": [
    "a"
   ]
  },
  {
   "cell_type": "code",
   "execution_count": 3,
   "id": "b10270ec",
   "metadata": {},
   "outputs": [
    {
     "data": {
      "text/plain": [
       "10"
      ]
     },
     "execution_count": 3,
     "metadata": {},
     "output_type": "execute_result"
    }
   ],
   "source": [
    "a = 10\n",
    "a"
   ]
  },
  {
   "cell_type": "code",
   "execution_count": 4,
   "id": "1e0fe897",
   "metadata": {},
   "outputs": [
    {
     "data": {
      "text/plain": [
       "20"
      ]
     },
     "execution_count": 4,
     "metadata": {},
     "output_type": "execute_result"
    }
   ],
   "source": [
    "# Reassignment self-referencing the object\n",
    "a = a + a\n",
    "a"
   ]
  },
  {
   "cell_type": "code",
   "execution_count": 5,
   "id": "3da7393a",
   "metadata": {},
   "outputs": [
    {
     "data": {
      "text/plain": [
       "int"
      ]
     },
     "execution_count": 5,
     "metadata": {},
     "output_type": "execute_result"
    }
   ],
   "source": [
    "# Check data type\n",
    "type(a)"
   ]
  },
  {
   "cell_type": "code",
   "execution_count": 6,
   "id": "28f5af89",
   "metadata": {},
   "outputs": [
    {
     "data": {
      "text/plain": [
       "float"
      ]
     },
     "execution_count": 6,
     "metadata": {},
     "output_type": "execute_result"
    }
   ],
   "source": [
    "a = 30.1\n",
    "type(a)"
   ]
  },
  {
   "cell_type": "code",
   "execution_count": null,
   "id": "76c6604e",
   "metadata": {},
   "outputs": [],
   "source": [
    "int = 4 # See that int is highlighted, because it's a keyword."
   ]
  },
  {
   "cell_type": "code",
   "execution_count": 7,
   "id": "6edf184c",
   "metadata": {},
   "outputs": [
    {
     "data": {
      "text/plain": [
       "10.0"
      ]
     },
     "execution_count": 7,
     "metadata": {},
     "output_type": "execute_result"
    }
   ],
   "source": [
    "# Operations using variables\n",
    "my_income = 100\n",
    "tax_rate = 0.1\n",
    "my_taxes = my_income * tax_rate\n",
    "my_taxes"
   ]
  },
  {
   "cell_type": "markdown",
   "id": "6b2ea03b",
   "metadata": {},
   "source": [
    "## 15 - Introduction to Strings"
   ]
  },
  {
   "cell_type": "markdown",
   "id": "d3b75292",
   "metadata": {},
   "source": [
    "Chains of characters inside single or double quotes. Because they are ordered, they allow for slicing, using indexing (or reverse indexing).\n",
    "- string_variable[index] (for indexing)\n",
    "- string_variable[start:stop:step]"
   ]
  },
  {
   "cell_type": "code",
   "execution_count": 9,
   "id": "06192241",
   "metadata": {
    "scrolled": true
   },
   "outputs": [
    {
     "data": {
      "text/plain": [
       "'hello world'"
      ]
     },
     "execution_count": 9,
     "metadata": {},
     "output_type": "execute_result"
    }
   ],
   "source": [
    "'hello'+\" world\""
   ]
  },
  {
   "cell_type": "code",
   "execution_count": 10,
   "id": "c5f30612",
   "metadata": {},
   "outputs": [
    {
     "data": {
      "text/plain": [
       "\"I'm going on a run.\""
      ]
     },
     "execution_count": 10,
     "metadata": {},
     "output_type": "execute_result"
    }
   ],
   "source": [
    "\"I'm going on a run.\""
   ]
  },
  {
   "cell_type": "code",
   "execution_count": 11,
   "id": "4bd6c208",
   "metadata": {},
   "outputs": [
    {
     "name": "stdout",
     "output_type": "stream",
     "text": [
      "Hello!\n"
     ]
    }
   ],
   "source": [
    "# Printing, so the quotes aren't included\n",
    "print(\"Hello!\")"
   ]
  },
  {
   "cell_type": "code",
   "execution_count": 12,
   "id": "86abb061",
   "metadata": {},
   "outputs": [
    {
     "data": {
      "text/plain": [
       "'Hello, world two!'"
      ]
     },
     "execution_count": 12,
     "metadata": {},
     "output_type": "execute_result"
    }
   ],
   "source": [
    "# Only the last string is shown\n",
    "\"Hello, world one!\"\n",
    "\"Hello, world two!\""
   ]
  },
  {
   "cell_type": "code",
   "execution_count": 13,
   "id": "2e0d1616",
   "metadata": {},
   "outputs": [
    {
     "name": "stdout",
     "output_type": "stream",
     "text": [
      "Hello, world one!\n",
      "Hello, world two!\n"
     ]
    }
   ],
   "source": [
    "# Using print shows both\n",
    "print(\"Hello, world one!\")\n",
    "print(\"Hello, world two!\")"
   ]
  },
  {
   "cell_type": "code",
   "execution_count": 14,
   "id": "c74e0101",
   "metadata": {},
   "outputs": [
    {
     "name": "stdout",
     "output_type": "stream",
     "text": [
      "Hello, \n",
      " world!\n"
     ]
    }
   ],
   "source": [
    "# Escape sequences\n",
    "print(\"Hello, \\n world!\") # \\n -> new line"
   ]
  },
  {
   "cell_type": "code",
   "execution_count": 15,
   "id": "95936958",
   "metadata": {},
   "outputs": [
    {
     "name": "stdout",
     "output_type": "stream",
     "text": [
      "Hello, \n",
      "world!\n"
     ]
    }
   ],
   "source": [
    "# Escape sequences\n",
    "print(\"Hello, \\nworld!\") # \\n -> new line"
   ]
  },
  {
   "cell_type": "code",
   "execution_count": 16,
   "id": "c42b01e0",
   "metadata": {},
   "outputs": [
    {
     "name": "stdout",
     "output_type": "stream",
     "text": [
      "Hello, \t world!\n"
     ]
    }
   ],
   "source": [
    "# Escape sequences\n",
    "print(\"Hello, \\t world!\") # \\t -> tab"
   ]
  },
  {
   "cell_type": "code",
   "execution_count": 17,
   "id": "fffefad1",
   "metadata": {},
   "outputs": [
    {
     "data": {
      "text/plain": [
       "13"
      ]
     },
     "execution_count": 17,
     "metadata": {},
     "output_type": "execute_result"
    }
   ],
   "source": [
    "# length function\n",
    "len(\"Hello, world!\")"
   ]
  },
  {
   "cell_type": "markdown",
   "id": "a0c2d1dc",
   "metadata": {},
   "source": [
    "## 16 - Indexing and Slicing with Strings"
   ]
  },
  {
   "cell_type": "code",
   "execution_count": 1,
   "id": "61832016",
   "metadata": {},
   "outputs": [
    {
     "data": {
      "text/plain": [
       "'Hello, world!'"
      ]
     },
     "execution_count": 1,
     "metadata": {},
     "output_type": "execute_result"
    }
   ],
   "source": [
    "mystring = \"Hello, world!\"\n",
    "mystring"
   ]
  },
  {
   "cell_type": "code",
   "execution_count": 2,
   "id": "40a276cb",
   "metadata": {},
   "outputs": [
    {
     "data": {
      "text/plain": [
       "'H'"
      ]
     },
     "execution_count": 2,
     "metadata": {},
     "output_type": "execute_result"
    }
   ],
   "source": [
    "# Grab a character, indexing\n",
    "mystring[0]"
   ]
  },
  {
   "cell_type": "code",
   "execution_count": 4,
   "id": "9431efb9",
   "metadata": {},
   "outputs": [
    {
     "data": {
      "text/plain": [
       "'d'"
      ]
     },
     "execution_count": 4,
     "metadata": {},
     "output_type": "execute_result"
    }
   ],
   "source": [
    "# Backward indexing\n",
    "mystring[-2]"
   ]
  },
  {
   "cell_type": "code",
   "execution_count": 3,
   "id": "9ebdccbd",
   "metadata": {},
   "outputs": [
    {
     "data": {
      "text/plain": [
       "'!dlrow ,olleH'"
      ]
     },
     "execution_count": 3,
     "metadata": {},
     "output_type": "execute_result"
    }
   ],
   "source": [
    "# Magic slicing\n",
    "mystring[::-1]"
   ]
  },
  {
   "cell_type": "code",
   "execution_count": 5,
   "id": "fcdc0e95",
   "metadata": {},
   "outputs": [
    {
     "data": {
      "text/plain": [
       "'abcdefghijk'"
      ]
     },
     "execution_count": 5,
     "metadata": {},
     "output_type": "execute_result"
    }
   ],
   "source": [
    "mystring = \"abcdefghijk\"\n",
    "mystring"
   ]
  },
  {
   "cell_type": "markdown",
   "id": "07ffea81",
   "metadata": {},
   "source": [
    "#### Slicing\n",
    "**It returns a portion of the string.**\n",
    "\n",
    "string_variable[start : stop : step]\n",
    "\n",
    "The stop index is not including. So, if stop = index 3, last character will be the one in index 2."
   ]
  },
  {
   "cell_type": "code",
   "execution_count": 6,
   "id": "402c9d60",
   "metadata": {
    "scrolled": true
   },
   "outputs": [
    {
     "data": {
      "text/plain": [
       "'cdefghijk'"
      ]
     },
     "execution_count": 6,
     "metadata": {},
     "output_type": "execute_result"
    }
   ],
   "source": [
    "mystring[2:]"
   ]
  },
  {
   "cell_type": "code",
   "execution_count": 7,
   "id": "d9a9a43c",
   "metadata": {},
   "outputs": [
    {
     "data": {
      "text/plain": [
       "'ab'"
      ]
     },
     "execution_count": 7,
     "metadata": {},
     "output_type": "execute_result"
    }
   ],
   "source": [
    "mystring[:2]"
   ]
  },
  {
   "cell_type": "code",
   "execution_count": 8,
   "id": "3d8a6b26",
   "metadata": {},
   "outputs": [
    {
     "data": {
      "text/plain": [
       "'cde'"
      ]
     },
     "execution_count": 8,
     "metadata": {},
     "output_type": "execute_result"
    }
   ],
   "source": [
    "mystring[2:5]"
   ]
  },
  {
   "cell_type": "code",
   "execution_count": 9,
   "id": "89a77a3f",
   "metadata": {},
   "outputs": [
    {
     "data": {
      "text/plain": [
       "'acegik'"
      ]
     },
     "execution_count": 9,
     "metadata": {},
     "output_type": "execute_result"
    }
   ],
   "source": [
    "mystring[::2]"
   ]
  },
  {
   "cell_type": "markdown",
   "id": "1ffe390d",
   "metadata": {},
   "source": [
    "## 17 - Indexing Properties and Methods"
   ]
  },
  {
   "cell_type": "markdown",
   "id": "84ea82e9",
   "metadata": {},
   "source": [
    "#### Immutability"
   ]
  },
  {
   "cell_type": "code",
   "execution_count": 10,
   "id": "63004513",
   "metadata": {},
   "outputs": [],
   "source": [
    "name = \"Sam\""
   ]
  },
  {
   "cell_type": "code",
   "execution_count": 11,
   "id": "206e8c69",
   "metadata": {},
   "outputs": [
    {
     "ename": "TypeError",
     "evalue": "'str' object does not support item assignment",
     "output_type": "error",
     "traceback": [
      "\u001b[1;31m---------------------------------------------------------------------------\u001b[0m",
      "\u001b[1;31mTypeError\u001b[0m                                 Traceback (most recent call last)",
      "Cell \u001b[1;32mIn[11], line 1\u001b[0m\n\u001b[1;32m----> 1\u001b[0m name[\u001b[38;5;241m0\u001b[39m] \u001b[38;5;241m=\u001b[39m \u001b[38;5;124m\"\u001b[39m\u001b[38;5;124mP\u001b[39m\u001b[38;5;124m\"\u001b[39m\n",
      "\u001b[1;31mTypeError\u001b[0m: 'str' object does not support item assignment"
     ]
    }
   ],
   "source": [
    "name[0] = \"P\""
   ]
  },
  {
   "cell_type": "code",
   "execution_count": 13,
   "id": "6bb8f557",
   "metadata": {},
   "outputs": [
    {
     "data": {
      "text/plain": [
       "'am'"
      ]
     },
     "execution_count": 13,
     "metadata": {},
     "output_type": "execute_result"
    }
   ],
   "source": [
    "last_letters = name[1:]\n",
    "last_letters"
   ]
  },
  {
   "cell_type": "markdown",
   "id": "4f7793aa",
   "metadata": {},
   "source": [
    "#### Concatenation"
   ]
  },
  {
   "cell_type": "code",
   "execution_count": 15,
   "id": "47015bce",
   "metadata": {},
   "outputs": [
    {
     "data": {
      "text/plain": [
       "'Pam'"
      ]
     },
     "execution_count": 15,
     "metadata": {},
     "output_type": "execute_result"
    }
   ],
   "source": [
    "\"P\" + last_letters"
   ]
  },
  {
   "cell_type": "code",
   "execution_count": 16,
   "id": "b0fff1fb",
   "metadata": {},
   "outputs": [
    {
     "data": {
      "text/plain": [
       "'Hello, World!'"
      ]
     },
     "execution_count": 16,
     "metadata": {},
     "output_type": "execute_result"
    }
   ],
   "source": [
    "x = \"Hello, World!\"\n",
    "x"
   ]
  },
  {
   "cell_type": "code",
   "execution_count": 18,
   "id": "81e338c2",
   "metadata": {},
   "outputs": [
    {
     "data": {
      "text/plain": [
       "'Hello, World! It is beautiful outside!'"
      ]
     },
     "execution_count": 18,
     "metadata": {},
     "output_type": "execute_result"
    }
   ],
   "source": [
    "x + \" It is beautiful outside!\""
   ]
  },
  {
   "cell_type": "markdown",
   "id": "18cc7d67",
   "metadata": {},
   "source": [
    "#### Multiplication"
   ]
  },
  {
   "cell_type": "code",
   "execution_count": 19,
   "id": "a68d7cde",
   "metadata": {},
   "outputs": [
    {
     "data": {
      "text/plain": [
       "'z'"
      ]
     },
     "execution_count": 19,
     "metadata": {},
     "output_type": "execute_result"
    }
   ],
   "source": [
    "letter = \"z\"\n",
    "letter"
   ]
  },
  {
   "cell_type": "code",
   "execution_count": 20,
   "id": "bd38f253",
   "metadata": {},
   "outputs": [
    {
     "data": {
      "text/plain": [
       "'zzzzzzzzzz'"
      ]
     },
     "execution_count": 20,
     "metadata": {},
     "output_type": "execute_result"
    }
   ],
   "source": [
    "letter * 10"
   ]
  },
  {
   "cell_type": "markdown",
   "id": "aa5beb32",
   "metadata": {},
   "source": [
    "#### Careful!"
   ]
  },
  {
   "cell_type": "code",
   "execution_count": 21,
   "id": "53bba02e",
   "metadata": {},
   "outputs": [
    {
     "data": {
      "text/plain": [
       "5"
      ]
     },
     "execution_count": 21,
     "metadata": {},
     "output_type": "execute_result"
    }
   ],
   "source": [
    " 2 + 3"
   ]
  },
  {
   "cell_type": "code",
   "execution_count": 22,
   "id": "e5d239a4",
   "metadata": {},
   "outputs": [
    {
     "data": {
      "text/plain": [
       "'23'"
      ]
     },
     "execution_count": 22,
     "metadata": {},
     "output_type": "execute_result"
    }
   ],
   "source": [
    "\"2\" + \"3\""
   ]
  },
  {
   "cell_type": "markdown",
   "id": "c3acc0df",
   "metadata": {},
   "source": [
    "#### String Methods"
   ]
  },
  {
   "cell_type": "code",
   "execution_count": 23,
   "id": "f3d5d42b",
   "metadata": {},
   "outputs": [],
   "source": [
    "x = \"Hello, world!\""
   ]
  },
  {
   "cell_type": "code",
   "execution_count": 24,
   "id": "18b2369e",
   "metadata": {},
   "outputs": [
    {
     "data": {
      "text/plain": [
       "'HELLO, WORLD!'"
      ]
     },
     "execution_count": 24,
     "metadata": {},
     "output_type": "execute_result"
    }
   ],
   "source": [
    "x.upper()"
   ]
  },
  {
   "cell_type": "code",
   "execution_count": 25,
   "id": "d8e68758",
   "metadata": {},
   "outputs": [
    {
     "data": {
      "text/plain": [
       "'hello, world!'"
      ]
     },
     "execution_count": 25,
     "metadata": {},
     "output_type": "execute_result"
    }
   ],
   "source": [
    "x.lower()"
   ]
  },
  {
   "cell_type": "markdown",
   "id": "70efae72",
   "metadata": {},
   "source": [
    "These are not \"in place\". The methods don't modify the value of the string variable. For that, reassignment."
   ]
  },
  {
   "cell_type": "code",
   "execution_count": 26,
   "id": "0d6cbebd",
   "metadata": {},
   "outputs": [
    {
     "data": {
      "text/plain": [
       "['Hello', ' world!']"
      ]
     },
     "execution_count": 26,
     "metadata": {},
     "output_type": "execute_result"
    }
   ],
   "source": [
    "x.split(',')"
   ]
  },
  {
   "cell_type": "code",
   "execution_count": 27,
   "id": "3b19a4a1",
   "metadata": {},
   "outputs": [
    {
     "data": {
      "text/plain": [
       "'Hi, this is a string!'"
      ]
     },
     "execution_count": 27,
     "metadata": {},
     "output_type": "execute_result"
    }
   ],
   "source": [
    "x = \"Hi, this is a string!\"\n",
    "x"
   ]
  },
  {
   "cell_type": "code",
   "execution_count": 28,
   "id": "744ebd91",
   "metadata": {},
   "outputs": [
    {
     "data": {
      "text/plain": [
       "['H', ', th', 's ', 's a str', 'ng!']"
      ]
     },
     "execution_count": 28,
     "metadata": {},
     "output_type": "execute_result"
    }
   ],
   "source": [
    "x.split(\"i\")"
   ]
  },
  {
   "cell_type": "markdown",
   "id": "2d05966a",
   "metadata": {},
   "source": [
    "## 19 - Print Formatting with Strings"
   ]
  },
  {
   "cell_type": "markdown",
   "id": "787e1c57",
   "metadata": {},
   "source": [
    "Inject a variables into a string. String formatting is known as string interpolation.\n",
    "\n",
    "Here the presented ways to do this are:\n",
    "- .format()\n",
    "- f-strings (formatted string literals)"
   ]
  },
  {
   "cell_type": "markdown",
   "id": "7c53123c",
   "metadata": {},
   "source": [
    "### .format()"
   ]
  },
  {
   "cell_type": "code",
   "execution_count": 1,
   "id": "fd0abd74",
   "metadata": {},
   "outputs": [
    {
     "name": "stdout",
     "output_type": "stream",
     "text": [
      "This is a string INSERTED\n"
     ]
    }
   ],
   "source": [
    "print(\"This is a string {}\".format(\"INSERTED\"))"
   ]
  },
  {
   "cell_type": "code",
   "execution_count": 2,
   "id": "310d0ccd",
   "metadata": {},
   "outputs": [
    {
     "name": "stdout",
     "output_type": "stream",
     "text": [
      "The fox brown quick\n"
     ]
    }
   ],
   "source": [
    "# Insert in order of appearance\n",
    "print(\"The {} {} {}\".format(\"fox\", \"brown\", \"quick\"))"
   ]
  },
  {
   "cell_type": "code",
   "execution_count": 3,
   "id": "8d3b1a53",
   "metadata": {},
   "outputs": [
    {
     "name": "stdout",
     "output_type": "stream",
     "text": [
      "The quick brown fox\n"
     ]
    }
   ],
   "source": [
    "# Insert accoding to indexing\n",
    "print(\"The {2} {1} {0}\".format(\"fox\", \"brown\", \"quick\"))"
   ]
  },
  {
   "cell_type": "code",
   "execution_count": 4,
   "id": "25c87bb4",
   "metadata": {},
   "outputs": [
    {
     "name": "stdout",
     "output_type": "stream",
     "text": [
      "The fox fox fox\n"
     ]
    }
   ],
   "source": [
    "# Repeatable indexes\n",
    "print(\"The {0} {0} {0}\".format(\"fox\", \"brown\", \"quick\"))"
   ]
  },
  {
   "cell_type": "code",
   "execution_count": 5,
   "id": "bc747825",
   "metadata": {},
   "outputs": [
    {
     "name": "stdout",
     "output_type": "stream",
     "text": [
      "The quick brown fox\n"
     ]
    }
   ],
   "source": [
    "# Insert according to naming\n",
    "print(\"The {q} {b} {f}\".format(f = \"fox\", b = \"brown\", q = \"quick\"))"
   ]
  },
  {
   "cell_type": "code",
   "execution_count": 6,
   "id": "4f96cd9d",
   "metadata": {},
   "outputs": [
    {
     "name": "stdout",
     "output_type": "stream",
     "text": [
      "The fox fox fox\n"
     ]
    }
   ],
   "source": [
    "# Repeatable names\n",
    "print(\"The {f} {f} {f}\".format(f = \"fox\", b = \"brown\", q = \"quick\"))"
   ]
  },
  {
   "cell_type": "markdown",
   "id": "5f734b60",
   "metadata": {},
   "source": [
    "### .format() for float formatting"
   ]
  },
  {
   "cell_type": "code",
   "execution_count": 8,
   "id": "ae95818d",
   "metadata": {},
   "outputs": [
    {
     "data": {
      "text/plain": [
       "0.1287001287001287"
      ]
     },
     "execution_count": 8,
     "metadata": {},
     "output_type": "execute_result"
    }
   ],
   "source": [
    "result = 100 / 777\n",
    "result"
   ]
  },
  {
   "cell_type": "code",
   "execution_count": 9,
   "id": "9c152fc0",
   "metadata": {},
   "outputs": [
    {
     "name": "stdout",
     "output_type": "stream",
     "text": [
      "The result was 0.1287001287001287\n"
     ]
    }
   ],
   "source": [
    "# Simply inject the float\n",
    "print(\"The result was {}\".format(result))"
   ]
  },
  {
   "cell_type": "code",
   "execution_count": 10,
   "id": "d9fc0fc7",
   "metadata": {},
   "outputs": [
    {
     "name": "stdout",
     "output_type": "stream",
     "text": [
      "The result was 0.129\n"
     ]
    }
   ],
   "source": [
    "# Format the float\n",
    "print(\"The result was {r:1.3f}\".format(r = result))"
   ]
  },
  {
   "cell_type": "markdown",
   "id": "eb7ef6af",
   "metadata": {},
   "source": [
    "**Float formatting follows:** \"{value:width.precision f}\""
   ]
  },
  {
   "cell_type": "code",
   "execution_count": 11,
   "id": "710be8d1",
   "metadata": {},
   "outputs": [
    {
     "name": "stdout",
     "output_type": "stream",
     "text": [
      "The result was      0.129\n"
     ]
    }
   ],
   "source": [
    "# Larger width\n",
    "print(\"The result was {r:10.3f}\".format(r = result))"
   ]
  },
  {
   "cell_type": "markdown",
   "id": "e6787a86",
   "metadata": {},
   "source": [
    "### f-strings"
   ]
  },
  {
   "cell_type": "code",
   "execution_count": 12,
   "id": "dcb96648",
   "metadata": {},
   "outputs": [
    {
     "data": {
      "text/plain": [
       "'José'"
      ]
     },
     "execution_count": 12,
     "metadata": {},
     "output_type": "execute_result"
    }
   ],
   "source": [
    "name = \"José\"\n",
    "name"
   ]
  },
  {
   "cell_type": "code",
   "execution_count": 13,
   "id": "5bc00779",
   "metadata": {},
   "outputs": [
    {
     "name": "stdout",
     "output_type": "stream",
     "text": [
      "Hello, his name is José.\n"
     ]
    }
   ],
   "source": [
    "print(f\"Hello, his name is {name}.\")"
   ]
  },
  {
   "cell_type": "code",
   "execution_count": 14,
   "id": "bc833e4b",
   "metadata": {},
   "outputs": [],
   "source": [
    "name = \"Sam\"\n",
    "age = 3"
   ]
  },
  {
   "cell_type": "code",
   "execution_count": 15,
   "id": "37a9426f",
   "metadata": {},
   "outputs": [
    {
     "name": "stdout",
     "output_type": "stream",
     "text": [
      "Sam is 3 years old.\n"
     ]
    }
   ],
   "source": [
    "print(f\"{name} is {age} years old.\")"
   ]
  },
  {
   "cell_type": "markdown",
   "id": "946ffb75",
   "metadata": {},
   "source": [
    "This a good source for string formatting: [PyFormat](https://pyformat.info)."
   ]
  },
  {
   "cell_type": "markdown",
   "id": "75081a2e",
   "metadata": {},
   "source": [
    "## 21 - Lists"
   ]
  },
  {
   "cell_type": "markdown",
   "id": "d7a1a68d",
   "metadata": {},
   "source": [
    "Lists are ordered sequences that can hold a variety of object types.\n",
    "\n",
    "They use [] brackets and commas to separate objects in the list.\n",
    "\n",
    "Lists support indexing and slicing. Lists can be nested and also have a variety of useful methods that can be called off of them."
   ]
  },
  {
   "cell_type": "code",
   "execution_count": 16,
   "id": "f739dcdf",
   "metadata": {},
   "outputs": [
    {
     "data": {
      "text/plain": [
       "[1, 2, 3]"
      ]
     },
     "execution_count": 16,
     "metadata": {},
     "output_type": "execute_result"
    }
   ],
   "source": [
    "my_list = [1, 2, 3]\n",
    "my_list"
   ]
  },
  {
   "cell_type": "code",
   "execution_count": 17,
   "id": "5b42ea28",
   "metadata": {},
   "outputs": [
    {
     "data": {
      "text/plain": [
       "['STRING', 2, 30.2]"
      ]
     },
     "execution_count": 17,
     "metadata": {},
     "output_type": "execute_result"
    }
   ],
   "source": [
    "my_list = ['STRING', 2, 30.2]\n",
    "my_list"
   ]
  },
  {
   "cell_type": "code",
   "execution_count": 18,
   "id": "a12ecc8b",
   "metadata": {},
   "outputs": [
    {
     "data": {
      "text/plain": [
       "3"
      ]
     },
     "execution_count": 18,
     "metadata": {},
     "output_type": "execute_result"
    }
   ],
   "source": [
    "len(my_list)"
   ]
  },
  {
   "cell_type": "code",
   "execution_count": 19,
   "id": "151704e9",
   "metadata": {},
   "outputs": [
    {
     "data": {
      "text/plain": [
       "['one', 'two', 'three']"
      ]
     },
     "execution_count": 19,
     "metadata": {},
     "output_type": "execute_result"
    }
   ],
   "source": [
    "mylist = [\"one\", \"two\", \"three\"]\n",
    "mylist"
   ]
  },
  {
   "cell_type": "code",
   "execution_count": 20,
   "id": "633a99a1",
   "metadata": {},
   "outputs": [
    {
     "data": {
      "text/plain": [
       "'one'"
      ]
     },
     "execution_count": 20,
     "metadata": {},
     "output_type": "execute_result"
    }
   ],
   "source": [
    "mylist[0]"
   ]
  },
  {
   "cell_type": "code",
   "execution_count": 21,
   "id": "8d33a492",
   "metadata": {},
   "outputs": [
    {
     "data": {
      "text/plain": [
       "['two', 'three']"
      ]
     },
     "execution_count": 21,
     "metadata": {},
     "output_type": "execute_result"
    }
   ],
   "source": [
    "mylist[1:]"
   ]
  },
  {
   "cell_type": "code",
   "execution_count": 22,
   "id": "33cc2de8",
   "metadata": {},
   "outputs": [
    {
     "data": {
      "text/plain": [
       "['four', 'five']"
      ]
     },
     "execution_count": 22,
     "metadata": {},
     "output_type": "execute_result"
    }
   ],
   "source": [
    "another_list = [\"four\", \"five\"]\n",
    "another_list"
   ]
  },
  {
   "cell_type": "code",
   "execution_count": 23,
   "id": "3db0b86d",
   "metadata": {},
   "outputs": [
    {
     "data": {
      "text/plain": [
       "['one', 'two', 'three', 'four', 'five']"
      ]
     },
     "execution_count": 23,
     "metadata": {},
     "output_type": "execute_result"
    }
   ],
   "source": [
    "mylist + another_list"
   ]
  },
  {
   "cell_type": "code",
   "execution_count": 24,
   "id": "8256a437",
   "metadata": {},
   "outputs": [
    {
     "data": {
      "text/plain": [
       "['one', 'two', 'three', 'four', 'five']"
      ]
     },
     "execution_count": 24,
     "metadata": {},
     "output_type": "execute_result"
    }
   ],
   "source": [
    "new_list = mylist + another_list\n",
    "new_list"
   ]
  },
  {
   "cell_type": "code",
   "execution_count": 25,
   "id": "252d9ea0",
   "metadata": {},
   "outputs": [
    {
     "data": {
      "text/plain": [
       "['ONE ALL CAPS', 'two', 'three', 'four', 'five']"
      ]
     },
     "execution_count": 25,
     "metadata": {},
     "output_type": "execute_result"
    }
   ],
   "source": [
    "# Mutable\n",
    "new_list[0] = \"ONE ALL CAPS\"\n",
    "new_list"
   ]
  },
  {
   "cell_type": "code",
   "execution_count": 26,
   "id": "e0d48f93",
   "metadata": {},
   "outputs": [
    {
     "data": {
      "text/plain": [
       "['ONE ALL CAPS', 'two', 'three', 'four', 'five', 'six']"
      ]
     },
     "execution_count": 26,
     "metadata": {},
     "output_type": "execute_result"
    }
   ],
   "source": [
    "# Appending element to last position, in place\n",
    "new_list.append(\"six\")\n",
    "new_list"
   ]
  },
  {
   "cell_type": "code",
   "execution_count": 27,
   "id": "aa1231cc",
   "metadata": {},
   "outputs": [
    {
     "data": {
      "text/plain": [
       "['ONE ALL CAPS', 'two', 'three', 'four', 'five', 'six', 'seven']"
      ]
     },
     "execution_count": 27,
     "metadata": {},
     "output_type": "execute_result"
    }
   ],
   "source": [
    "new_list.append(\"seven\")\n",
    "new_list"
   ]
  },
  {
   "cell_type": "code",
   "execution_count": 28,
   "id": "118f7f98",
   "metadata": {},
   "outputs": [
    {
     "data": {
      "text/plain": [
       "'seven'"
      ]
     },
     "execution_count": 28,
     "metadata": {},
     "output_type": "execute_result"
    }
   ],
   "source": [
    "# Removing itmes from a list\n",
    "# From last position\n",
    "new_list.pop()"
   ]
  },
  {
   "cell_type": "code",
   "execution_count": 29,
   "id": "49bf4d7d",
   "metadata": {},
   "outputs": [
    {
     "data": {
      "text/plain": [
       "['ONE ALL CAPS', 'two', 'three', 'four', 'five', 'six']"
      ]
     },
     "execution_count": 29,
     "metadata": {},
     "output_type": "execute_result"
    }
   ],
   "source": [
    "new_list"
   ]
  },
  {
   "cell_type": "code",
   "execution_count": 30,
   "id": "a0d9b472",
   "metadata": {},
   "outputs": [
    {
     "data": {
      "text/plain": [
       "'six'"
      ]
     },
     "execution_count": 30,
     "metadata": {},
     "output_type": "execute_result"
    }
   ],
   "source": [
    "popped_item = new_list.pop()\n",
    "popped_item"
   ]
  },
  {
   "cell_type": "code",
   "execution_count": 31,
   "id": "1956d63a",
   "metadata": {},
   "outputs": [
    {
     "data": {
      "text/plain": [
       "['ONE ALL CAPS', 'two', 'three', 'four', 'five']"
      ]
     },
     "execution_count": 31,
     "metadata": {},
     "output_type": "execute_result"
    }
   ],
   "source": [
    "new_list"
   ]
  },
  {
   "cell_type": "code",
   "execution_count": 32,
   "id": "b506ebd8",
   "metadata": {},
   "outputs": [
    {
     "data": {
      "text/plain": [
       "'ONE ALL CAPS'"
      ]
     },
     "execution_count": 32,
     "metadata": {},
     "output_type": "execute_result"
    }
   ],
   "source": [
    "# From arbitrary position (default is -1)\n",
    "new_list.pop(0)"
   ]
  },
  {
   "cell_type": "code",
   "execution_count": 33,
   "id": "b41d2a78",
   "metadata": {},
   "outputs": [
    {
     "data": {
      "text/plain": [
       "['two', 'three', 'four', 'five']"
      ]
     },
     "execution_count": 33,
     "metadata": {},
     "output_type": "execute_result"
    }
   ],
   "source": [
    "new_list"
   ]
  },
  {
   "cell_type": "code",
   "execution_count": 34,
   "id": "51c7cc0a",
   "metadata": {},
   "outputs": [],
   "source": [
    "new_list = [\"a\", \"e\", \"x\", \"b\", \"c\"]\n",
    "num_list = [4, 1, 8, 3]"
   ]
  },
  {
   "cell_type": "code",
   "execution_count": 35,
   "id": "6c246dae",
   "metadata": {},
   "outputs": [
    {
     "data": {
      "text/plain": [
       "['a', 'b', 'c', 'e', 'x']"
      ]
     },
     "execution_count": 35,
     "metadata": {},
     "output_type": "execute_result"
    }
   ],
   "source": [
    "new_list.sort() # It's in place\n",
    "new_list"
   ]
  },
  {
   "cell_type": "code",
   "execution_count": 36,
   "id": "9af370c4",
   "metadata": {},
   "outputs": [],
   "source": [
    "sorted_list = new_list.sort()\n",
    "sorted_list"
   ]
  },
  {
   "cell_type": "code",
   "execution_count": 37,
   "id": "034100fd",
   "metadata": {},
   "outputs": [
    {
     "data": {
      "text/plain": [
       "NoneType"
      ]
     },
     "execution_count": 37,
     "metadata": {},
     "output_type": "execute_result"
    }
   ],
   "source": [
    "type(sorted_list)"
   ]
  },
  {
   "cell_type": "code",
   "execution_count": 38,
   "id": "cb9d8064",
   "metadata": {},
   "outputs": [
    {
     "data": {
      "text/plain": [
       "[4, 1, 8, 3]"
      ]
     },
     "execution_count": 38,
     "metadata": {},
     "output_type": "execute_result"
    }
   ],
   "source": [
    "num_list"
   ]
  },
  {
   "cell_type": "code",
   "execution_count": 39,
   "id": "83bf86fe",
   "metadata": {},
   "outputs": [
    {
     "data": {
      "text/plain": [
       "[1, 3, 4, 8]"
      ]
     },
     "execution_count": 39,
     "metadata": {},
     "output_type": "execute_result"
    }
   ],
   "source": [
    "num_list.sort()\n",
    "num_list"
   ]
  },
  {
   "cell_type": "code",
   "execution_count": 40,
   "id": "e49cae1c",
   "metadata": {},
   "outputs": [
    {
     "data": {
      "text/plain": [
       "[8, 4, 3, 1]"
      ]
     },
     "execution_count": 40,
     "metadata": {},
     "output_type": "execute_result"
    }
   ],
   "source": [
    "num_list.reverse() # It's in place\n",
    "num_list"
   ]
  },
  {
   "cell_type": "code",
   "execution_count": 41,
   "id": "4e2e6949",
   "metadata": {},
   "outputs": [
    {
     "data": {
      "text/plain": [
       "[1, 1, [1, 2]]"
      ]
     },
     "execution_count": 41,
     "metadata": {},
     "output_type": "execute_result"
    }
   ],
   "source": [
    "nested_list = [1, 1, [1, 2]]\n",
    "nested_list"
   ]
  },
  {
   "cell_type": "code",
   "execution_count": 43,
   "id": "28e5bd0a",
   "metadata": {},
   "outputs": [
    {
     "data": {
      "text/plain": [
       "2"
      ]
     },
     "execution_count": 43,
     "metadata": {},
     "output_type": "execute_result"
    }
   ],
   "source": [
    "nested_list[2][1] # Double indexes to get a value from the list inside the list"
   ]
  },
  {
   "cell_type": "markdown",
   "id": "986816a7",
   "metadata": {},
   "source": [
    "## 23 - Dictionaries in Python"
   ]
  },
  {
   "cell_type": "markdown",
   "id": "30902f65",
   "metadata": {},
   "source": [
    "- Unordered, unsortable mappings.\n",
    "- Key-value pairs.\n",
    "- {'key1': 'value1', 'key2': 'value2', ...}\n",
    "- Lists vs dictionaries:\n",
    "    - Use lists when it's an ordered sequence, needs access by position (index), needs slicing.\n",
    "    - Use dictionaries when order is not important, needs retrieval by key."
   ]
  },
  {
   "cell_type": "code",
   "execution_count": 1,
   "id": "cb96e5c9",
   "metadata": {},
   "outputs": [
    {
     "data": {
      "text/plain": [
       "{'key1': 'value1', 'key2': 'value2'}"
      ]
     },
     "execution_count": 1,
     "metadata": {},
     "output_type": "execute_result"
    }
   ],
   "source": [
    "# Generic dictionary\n",
    "my_dict = {\n",
    "    'key1': 'value1',\n",
    "    'key2': 'value2'\n",
    "}\n",
    "my_dict"
   ]
  },
  {
   "cell_type": "code",
   "execution_count": 2,
   "id": "d8f373f5",
   "metadata": {},
   "outputs": [
    {
     "data": {
      "text/plain": [
       "'value1'"
      ]
     },
     "execution_count": 2,
     "metadata": {},
     "output_type": "execute_result"
    }
   ],
   "source": [
    "my_dict['key1']"
   ]
  },
  {
   "cell_type": "code",
   "execution_count": 3,
   "id": "6c3dbf00",
   "metadata": {},
   "outputs": [],
   "source": [
    "# Example\n",
    "price_lookup = {\n",
    "    'apples': 2.99,\n",
    "    'oranges': 1.99,\n",
    "    'milk': 5.80\n",
    "}"
   ]
  },
  {
   "cell_type": "code",
   "execution_count": 5,
   "id": "f80e02b6",
   "metadata": {},
   "outputs": [
    {
     "data": {
      "text/plain": [
       "2.99"
      ]
     },
     "execution_count": 5,
     "metadata": {},
     "output_type": "execute_result"
    }
   ],
   "source": [
    "# Call value using key ('apple')\n",
    "price_lookup['apples']"
   ]
  },
  {
   "cell_type": "code",
   "execution_count": 12,
   "id": "e70b76fb",
   "metadata": {},
   "outputs": [],
   "source": [
    "# Dictionary storing multiple data types\n",
    "dictio = {\n",
    "    'k1': 123,\n",
    "    'k2': [0, 1, 2],\n",
    "    'k3': {'ik1': 1, 'ik2': 2, 'ik3': 3},\n",
    "    'k4': ['a', 'b', 'c', 'd']\n",
    "}"
   ]
  },
  {
   "cell_type": "code",
   "execution_count": 13,
   "id": "5114901f",
   "metadata": {},
   "outputs": [
    {
     "name": "stdout",
     "output_type": "stream",
     "text": [
      "2\n",
      "[0, 1, 2]\n",
      "{'ik1': 1, 'ik2': 2, 'ik3': 3}\n",
      "2\n"
     ]
    }
   ],
   "source": [
    "# Calling from the dictionary\n",
    "print(dictio['k2'][2])\n",
    "print(dictio['k2'])\n",
    "print(dictio['k3'])\n",
    "print(dictio['k3']['ik2'])"
   ]
  },
  {
   "cell_type": "code",
   "execution_count": 14,
   "id": "8be71175",
   "metadata": {},
   "outputs": [
    {
     "data": {
      "text/plain": [
       "'C'"
      ]
     },
     "execution_count": 14,
     "metadata": {},
     "output_type": "execute_result"
    }
   ],
   "source": [
    "# Combination of actions in one line\n",
    "dictio['k4'][2].upper()"
   ]
  },
  {
   "cell_type": "code",
   "execution_count": 15,
   "id": "331397ff",
   "metadata": {},
   "outputs": [
    {
     "data": {
      "text/plain": [
       "{'k1': 123,\n",
       " 'k2': [0, 1, 2],\n",
       " 'k3': {'ik1': 1, 'ik2': 2, 'ik3': 3},\n",
       " 'k4': ['a', 'b', 'c', 'd'],\n",
       " 'k5': ('Altair', 'Plotly')}"
      ]
     },
     "execution_count": 15,
     "metadata": {},
     "output_type": "execute_result"
    }
   ],
   "source": [
    "# Adding new key-value pair\n",
    "dictio['k5'] = ('Altair', 'Plotly')\n",
    "dictio"
   ]
  },
  {
   "cell_type": "code",
   "execution_count": 19,
   "id": "11ffb819",
   "metadata": {},
   "outputs": [
    {
     "data": {
      "text/plain": [
       "{'k1': 987,\n",
       " 'k2': [0, 1, 2],\n",
       " 'k3': {'ik1': 1, 'ik2': 2, 'ik3': 3},\n",
       " 'k4': ['a', 'b', 'c', 'd'],\n",
       " 'k5': ('Altair', 'Plotly')}"
      ]
     },
     "execution_count": 19,
     "metadata": {},
     "output_type": "execute_result"
    }
   ],
   "source": [
    "# Overriding value in dictionary\n",
    "dictio['k1'] = 987\n",
    "dictio"
   ]
  },
  {
   "cell_type": "code",
   "execution_count": 21,
   "id": "a8e8bf2c",
   "metadata": {},
   "outputs": [
    {
     "data": {
      "text/plain": [
       "{'k1': 987,\n",
       " 'k2': [0, 1, 2],\n",
       " 'k3': {'ik1': 1, 'ik2': 2, 'ik3': 3},\n",
       " 'k4': ['a', 'b', 'c', 'd'],\n",
       " 'k5': ('Altair', 'Plotly'),\n",
       " 'k9': 'canine'}"
      ]
     },
     "execution_count": 21,
     "metadata": {},
     "output_type": "execute_result"
    }
   ],
   "source": [
    "# Adding another pair\n",
    "dictio['k9'] = 'canine'\n",
    "dictio"
   ]
  },
  {
   "cell_type": "code",
   "execution_count": 22,
   "id": "cbab60e0",
   "metadata": {},
   "outputs": [
    {
     "data": {
      "text/plain": [
       "{'k1': 987,\n",
       " 'k2': [0, 1, 2],\n",
       " 'k3': {'ik1': 1, 'ik2': 2, 'ik3': 3},\n",
       " 'k4': ['a', 'b', 'c', 'd'],\n",
       " 'k5': ('Altair', 'Plotly')}"
      ]
     },
     "execution_count": 22,
     "metadata": {},
     "output_type": "execute_result"
    }
   ],
   "source": [
    "# Removing a pair\n",
    "del dictio['k9']\n",
    "dictio"
   ]
  },
  {
   "cell_type": "code",
   "execution_count": 23,
   "id": "5c20293e",
   "metadata": {},
   "outputs": [
    {
     "name": "stdout",
     "output_type": "stream",
     "text": [
      "dict_keys(['k1', 'k2', 'k3', 'k4', 'k5'])\n",
      "dict_values([987, [0, 1, 2], {'ik1': 1, 'ik2': 2, 'ik3': 3}, ['a', 'b', 'c', 'd'], ('Altair', 'Plotly')])\n",
      "dict_items([('k1', 987), ('k2', [0, 1, 2]), ('k3', {'ik1': 1, 'ik2': 2, 'ik3': 3}), ('k4', ['a', 'b', 'c', 'd']), ('k5', ('Altair', 'Plotly'))])\n"
     ]
    }
   ],
   "source": [
    "# Some methods\n",
    "print(dictio.keys()) # Retrieve keys\n",
    "print(dictio.values()) # Retrieve values\n",
    "print(dictio.items()) # Retreive pairs"
   ]
  },
  {
   "cell_type": "markdown",
   "id": "ecc9d07b",
   "metadata": {},
   "source": [
    "## 25 - Tuples"
   ]
  },
  {
   "cell_type": "markdown",
   "id": "aae8c566",
   "metadata": {},
   "source": [
    "Very similar to `lists`, but have **immutability** --> once an element is assigned, it cannot be reassigned.\n",
    "\n",
    "example_tuple = (1, 2, 3)"
   ]
  },
  {
   "cell_type": "code",
   "execution_count": 24,
   "id": "10053b9f",
   "metadata": {},
   "outputs": [
    {
     "name": "stdout",
     "output_type": "stream",
     "text": [
      "(1, 2, 3)\n",
      "[1, 2, 3]\n"
     ]
    }
   ],
   "source": [
    "#Creating tuple and list\n",
    "my_tup = (1, 2, 3)\n",
    "my_list = [1, 2, 3]\n",
    "print(my_tup)\n",
    "print(my_list)"
   ]
  },
  {
   "cell_type": "code",
   "execution_count": 25,
   "id": "87f78abd",
   "metadata": {},
   "outputs": [
    {
     "name": "stdout",
     "output_type": "stream",
     "text": [
      "<class 'tuple'>\n",
      "<class 'list'>\n"
     ]
    }
   ],
   "source": [
    "# Object types\n",
    "print(type(my_tup))\n",
    "print(type(my_list))"
   ]
  },
  {
   "cell_type": "code",
   "execution_count": 26,
   "id": "cc4f6cd0",
   "metadata": {},
   "outputs": [
    {
     "data": {
      "text/plain": [
       "2"
      ]
     },
     "execution_count": 26,
     "metadata": {},
     "output_type": "execute_result"
    }
   ],
   "source": [
    "# Retrieving\n",
    "my_tup[1]"
   ]
  },
  {
   "cell_type": "code",
   "execution_count": 27,
   "id": "114f87a4",
   "metadata": {},
   "outputs": [
    {
     "data": {
      "text/plain": [
       "3"
      ]
     },
     "execution_count": 27,
     "metadata": {},
     "output_type": "execute_result"
    }
   ],
   "source": [
    "# Retrieving\n",
    "my_tup[-1]"
   ]
  },
  {
   "cell_type": "code",
   "execution_count": 28,
   "id": "8129dce8",
   "metadata": {},
   "outputs": [
    {
     "data": {
      "text/plain": [
       "('a', 'a', 'b')"
      ]
     },
     "execution_count": 28,
     "metadata": {},
     "output_type": "execute_result"
    }
   ],
   "source": [
    "# Some methods\n",
    "the_tuple = ('a', 'a', 'b')\n",
    "the_tuple"
   ]
  },
  {
   "cell_type": "code",
   "execution_count": 31,
   "id": "77119640",
   "metadata": {},
   "outputs": [
    {
     "data": {
      "text/plain": [
       "2"
      ]
     },
     "execution_count": 31,
     "metadata": {},
     "output_type": "execute_result"
    }
   ],
   "source": [
    "# Count how many times an element is present in tuple\n",
    "the_tuple.count('a')"
   ]
  },
  {
   "cell_type": "code",
   "execution_count": 32,
   "id": "4de77f3a",
   "metadata": {},
   "outputs": [
    {
     "data": {
      "text/plain": [
       "0"
      ]
     },
     "execution_count": 32,
     "metadata": {},
     "output_type": "execute_result"
    }
   ],
   "source": [
    "# Return the first index where an element is found\n",
    "the_tuple.index('a')"
   ]
  },
  {
   "cell_type": "markdown",
   "id": "1f229fa0",
   "metadata": {},
   "source": [
    "Immutability"
   ]
  },
  {
   "cell_type": "code",
   "execution_count": 34,
   "id": "cd8c450e",
   "metadata": {},
   "outputs": [
    {
     "name": "stdout",
     "output_type": "stream",
     "text": [
      "('a', 'a', 'b')\n",
      "[1, 2, 3]\n"
     ]
    }
   ],
   "source": [
    "# Check objects\n",
    "print(the_tuple)\n",
    "print(my_list)"
   ]
  },
  {
   "cell_type": "code",
   "execution_count": 35,
   "id": "d7ed972f",
   "metadata": {},
   "outputs": [
    {
     "data": {
      "text/plain": [
       "['NEW', 2, 3]"
      ]
     },
     "execution_count": 35,
     "metadata": {},
     "output_type": "execute_result"
    }
   ],
   "source": [
    "# Reassignment in list\n",
    "my_list[0] = 'NEW'\n",
    "my_list"
   ]
  },
  {
   "cell_type": "code",
   "execution_count": 36,
   "id": "ce4d1a5a",
   "metadata": {},
   "outputs": [
    {
     "ename": "TypeError",
     "evalue": "'tuple' object does not support item assignment",
     "output_type": "error",
     "traceback": [
      "\u001b[1;31m---------------------------------------------------------------------------\u001b[0m",
      "\u001b[1;31mTypeError\u001b[0m                                 Traceback (most recent call last)",
      "Cell \u001b[1;32mIn[36], line 2\u001b[0m\n\u001b[0;32m      1\u001b[0m \u001b[38;5;66;03m# Reassignment in tuple\u001b[39;00m\n\u001b[1;32m----> 2\u001b[0m the_tuple[\u001b[38;5;241m0\u001b[39m] \u001b[38;5;241m=\u001b[39m \u001b[38;5;124m'\u001b[39m\u001b[38;5;124mNEW\u001b[39m\u001b[38;5;124m'\u001b[39m\n",
      "\u001b[1;31mTypeError\u001b[0m: 'tuple' object does not support item assignment"
     ]
    }
   ],
   "source": [
    "# Reassignment in tuple\n",
    "the_tuple[0] = 'NEW'"
   ]
  },
  {
   "cell_type": "markdown",
   "id": "7b3dda5b",
   "metadata": {},
   "source": [
    "Tuples are more used for more advanced programming, for example in data integrity."
   ]
  },
  {
   "cell_type": "markdown",
   "id": "8e1cc489",
   "metadata": {},
   "source": [
    "## 26 - Sets in Python"
   ]
  },
  {
   "cell_type": "markdown",
   "id": "383376b2",
   "metadata": {},
   "source": [
    "Unordered collections of unique elements (only one representative of each object)."
   ]
  },
  {
   "cell_type": "code",
   "execution_count": 2,
   "id": "ba89f871",
   "metadata": {},
   "outputs": [
    {
     "data": {
      "text/plain": [
       "set()"
      ]
     },
     "execution_count": 2,
     "metadata": {},
     "output_type": "execute_result"
    }
   ],
   "source": [
    "# Create an empty set\n",
    "my_set = set()\n",
    "my_set"
   ]
  },
  {
   "cell_type": "code",
   "execution_count": 3,
   "id": "9c8d12aa",
   "metadata": {},
   "outputs": [
    {
     "data": {
      "text/plain": [
       "{1}"
      ]
     },
     "execution_count": 3,
     "metadata": {},
     "output_type": "execute_result"
    }
   ],
   "source": [
    "# Add an element to the set\n",
    "my_set.add(1)\n",
    "my_set"
   ]
  },
  {
   "cell_type": "code",
   "execution_count": 4,
   "id": "228d3c4c",
   "metadata": {},
   "outputs": [
    {
     "data": {
      "text/plain": [
       "{1, 2}"
      ]
     },
     "execution_count": 4,
     "metadata": {},
     "output_type": "execute_result"
    }
   ],
   "source": [
    "# Again\n",
    "my_set.add(2)\n",
    "my_set"
   ]
  },
  {
   "cell_type": "code",
   "execution_count": 5,
   "id": "7113dbb2",
   "metadata": {},
   "outputs": [
    {
     "data": {
      "text/plain": [
       "{1, 2}"
      ]
     },
     "execution_count": 5,
     "metadata": {},
     "output_type": "execute_result"
    }
   ],
   "source": [
    "# Repeat add an element\n",
    "my_set.add(2)\n",
    "my_set"
   ]
  },
  {
   "cell_type": "markdown",
   "id": "fea0c02e",
   "metadata": {},
   "source": [
    "**Notice:** element `2` is present only once."
   ]
  },
  {
   "cell_type": "code",
   "execution_count": 6,
   "id": "e3f1c68a",
   "metadata": {},
   "outputs": [
    {
     "data": {
      "text/plain": [
       "[1, 1, 1, 1, 1, 2, 2, 2, 2, 2, 2, 2, 2, 2, 2, 2, 2, 2, 2, 2, 3]"
      ]
     },
     "execution_count": 6,
     "metadata": {},
     "output_type": "execute_result"
    }
   ],
   "source": [
    "# More useful to cast objects\n",
    "my_list = [1, 1, 1, 1, 1, 2, 2, 2, 2, 2, 2, 2, 2, 2, 2, 2, 2, 2, 2, 2, 3]\n",
    "my_list"
   ]
  },
  {
   "cell_type": "code",
   "execution_count": 7,
   "id": "f25a8ffa",
   "metadata": {},
   "outputs": [
    {
     "data": {
      "text/plain": [
       "{1, 2, 3}"
      ]
     },
     "execution_count": 7,
     "metadata": {},
     "output_type": "execute_result"
    }
   ],
   "source": [
    "# Cast the list into a set\n",
    "set(my_list)"
   ]
  },
  {
   "cell_type": "code",
   "execution_count": 8,
   "id": "a3b35762",
   "metadata": {},
   "outputs": [
    {
     "data": {
      "text/plain": [
       "{'M', 'i', 'p', 's'}"
      ]
     },
     "execution_count": 8,
     "metadata": {},
     "output_type": "execute_result"
    }
   ],
   "source": [
    "# From the exercise at Udemy\n",
    "set('Mississippi')"
   ]
  },
  {
   "cell_type": "markdown",
   "id": "84fc2a3f",
   "metadata": {},
   "source": [
    "## 27 - Booleans in Python"
   ]
  },
  {
   "cell_type": "markdown",
   "id": "8bbf3472",
   "metadata": {},
   "source": [
    "- Booleans are operators to convey `True` or `False` statements.\n",
    "\n",
    "- Useful in control flow and logic."
   ]
  },
  {
   "cell_type": "code",
   "execution_count": 2,
   "id": "f092d51a",
   "metadata": {},
   "outputs": [
    {
     "data": {
      "text/plain": [
       "True"
      ]
     },
     "execution_count": 2,
     "metadata": {},
     "output_type": "execute_result"
    }
   ],
   "source": [
    "# Capitalize to get the \"boolean values\"\n",
    "True != False"
   ]
  },
  {
   "cell_type": "code",
   "execution_count": 3,
   "id": "e82514c9",
   "metadata": {},
   "outputs": [
    {
     "data": {
      "text/plain": [
       "bool"
      ]
     },
     "execution_count": 3,
     "metadata": {},
     "output_type": "execute_result"
    }
   ],
   "source": [
    "# Data type\n",
    "type(True)"
   ]
  },
  {
   "cell_type": "code",
   "execution_count": 5,
   "id": "019e6eec",
   "metadata": {},
   "outputs": [
    {
     "data": {
      "text/plain": [
       "False"
      ]
     },
     "execution_count": 5,
     "metadata": {},
     "output_type": "execute_result"
    }
   ],
   "source": [
    "# Another comparison\n",
    "1 == 2"
   ]
  },
  {
   "cell_type": "code",
   "execution_count": 6,
   "id": "00a29fdb",
   "metadata": {},
   "outputs": [],
   "source": [
    "# Placeholder for an empty object\n",
    "b = None\n",
    "b"
   ]
  },
  {
   "cell_type": "markdown",
   "id": "a7e729d3",
   "metadata": {},
   "source": [
    "## 28 - I/O with Basic Files in Python"
   ]
  },
  {
   "cell_type": "code",
   "execution_count": 12,
   "id": "c162221b",
   "metadata": {},
   "outputs": [
    {
     "name": "stdout",
     "output_type": "stream",
     "text": [
      "Overwriting myfile.txt\n"
     ]
    }
   ],
   "source": [
    "%%writefile myfile.txt\n",
    "'I am just writing in the first line. \\\n",
    "But now I do so in the second one. \\\n",
    "This is finally the third one.'\n",
    "# Post comment"
   ]
  },
  {
   "cell_type": "markdown",
   "id": "2208ac24",
   "metadata": {},
   "source": [
    "It would appear line magic functions do not accept comments in the same cell before them. The afterward one becomes part of the txt file."
   ]
  },
  {
   "cell_type": "code",
   "execution_count": 14,
   "id": "c7bd131c",
   "metadata": {},
   "outputs": [
    {
     "data": {
      "text/plain": [
       "<_io.TextIOWrapper name='myfile.txt' mode='r' encoding='cp1252'>"
      ]
     },
     "execution_count": 14,
     "metadata": {},
     "output_type": "execute_result"
    }
   ],
   "source": [
    "myfile = open('myfile.txt')\n",
    "myfile"
   ]
  },
  {
   "cell_type": "markdown",
   "id": "036d6529",
   "metadata": {},
   "source": [
    "Print working directory in Jupyter Notebook:"
   ]
  },
  {
   "cell_type": "code",
   "execution_count": 16,
   "id": "86acc323",
   "metadata": {},
   "outputs": [
    {
     "data": {
      "text/plain": [
       "'G:\\\\15_Estudio\\\\Udemy\\\\Python - Portilla Complete Bootcamp'"
      ]
     },
     "execution_count": 16,
     "metadata": {},
     "output_type": "execute_result"
    }
   ],
   "source": [
    "pwd"
   ]
  },
  {
   "cell_type": "code",
   "execution_count": 17,
   "id": "71166ff8",
   "metadata": {},
   "outputs": [
    {
     "data": {
      "text/plain": [
       "\"'I am just writing in the first line. \\\\\\nBut now I do so in the second one. \\\\\\nThis is finally the third one.'\\n# Post comment\\n\""
      ]
     },
     "execution_count": 17,
     "metadata": {},
     "output_type": "execute_result"
    }
   ],
   "source": [
    "# Return a string of what's inside a file\n",
    "myfile.read()"
   ]
  },
  {
   "cell_type": "code",
   "execution_count": 18,
   "id": "d8be2a63",
   "metadata": {},
   "outputs": [
    {
     "data": {
      "text/plain": [
       "''"
      ]
     },
     "execution_count": 18,
     "metadata": {},
     "output_type": "execute_result"
    }
   ],
   "source": [
    "# Call that method again\n",
    "myfile.read()"
   ]
  },
  {
   "cell_type": "code",
   "execution_count": 19,
   "id": "2ad68ef7",
   "metadata": {},
   "outputs": [
    {
     "data": {
      "text/plain": [
       "0"
      ]
     },
     "execution_count": 19,
     "metadata": {},
     "output_type": "execute_result"
    }
   ],
   "source": [
    "# Reposition the cursor to be able to read the file again\n",
    "myfile.seek(0)"
   ]
  },
  {
   "cell_type": "code",
   "execution_count": 20,
   "id": "f1ce6a10",
   "metadata": {},
   "outputs": [
    {
     "data": {
      "text/plain": [
       "\"'I am just writing in the first line. \\\\\\nBut now I do so in the second one. \\\\\\nThis is finally the third one.'\\n# Post comment\\n\""
      ]
     },
     "execution_count": 20,
     "metadata": {},
     "output_type": "execute_result"
    }
   ],
   "source": [
    "# Read once more\n",
    "myfile.read()"
   ]
  },
  {
   "cell_type": "code",
   "execution_count": 25,
   "id": "5da23934",
   "metadata": {},
   "outputs": [
    {
     "data": {
      "text/plain": [
       "\"'I am just writing in the first line. \\\\\\nBut now I do so in the second one. \\\\\\nThis is finally the third one.'\\n# Post comment\\n\""
      ]
     },
     "execution_count": 25,
     "metadata": {},
     "output_type": "execute_result"
    }
   ],
   "source": [
    "# Read and save in a variable\n",
    "contents = myfile.read()\n",
    "myfile.seek(0)\n",
    "contents"
   ]
  },
  {
   "cell_type": "code",
   "execution_count": 26,
   "id": "8c2ad3e5",
   "metadata": {},
   "outputs": [
    {
     "data": {
      "text/plain": [
       "<_io.TextIOWrapper name='myfile.txt' mode='r' encoding='cp1252'>"
      ]
     },
     "execution_count": 26,
     "metadata": {},
     "output_type": "execute_result"
    }
   ],
   "source": [
    "myfile"
   ]
  },
  {
   "cell_type": "markdown",
   "id": "d495ba3a",
   "metadata": {},
   "source": [
    "Sometimes it's useful to have each line in a separate element of a list."
   ]
  },
  {
   "cell_type": "code",
   "execution_count": 27,
   "id": "09bf73bb",
   "metadata": {},
   "outputs": [
    {
     "name": "stdout",
     "output_type": "stream",
     "text": [
      "[\"'I am just writing in the first line. \\\\\\n\", 'But now I do so in the second one. \\\\\\n', \"This is finally the third one.'\\n\", '# Post comment\\n']\n"
     ]
    },
    {
     "data": {
      "text/plain": [
       "0"
      ]
     },
     "execution_count": 27,
     "metadata": {},
     "output_type": "execute_result"
    }
   ],
   "source": [
    "# Read lines\n",
    "print(myfile.readlines())\n",
    "myfile.seek(0)"
   ]
  },
  {
   "cell_type": "code",
   "execution_count": 29,
   "id": "effd0d12",
   "metadata": {},
   "outputs": [
    {
     "data": {
      "text/plain": [
       "\"'I am just writing in the first line. \\\\\\nBut now I do so in the second one. \\\\\\nThis is finally the third one.'\\n# Post comment\\n\""
      ]
     },
     "execution_count": 29,
     "metadata": {},
     "output_type": "execute_result"
    }
   ],
   "source": [
    "# Opening a file for a certain file path\n",
    "myfile = open('G:\\\\15_Estudio\\\\Udemy\\\\Python - Portilla Complete Bootcamp\\\\myfile.txt')\n",
    "contents = myfile.read()\n",
    "myfile.seek(0)\n",
    "contents"
   ]
  },
  {
   "cell_type": "markdown",
   "id": "8582902e",
   "metadata": {},
   "source": [
    "In the file path, notice the double slashes: the first `\\` is an escape character, avoiding the second `\\` to become something like `\\n` (new line), or `\\t` (tabulation)."
   ]
  },
  {
   "cell_type": "code",
   "execution_count": 30,
   "id": "3ab5e4ee",
   "metadata": {},
   "outputs": [],
   "source": [
    "# Close the file\n",
    "myfile.close()"
   ]
  },
  {
   "cell_type": "markdown",
   "id": "14172082",
   "metadata": {},
   "source": [
    "Forgetting to close the file may cause errors afterward. To avoid that, the `with` statement can be used."
   ]
  },
  {
   "cell_type": "code",
   "execution_count": 32,
   "id": "6764736a",
   "metadata": {},
   "outputs": [],
   "source": [
    "# Use of with statement\n",
    "with open('myfile.txt') as my_new_file:\n",
    "    contents = my_new_file.read()"
   ]
  },
  {
   "cell_type": "code",
   "execution_count": 33,
   "id": "38332b2c",
   "metadata": {},
   "outputs": [
    {
     "data": {
      "text/plain": [
       "\"'I am just writing in the first line. \\\\\\nBut now I do so in the second one. \\\\\\nThis is finally the third one.'\\n# Post comment\\n\""
      ]
     },
     "execution_count": 33,
     "metadata": {},
     "output_type": "execute_result"
    }
   ],
   "source": [
    "# Verify contents now has the string \n",
    "contents"
   ]
  },
  {
   "cell_type": "markdown",
   "id": "c44a84db",
   "metadata": {},
   "source": [
    "In this way, there's no need to worry about closing the file."
   ]
  },
  {
   "cell_type": "markdown",
   "id": "a0300743",
   "metadata": {},
   "source": [
    "**Reading, writing, and apending modes:**\n",
    "- r, read\n",
    "- w, write (overwrites if file exists)\n",
    "- a, append\n",
    "- r+, read and write\n",
    "- w+, write and read (overwrites if file exists)"
   ]
  },
  {
   "cell_type": "code",
   "execution_count": 34,
   "id": "4870dff1",
   "metadata": {},
   "outputs": [],
   "source": [
    "with open('myfile.txt', mode = 'r') as myfile:\n",
    "    contents = myfile.read()"
   ]
  },
  {
   "cell_type": "code",
   "execution_count": 35,
   "id": "1a0d34bd",
   "metadata": {},
   "outputs": [
    {
     "name": "stdout",
     "output_type": "stream",
     "text": [
      "Writing my_new_file.txt\n"
     ]
    }
   ],
   "source": [
    "%%writefile my_new_file.txt\n",
    "ONE ON FIRST\n",
    "TWO ON SECOND\n",
    "THREE ON THIRD"
   ]
  },
  {
   "cell_type": "code",
   "execution_count": 36,
   "id": "8926f18a",
   "metadata": {},
   "outputs": [
    {
     "name": "stdout",
     "output_type": "stream",
     "text": [
      "ONE ON FIRST\n",
      "TWO ON SECOND\n",
      "THREE ON THIRD\n",
      "\n"
     ]
    }
   ],
   "source": [
    "# Read and print file\n",
    "with open('my_new_file.txt', mode = 'r') as f:\n",
    "    print(f.read())"
   ]
  },
  {
   "cell_type": "code",
   "execution_count": 37,
   "id": "6c95e15b",
   "metadata": {},
   "outputs": [],
   "source": [
    "# Add a line to the file\n",
    "with open('my_new_file.txt', mode = 'a') as f:\n",
    "    f.write('FOUR ON FORTH')"
   ]
  },
  {
   "cell_type": "code",
   "execution_count": 38,
   "id": "c7a1e12a",
   "metadata": {},
   "outputs": [
    {
     "name": "stdout",
     "output_type": "stream",
     "text": [
      "ONE ON FIRST\n",
      "TWO ON SECOND\n",
      "THREE ON THIRD\n",
      "FOUR ON FORTH\n"
     ]
    }
   ],
   "source": [
    "# AGAIN, read and print file\n",
    "with open('my_new_file.txt', mode = 'r') as f:\n",
    "    print(f.read())"
   ]
  },
  {
   "cell_type": "code",
   "execution_count": 39,
   "id": "638f0c99",
   "metadata": {},
   "outputs": [],
   "source": [
    "# Now, writing\n",
    "with open('gararata.txt', mode = 'w') as f:\n",
    "    f.write('I CREATED THIS FILE!')"
   ]
  },
  {
   "cell_type": "code",
   "execution_count": 40,
   "id": "4c1cc405",
   "metadata": {},
   "outputs": [
    {
     "name": "stdout",
     "output_type": "stream",
     "text": [
      "I CREATED THIS FILE!\n"
     ]
    }
   ],
   "source": [
    "# Check results from last cell\n",
    "with open('gararata.txt', mode = 'r') as f:\n",
    "    print(f.read())"
   ]
  },
  {
   "cell_type": "markdown",
   "id": "5752f25f",
   "metadata": {},
   "source": [
    "## 29 - Resources for More Basic Practice"
   ]
  },
  {
   "cell_type": "markdown",
   "id": "f145ecc2",
   "metadata": {},
   "source": [
    "Helpful links for practice:\n",
    "\n",
    "- [Codingbat](http://codingbat.com/python): basic practice.\n",
    "- [Project Euler](https://projecteuler.net/archives): more mathematical (and harder) practice:\n",
    "- [Code Abbey](http://www.codeabbey.com/index/task_list): list of practice problems.\n",
    "- [Daily Programmer Subreddt](https://www.reddit.com/r/dailyprogrammer): a SubReddit devoted to daily practice problems.\n",
    "- [Python Challenge](http://www.pythonchallenge.com/): a very tricky website with very few hints and tough problems (not for beginners but still interesting).\n"
   ]
  }
 ],
 "metadata": {
  "kernelspec": {
   "display_name": "Python 3 (ipykernel)",
   "language": "python",
   "name": "python3"
  },
  "language_info": {
   "codemirror_mode": {
    "name": "ipython",
    "version": 3
   },
   "file_extension": ".py",
   "mimetype": "text/x-python",
   "name": "python",
   "nbconvert_exporter": "python",
   "pygments_lexer": "ipython3",
   "version": "3.11.5"
  }
 },
 "nbformat": 4,
 "nbformat_minor": 5
}
