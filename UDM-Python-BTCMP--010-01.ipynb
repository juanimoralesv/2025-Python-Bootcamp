{
 "cells": [
  {
   "cell_type": "markdown",
   "id": "e926399d",
   "metadata": {},
   "source": [
    "# Section 10 - Errors and Exceptions Handling"
   ]
  },
  {
   "cell_type": "markdown",
   "id": "89e953c5",
   "metadata": {},
   "source": [
    "## 80 - Errors and Exceptions Handling"
   ]
  },
  {
   "cell_type": "markdown",
   "id": "e4c994e2",
   "metadata": {},
   "source": [
    "- Errors can happen because of actual mistakes in the code, or because of trying to use the code in unexpected ways (among other possibilities, probably).\n",
    "- When an error arises, the script stop running, and the error is reported.\n",
    "- It is possible to allow for the script to continue running after reporting the error.\n",
    "\n",
    "- Code for error handling uses these keywords:\n",
    "    - `try`: the code that will be attempted to be run, and that can lead to an error.\n",
    "    - `except`: the code that will be run in case an error arises from the `try` block.\n",
    "    - `finally`: the code to be executed after the other blocks of code, regardless of an error."
   ]
  },
  {
   "cell_type": "markdown",
   "id": "f0f49696",
   "metadata": {},
   "source": [
    "Example of code that leads to an error:"
   ]
  },
  {
   "cell_type": "code",
   "execution_count": 1,
   "id": "1ddc349c",
   "metadata": {},
   "outputs": [],
   "source": [
    "def add(a, b):\n",
    "    return a + b"
   ]
  },
  {
   "cell_type": "code",
   "execution_count": 2,
   "id": "7318608f",
   "metadata": {},
   "outputs": [
    {
     "data": {
      "text/plain": [
       "30"
      ]
     },
     "execution_count": 2,
     "metadata": {},
     "output_type": "execute_result"
    }
   ],
   "source": [
    "add(10, 20)"
   ]
  },
  {
   "cell_type": "code",
   "execution_count": 3,
   "id": "146b32e2",
   "metadata": {},
   "outputs": [
    {
     "name": "stdout",
     "output_type": "stream",
     "text": [
      "Enter a number: 20\n"
     ]
    },
    {
     "ename": "TypeError",
     "evalue": "unsupported operand type(s) for +: 'int' and 'str'",
     "output_type": "error",
     "traceback": [
      "\u001b[1;31m---------------------------------------------------------------------------\u001b[0m",
      "\u001b[1;31mTypeError\u001b[0m                                 Traceback (most recent call last)",
      "Cell \u001b[1;32mIn[3], line 4\u001b[0m\n\u001b[0;32m      2\u001b[0m \u001b[38;5;66;03m# More code\u001b[39;00m\n\u001b[0;32m      3\u001b[0m number2 \u001b[38;5;241m=\u001b[39m \u001b[38;5;28minput\u001b[39m(\u001b[38;5;124m\"\u001b[39m\u001b[38;5;124mEnter a number: \u001b[39m\u001b[38;5;124m\"\u001b[39m)\n\u001b[1;32m----> 4\u001b[0m add(number1, number2)\n",
      "Cell \u001b[1;32mIn[1], line 2\u001b[0m, in \u001b[0;36madd\u001b[1;34m(a, b)\u001b[0m\n\u001b[0;32m      1\u001b[0m \u001b[38;5;28;01mdef\u001b[39;00m \u001b[38;5;21madd\u001b[39m(a, b):\n\u001b[1;32m----> 2\u001b[0m     \u001b[38;5;28;01mreturn\u001b[39;00m a \u001b[38;5;241m+\u001b[39m b\n",
      "\u001b[1;31mTypeError\u001b[0m: unsupported operand type(s) for +: 'int' and 'str'"
     ]
    }
   ],
   "source": [
    "number1 = 10\n",
    "# More code\n",
    "number2 = input(\"Enter a number: \")\n",
    "add(number1, number2)\n",
    "print(\"Something I wanted to print.\")"
   ]
  },
  {
   "cell_type": "markdown",
   "id": "4686b32f",
   "metadata": {},
   "source": [
    "#### Use of error handling\n",
    "- `try`/`except`:"
   ]
  },
  {
   "cell_type": "code",
   "execution_count": 6,
   "id": "11016302",
   "metadata": {},
   "outputs": [
    {
     "name": "stdout",
     "output_type": "stream",
     "text": [
      "It looks like you aren't running correctly!\n"
     ]
    },
    {
     "data": {
      "text/plain": [
       "0"
      ]
     },
     "execution_count": 6,
     "metadata": {},
     "output_type": "execute_result"
    }
   ],
   "source": [
    "try:\n",
    "    # Code to be attempted\n",
    "    result = 10 + '10'\n",
    "except:\n",
    "    result = 0\n",
    "    print(\"It looks like you aren't running correctly!\")\n",
    "    \n",
    "result"
   ]
  },
  {
   "cell_type": "markdown",
   "id": "e059eeaa",
   "metadata": {},
   "source": [
    "- `try`/`except`/`else`:"
   ]
  },
  {
   "cell_type": "code",
   "execution_count": 8,
   "id": "6919eaf6",
   "metadata": {},
   "outputs": [
    {
     "name": "stdout",
     "output_type": "stream",
     "text": [
      "Add went well!\n",
      "20\n"
     ]
    }
   ],
   "source": [
    "try:\n",
    "    # Code to be attempted\n",
    "    result = 10 + 10\n",
    "except:\n",
    "    # When there's an error\n",
    "    result = 0\n",
    "    print(\"It looks like you aren't running correctly!\")\n",
    "    \n",
    "else:\n",
    "    # When there's no error\n",
    "    print(\"Add went well!\")\n",
    "    print(result)"
   ]
  },
  {
   "cell_type": "markdown",
   "id": "bc99a17e",
   "metadata": {},
   "source": [
    "- `try`/`except`/`finally`:"
   ]
  },
  {
   "cell_type": "code",
   "execution_count": 9,
   "id": "1e71664a",
   "metadata": {},
   "outputs": [
    {
     "name": "stdout",
     "output_type": "stream",
     "text": [
      "I always run!\n"
     ]
    }
   ],
   "source": [
    "# Without error\n",
    "try:\n",
    "    f = open(\"testfile\", 'w')\n",
    "    f.write(\"Write a test line.\")\n",
    "except TypeError:\n",
    "    print(\"There was a type error!\")\n",
    "except OSError:\n",
    "    print(\"There was an OS error!\")\n",
    "finally:\n",
    "    print(\"I always run!\")"
   ]
  },
  {
   "cell_type": "code",
   "execution_count": 10,
   "id": "b4edf0be",
   "metadata": {},
   "outputs": [
    {
     "name": "stdout",
     "output_type": "stream",
     "text": [
      "There was an OS error!\n",
      "I always run!\n"
     ]
    }
   ],
   "source": [
    "# With error\n",
    "try:\n",
    "    f = open(\"testfile\", 'r') # Change from w to r\n",
    "    f.write(\"Write a test line.\")\n",
    "except TypeError:\n",
    "    print(\"There was a type error!\")\n",
    "except OSError:\n",
    "    print(\"There was an OS error!\")\n",
    "except:\n",
    "    print(\"All other exceptions!\")\n",
    "finally:\n",
    "    print(\"I always run!\")"
   ]
  },
  {
   "cell_type": "markdown",
   "id": "6215617c",
   "metadata": {},
   "source": [
    "#### Example in function"
   ]
  },
  {
   "cell_type": "code",
   "execution_count": 11,
   "id": "4fd2a8b6",
   "metadata": {},
   "outputs": [],
   "source": [
    "def ask_for_int():\n",
    "    try:\n",
    "        int(input(\"Enter an integer: \"))\n",
    "    except:\n",
    "        print(\"That's not a number!\")\n",
    "    finally:\n",
    "        print(\"End of try/except/finally\")"
   ]
  },
  {
   "cell_type": "code",
   "execution_count": 13,
   "id": "87e8c52e",
   "metadata": {},
   "outputs": [
    {
     "name": "stdout",
     "output_type": "stream",
     "text": [
      "Enter an integer: 1\n",
      "End of try/except/finally\n"
     ]
    }
   ],
   "source": [
    "# Run the function\n",
    "ask_for_int()"
   ]
  },
  {
   "cell_type": "code",
   "execution_count": 12,
   "id": "0063a893",
   "metadata": {},
   "outputs": [
    {
     "name": "stdout",
     "output_type": "stream",
     "text": [
      "Enter an integer: hub\n",
      "That's not a number!\n",
      "End of try/except/finally\n"
     ]
    }
   ],
   "source": [
    "# Run the function\n",
    "ask_for_int()"
   ]
  },
  {
   "cell_type": "markdown",
   "id": "b1e70653",
   "metadata": {},
   "source": [
    "#### Redefinition of function"
   ]
  },
  {
   "cell_type": "code",
   "execution_count": 14,
   "id": "b12a8184",
   "metadata": {},
   "outputs": [],
   "source": [
    "def ask_for_int():\n",
    "    while True:\n",
    "        try:\n",
    "            int(input(\"Enter an integer: \"))\n",
    "        except:\n",
    "            print(\"That's not a number!\")\n",
    "        else:\n",
    "            print(\"Thank you!\")\n",
    "            break\n",
    "        finally:\n",
    "            print(\"End of try/except/finally\")"
   ]
  },
  {
   "cell_type": "code",
   "execution_count": 15,
   "id": "779891c3",
   "metadata": {},
   "outputs": [
    {
     "name": "stdout",
     "output_type": "stream",
     "text": [
      "Enter an integer: 20\n",
      "Thank you!\n",
      "End of try/except/finally\n"
     ]
    }
   ],
   "source": [
    "# Run the function\n",
    "ask_for_int()"
   ]
  },
  {
   "cell_type": "code",
   "execution_count": 16,
   "id": "20320093",
   "metadata": {},
   "outputs": [
    {
     "name": "stdout",
     "output_type": "stream",
     "text": [
      "Enter an integer: ¡Gol!\n",
      "That's not a number!\n",
      "End of try/except/finally\n",
      "Enter an integer: A hundred\n",
      "That's not a number!\n",
      "End of try/except/finally\n",
      "Enter an integer: 1.2\n",
      "That's not a number!\n",
      "End of try/except/finally\n",
      "Enter an integer: 20\n",
      "Thank you!\n",
      "End of try/except/finally\n"
     ]
    }
   ],
   "source": [
    "# Run the function\n",
    "ask_for_int()"
   ]
  },
  {
   "cell_type": "markdown",
   "id": "b757bd22",
   "metadata": {},
   "source": [
    "## 84 - Pylint Overview"
   ]
  },
  {
   "cell_type": "markdown",
   "id": "44cae963",
   "metadata": {},
   "source": [
    "- Unit testing.\n",
    "    - When projects have multiple files.\n",
    "    - When the team working on a project is larger than 1 person.\n",
    "        - It becomes important to have tests in place.\n",
    "- `pylint` is a library that looks at your code and reports possible issues, also regarding style (PEP 8).\n",
    "- `unittest` is a built-in library to assess programs and check if desired results achieved."
   ]
  },
  {
   "cell_type": "markdown",
   "id": "97f959f7",
   "metadata": {},
   "source": [
    "**All of that** will be done on Spyder."
   ]
  },
  {
   "cell_type": "markdown",
   "id": "64007354",
   "metadata": {},
   "source": [
    "## 85 - Running Tests at the `unittest` Library"
   ]
  }
 ],
 "metadata": {
  "kernelspec": {
   "display_name": "Python 3 (ipykernel)",
   "language": "python",
   "name": "python3"
  },
  "language_info": {
   "codemirror_mode": {
    "name": "ipython",
    "version": 3
   },
   "file_extension": ".py",
   "mimetype": "text/x-python",
   "name": "python",
   "nbconvert_exporter": "python",
   "pygments_lexer": "ipython3",
   "version": "3.11.5"
  }
 },
 "nbformat": 4,
 "nbformat_minor": 5
}
