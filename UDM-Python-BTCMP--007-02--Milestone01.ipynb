{
 "cells": [
  {
   "cell_type": "markdown",
   "id": "aac606b2",
   "metadata": {},
   "source": [
    "# Tic Tac Toe Game\n",
    "\n",
    "- Two-player game, with both players sitting at the same computer.\n",
    "- The board must be printed out every time a player makes a move.\n",
    "- Accept input from the player, indicating position, and then update the board.\n",
    "- Tic tac toe board's cells will be numbered in the order the keys on the keypad are numbered."
   ]
  },
  {
   "cell_type": "markdown",
   "id": "5c7ce534",
   "metadata": {},
   "source": [
    "## Basic Layout of the Programming Logic\n",
    "\n",
    "1. Decide who starts first: X or O.\n",
    "2. Print the board.\n",
    "    - A function that should:\n",
    "        - receive a dictionnary with positions and values,\n",
    "        - print the board and the values.\n",
    "        \n",
    "3. Manage the state of the board.\n",
    "    - Logic/a function that indicates if the board should be showing:\n",
    "        - the indices of the board,\n",
    "        - then the empty board (to start the game),\n",
    "        - then the updated board after the input from a user.\n",
    "4. Ask the user for input.\n",
    "    - A function that should include data type validation.\n",
    "5. Check if there are three of the same in line.\n",
    "    - A function that should take what player's just made a move,\n",
    "    - Check against all possible combinations with their symbol (X, O) for three in line,\n",
    "        - Is there a better way to do this?\n",
    "    - Return if there is a winner of not.\n",
    "6. Continue playing, or declare winner, depending on previous result.\n",
    "7. Ask the user if they want to play again.\n",
    "    - A function that takes input from user,\n",
    "    - Validates data,\n",
    "    - Returns boolean.\n",
    "8. At different points, make a pause and ask if continue\n",
    "    - A function that executes a loop until y or Y is entered."
   ]
  },
  {
   "cell_type": "markdown",
   "id": "091d2a47",
   "metadata": {},
   "source": [
    "## Libraries"
   ]
  },
  {
   "cell_type": "code",
   "execution_count": 1,
   "id": "120826f0",
   "metadata": {},
   "outputs": [],
   "source": [
    "from IPython.display import clear_output"
   ]
  },
  {
   "cell_type": "markdown",
   "id": "221da398",
   "metadata": {},
   "source": [
    "## Functions"
   ]
  },
  {
   "cell_type": "markdown",
   "id": "8fbe19da",
   "metadata": {},
   "source": [
    "### 1. Decision if X or O Starts"
   ]
  },
  {
   "cell_type": "code",
   "execution_count": 14,
   "id": "a380e2fc",
   "metadata": {},
   "outputs": [],
   "source": [
    "# Definition\n",
    "def which_player_first():\n",
    "    '''\n",
    "    This function asks the user to input which player goes first (X or O).\n",
    "    Subsequently, it validates the input.\n",
    "    Fianlly, it returns the string with the input.\n",
    "    '''\n",
    "    # List of valid values\n",
    "    valid_values = [\"X\", \"O\"]\n",
    "    player = \"initial\"\n",
    "    \n",
    "    while player.upper() not in valid_values:\n",
    "        # User input\n",
    "        player = input(\"Which player would like to go first, 'X' or 'O'? \")\n",
    "    \n",
    "        # Data validation\n",
    "        if player.upper() not in valid_values:\n",
    "            # player is invalid, ask for valid\n",
    "            print(\"Invalid. It must be either 'X' or 'O'.\")\n",
    "    \n",
    "    # Once validation is achieved\n",
    "    return player.upper()"
   ]
  },
  {
   "cell_type": "markdown",
   "id": "791260fe",
   "metadata": {},
   "source": [
    "### 2. Printing of the Board"
   ]
  },
  {
   "cell_type": "code",
   "execution_count": 9,
   "id": "8661acef",
   "metadata": {},
   "outputs": [],
   "source": [
    "def board_display(cells):\n",
    "    '''\n",
    "    A function that receives a dictionnary with positions\n",
    "    and values, and prints the board with the values in each cell.\n",
    "    '''\n",
    "    print(f\"{cells['7']}|{cells['8']}|{cells['9']}\")\n",
    "    print(\"-----\")\n",
    "    print(f\"{cells['4']}|{cells['5']}|{cells['6']}\")\n",
    "    print(\"-----\")\n",
    "    print(f\"{cells['1']}|{cells['2']}|{cells['3']}\")"
   ]
  },
  {
   "cell_type": "markdown",
   "id": "efa65d7e",
   "metadata": {},
   "source": [
    "### 4. Position Input from User"
   ]
  },
  {
   "cell_type": "code",
   "execution_count": 12,
   "id": "7869c5b4",
   "metadata": {},
   "outputs": [],
   "source": [
    "# Definition of function where user inputs position to change\n",
    "def user_input_pos():\n",
    "    '''\n",
    "    This function ask the user to input a number from 1 to 9.\n",
    "    Subsequently, it validates if input is valid.\n",
    "    It returns the string with the input.\n",
    "    '''\n",
    "    # List of valid values\n",
    "    valid_values = [\"1\", \"2\", \"3\", \"4\", \"5\", \"6\", \"7\", \"8\", \"9\"]\n",
    "    pos = \"initial\"\n",
    "    \n",
    "    while pos not in valid_values:\n",
    "        # User input\n",
    "        pos = input(\"Make your move, indicate which cell you want (1 to 9): \")\n",
    "    \n",
    "        # Data validation\n",
    "        if pos not in valid_values:\n",
    "            # pos is invalid, ask for valid\n",
    "            print(\"Invalid. It must be a number from 1 to 9.\")\n",
    "    \n",
    "    # Once validation is achieved\n",
    "    return pos"
   ]
  },
  {
   "cell_type": "markdown",
   "id": "fe11e672",
   "metadata": {},
   "source": [
    "### 5. Three in a Line?"
   ]
  },
  {
   "cell_type": "code",
   "execution_count": 29,
   "id": "4e6fa87e",
   "metadata": {},
   "outputs": [],
   "source": [
    "# Definition\n",
    "def find_three_line(cells, mark):\n",
    "    '''\n",
    "    A\n",
    "    '''\n",
    "    return (\n",
    "        (cells['1'] == cells['4'] == cells['7'] == mark) or (cells['2'] == cells['5'] == cells['8'] == mark) or (cells['3'] == cells['6'] == cells['9'] == mark) or\n",
    "        (cells['1'] == cells['2'] == cells['3'] == mark) or (cells['4'] == cells['5'] == cells['6'] == mark) or (cells['7'] == cells['8'] == cells['9'] == mark) or\n",
    "        (cells['1'] == cells['5'] == cells['9'] == mark) or (cells['3'] == cells['5'] == cells['7'] == mark)\n",
    "    )"
   ]
  },
  {
   "cell_type": "markdown",
   "id": "c69f1c71",
   "metadata": {},
   "source": [
    "### 7. Another game?"
   ]
  },
  {
   "cell_type": "code",
   "execution_count": 23,
   "id": "f16940ca",
   "metadata": {},
   "outputs": [],
   "source": [
    "# Definition\n",
    "def another_game():\n",
    "    '''\n",
    "    A\n",
    "    '''\n",
    "    valid = [\"Y\", \"N\"]\n",
    "    reply = \"default\"\n",
    "    while reply.upper() not in valid:\n",
    "        reply = input(\"Would you like to play again? (Y/N) \")\n",
    "        \n",
    "        # Validation\n",
    "        if reply.upper() not in valid:\n",
    "            # reply is invalid, ask for valid\n",
    "            print(\"Invalid entry.\")\n",
    "    \n",
    "    return reply.upper() == \"Y\""
   ]
  },
  {
   "cell_type": "markdown",
   "id": "a8a5c110",
   "metadata": {},
   "source": [
    "### 8. Pause/continue"
   ]
  },
  {
   "cell_type": "code",
   "execution_count": 21,
   "id": "d2645428",
   "metadata": {},
   "outputs": [],
   "source": [
    "# Definition\n",
    "def pause_continue():\n",
    "    '''\n",
    "    A\n",
    "    '''\n",
    "    valid_intro = \"Y\"\n",
    "    intro_reply = \"default\"\n",
    "    while intro_reply.upper() not in valid_intro:\n",
    "        intro_reply = input(\"Press 'Y' to continue. \")"
   ]
  },
  {
   "cell_type": "markdown",
   "id": "1cc2791d",
   "metadata": {},
   "source": [
    "## Game"
   ]
  },
  {
   "cell_type": "code",
   "execution_count": 35,
   "id": "bbc4e80f",
   "metadata": {},
   "outputs": [],
   "source": [
    "def play_tic_tac_toe():\n",
    "    # Intro to the game\n",
    "    print(\"This is the Tic Tac Toe game.\")\n",
    "    \n",
    "    # Pause/continue\n",
    "    pause_continue()\n",
    "    clear_output()\n",
    "    \n",
    "    # Game on flag\n",
    "    game_on = True\n",
    "    # Game\n",
    "    while game_on:        \n",
    "        # Board's numbers for each cell\n",
    "        board = {str(i): i for i in range(1, 10)}\n",
    "        # Show reference board\n",
    "        print(\"These are the numbers to reference the cell where\")\n",
    "        print(\"you want to write in your mark:\\n\")\n",
    "        board_display(board)\n",
    "        print(\"\\nGot it?\")\n",
    "    \n",
    "        # Pause/continue\n",
    "        pause_continue()\n",
    "        clear_output()\n",
    "    \n",
    "        # Starting player\n",
    "        player_mark = which_player_first()\n",
    "        clear_output()\n",
    "        \n",
    "        # Initial board\n",
    "        board = {str(i): ' ' for i in range(1, 10)}\n",
    "\n",
    "        # Winner flag\n",
    "        winner = False\n",
    "        # Round\n",
    "        while not winner:\n",
    "            # Show the board\n",
    "            print(f\"Very well, player '{player_mark}', the board's looking like this:\")\n",
    "            print()\n",
    "            board_display(board)\n",
    "            \n",
    "            # Where to update\n",
    "            position = user_input_pos()\n",
    "            # Update the board\n",
    "            board[position] = player_mark\n",
    "            \n",
    "            # Check if winner\n",
    "            winner = find_three_line(board, player_mark)\n",
    "            \n",
    "            # Change over to the other player\n",
    "            if not winner:\n",
    "                if player_mark == 'X':\n",
    "                    player_mark = 'O'\n",
    "                else:\n",
    "                    player_mark = 'X'\n",
    "                    \n",
    "            clear_output()\n",
    "                    \n",
    "        # Winner message\n",
    "        print(f\"Congratulations! You made it player {player_mark}!\")\n",
    "        print(\"You certainly dominated the game! Hurray!!\")\n",
    "        # Show winning board\n",
    "        board_display(board)\n",
    "        print('')\n",
    "        # Another game?\n",
    "        game_on = another_game()\n",
    "        clear_output()\n",
    "        \n",
    "    # Goodbye message\n",
    "    print(\"Thanks for playing! Come back soon, and have a good one!\")"
   ]
  },
  {
   "cell_type": "code",
   "execution_count": 36,
   "id": "98fae80a",
   "metadata": {},
   "outputs": [
    {
     "name": "stdout",
     "output_type": "stream",
     "text": [
      "Thanks for playing! Come back soon, and have a good one!\n"
     ]
    }
   ],
   "source": [
    "# Play the game\n",
    "play_tic_tac_toe()"
   ]
  },
  {
   "cell_type": "markdown",
   "id": "c8a56529",
   "metadata": {},
   "source": [
    "**IT STILL NEEDS:**\n",
    "\n",
    "- To prevent modification of an already used cell\n",
    "- To check for a tie.\n"
   ]
  },
  {
   "cell_type": "code",
   "execution_count": null,
   "id": "59f57c8d",
   "metadata": {},
   "outputs": [],
   "source": []
  }
 ],
 "metadata": {
  "kernelspec": {
   "display_name": "Python 3 (ipykernel)",
   "language": "python",
   "name": "python3"
  },
  "language_info": {
   "codemirror_mode": {
    "name": "ipython",
    "version": 3
   },
   "file_extension": ".py",
   "mimetype": "text/x-python",
   "name": "python",
   "nbconvert_exporter": "python",
   "pygments_lexer": "ipython3",
   "version": "3.11.5"
  }
 },
 "nbformat": 4,
 "nbformat_minor": 5
}
