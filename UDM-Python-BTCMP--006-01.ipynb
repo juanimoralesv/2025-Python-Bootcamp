{
 "cells": [
  {
   "cell_type": "markdown",
   "id": "27ab4e5f",
   "metadata": {},
   "source": [
    "# Section 06 - Methods and Functions"
   ]
  },
  {
   "cell_type": "markdown",
   "id": "4624bdca",
   "metadata": {},
   "source": [
    "## 41 - Methods and the Python Documentation"
   ]
  },
  {
   "cell_type": "markdown",
   "id": "18211771",
   "metadata": {},
   "source": [
    "- Methods are built-in functions objects have."
   ]
  },
  {
   "cell_type": "code",
   "execution_count": 1,
   "id": "c6eba0f7",
   "metadata": {},
   "outputs": [
    {
     "data": {
      "text/plain": [
       "[1, 2, 3]"
      ]
     },
     "execution_count": 1,
     "metadata": {},
     "output_type": "execute_result"
    }
   ],
   "source": [
    "mylist = list(range(1, 4))\n",
    "mylist"
   ]
  },
  {
   "cell_type": "code",
   "execution_count": 2,
   "id": "2a5d815a",
   "metadata": {},
   "outputs": [
    {
     "data": {
      "text/plain": [
       "[1, 2, 3, 4]"
      ]
     },
     "execution_count": 2,
     "metadata": {},
     "output_type": "execute_result"
    }
   ],
   "source": [
    "# Method example\n",
    "mylist.append(4)\n",
    "mylist"
   ]
  },
  {
   "cell_type": "code",
   "execution_count": 3,
   "id": "a9fb361c",
   "metadata": {},
   "outputs": [
    {
     "data": {
      "text/plain": [
       "4"
      ]
     },
     "execution_count": 3,
     "metadata": {},
     "output_type": "execute_result"
    }
   ],
   "source": [
    "# Another one\n",
    "mylist.pop()"
   ]
  },
  {
   "cell_type": "code",
   "execution_count": 4,
   "id": "1a742897",
   "metadata": {},
   "outputs": [
    {
     "data": {
      "text/plain": [
       "[1, 2, 3]"
      ]
     },
     "execution_count": 4,
     "metadata": {},
     "output_type": "execute_result"
    }
   ],
   "source": [
    "mylist"
   ]
  },
  {
   "cell_type": "code",
   "execution_count": 7,
   "id": "b0d95ec7",
   "metadata": {},
   "outputs": [],
   "source": [
    "# Ways of discovering methods\n",
    "# mylist.# hit tab here"
   ]
  },
  {
   "cell_type": "code",
   "execution_count": 8,
   "id": "668a55dd",
   "metadata": {},
   "outputs": [
    {
     "data": {
      "text/plain": [
       "<function list.insert(index, object, /)>"
      ]
     },
     "execution_count": 8,
     "metadata": {},
     "output_type": "execute_result"
    }
   ],
   "source": [
    "mylist.insert# hit shift+tab here"
   ]
  },
  {
   "cell_type": "code",
   "execution_count": 9,
   "id": "17a0cd84",
   "metadata": {},
   "outputs": [
    {
     "name": "stdout",
     "output_type": "stream",
     "text": [
      "Help on built-in function insert:\n",
      "\n",
      "insert(index, object, /) method of builtins.list instance\n",
      "    Insert object before index.\n",
      "\n"
     ]
    }
   ],
   "source": [
    "# Built-in help function\n",
    "help(mylist.insert)"
   ]
  },
  {
   "cell_type": "markdown",
   "id": "c13dbbc9",
   "metadata": {},
   "source": [
    "Another option, go to Python [docs](https://doc.python.org/3): "
   ]
  },
  {
   "cell_type": "code",
   "execution_count": 10,
   "id": "e7a49600",
   "metadata": {},
   "outputs": [
    {
     "data": {
      "text/plain": [
       "[1, 101, 2, 3]"
      ]
     },
     "execution_count": 10,
     "metadata": {},
     "output_type": "execute_result"
    }
   ],
   "source": [
    "# Example usage of .insert()\n",
    "mylist.insert(1, 101)\n",
    "mylist"
   ]
  },
  {
   "cell_type": "markdown",
   "id": "9637129f",
   "metadata": {},
   "source": [
    "## 42 - Introduction to Functions"
   ]
  },
  {
   "cell_type": "markdown",
   "id": "395b5fcb",
   "metadata": {},
   "source": [
    "- Functions allow to repeatedly run blocks of code, without having to write them once and again, making the code cleaner and more readable."
   ]
  },
  {
   "cell_type": "markdown",
   "id": "7f944b06",
   "metadata": {},
   "source": [
    "## 43 - `def` Keyword"
   ]
  },
  {
   "cell_type": "markdown",
   "id": "514917c6",
   "metadata": {},
   "source": [
    "- This keyword allows for the creation of functions.\n",
    "- Syntax:\n",
    "```Python\n",
    "def name_of_function(arguments/parameters):\n",
    "    '''\n",
    "    Docstring explaining the function.\n",
    "    '''\n",
    "    # Function code\n",
    "```\n",
    "- Snake-casing for function names, and camel casing for class names.\n",
    "- When called, it looks like:\n",
    "```Python\n",
    "name_of_function()\n",
    "\n",
    "# And it returns, or not, whatever it's supposed to do\n",
    "```"
   ]
  },
  {
   "cell_type": "code",
   "execution_count": 1,
   "id": "67c97f8b",
   "metadata": {},
   "outputs": [],
   "source": [
    "# Example\n",
    "def salute_you(name):\n",
    "    print(f\"I salute you {name}!\")"
   ]
  },
  {
   "cell_type": "code",
   "execution_count": 3,
   "id": "e54e6b5a",
   "metadata": {},
   "outputs": [
    {
     "name": "stdout",
     "output_type": "stream",
     "text": [
      "I salute you pepperoni pizza!\n"
     ]
    }
   ],
   "source": [
    "salute_you(\"pepperoni pizza\")"
   ]
  },
  {
   "cell_type": "markdown",
   "id": "28eacd35",
   "metadata": {},
   "source": [
    "The `return` keyword is used to return the result of the function code (this is different from printing)."
   ]
  },
  {
   "cell_type": "code",
   "execution_count": 4,
   "id": "8aa31c79",
   "metadata": {},
   "outputs": [],
   "source": [
    "# Another example\n",
    "def addition_func(num1, num2):\n",
    "    '''Super useful function that adds two numbers and gives back the result.'''\n",
    "    return num1 + num2"
   ]
  },
  {
   "cell_type": "code",
   "execution_count": 6,
   "id": "c15f810d",
   "metadata": {},
   "outputs": [
    {
     "data": {
      "text/plain": [
       "98"
      ]
     },
     "execution_count": 6,
     "metadata": {},
     "output_type": "execute_result"
    }
   ],
   "source": [
    "# Calling that function\n",
    "addition_func(1, 97)"
   ]
  },
  {
   "cell_type": "markdown",
   "id": "a53333f0",
   "metadata": {},
   "source": [
    "The use of `return` allows to save the result of the function into a variable. Print does not allow that."
   ]
  },
  {
   "cell_type": "markdown",
   "id": "8d1b5e8d",
   "metadata": {},
   "source": [
    "## 44 - Basics of Python Functions"
   ]
  },
  {
   "cell_type": "code",
   "execution_count": 7,
   "id": "bb672b47",
   "metadata": {},
   "outputs": [],
   "source": [
    "# Defining the function\n",
    "def say_hello():\n",
    "    print(\"Hello!\")\n",
    "    print(\"You,\")\n",
    "    print(\"S'wit!\")"
   ]
  },
  {
   "cell_type": "code",
   "execution_count": 9,
   "id": "a2bc6470",
   "metadata": {},
   "outputs": [
    {
     "name": "stdout",
     "output_type": "stream",
     "text": [
      "Hello!\n",
      "You,\n",
      "S'wit!\n"
     ]
    }
   ],
   "source": [
    "# Calling the function\n",
    "say_hello()"
   ]
  },
  {
   "cell_type": "code",
   "execution_count": 10,
   "id": "1b49d451",
   "metadata": {},
   "outputs": [
    {
     "data": {
      "text/plain": [
       "<function __main__.say_hello()>"
      ]
     },
     "execution_count": 10,
     "metadata": {},
     "output_type": "execute_result"
    }
   ],
   "source": [
    "# Calling it without the parenthesis\n",
    "say_hello"
   ]
  },
  {
   "cell_type": "code",
   "execution_count": 11,
   "id": "df6c9d27",
   "metadata": {},
   "outputs": [],
   "source": [
    "# Similar to las lecture\n",
    "def say_hello(name):\n",
    "    print(f\"Hello, {name}!\")"
   ]
  },
  {
   "cell_type": "code",
   "execution_count": 12,
   "id": "76d57cab",
   "metadata": {},
   "outputs": [
    {
     "name": "stdout",
     "output_type": "stream",
     "text": [
      "Hello, God!\n"
     ]
    }
   ],
   "source": [
    "# Calling it\n",
    "say_hello(\"God\")"
   ]
  },
  {
   "cell_type": "code",
   "execution_count": 13,
   "id": "77addf16",
   "metadata": {},
   "outputs": [
    {
     "ename": "TypeError",
     "evalue": "say_hello() missing 1 required positional argument: 'name'",
     "output_type": "error",
     "traceback": [
      "\u001b[1;31m---------------------------------------------------------------------------\u001b[0m",
      "\u001b[1;31mTypeError\u001b[0m                                 Traceback (most recent call last)",
      "Cell \u001b[1;32mIn[13], line 2\u001b[0m\n\u001b[0;32m      1\u001b[0m \u001b[38;5;66;03m# Without argument\u001b[39;00m\n\u001b[1;32m----> 2\u001b[0m say_hello()\n",
      "\u001b[1;31mTypeError\u001b[0m: say_hello() missing 1 required positional argument: 'name'"
     ]
    }
   ],
   "source": [
    "# Without argument\n",
    "say_hello()"
   ]
  },
  {
   "cell_type": "markdown",
   "id": "4d56fd9b",
   "metadata": {},
   "source": [
    "A way to solve that problem is defining a default value that the function can use when none is provided."
   ]
  },
  {
   "cell_type": "code",
   "execution_count": 16,
   "id": "7c377cf3",
   "metadata": {},
   "outputs": [],
   "source": [
    "# Redifine with default value\n",
    "def say_hello(name = \"person\"):\n",
    "    print(f\"Hello, {name}!\")"
   ]
  },
  {
   "cell_type": "code",
   "execution_count": 17,
   "id": "274f571e",
   "metadata": {},
   "outputs": [
    {
     "name": "stdout",
     "output_type": "stream",
     "text": [
      "Hello, person!\n"
     ]
    }
   ],
   "source": [
    "# Calling it\n",
    "say_hello()"
   ]
  },
  {
   "cell_type": "markdown",
   "id": "33ca0d8a",
   "metadata": {},
   "source": [
    "Now, usage of the `return` keyword. NOTE: the `return` keyword ends the execution of the function, at whichever point it's found."
   ]
  },
  {
   "cell_type": "code",
   "execution_count": 19,
   "id": "059a4c42",
   "metadata": {},
   "outputs": [],
   "source": [
    "# Function definition\n",
    "def add_num(num1, num2):\n",
    "    return num1 + num2"
   ]
  },
  {
   "cell_type": "code",
   "execution_count": 20,
   "id": "8958e20d",
   "metadata": {},
   "outputs": [
    {
     "data": {
      "text/plain": [
       "30"
      ]
     },
     "execution_count": 20,
     "metadata": {},
     "output_type": "execute_result"
    }
   ],
   "source": [
    "# Function call\n",
    "add_num(10, 20)"
   ]
  },
  {
   "cell_type": "code",
   "execution_count": 21,
   "id": "6f1618f4",
   "metadata": {},
   "outputs": [
    {
     "data": {
      "text/plain": [
       "30"
      ]
     },
     "execution_count": 21,
     "metadata": {},
     "output_type": "execute_result"
    }
   ],
   "source": [
    "# Assigning the result from the function to a variable\n",
    "result = add_num(10, 20)\n",
    "result"
   ]
  },
  {
   "cell_type": "code",
   "execution_count": 25,
   "id": "420f8634",
   "metadata": {},
   "outputs": [],
   "source": [
    "# Combining a print and a return\n",
    "def myfunc(a = 0, b = 0):\n",
    "    print(f\"The result is {a + b}.\")\n",
    "    return a + b"
   ]
  },
  {
   "cell_type": "code",
   "execution_count": 26,
   "id": "c08f3ce6",
   "metadata": {},
   "outputs": [
    {
     "name": "stdout",
     "output_type": "stream",
     "text": [
      "The result is 6.\n"
     ]
    },
    {
     "data": {
      "text/plain": [
       "6"
      ]
     },
     "execution_count": 26,
     "metadata": {},
     "output_type": "execute_result"
    }
   ],
   "source": [
    "# Calling it\n",
    "resres = myfunc(1, 5)\n",
    "resres"
   ]
  },
  {
   "cell_type": "markdown",
   "id": "833c65a9",
   "metadata": {},
   "source": [
    "Data type validation importance:"
   ]
  },
  {
   "cell_type": "code",
   "execution_count": 27,
   "id": "ac497cfc",
   "metadata": {},
   "outputs": [
    {
     "name": "stdout",
     "output_type": "stream",
     "text": [
      "The result is 1020.\n"
     ]
    },
    {
     "data": {
      "text/plain": [
       "'1020'"
      ]
     },
     "execution_count": 27,
     "metadata": {},
     "output_type": "execute_result"
    }
   ],
   "source": [
    "# Because of \"unexpected\" results like\n",
    "myfunc('10', '20')"
   ]
  },
  {
   "cell_type": "markdown",
   "id": "05ee374c",
   "metadata": {},
   "source": [
    "## 45 - Logic with Python Functions"
   ]
  },
  {
   "cell_type": "markdown",
   "id": "b290ae5b",
   "metadata": {},
   "source": [
    "A function for checking if a number is even or odd."
   ]
  },
  {
   "cell_type": "code",
   "execution_count": 31,
   "id": "3842e5b9",
   "metadata": {},
   "outputs": [],
   "source": [
    "# Definition\n",
    "def check_even(num = 0):\n",
    "    if num % 2 == 0:\n",
    "        print(f\"The number {num} is even.\")\n",
    "    else:\n",
    "        print(f\"The number {num} is odd.\")\n",
    "    return num % 2 == 0"
   ]
  },
  {
   "cell_type": "code",
   "execution_count": 33,
   "id": "4fcb2597",
   "metadata": {},
   "outputs": [
    {
     "name": "stdout",
     "output_type": "stream",
     "text": [
      "The number 2781 is odd.\n"
     ]
    },
    {
     "data": {
      "text/plain": [
       "False"
      ]
     },
     "execution_count": 33,
     "metadata": {},
     "output_type": "execute_result"
    }
   ],
   "source": [
    "# Calling it\n",
    "check_even(2781)"
   ]
  },
  {
   "cell_type": "markdown",
   "id": "9de29181",
   "metadata": {},
   "source": [
    "The following function should return `True` if any number in the list is even."
   ]
  },
  {
   "cell_type": "code",
   "execution_count": 55,
   "id": "590220f7",
   "metadata": {},
   "outputs": [],
   "source": [
    "def find_even(lst_numbers = [1]):\n",
    "    for num in lst_numbers:\n",
    "        if num % 2 == 0:\n",
    "            return True\n",
    "    print(\"No even number was found!\")"
   ]
  },
  {
   "cell_type": "code",
   "execution_count": 56,
   "id": "7493dd95",
   "metadata": {},
   "outputs": [
    {
     "name": "stdout",
     "output_type": "stream",
     "text": [
      "No even number was found!\n"
     ]
    }
   ],
   "source": [
    "a_list = [1, 13, 29, 85, 31]\n",
    "find_even(a_list)"
   ]
  },
  {
   "cell_type": "markdown",
   "id": "8436a8e1",
   "metadata": {},
   "source": [
    "Improvement on the last function. Now, it has to return all of the even numbers in the list."
   ]
  },
  {
   "cell_type": "code",
   "execution_count": 84,
   "id": "17b47862",
   "metadata": {},
   "outputs": [],
   "source": [
    "# Definition\n",
    "def find_report_even(lst_numbers = [1]):\n",
    "    lst_evens = [num for num in lst_numbers if num % 2 == 0]\n",
    "    if bool(lst_evens):\n",
    "        print(\"Even numbers found!\")\n",
    "        return lst_evens\n",
    "    else:\n",
    "        print(\"No even number was found.\")\n",
    "        return lst_evens"
   ]
  },
  {
   "cell_type": "code",
   "execution_count": 85,
   "id": "aa5aa693",
   "metadata": {},
   "outputs": [
    {
     "name": "stdout",
     "output_type": "stream",
     "text": [
      "Even numbers found!\n"
     ]
    },
    {
     "data": {
      "text/plain": [
       "[22]"
      ]
     },
     "execution_count": 85,
     "metadata": {},
     "output_type": "execute_result"
    }
   ],
   "source": [
    "# Call\n",
    "num_list = [1, 3, 5, 22, 9]\n",
    "find_report_even(num_list)"
   ]
  },
  {
   "cell_type": "code",
   "execution_count": 86,
   "id": "1f962480",
   "metadata": {},
   "outputs": [
    {
     "name": "stdout",
     "output_type": "stream",
     "text": [
      "Even numbers found!\n"
     ]
    },
    {
     "data": {
      "text/plain": [
       "[22]"
      ]
     },
     "execution_count": 86,
     "metadata": {},
     "output_type": "execute_result"
    }
   ],
   "source": [
    "# Call and save result\n",
    "lst_even_nums = find_report_even(num_list)\n",
    "lst_even_nums"
   ]
  },
  {
   "cell_type": "code",
   "execution_count": 87,
   "id": "49578ec2",
   "metadata": {},
   "outputs": [
    {
     "name": "stdout",
     "output_type": "stream",
     "text": [
      "No even number was found.\n"
     ]
    },
    {
     "data": {
      "text/plain": [
       "[]"
      ]
     },
     "execution_count": 87,
     "metadata": {},
     "output_type": "execute_result"
    }
   ],
   "source": [
    "# New call\n",
    "num_list = []\n",
    "find_report_even(num_list)"
   ]
  },
  {
   "cell_type": "markdown",
   "id": "b7eb4bc0",
   "metadata": {},
   "source": [
    "## 46 - Tuple Unpacking with Python Functions"
   ]
  },
  {
   "cell_type": "code",
   "execution_count": 88,
   "id": "6b4a3ce1",
   "metadata": {},
   "outputs": [],
   "source": [
    "# Stock prices in list of tuples\n",
    "stock_prices = [('APPL', 200), ('GOOG', 400), ('MSFT', 100)]"
   ]
  },
  {
   "cell_type": "code",
   "execution_count": 89,
   "id": "9e36684c",
   "metadata": {},
   "outputs": [
    {
     "name": "stdout",
     "output_type": "stream",
     "text": [
      "('APPL', 200)\n",
      "('GOOG', 400)\n",
      "('MSFT', 100)\n"
     ]
    }
   ],
   "source": [
    "# Print each tuple\n",
    "for item in stock_prices:\n",
    "    print(item)"
   ]
  },
  {
   "cell_type": "code",
   "execution_count": 90,
   "id": "75b2398a",
   "metadata": {},
   "outputs": [
    {
     "name": "stdout",
     "output_type": "stream",
     "text": [
      "APPL\n",
      "GOOG\n",
      "MSFT\n"
     ]
    }
   ],
   "source": [
    "# Print with tuple unpacking\n",
    "for ticker, price in stock_prices:\n",
    "    print(ticker)"
   ]
  },
  {
   "cell_type": "markdown",
   "id": "63e1a394",
   "metadata": {},
   "source": [
    "A function to unpack tuples"
   ]
  },
  {
   "cell_type": "code",
   "execution_count": 118,
   "id": "0ad31037",
   "metadata": {},
   "outputs": [],
   "source": [
    "# Hours employees have worked\n",
    "work_hours = [('Abby', 100), ('Billy', 400), ('Cassie', 800)]"
   ]
  },
  {
   "cell_type": "markdown",
   "id": "a437231f",
   "metadata": {},
   "source": [
    "After recalling there's a way of ordering a list of tuples using one of the elements in the tuples, my version:"
   ]
  },
  {
   "cell_type": "code",
   "execution_count": 119,
   "id": "02b1be8c",
   "metadata": {},
   "outputs": [],
   "source": [
    "# Function finding the employee that worked the most hours\n",
    "def check_employee(lst_of_tpl):\n",
    "    lst_sorted = sorted(lst_of_tpl, key = lambda x: x[1], reverse = True)\n",
    "    return lst_sorted[0][0], lst_sorted[0][1]"
   ]
  },
  {
   "cell_type": "markdown",
   "id": "8544869f",
   "metadata": {},
   "source": [
    "This function doesn't really use tuple unpacking for finding the employee that worked the most hours (at least not explicitly)."
   ]
  },
  {
   "cell_type": "code",
   "execution_count": 120,
   "id": "b535db04",
   "metadata": {},
   "outputs": [
    {
     "data": {
      "text/plain": [
       "('Cassie', 800)"
      ]
     },
     "execution_count": 120,
     "metadata": {},
     "output_type": "execute_result"
    }
   ],
   "source": [
    "# Calling the function\n",
    "employee_of_the_month = check_employee(work_hours)\n",
    "employee_of_the_month"
   ]
  },
  {
   "cell_type": "markdown",
   "id": "4db90dc2",
   "metadata": {},
   "source": [
    "Version from course:"
   ]
  },
  {
   "cell_type": "code",
   "execution_count": 121,
   "id": "17155698",
   "metadata": {},
   "outputs": [],
   "source": [
    "# Another function doing the same\n",
    "def employee_month(lst_of_tpl):\n",
    "    current_max = 0\n",
    "    employee_of_month = ''\n",
    "    \n",
    "    for employee, hours in lst_of_tpl:\n",
    "        if hours > current_max:\n",
    "            current_max = hours\n",
    "            employee_of_month = employee\n",
    "            \n",
    "    return (employee_of_month, current_max)"
   ]
  },
  {
   "cell_type": "code",
   "execution_count": 122,
   "id": "f55d0075",
   "metadata": {},
   "outputs": [
    {
     "data": {
      "text/plain": [
       "('Cassie', 800)"
      ]
     },
     "execution_count": 122,
     "metadata": {},
     "output_type": "execute_result"
    }
   ],
   "source": [
    "# Calling the function\n",
    "empl_month = employee_month(work_hours)\n",
    "empl_month"
   ]
  },
  {
   "cell_type": "code",
   "execution_count": 124,
   "id": "f29ee7af",
   "metadata": {},
   "outputs": [
    {
     "name": "stdout",
     "output_type": "stream",
     "text": [
      "The employee of the month is Cassie, because of having worked 800 hours.\n"
     ]
    }
   ],
   "source": [
    "# Unpacking the result\n",
    "employee_name, employee_hours = check_employee(work_hours)\n",
    "print(f\"The employee of the month is {employee_name}, because of having worked {employee_hours} hours.\")"
   ]
  },
  {
   "cell_type": "markdown",
   "id": "3d5db72d",
   "metadata": {},
   "source": [
    "Common mistake when using a function written by another developer:"
   ]
  },
  {
   "cell_type": "code",
   "execution_count": 125,
   "id": "b55b7d80",
   "metadata": {},
   "outputs": [
    {
     "ename": "ValueError",
     "evalue": "not enough values to unpack (expected 3, got 2)",
     "output_type": "error",
     "traceback": [
      "\u001b[1;31m---------------------------------------------------------------------------\u001b[0m",
      "\u001b[1;31mValueError\u001b[0m                                Traceback (most recent call last)",
      "Cell \u001b[1;32mIn[125], line 2\u001b[0m\n\u001b[0;32m      1\u001b[0m \u001b[38;5;66;03m# Believing it returns three elements\u001b[39;00m\n\u001b[1;32m----> 2\u001b[0m employee_name, employee_hours, employee_gender \u001b[38;5;241m=\u001b[39m check_employee(work_hours)\n",
      "\u001b[1;31mValueError\u001b[0m: not enough values to unpack (expected 3, got 2)"
     ]
    }
   ],
   "source": [
    "# Believing it returns three elements\n",
    "employee_name, employee_hours, employee_gender = check_employee(work_hours)"
   ]
  },
  {
   "cell_type": "code",
   "execution_count": 126,
   "id": "a23244fc",
   "metadata": {},
   "outputs": [
    {
     "data": {
      "text/plain": [
       "('Cassie', 800)"
      ]
     },
     "execution_count": 126,
     "metadata": {},
     "output_type": "execute_result"
    }
   ],
   "source": [
    "# Review by assigning all that is returned to a single element\n",
    "result = check_employee(work_hours)\n",
    "# And then explore\n",
    "result"
   ]
  },
  {
   "cell_type": "markdown",
   "id": "52b9e681",
   "metadata": {},
   "source": [
    "## 47 - Interactions between Python Functions"
   ]
  },
  {
   "cell_type": "markdown",
   "id": "bf5b964b",
   "metadata": {},
   "source": [
    "Very usually, results from functions are fed to other funtions."
   ]
  },
  {
   "cell_type": "markdown",
   "id": "d837508a",
   "metadata": {},
   "source": [
    "**Goal:** simulate a game of three-cup monte."
   ]
  },
  {
   "cell_type": "code",
   "execution_count": 127,
   "id": "d1628c76",
   "metadata": {},
   "outputs": [
    {
     "data": {
      "text/plain": [
       "[1, 2, 3, 4, 5, 6, 7]"
      ]
     },
     "execution_count": 127,
     "metadata": {},
     "output_type": "execute_result"
    }
   ],
   "source": [
    "# Shuffle\n",
    "example = list(range(1, 8))\n",
    "example"
   ]
  },
  {
   "cell_type": "code",
   "execution_count": 129,
   "id": "353948bd",
   "metadata": {},
   "outputs": [
    {
     "data": {
      "text/plain": [
       "[4, 5, 6, 7, 1, 3, 2]"
      ]
     },
     "execution_count": 129,
     "metadata": {},
     "output_type": "execute_result"
    }
   ],
   "source": [
    "from random import shuffle\n",
    "\n",
    "shuffle(example)\n",
    "example"
   ]
  },
  {
   "cell_type": "code",
   "execution_count": 130,
   "id": "f70e0a0c",
   "metadata": {},
   "outputs": [],
   "source": [
    "# Create a function that returns a shuffled list\n",
    "def shuffle_list(mylist):\n",
    "    shuffle(mylist)\n",
    "    return mylist"
   ]
  },
  {
   "cell_type": "code",
   "execution_count": 131,
   "id": "afd77929",
   "metadata": {},
   "outputs": [
    {
     "data": {
      "text/plain": [
       "[1, 4, 2, 7, 6, 3, 5]"
      ]
     },
     "execution_count": 131,
     "metadata": {},
     "output_type": "execute_result"
    }
   ],
   "source": [
    "example = shuffle_list(example)\n",
    "example"
   ]
  },
  {
   "cell_type": "code",
   "execution_count": 132,
   "id": "2aec2fa2",
   "metadata": {},
   "outputs": [],
   "source": [
    "# List for the game\n",
    "mylist = [' ', 'O', ' '] "
   ]
  },
  {
   "cell_type": "code",
   "execution_count": 133,
   "id": "fae01cc8",
   "metadata": {},
   "outputs": [],
   "source": [
    "# Function for the player to make a guess\n",
    "def player_guess():\n",
    "    guess = ''\n",
    "    \n",
    "    while guess not in ['0', '1', '2']:\n",
    "        guess = input(\"Pick a number among 0, 1, or 2: \")\n",
    "    \n",
    "    return int(guess)"
   ]
  },
  {
   "cell_type": "code",
   "execution_count": 134,
   "id": "d8d36dee",
   "metadata": {},
   "outputs": [
    {
     "name": "stdout",
     "output_type": "stream",
     "text": [
      "Pick a number among 0, 1, or 2: bebé\n",
      "Pick a number among 0, 1, or 2: 3\n",
      "Pick a number among 0, 1, or 2: -1\n",
      "Pick a number among 0, 1, or 2: 1\n"
     ]
    },
    {
     "data": {
      "text/plain": [
       "1"
      ]
     },
     "execution_count": 134,
     "metadata": {},
     "output_type": "execute_result"
    }
   ],
   "source": [
    "# Run the function\n",
    "player_guess()"
   ]
  },
  {
   "cell_type": "code",
   "execution_count": 135,
   "id": "2305708f",
   "metadata": {},
   "outputs": [],
   "source": [
    "# Define a function to check if the guess was correct\n",
    "def check_guess(mylist, guess):\n",
    "    if mylist[guess] == 'O':\n",
    "        print(\"Correct!\")\n",
    "    else:\n",
    "        print(\"Wrong!\")\n",
    "        print(mylist)"
   ]
  },
  {
   "cell_type": "markdown",
   "id": "c1df736e",
   "metadata": {},
   "source": [
    "Now, apply everything done so far, and allow for the game to be played:"
   ]
  },
  {
   "cell_type": "code",
   "execution_count": 148,
   "id": "4affd1ae",
   "metadata": {},
   "outputs": [],
   "source": [
    "from IPython.display import clear_output"
   ]
  },
  {
   "cell_type": "code",
   "execution_count": 147,
   "id": "7f080080",
   "metadata": {},
   "outputs": [
    {
     "name": "stdout",
     "output_type": "stream",
     "text": [
      "Pick a number among 0, 1, or 2: 0\n",
      "Wrong!\n",
      "[' ', ' ', 'O']\n",
      "Type 'n' to stop playing. n\n"
     ]
    }
   ],
   "source": [
    "playing = ''\n",
    "\n",
    "while playing != 'n':\n",
    "    # Initial list\n",
    "    mylist = ['O', ' ', ' ']\n",
    "\n",
    "    # Shuffle list\n",
    "    mylist = shuffle_list(mylist)\n",
    "\n",
    "    # Player guess\n",
    "    guess = player_guess()\n",
    "\n",
    "    # Check guess\n",
    "    check_guess(mylist, guess)\n",
    "    \n",
    "    # Continue playing?\n",
    "    playing = input(\"Type 'n' to stop playing. \")\n",
    "    \n",
    "    # Clear the screen for next round\n",
    "    if playing != 'n':\n",
    "        clear_output()"
   ]
  }
 ],
 "metadata": {
  "kernelspec": {
   "display_name": "Python 3 (ipykernel)",
   "language": "python",
   "name": "python3"
  },
  "language_info": {
   "codemirror_mode": {
    "name": "ipython",
    "version": 3
   },
   "file_extension": ".py",
   "mimetype": "text/x-python",
   "name": "python",
   "nbconvert_exporter": "python",
   "pygments_lexer": "ipython3",
   "version": "3.11.5"
  }
 },
 "nbformat": 4,
 "nbformat_minor": 5
}
