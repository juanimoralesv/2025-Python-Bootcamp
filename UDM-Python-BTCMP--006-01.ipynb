{
 "cells": [
  {
   "cell_type": "markdown",
   "id": "27ab4e5f",
   "metadata": {},
   "source": [
    "# Section 06 - Methods and Functions"
   ]
  },
  {
   "cell_type": "markdown",
   "id": "4624bdca",
   "metadata": {},
   "source": [
    "## 41 - Methods and the Python Documentation"
   ]
  },
  {
   "cell_type": "markdown",
   "id": "18211771",
   "metadata": {},
   "source": [
    "- Methods are built-in functions objects have."
   ]
  },
  {
   "cell_type": "code",
   "execution_count": 1,
   "id": "c6eba0f7",
   "metadata": {},
   "outputs": [
    {
     "data": {
      "text/plain": [
       "[1, 2, 3]"
      ]
     },
     "execution_count": 1,
     "metadata": {},
     "output_type": "execute_result"
    }
   ],
   "source": [
    "mylist = list(range(1, 4))\n",
    "mylist"
   ]
  },
  {
   "cell_type": "code",
   "execution_count": 2,
   "id": "2a5d815a",
   "metadata": {},
   "outputs": [
    {
     "data": {
      "text/plain": [
       "[1, 2, 3, 4]"
      ]
     },
     "execution_count": 2,
     "metadata": {},
     "output_type": "execute_result"
    }
   ],
   "source": [
    "# Method example\n",
    "mylist.append(4)\n",
    "mylist"
   ]
  },
  {
   "cell_type": "code",
   "execution_count": 3,
   "id": "a9fb361c",
   "metadata": {},
   "outputs": [
    {
     "data": {
      "text/plain": [
       "4"
      ]
     },
     "execution_count": 3,
     "metadata": {},
     "output_type": "execute_result"
    }
   ],
   "source": [
    "# Another one\n",
    "mylist.pop()"
   ]
  },
  {
   "cell_type": "code",
   "execution_count": 4,
   "id": "1a742897",
   "metadata": {},
   "outputs": [
    {
     "data": {
      "text/plain": [
       "[1, 2, 3]"
      ]
     },
     "execution_count": 4,
     "metadata": {},
     "output_type": "execute_result"
    }
   ],
   "source": [
    "mylist"
   ]
  },
  {
   "cell_type": "code",
   "execution_count": 7,
   "id": "b0d95ec7",
   "metadata": {},
   "outputs": [],
   "source": [
    "# Ways of discovering methods\n",
    "# mylist.# hit tab here"
   ]
  },
  {
   "cell_type": "code",
   "execution_count": 8,
   "id": "668a55dd",
   "metadata": {},
   "outputs": [
    {
     "data": {
      "text/plain": [
       "<function list.insert(index, object, /)>"
      ]
     },
     "execution_count": 8,
     "metadata": {},
     "output_type": "execute_result"
    }
   ],
   "source": [
    "mylist.insert# hit shift+tab here"
   ]
  },
  {
   "cell_type": "code",
   "execution_count": 9,
   "id": "17a0cd84",
   "metadata": {},
   "outputs": [
    {
     "name": "stdout",
     "output_type": "stream",
     "text": [
      "Help on built-in function insert:\n",
      "\n",
      "insert(index, object, /) method of builtins.list instance\n",
      "    Insert object before index.\n",
      "\n"
     ]
    }
   ],
   "source": [
    "# Built-in help function\n",
    "help(mylist.insert)"
   ]
  },
  {
   "cell_type": "markdown",
   "id": "c13dbbc9",
   "metadata": {},
   "source": [
    "Another option, go to Python [docs](https://doc.python.org/3): "
   ]
  },
  {
   "cell_type": "code",
   "execution_count": 10,
   "id": "e7a49600",
   "metadata": {},
   "outputs": [
    {
     "data": {
      "text/plain": [
       "[1, 101, 2, 3]"
      ]
     },
     "execution_count": 10,
     "metadata": {},
     "output_type": "execute_result"
    }
   ],
   "source": [
    "# Example usage of .insert()\n",
    "mylist.insert(1, 101)\n",
    "mylist"
   ]
  },
  {
   "cell_type": "markdown",
   "id": "9637129f",
   "metadata": {},
   "source": [
    "## 42 - Introduction to Functions"
   ]
  },
  {
   "cell_type": "markdown",
   "id": "395b5fcb",
   "metadata": {},
   "source": [
    "- Functions allow to repeatedly run blocks of code, without having to write them once and again, making the code cleaner and more readable."
   ]
  },
  {
   "cell_type": "code",
   "execution_count": null,
   "id": "f5a8eecf",
   "metadata": {},
   "outputs": [],
   "source": []
  }
 ],
 "metadata": {
  "kernelspec": {
   "display_name": "Python 3 (ipykernel)",
   "language": "python",
   "name": "python3"
  },
  "language_info": {
   "codemirror_mode": {
    "name": "ipython",
    "version": 3
   },
   "file_extension": ".py",
   "mimetype": "text/x-python",
   "name": "python",
   "nbconvert_exporter": "python",
   "pygments_lexer": "ipython3",
   "version": "3.11.5"
  }
 },
 "nbformat": 4,
 "nbformat_minor": 5
}
