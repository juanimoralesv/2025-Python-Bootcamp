{
 "cells": [
  {
   "cell_type": "markdown",
   "id": "e926399d",
   "metadata": {},
   "source": [
    "# Section 14 - Advanced Python Modules"
   ]
  },
  {
   "cell_type": "markdown",
   "id": "89e953c5",
   "metadata": {},
   "source": [
    "## 103 - Introduction to Advanced Python Modules"
   ]
  },
  {
   "cell_type": "markdown",
   "id": "c9da1912-dcf3-433c-aac2-4c1f0cf117a8",
   "metadata": {},
   "source": [
    "- NA"
   ]
  },
  {
   "cell_type": "markdown",
   "id": "c0470612-f51f-4973-b137-0b697d0ff401",
   "metadata": {},
   "source": [
    "## 104 - Python Collections Module"
   ]
  },
  {
   "cell_type": "markdown",
   "id": "de0b845f-374f-4c51-97e4-fc12adf18903",
   "metadata": {},
   "source": [
    "- Extension to built-in containers."
   ]
  },
  {
   "cell_type": "markdown",
   "id": "e0297117-51f2-4e8b-aaad-302e8637460f",
   "metadata": {},
   "source": [
    "#### Clase `Counter()`"
   ]
  },
  {
   "cell_type": "code",
   "execution_count": 7,
   "id": "fd581532-0081-49ee-813b-653a89850eca",
   "metadata": {},
   "outputs": [],
   "source": [
    "from collections import Counter"
   ]
  },
  {
   "cell_type": "markdown",
   "id": "2e178a09-0af6-4362-977f-cbd24334dc2f",
   "metadata": {},
   "source": [
    "##### Lists"
   ]
  },
  {
   "cell_type": "code",
   "execution_count": 9,
   "id": "3dab0058-8a4f-4951-ad24-269128615710",
   "metadata": {},
   "outputs": [],
   "source": [
    "mylist = [1,1,1,1,1,1,1,2,2,2,2,2,3,3,3,3,3,3,3,3,3,3, \"a\"]"
   ]
  },
  {
   "cell_type": "code",
   "execution_count": 10,
   "id": "c5a8258b-0bce-4d02-acce-775acbfba1bd",
   "metadata": {},
   "outputs": [
    {
     "data": {
      "text/plain": [
       "Counter({3: 10, 1: 7, 2: 5, 'a': 1})"
      ]
     },
     "execution_count": 10,
     "metadata": {},
     "output_type": "execute_result"
    }
   ],
   "source": [
    "Counter(mylist)"
   ]
  },
  {
   "cell_type": "markdown",
   "id": "167a81bc-0e39-456d-97f7-c66738b5cd08",
   "metadata": {},
   "source": [
    "##### Strings"
   ]
  },
  {
   "cell_type": "code",
   "execution_count": 12,
   "id": "555a4534-0f03-43b5-84d4-a802b6ec97fe",
   "metadata": {},
   "outputs": [],
   "source": [
    "listita = \"oasnononaidndndnd\""
   ]
  },
  {
   "cell_type": "code",
   "execution_count": 13,
   "id": "35cb27a0-7f32-4d6d-8275-e17fe282e203",
   "metadata": {},
   "outputs": [
    {
     "data": {
      "text/plain": [
       "Counter({'n': 6, 'd': 4, 'o': 3, 'a': 2, 's': 1, 'i': 1})"
      ]
     },
     "execution_count": 13,
     "metadata": {},
     "output_type": "execute_result"
    }
   ],
   "source": [
    "Counter(listita)"
   ]
  },
  {
   "cell_type": "code",
   "execution_count": 14,
   "id": "8618069d-b490-4cec-b581-55a93c834c13",
   "metadata": {},
   "outputs": [],
   "source": [
    "sentence = \"This is a sentence that I am going to split and see how it is composed\""
   ]
  },
  {
   "cell_type": "code",
   "execution_count": 15,
   "id": "a87807aa-a32b-4d80-ba1e-f8b65095f3a0",
   "metadata": {},
   "outputs": [
    {
     "data": {
      "text/plain": [
       "Counter({'is': 2,\n",
       "         'this': 1,\n",
       "         'a': 1,\n",
       "         'sentence': 1,\n",
       "         'that': 1,\n",
       "         'i': 1,\n",
       "         'am': 1,\n",
       "         'going': 1,\n",
       "         'to': 1,\n",
       "         'split': 1,\n",
       "         'and': 1,\n",
       "         'see': 1,\n",
       "         'how': 1,\n",
       "         'it': 1,\n",
       "         'composed': 1})"
      ]
     },
     "execution_count": 15,
     "metadata": {},
     "output_type": "execute_result"
    }
   ],
   "source": [
    "Counter(sentence.lower().split())"
   ]
  },
  {
   "cell_type": "markdown",
   "id": "d999c93b-805f-4dbc-992c-58f751248d45",
   "metadata": {},
   "source": [
    "##### `Counter()` Methods"
   ]
  },
  {
   "cell_type": "code",
   "execution_count": 17,
   "id": "cd3dff05-87f9-42f4-af14-6df9222f8f91",
   "metadata": {},
   "outputs": [],
   "source": [
    "letters = \"aabbbbccdddddddddd\""
   ]
  },
  {
   "cell_type": "code",
   "execution_count": 18,
   "id": "7890bfa1-d10c-475f-a9fa-78203c10660c",
   "metadata": {},
   "outputs": [
    {
     "data": {
      "text/plain": [
       "Counter({'d': 10, 'b': 4, 'a': 2, 'c': 2})"
      ]
     },
     "execution_count": 18,
     "metadata": {},
     "output_type": "execute_result"
    }
   ],
   "source": [
    "c = Counter(letters)\n",
    "c"
   ]
  },
  {
   "cell_type": "code",
   "execution_count": 19,
   "id": "23110354-b286-4f24-a12b-a7f22cc5389c",
   "metadata": {},
   "outputs": [
    {
     "data": {
      "text/plain": [
       "[('d', 10), ('b', 4)]"
      ]
     },
     "execution_count": 19,
     "metadata": {},
     "output_type": "execute_result"
    }
   ],
   "source": [
    "c.most_common(2)"
   ]
  },
  {
   "cell_type": "markdown",
   "id": "dfdc1669-c6b6-429b-a990-b0e10bf66fd4",
   "metadata": {},
   "source": [
    "- Castable into other datatypes."
   ]
  },
  {
   "cell_type": "markdown",
   "id": "3ec4e24c-0afd-4eb7-81ba-e41a18f353b7",
   "metadata": {},
   "source": [
    "#### Clase `defaultdict`"
   ]
  },
  {
   "cell_type": "code",
   "execution_count": 22,
   "id": "5a86f75a-fbc0-4351-951c-bb02aface650",
   "metadata": {},
   "outputs": [],
   "source": [
    "from collections import defaultdict"
   ]
  },
  {
   "cell_type": "code",
   "execution_count": 23,
   "id": "8a7f8d8d-2a23-4f4f-8940-62d91856c169",
   "metadata": {},
   "outputs": [
    {
     "data": {
      "text/plain": [
       "{'a': 10}"
      ]
     },
     "execution_count": 23,
     "metadata": {},
     "output_type": "execute_result"
    }
   ],
   "source": [
    "d = {'a': 10}\n",
    "d"
   ]
  },
  {
   "cell_type": "code",
   "execution_count": 24,
   "id": "47823521-c586-4b3a-b5ab-e85c4fb39738",
   "metadata": {},
   "outputs": [
    {
     "data": {
      "text/plain": [
       "10"
      ]
     },
     "execution_count": 24,
     "metadata": {},
     "output_type": "execute_result"
    }
   ],
   "source": [
    "d['a']"
   ]
  },
  {
   "cell_type": "code",
   "execution_count": 25,
   "id": "f6a44f7c-915a-41f9-aa69-b4cd73c5330c",
   "metadata": {},
   "outputs": [
    {
     "ename": "KeyError",
     "evalue": "'WRONG'",
     "output_type": "error",
     "traceback": [
      "\u001b[1;31m---------------------------------------------------------------------------\u001b[0m",
      "\u001b[1;31mKeyError\u001b[0m                                  Traceback (most recent call last)",
      "Cell \u001b[1;32mIn[25], line 1\u001b[0m\n\u001b[1;32m----> 1\u001b[0m d[\u001b[38;5;124m'\u001b[39m\u001b[38;5;124mWRONG\u001b[39m\u001b[38;5;124m'\u001b[39m]\n",
      "\u001b[1;31mKeyError\u001b[0m: 'WRONG'"
     ]
    }
   ],
   "source": [
    "d['WRONG']"
   ]
  },
  {
   "cell_type": "markdown",
   "id": "7ce9f9fa-2249-489c-8fdb-d479c2afe3ec",
   "metadata": {},
   "source": [
    "Inconvenient in `for` loops."
   ]
  },
  {
   "cell_type": "code",
   "execution_count": 57,
   "id": "1872c207-7395-4dac-8cfb-cb1827ec10ba",
   "metadata": {},
   "outputs": [
    {
     "data": {
      "text/plain": [
       "100"
      ]
     },
     "execution_count": 57,
     "metadata": {},
     "output_type": "execute_result"
    }
   ],
   "source": [
    "diccio = defaultdict(lambda: 0)\n",
    "diccio['correct'] = 100\n",
    "diccio['correct']"
   ]
  },
  {
   "cell_type": "code",
   "execution_count": 58,
   "id": "9832ff89-8fcc-4efc-ba6a-25468f39b85c",
   "metadata": {},
   "outputs": [
    {
     "data": {
      "text/plain": [
       "defaultdict(<function __main__.<lambda>()>, {'correct': 100})"
      ]
     },
     "execution_count": 58,
     "metadata": {},
     "output_type": "execute_result"
    }
   ],
   "source": [
    "diccio"
   ]
  },
  {
   "cell_type": "code",
   "execution_count": 59,
   "id": "ee6c587f-8186-496e-a151-22eb1889a28f",
   "metadata": {},
   "outputs": [
    {
     "data": {
      "text/plain": [
       "0"
      ]
     },
     "execution_count": 59,
     "metadata": {},
     "output_type": "execute_result"
    }
   ],
   "source": [
    "diccio['wrong key!']"
   ]
  },
  {
   "cell_type": "code",
   "execution_count": 60,
   "id": "8c633fdd-736e-4964-b20e-c99c3f2267c3",
   "metadata": {},
   "outputs": [
    {
     "data": {
      "text/plain": [
       "defaultdict(<function __main__.<lambda>()>, {'correct': 100, 'wrong key!': 0})"
      ]
     },
     "execution_count": 60,
     "metadata": {},
     "output_type": "execute_result"
    }
   ],
   "source": [
    "diccio"
   ]
  },
  {
   "cell_type": "markdown",
   "id": "bfe71310-406b-44f0-bb92-85f1068c21e4",
   "metadata": {},
   "source": [
    "It doesn't raise a KeyError, but returns the default value, as well as adds the previously inexistent key."
   ]
  },
  {
   "cell_type": "markdown",
   "id": "b8232b22-3844-49d7-8ca5-7a0ec2e833dd",
   "metadata": {},
   "source": [
    "#### Función `namedtuple()`"
   ]
  },
  {
   "cell_type": "code",
   "execution_count": 63,
   "id": "173b4394-d4d4-4978-83d7-b574d06b1337",
   "metadata": {},
   "outputs": [],
   "source": [
    "from collections import namedtuple"
   ]
  },
  {
   "cell_type": "code",
   "execution_count": 64,
   "id": "63bc3e91-112c-462a-82b9-ab153216b4ee",
   "metadata": {},
   "outputs": [
    {
     "data": {
      "text/plain": [
       "(10, 20, 30)"
      ]
     },
     "execution_count": 64,
     "metadata": {},
     "output_type": "execute_result"
    }
   ],
   "source": [
    "mytuple = (10,20,30)\n",
    "mytuple"
   ]
  },
  {
   "cell_type": "code",
   "execution_count": 65,
   "id": "88fb747d-7385-43dc-9cf0-33d87c6aaeec",
   "metadata": {},
   "outputs": [
    {
     "data": {
      "text/plain": [
       "10"
      ]
     },
     "execution_count": 65,
     "metadata": {},
     "output_type": "execute_result"
    }
   ],
   "source": [
    "mytuple[0]"
   ]
  },
  {
   "cell_type": "code",
   "execution_count": 66,
   "id": "af9b2227-2d6b-4f1f-92b9-98229e5d16d6",
   "metadata": {},
   "outputs": [
    {
     "data": {
      "text/plain": [
       "__main__.Dog"
      ]
     },
     "execution_count": 66,
     "metadata": {},
     "output_type": "execute_result"
    }
   ],
   "source": [
    "# Named tuple definition\n",
    "Dog = namedtuple('Dog', ['age', 'breed', 'name'])\n",
    "Dog"
   ]
  },
  {
   "cell_type": "code",
   "execution_count": 67,
   "id": "c41a3ce8-8176-4918-a758-3ee4085e84ac",
   "metadata": {},
   "outputs": [
    {
     "name": "stdout",
     "output_type": "stream",
     "text": [
      "<class '__main__.Dog'>\n"
     ]
    }
   ],
   "source": [
    "print(Dog)"
   ]
  },
  {
   "cell_type": "markdown",
   "id": "9762a252-0473-46ff-b7e3-001bd47e92dd",
   "metadata": {},
   "source": [
    "This function creates new `namedtuple` subclasses."
   ]
  },
  {
   "cell_type": "code",
   "execution_count": 69,
   "id": "eeecfd7d-e644-4c74-992e-bafb8807d510",
   "metadata": {},
   "outputs": [
    {
     "name": "stdout",
     "output_type": "stream",
     "text": [
      "<class '__main__.Dog'>\n"
     ]
    },
    {
     "data": {
      "text/plain": [
       "Dog(age=5, breed='Husky', name='Sam')"
      ]
     },
     "execution_count": 69,
     "metadata": {},
     "output_type": "execute_result"
    }
   ],
   "source": [
    "sammy = Dog(age=5, breed='Husky', name='Sam')\n",
    "print(type(sammy))\n",
    "sammy"
   ]
  },
  {
   "cell_type": "code",
   "execution_count": 70,
   "id": "9ca7dd60-7b60-4ada-84e7-987cf3f36858",
   "metadata": {},
   "outputs": [
    {
     "name": "stdout",
     "output_type": "stream",
     "text": [
      "5\n",
      "Husky\n",
      "Sam\n"
     ]
    }
   ],
   "source": [
    "print(sammy.age)\n",
    "print(sammy.breed)\n",
    "print(sammy.name)"
   ]
  },
  {
   "cell_type": "code",
   "execution_count": 71,
   "id": "4a20c769-294d-49bc-b8fc-c68f59cf3e96",
   "metadata": {},
   "outputs": [
    {
     "name": "stdout",
     "output_type": "stream",
     "text": [
      "5\n",
      "Husky\n",
      "Sam\n"
     ]
    }
   ],
   "source": [
    "print(sammy[0])\n",
    "print(sammy[1])\n",
    "print(sammy[2])"
   ]
  },
  {
   "cell_type": "markdown",
   "id": "99f7ac2f-2cd9-4f2b-92d7-6515f6aa82d9",
   "metadata": {},
   "source": [
    "Elements callable via field name or via index."
   ]
  },
  {
   "cell_type": "markdown",
   "id": "b0e34567-7ece-4b6b-9f61-4ab239cc74e8",
   "metadata": {},
   "source": [
    "## 105 - Opening and Reading Files and Folders (Python OS Module) "
   ]
  },
  {
   "cell_type": "markdown",
   "id": "6a3b6ec4-2068-4924-9527-cae07ca8f16b",
   "metadata": {},
   "source": [
    "- To open many files in a directory.\n",
    "- To move around files in our computer."
   ]
  },
  {
   "cell_type": "code",
   "execution_count": 75,
   "id": "30e28238-9e65-4379-ad5e-5c867999ac63",
   "metadata": {},
   "outputs": [
    {
     "data": {
      "text/plain": [
       "'U:\\\\zjuan\\\\Python Complete Bootcamp'"
      ]
     },
     "execution_count": 75,
     "metadata": {},
     "output_type": "execute_result"
    }
   ],
   "source": [
    "pwd"
   ]
  },
  {
   "cell_type": "code",
   "execution_count": 76,
   "id": "4033a269-9f7d-4ebf-a35d-064d7fbf5a66",
   "metadata": {},
   "outputs": [],
   "source": [
    "with open('practice.txt', 'w+') as f:\n",
    "    f.write(\"This is a test string\")"
   ]
  },
  {
   "cell_type": "markdown",
   "id": "1ea82cdc-2bc0-4744-ba09-346480e9f6eb",
   "metadata": {},
   "source": [
    "#### `OS` Module"
   ]
  },
  {
   "cell_type": "code",
   "execution_count": 78,
   "id": "5583e2be-65a2-4279-a849-03a9600e2fae",
   "metadata": {},
   "outputs": [],
   "source": [
    "import os"
   ]
  },
  {
   "cell_type": "code",
   "execution_count": 79,
   "id": "7a80a984-30f1-49fd-881e-d0914429a94d",
   "metadata": {},
   "outputs": [
    {
     "data": {
      "text/plain": [
       "'U:\\\\zjuan\\\\Python Complete Bootcamp'"
      ]
     },
     "execution_count": 79,
     "metadata": {},
     "output_type": "execute_result"
    }
   ],
   "source": [
    "os.getcwd()"
   ]
  },
  {
   "cell_type": "code",
   "execution_count": 80,
   "id": "3f48271d-bebc-43f4-914a-38354d6fa32a",
   "metadata": {},
   "outputs": [
    {
     "data": {
      "text/plain": [
       "['.git',\n",
       " '.gitignore',\n",
       " '.ipynb_checkpoints',\n",
       " 'cap_file.py',\n",
       " 'Course-Syllabus.md',\n",
       " 'LICENSE',\n",
       " 'MyMainPackage',\n",
       " 'practice.txt',\n",
       " 'README.md',\n",
       " 'Resources',\n",
       " 'testfile',\n",
       " 'test_cap.py',\n",
       " 'UDM-Python-BTCMP--002-01--Notebook.ipynb',\n",
       " 'UDM-Python-BTCMP--002-01--RunningPythonCode.py',\n",
       " 'UDM-Python-BTCMP--003-01.ipynb',\n",
       " 'UDM-Python-BTCMP--003-01.py',\n",
       " 'UDM-Python-BTCMP--003-02--Assessment.ipynb',\n",
       " 'UDM-Python-BTCMP--004-01.ipynb',\n",
       " 'UDM-Python-BTCMP--004-01.py',\n",
       " 'UDM-Python-BTCMP--005-01.ipynb',\n",
       " 'UDM-Python-BTCMP--005-02--Assessment.ipynb',\n",
       " 'UDM-Python-BTCMP--006-01.ipynb',\n",
       " 'UDM-Python-BTCMP--006-02--Function-Practice.ipynb',\n",
       " 'UDM-Python-BTCMP--006-03--Homework.ipynb',\n",
       " 'UDM-Python-BTCMP--007-01.ipynb',\n",
       " 'UDM-Python-BTCMP--007-02--Milestone01.ipynb',\n",
       " 'UDM-Python-BTCMP--008-01.ipynb',\n",
       " 'UDM-Python-BTCMP--008-02--Homework.ipynb',\n",
       " 'UDM-Python-BTCMP--008-03--Challenge.ipynb',\n",
       " 'UDM-Python-BTCMP--009-01.ipynb',\n",
       " 'UDM-Python-BTCMP--010-01.ipynb',\n",
       " 'UDM-Python-BTCMP--010-02--Homework.ipynb',\n",
       " 'UDM-Python-BTCMP--011-01.ipynb',\n",
       " 'UDM-Python-BTCMP--011-02--Milestone02.ipynb',\n",
       " 'UDM-Python-BTCMP--013-01.ipynb',\n",
       " 'UDM-Python-BTCMP--013-02--Homework.ipynb',\n",
       " 'UDM-Python-BTCMP--014-01.ipynb',\n",
       " 'UDM_Python_BTCMP__009_02__module.py',\n",
       " 'UDM_Python_BTCMP__009_03__Program - copia.py',\n",
       " 'UDM_Python_BTCMP__009_03__Program.py',\n",
       " 'UDM_Python_BTCMP__009_04__ONE.py',\n",
       " 'UDM_Python_BTCMP__009_05__TWO.py',\n",
       " 'udm_python_btcmp__010_03.py',\n",
       " '__pycache__']"
      ]
     },
     "execution_count": 80,
     "metadata": {},
     "output_type": "execute_result"
    }
   ],
   "source": [
    "# On current directory\n",
    "os.listdir()"
   ]
  },
  {
   "cell_type": "code",
   "execution_count": 81,
   "id": "12c1b29e-ff8e-46fd-8164-396737c34b42",
   "metadata": {},
   "outputs": [
    {
     "data": {
      "text/plain": [
       "['2025-03-11--BBVA-TRSF.pdf',\n",
       " 'anaconda_projects',\n",
       " 'Cmder',\n",
       " 'Documentos',\n",
       " 'MSReactor_PythonAndAI',\n",
       " 'Python Complete Bootcamp',\n",
       " 'ZOthers']"
      ]
     },
     "execution_count": 81,
     "metadata": {},
     "output_type": "execute_result"
    }
   ],
   "source": [
    "# On some directory\n",
    "os.listdir('U:\\\\zjuan')"
   ]
  },
  {
   "cell_type": "markdown",
   "id": "1e83b79f-5cc5-427a-a4be-4c94c9625fb8",
   "metadata": {},
   "source": [
    "#### `shutil` Module"
   ]
  },
  {
   "cell_type": "code",
   "execution_count": 83,
   "id": "3679edfd-54c5-4c9c-b9e2-034edb3d4419",
   "metadata": {},
   "outputs": [],
   "source": [
    "import shutil"
   ]
  },
  {
   "cell_type": "code",
   "execution_count": 84,
   "id": "92412749-7402-4c8d-8013-ef6d43a29cb5",
   "metadata": {},
   "outputs": [
    {
     "data": {
      "text/plain": [
       "'U:\\\\ZJuan\\\\Python Complete Bootcamp\\\\Resources\\\\practice.txt'"
      ]
     },
     "execution_count": 84,
     "metadata": {},
     "output_type": "execute_result"
    }
   ],
   "source": [
    "# Moving a file to a new location\n",
    "shutil.move('practice.txt', 'U:\\\\ZJuan\\\\Python Complete Bootcamp\\\\Resources')"
   ]
  },
  {
   "cell_type": "code",
   "execution_count": 85,
   "id": "6a338faa-5365-4cb3-8a4a-f5308f90ee2f",
   "metadata": {},
   "outputs": [
    {
     "data": {
      "text/plain": [
       "['.ipynb_checkpoints', 'practice.txt']"
      ]
     },
     "execution_count": 85,
     "metadata": {},
     "output_type": "execute_result"
    }
   ],
   "source": [
    "os.listdir('U:\\\\ZJuan\\\\Python Complete Bootcamp\\\\Resources')"
   ]
  },
  {
   "cell_type": "markdown",
   "id": "d04270b6-86fc-4eea-8c0a-669074bda0f8",
   "metadata": {},
   "source": [
    "#### Different Actions"
   ]
  },
  {
   "cell_type": "markdown",
   "id": "2614ca86-8704-41bb-91d8-cc73f287bf5c",
   "metadata": {},
   "source": [
    "##### Remove Files"
   ]
  },
  {
   "cell_type": "markdown",
   "id": "153a36ae-4313-4b01-97d2-0580a375f4c1",
   "metadata": {},
   "source": [
    "- `os.unlink('path')` to delete a file at path.\n",
    "- `os.rmdir('path')` to delete an empty folder at path.\n",
    "- `shutil.rmtree('path')` to delete a whole tree of folder and files in path.\n",
    "\n",
    "None of these methods are reversibles. Instead, use the `send2trash` module to send files/folders to the trash bin.\n",
    "\n",
    "This is an external module that needs installation: on console `pip install send2trash`"
   ]
  },
  {
   "cell_type": "code",
   "execution_count": 89,
   "id": "691ae551-6a04-4b9e-b07c-6282ffadedd9",
   "metadata": {},
   "outputs": [],
   "source": [
    "import send2trash"
   ]
  },
  {
   "cell_type": "code",
   "execution_count": 90,
   "id": "9ebacb94-378f-4d82-b289-daf78b6b8599",
   "metadata": {},
   "outputs": [
    {
     "data": {
      "text/plain": [
       "'U:\\\\zjuan\\\\Python Complete Bootcamp\\\\practice.txt'"
      ]
     },
     "execution_count": 90,
     "metadata": {},
     "output_type": "execute_result"
    }
   ],
   "source": [
    "# Relocate the file to previous location\n",
    "shutil.move('U:\\\\ZJuan\\\\Python Complete Bootcamp\\\\Resources\\\\practice.txt', os.getcwd())"
   ]
  },
  {
   "cell_type": "code",
   "execution_count": 91,
   "id": "8f7cebb4-b444-47ed-ac2b-fd2651796311",
   "metadata": {},
   "outputs": [],
   "source": [
    "send2trash.send2trash('practice.txt')"
   ]
  },
  {
   "cell_type": "code",
   "execution_count": 92,
   "id": "f587327b-94cb-4d02-897c-575531ca0179",
   "metadata": {},
   "outputs": [
    {
     "data": {
      "text/plain": [
       "['.git',\n",
       " '.gitignore',\n",
       " '.ipynb_checkpoints',\n",
       " 'cap_file.py',\n",
       " 'Course-Syllabus.md',\n",
       " 'LICENSE',\n",
       " 'MyMainPackage',\n",
       " 'README.md',\n",
       " 'Resources',\n",
       " 'testfile',\n",
       " 'test_cap.py',\n",
       " 'UDM-Python-BTCMP--002-01--Notebook.ipynb',\n",
       " 'UDM-Python-BTCMP--002-01--RunningPythonCode.py',\n",
       " 'UDM-Python-BTCMP--003-01.ipynb',\n",
       " 'UDM-Python-BTCMP--003-01.py',\n",
       " 'UDM-Python-BTCMP--003-02--Assessment.ipynb',\n",
       " 'UDM-Python-BTCMP--004-01.ipynb',\n",
       " 'UDM-Python-BTCMP--004-01.py',\n",
       " 'UDM-Python-BTCMP--005-01.ipynb',\n",
       " 'UDM-Python-BTCMP--005-02--Assessment.ipynb',\n",
       " 'UDM-Python-BTCMP--006-01.ipynb',\n",
       " 'UDM-Python-BTCMP--006-02--Function-Practice.ipynb',\n",
       " 'UDM-Python-BTCMP--006-03--Homework.ipynb',\n",
       " 'UDM-Python-BTCMP--007-01.ipynb',\n",
       " 'UDM-Python-BTCMP--007-02--Milestone01.ipynb',\n",
       " 'UDM-Python-BTCMP--008-01.ipynb',\n",
       " 'UDM-Python-BTCMP--008-02--Homework.ipynb',\n",
       " 'UDM-Python-BTCMP--008-03--Challenge.ipynb',\n",
       " 'UDM-Python-BTCMP--009-01.ipynb',\n",
       " 'UDM-Python-BTCMP--010-01.ipynb',\n",
       " 'UDM-Python-BTCMP--010-02--Homework.ipynb',\n",
       " 'UDM-Python-BTCMP--011-01.ipynb',\n",
       " 'UDM-Python-BTCMP--011-02--Milestone02.ipynb',\n",
       " 'UDM-Python-BTCMP--013-01.ipynb',\n",
       " 'UDM-Python-BTCMP--013-02--Homework.ipynb',\n",
       " 'UDM-Python-BTCMP--014-01.ipynb',\n",
       " 'UDM_Python_BTCMP__009_02__module.py',\n",
       " 'UDM_Python_BTCMP__009_03__Program - copia.py',\n",
       " 'UDM_Python_BTCMP__009_03__Program.py',\n",
       " 'UDM_Python_BTCMP__009_04__ONE.py',\n",
       " 'UDM_Python_BTCMP__009_05__TWO.py',\n",
       " 'udm_python_btcmp__010_03.py',\n",
       " '__pycache__']"
      ]
     },
     "execution_count": 92,
     "metadata": {},
     "output_type": "execute_result"
    }
   ],
   "source": [
    "os.listdir()"
   ]
  },
  {
   "cell_type": "markdown",
   "id": "424ef7a8-1ade-42e1-8638-3e650d07257e",
   "metadata": {},
   "source": [
    "##### Function `os.walk()`"
   ]
  },
  {
   "cell_type": "markdown",
   "id": "a3f6a7e5-14a3-49b9-8dfc-8be9716ef3ad",
   "metadata": {},
   "source": [
    "- It makes a tree within a folder, listing subfolders and files."
   ]
  },
  {
   "cell_type": "code",
   "execution_count": 95,
   "id": "22a30618-46e2-499a-90d0-7a069d3312af",
   "metadata": {},
   "outputs": [
    {
     "data": {
      "text/plain": [
       "'U:\\\\zjuan\\\\Python Complete Bootcamp'"
      ]
     },
     "execution_count": 95,
     "metadata": {},
     "output_type": "execute_result"
    }
   ],
   "source": [
    "file_path = os.getcwd()\n",
    "file_path"
   ]
  },
  {
   "cell_type": "code",
   "execution_count": 96,
   "id": "39927833-7124-4dd1-9d3e-9b5d54325614",
   "metadata": {},
   "outputs": [
    {
     "name": "stdout",
     "output_type": "stream",
     "text": [
      "Currently looking at 'U:\\zjuan\\Python Complete Bootcamp'\n",
      "\n",
      "The subfolders are:\n",
      "\tSubfolder: .git\n",
      "\tSubfolder: .ipynb_checkpoints\n",
      "\tSubfolder: MyMainPackage\n",
      "\tSubfolder: Resources\n",
      "\tSubfolder: __pycache__\n",
      "\n",
      "The files are:\n",
      "\tFile: .gitignore\n",
      "\tFile: cap_file.py\n",
      "\tFile: Course-Syllabus.md\n",
      "\tFile: LICENSE\n",
      "\tFile: README.md\n",
      "\tFile: testfile\n",
      "\tFile: test_cap.py\n",
      "\tFile: UDM-Python-BTCMP--002-01--Notebook.ipynb\n",
      "\tFile: UDM-Python-BTCMP--002-01--RunningPythonCode.py\n",
      "\tFile: UDM-Python-BTCMP--003-01.ipynb\n",
      "\tFile: UDM-Python-BTCMP--003-01.py\n",
      "\tFile: UDM-Python-BTCMP--003-02--Assessment.ipynb\n",
      "\tFile: UDM-Python-BTCMP--004-01.ipynb\n",
      "\tFile: UDM-Python-BTCMP--004-01.py\n",
      "\tFile: UDM-Python-BTCMP--005-01.ipynb\n",
      "\tFile: UDM-Python-BTCMP--005-02--Assessment.ipynb\n",
      "\tFile: UDM-Python-BTCMP--006-01.ipynb\n",
      "\tFile: UDM-Python-BTCMP--006-02--Function-Practice.ipynb\n",
      "\tFile: UDM-Python-BTCMP--006-03--Homework.ipynb\n",
      "\tFile: UDM-Python-BTCMP--007-01.ipynb\n",
      "\tFile: UDM-Python-BTCMP--007-02--Milestone01.ipynb\n",
      "\tFile: UDM-Python-BTCMP--008-01.ipynb\n",
      "\tFile: UDM-Python-BTCMP--008-02--Homework.ipynb\n",
      "\tFile: UDM-Python-BTCMP--008-03--Challenge.ipynb\n",
      "\tFile: UDM-Python-BTCMP--009-01.ipynb\n",
      "\tFile: UDM-Python-BTCMP--010-01.ipynb\n",
      "\tFile: UDM-Python-BTCMP--010-02--Homework.ipynb\n",
      "\tFile: UDM-Python-BTCMP--011-01.ipynb\n",
      "\tFile: UDM-Python-BTCMP--011-02--Milestone02.ipynb\n",
      "\tFile: UDM-Python-BTCMP--013-01.ipynb\n",
      "\tFile: UDM-Python-BTCMP--013-02--Homework.ipynb\n",
      "\tFile: UDM-Python-BTCMP--014-01.ipynb\n",
      "\tFile: UDM_Python_BTCMP__009_02__module.py\n",
      "\tFile: UDM_Python_BTCMP__009_03__Program - copia.py\n",
      "\tFile: UDM_Python_BTCMP__009_03__Program.py\n",
      "\tFile: UDM_Python_BTCMP__009_04__ONE.py\n",
      "\tFile: UDM_Python_BTCMP__009_05__TWO.py\n",
      "\tFile: udm_python_btcmp__010_03.py\n",
      "\n",
      "\n",
      "Currently looking at 'U:\\zjuan\\Python Complete Bootcamp\\.git'\n",
      "\n",
      "The subfolders are:\n",
      "\tSubfolder: hooks\n",
      "\tSubfolder: info\n",
      "\tSubfolder: logs\n",
      "\tSubfolder: objects\n",
      "\tSubfolder: refs\n",
      "\n",
      "The files are:\n",
      "\tFile: COMMIT_EDITMSG\n",
      "\tFile: config\n",
      "\tFile: description\n",
      "\tFile: HEAD\n",
      "\tFile: index\n",
      "\tFile: packed-refs\n",
      "\n",
      "\n",
      "Currently looking at 'U:\\zjuan\\Python Complete Bootcamp\\.git\\hooks'\n",
      "\n",
      "The subfolders are:\n",
      "\n",
      "The files are:\n",
      "\tFile: applypatch-msg.sample\n",
      "\tFile: commit-msg.sample\n",
      "\tFile: fsmonitor-watchman.sample\n",
      "\tFile: post-update.sample\n",
      "\tFile: pre-applypatch.sample\n",
      "\tFile: pre-commit.sample\n",
      "\tFile: pre-merge-commit.sample\n",
      "\tFile: pre-push.sample\n",
      "\tFile: pre-rebase.sample\n",
      "\tFile: pre-receive.sample\n",
      "\tFile: prepare-commit-msg.sample\n",
      "\tFile: push-to-checkout.sample\n",
      "\tFile: update.sample\n",
      "\n",
      "\n",
      "Currently looking at 'U:\\zjuan\\Python Complete Bootcamp\\.git\\info'\n",
      "\n",
      "The subfolders are:\n",
      "\n",
      "The files are:\n",
      "\tFile: exclude\n",
      "\n",
      "\n",
      "Currently looking at 'U:\\zjuan\\Python Complete Bootcamp\\.git\\logs'\n",
      "\n",
      "The subfolders are:\n",
      "\tSubfolder: refs\n",
      "\n",
      "The files are:\n",
      "\tFile: HEAD\n",
      "\n",
      "\n",
      "Currently looking at 'U:\\zjuan\\Python Complete Bootcamp\\.git\\logs\\refs'\n",
      "\n",
      "The subfolders are:\n",
      "\tSubfolder: heads\n",
      "\tSubfolder: remotes\n",
      "\n",
      "The files are:\n",
      "\n",
      "\n",
      "Currently looking at 'U:\\zjuan\\Python Complete Bootcamp\\.git\\logs\\refs\\heads'\n",
      "\n",
      "The subfolders are:\n",
      "\n",
      "The files are:\n",
      "\tFile: development\n",
      "\tFile: main\n",
      "\n",
      "\n",
      "Currently looking at 'U:\\zjuan\\Python Complete Bootcamp\\.git\\logs\\refs\\remotes'\n",
      "\n",
      "The subfolders are:\n",
      "\tSubfolder: origin\n",
      "\n",
      "The files are:\n",
      "\n",
      "\n",
      "Currently looking at 'U:\\zjuan\\Python Complete Bootcamp\\.git\\logs\\refs\\remotes\\origin'\n",
      "\n",
      "The subfolders are:\n",
      "\n",
      "The files are:\n",
      "\tFile: development\n",
      "\tFile: HEAD\n",
      "\n",
      "\n",
      "Currently looking at 'U:\\zjuan\\Python Complete Bootcamp\\.git\\objects'\n",
      "\n",
      "The subfolders are:\n",
      "\tSubfolder: 10\n",
      "\tSubfolder: 71\n",
      "\tSubfolder: b2\n",
      "\tSubfolder: d2\n",
      "\tSubfolder: info\n",
      "\tSubfolder: pack\n",
      "\n",
      "The files are:\n",
      "\n",
      "\n",
      "Currently looking at 'U:\\zjuan\\Python Complete Bootcamp\\.git\\objects\\10'\n",
      "\n",
      "The subfolders are:\n",
      "\n",
      "The files are:\n",
      "\tFile: 2dd7a2aa4687dd6cded44e592c512eda74ad28\n",
      "\n",
      "\n",
      "Currently looking at 'U:\\zjuan\\Python Complete Bootcamp\\.git\\objects\\71'\n",
      "\n",
      "The subfolders are:\n",
      "\n",
      "The files are:\n",
      "\tFile: c06bb108d115f4820fed9d44d6481ff27ed87c\n",
      "\n",
      "\n",
      "Currently looking at 'U:\\zjuan\\Python Complete Bootcamp\\.git\\objects\\b2'\n",
      "\n",
      "The subfolders are:\n",
      "\n",
      "The files are:\n",
      "\tFile: 57e3590bc82950817ab077bf37370d2bf6a705\n",
      "\n",
      "\n",
      "Currently looking at 'U:\\zjuan\\Python Complete Bootcamp\\.git\\objects\\d2'\n",
      "\n",
      "The subfolders are:\n",
      "\n",
      "The files are:\n",
      "\tFile: 886c5cd07bee3171bc40f9ba8b62f686d6cbf6\n",
      "\n",
      "\n",
      "Currently looking at 'U:\\zjuan\\Python Complete Bootcamp\\.git\\objects\\info'\n",
      "\n",
      "The subfolders are:\n",
      "\n",
      "The files are:\n",
      "\n",
      "\n",
      "Currently looking at 'U:\\zjuan\\Python Complete Bootcamp\\.git\\objects\\pack'\n",
      "\n",
      "The subfolders are:\n",
      "\n",
      "The files are:\n",
      "\tFile: pack-f78107403964c697f2278dc1a7786b5cee9417dc.idx\n",
      "\tFile: pack-f78107403964c697f2278dc1a7786b5cee9417dc.pack\n",
      "\n",
      "\n",
      "Currently looking at 'U:\\zjuan\\Python Complete Bootcamp\\.git\\refs'\n",
      "\n",
      "The subfolders are:\n",
      "\tSubfolder: heads\n",
      "\tSubfolder: remotes\n",
      "\tSubfolder: tags\n",
      "\n",
      "The files are:\n",
      "\n",
      "\n",
      "Currently looking at 'U:\\zjuan\\Python Complete Bootcamp\\.git\\refs\\heads'\n",
      "\n",
      "The subfolders are:\n",
      "\n",
      "The files are:\n",
      "\tFile: development\n",
      "\tFile: main\n",
      "\n",
      "\n",
      "Currently looking at 'U:\\zjuan\\Python Complete Bootcamp\\.git\\refs\\remotes'\n",
      "\n",
      "The subfolders are:\n",
      "\tSubfolder: origin\n",
      "\n",
      "The files are:\n",
      "\n",
      "\n",
      "Currently looking at 'U:\\zjuan\\Python Complete Bootcamp\\.git\\refs\\remotes\\origin'\n",
      "\n",
      "The subfolders are:\n",
      "\n",
      "The files are:\n",
      "\tFile: development\n",
      "\tFile: HEAD\n",
      "\n",
      "\n",
      "Currently looking at 'U:\\zjuan\\Python Complete Bootcamp\\.git\\refs\\tags'\n",
      "\n",
      "The subfolders are:\n",
      "\n",
      "The files are:\n",
      "\n",
      "\n",
      "Currently looking at 'U:\\zjuan\\Python Complete Bootcamp\\.ipynb_checkpoints'\n",
      "\n",
      "The subfolders are:\n",
      "\n",
      "The files are:\n",
      "\tFile: practice-checkpoint.txt\n",
      "\tFile: UDM-Python-BTCMP--008-02--Homework-checkpoint.ipynb\n",
      "\tFile: UDM-Python-BTCMP--013-01-checkpoint.ipynb\n",
      "\tFile: UDM-Python-BTCMP--013-02--Homework-checkpoint.ipynb\n",
      "\tFile: UDM-Python-BTCMP--014-01-checkpoint.ipynb\n",
      "\n",
      "\n",
      "Currently looking at 'U:\\zjuan\\Python Complete Bootcamp\\MyMainPackage'\n",
      "\n",
      "The subfolders are:\n",
      "\tSubfolder: Subpackage\n",
      "\tSubfolder: __pycache__\n",
      "\n",
      "The files are:\n",
      "\tFile: some_main_script.py\n",
      "\tFile: __init__.py\n",
      "\n",
      "\n",
      "Currently looking at 'U:\\zjuan\\Python Complete Bootcamp\\MyMainPackage\\Subpackage'\n",
      "\n",
      "The subfolders are:\n",
      "\tSubfolder: __pycache__\n",
      "\n",
      "The files are:\n",
      "\tFile: my_subscript.py\n",
      "\tFile: __init__.py\n",
      "\n",
      "\n",
      "Currently looking at 'U:\\zjuan\\Python Complete Bootcamp\\MyMainPackage\\Subpackage\\__pycache__'\n",
      "\n",
      "The subfolders are:\n",
      "\n",
      "The files are:\n",
      "\tFile: my_subscript.cpython-311.pyc\n",
      "\tFile: __init__.cpython-311.pyc\n",
      "\n",
      "\n",
      "Currently looking at 'U:\\zjuan\\Python Complete Bootcamp\\MyMainPackage\\__pycache__'\n",
      "\n",
      "The subfolders are:\n",
      "\n",
      "The files are:\n",
      "\tFile: some_main_script.cpython-311.pyc\n",
      "\tFile: __init__.cpython-311.pyc\n",
      "\n",
      "\n",
      "Currently looking at 'U:\\zjuan\\Python Complete Bootcamp\\Resources'\n",
      "\n",
      "The subfolders are:\n",
      "\tSubfolder: .ipynb_checkpoints\n",
      "\n",
      "The files are:\n",
      "\n",
      "\n",
      "Currently looking at 'U:\\zjuan\\Python Complete Bootcamp\\Resources\\.ipynb_checkpoints'\n",
      "\n",
      "The subfolders are:\n",
      "\n",
      "The files are:\n",
      "\tFile: 02-Iterators and Generators Homework-checkpoint.ipynb\n",
      "\n",
      "\n",
      "Currently looking at 'U:\\zjuan\\Python Complete Bootcamp\\__pycache__'\n",
      "\n",
      "The subfolders are:\n",
      "\n",
      "The files are:\n",
      "\tFile: cap_file.cpython-311.pyc\n",
      "\tFile: UDM_Python_BTCMP__009_02__module.cpython-311.pyc\n",
      "\tFile: UDM_Python_BTCMP__009_04__ONE.cpython-311.pyc\n",
      "\n",
      "\n"
     ]
    }
   ],
   "source": [
    "for folder, subfolders, files in os.walk(file_path):\n",
    "    print(f\"Currently looking at '{folder}'\\n\")\n",
    "    print(\"The subfolders are:\")\n",
    "    for subfolder in subfolders:\n",
    "        print(f\"\\tSubfolder: {subfolder}\")\n",
    "    print(\"\\nThe files are:\")\n",
    "    for file in files:\n",
    "        print(f\"\\tFile: {file}\")\n",
    "    print(\"\\n\")"
   ]
  },
  {
   "cell_type": "markdown",
   "id": "0c454c32-b10f-4aae-bc60-f87fff2d87fc",
   "metadata": {},
   "source": [
    "## 106 - Python Datetime Module"
   ]
  },
  {
   "cell_type": "markdown",
   "id": "61a5e0cf-7bab-42af-a822-e12ecd2f2119",
   "metadata": {},
   "source": [
    "- Date, time, time zones, operations among times/dates."
   ]
  },
  {
   "cell_type": "code",
   "execution_count": 99,
   "id": "588ca83c-5ac3-4516-8313-2f970e74830f",
   "metadata": {},
   "outputs": [],
   "source": [
    "import datetime"
   ]
  },
  {
   "cell_type": "markdown",
   "id": "d95c7cf3-f5f3-4f6a-a6f9-db64de0747cd",
   "metadata": {},
   "source": [
    "#### `time()` Objects"
   ]
  },
  {
   "cell_type": "code",
   "execution_count": 101,
   "id": "c8a3c953-eaea-471b-947f-6bfbfc0df8c2",
   "metadata": {},
   "outputs": [
    {
     "name": "stdout",
     "output_type": "stream",
     "text": [
      "2\n",
      "20\n"
     ]
    }
   ],
   "source": [
    "# Time passin only hours (24-base), minutes\n",
    "mytime = datetime.time(2, 20)\n",
    "# Attributes\n",
    "print(mytime.hour)\n",
    "print(mytime.minute)"
   ]
  },
  {
   "cell_type": "code",
   "execution_count": 102,
   "id": "3830f762-0fe5-4587-ad24-0b92fd80da05",
   "metadata": {},
   "outputs": [
    {
     "name": "stdout",
     "output_type": "stream",
     "text": [
      "02:20:00\n"
     ]
    },
    {
     "data": {
      "text/plain": [
       "datetime.time(2, 20)"
      ]
     },
     "execution_count": 102,
     "metadata": {},
     "output_type": "execute_result"
    }
   ],
   "source": [
    "print(mytime)\n",
    "mytime"
   ]
  },
  {
   "cell_type": "code",
   "execution_count": 103,
   "id": "0c8f6303-9d55-41f8-9d16-40fb29d0d1df",
   "metadata": {},
   "outputs": [
    {
     "data": {
      "text/plain": [
       "datetime.time"
      ]
     },
     "execution_count": 103,
     "metadata": {},
     "output_type": "execute_result"
    }
   ],
   "source": [
    "type(mytime)"
   ]
  },
  {
   "cell_type": "code",
   "execution_count": 104,
   "id": "c7d6e4a5-03a8-40eb-9f23-fab7b60dbee0",
   "metadata": {},
   "outputs": [
    {
     "name": "stdout",
     "output_type": "stream",
     "text": [
      "13:39:07.000903\n"
     ]
    }
   ],
   "source": [
    "sometime = datetime.time(13,39,7,903)\n",
    "print(sometime)"
   ]
  },
  {
   "cell_type": "markdown",
   "id": "af85232f-d8ba-4ca5-9448-021848ce7aff",
   "metadata": {},
   "source": [
    "#### `date()` Objects"
   ]
  },
  {
   "cell_type": "code",
   "execution_count": 106,
   "id": "1820e7d0-b406-4b9b-a85a-bcea88083f4e",
   "metadata": {},
   "outputs": [
    {
     "name": "stdout",
     "output_type": "stream",
     "text": [
      "2025-03-13\n"
     ]
    },
    {
     "data": {
      "text/plain": [
       "datetime.date(2025, 3, 13)"
      ]
     },
     "execution_count": 106,
     "metadata": {},
     "output_type": "execute_result"
    }
   ],
   "source": [
    "mydate = datetime.date.today()\n",
    "print(mydate)\n",
    "mydate"
   ]
  },
  {
   "cell_type": "code",
   "execution_count": 107,
   "id": "92977144-f23a-4620-ab95-4dc5dc21b454",
   "metadata": {},
   "outputs": [
    {
     "name": "stdout",
     "output_type": "stream",
     "text": [
      "2025\n",
      "3\n",
      "13\n"
     ]
    }
   ],
   "source": [
    "# Attributes\n",
    "print(mydate.year)\n",
    "print(mydate.month)\n",
    "print(mydate.day)"
   ]
  },
  {
   "cell_type": "markdown",
   "id": "5d4a7935-0871-4e15-81e8-e0457396082f",
   "metadata": {},
   "source": [
    "##### `ctime()`"
   ]
  },
  {
   "cell_type": "code",
   "execution_count": 109,
   "id": "58853184-3019-4b85-b408-3ccef955e787",
   "metadata": {},
   "outputs": [
    {
     "data": {
      "text/plain": [
       "'Thu Mar 13 00:00:00 2025'"
      ]
     },
     "execution_count": 109,
     "metadata": {},
     "output_type": "execute_result"
    }
   ],
   "source": [
    "mydate.ctime()"
   ]
  },
  {
   "cell_type": "markdown",
   "id": "6b3252d3-dea7-48d3-b40e-4922f7a0ac99",
   "metadata": {},
   "source": [
    "#### `datetime()` Objects"
   ]
  },
  {
   "cell_type": "code",
   "execution_count": 111,
   "id": "9a094d85-bf70-4bea-a8d5-91ebdb4f4765",
   "metadata": {},
   "outputs": [],
   "source": [
    "from datetime import datetime"
   ]
  },
  {
   "cell_type": "code",
   "execution_count": 112,
   "id": "f48039e4-0bce-4dc1-b3cd-47c379d79955",
   "metadata": {},
   "outputs": [
    {
     "name": "stdout",
     "output_type": "stream",
     "text": [
      "2025-08-17 15:28:35.015047\n"
     ]
    },
    {
     "data": {
      "text/plain": [
       "datetime.datetime(2025, 8, 17, 15, 28, 35, 15047)"
      ]
     },
     "execution_count": 112,
     "metadata": {},
     "output_type": "execute_result"
    }
   ],
   "source": [
    "# datetime() is a class\n",
    "# Object instantiation\n",
    "mydt = datetime(2025, 8, 17, 15, 28, 35, 15047)\n",
    "print(mydt)\n",
    "mydt"
   ]
  },
  {
   "cell_type": "code",
   "execution_count": 113,
   "id": "50a5c9ae-b1e1-4ba8-a4ce-64bfbbfd7b5d",
   "metadata": {},
   "outputs": [
    {
     "name": "stdout",
     "output_type": "stream",
     "text": [
      "2026-08-17 15:28:35.015047\n"
     ]
    },
    {
     "data": {
      "text/plain": [
       "datetime.datetime(2026, 8, 17, 15, 28, 35, 15047)"
      ]
     },
     "execution_count": 113,
     "metadata": {},
     "output_type": "execute_result"
    }
   ],
   "source": [
    "# Methods, replace()\n",
    "mydt = mydt.replace(year = 2026)\n",
    "print(mydt)\n",
    "mydt"
   ]
  },
  {
   "cell_type": "code",
   "execution_count": 114,
   "id": "a8ad0da6-7c95-4e05-a525-49e918f2592b",
   "metadata": {},
   "outputs": [
    {
     "name": "stdout",
     "output_type": "stream",
     "text": [
      "2026\n",
      "8\n",
      "17\n",
      "15\n",
      "28\n",
      "35\n",
      "15047\n"
     ]
    }
   ],
   "source": [
    "# Attributes\n",
    "print(mydt.year)\n",
    "print(mydt.month)\n",
    "print(mydt.day)\n",
    "print(mydt.hour)\n",
    "print(mydt.minute)\n",
    "print(mydt.second)\n",
    "print(mydt.microsecond)"
   ]
  },
  {
   "cell_type": "markdown",
   "id": "767f684b-407d-4c18-b582-24fade0100ce",
   "metadata": {},
   "source": [
    "#### Operations"
   ]
  },
  {
   "cell_type": "code",
   "execution_count": 116,
   "id": "4730e46d-03fc-4950-80d3-b5084a664ef0",
   "metadata": {},
   "outputs": [
    {
     "name": "stdout",
     "output_type": "stream",
     "text": [
      "366 days, 0:00:00\n"
     ]
    },
    {
     "data": {
      "text/plain": [
       "datetime.timedelta(days=366)"
      ]
     },
     "execution_count": 116,
     "metadata": {},
     "output_type": "execute_result"
    }
   ],
   "source": [
    "import datetime\n",
    "date1 = datetime.date(2023, 11, 3)\n",
    "date2 = datetime.date(2024, 11, 3)\n",
    "result = date2 - date1\n",
    "type(result)\n",
    "print(result)\n",
    "result"
   ]
  },
  {
   "cell_type": "code",
   "execution_count": 117,
   "id": "4f26a123-7317-4b92-8d46-dd246ea3e2ef",
   "metadata": {},
   "outputs": [],
   "source": [
    "dt1 = datetime.datetime(2023, 11, 3, 22, 11)\n",
    "dt2 = datetime.datetime(2024, 11, 3, 12, 10)\n",
    "subtr = dt2 - dt1"
   ]
  },
  {
   "cell_type": "code",
   "execution_count": 118,
   "id": "90761546-8632-4364-b5cb-fcd86655244b",
   "metadata": {},
   "outputs": [
    {
     "name": "stdout",
     "output_type": "stream",
     "text": [
      "50340\n",
      "31586340.0\n"
     ]
    }
   ],
   "source": [
    "# Attributes\n",
    "print(subtr.seconds)\n",
    "print(subtr.total_seconds())"
   ]
  },
  {
   "cell_type": "markdown",
   "id": "fec0d7c2-07a6-4e09-ad1f-f3ea4f07ec43",
   "metadata": {},
   "source": [
    "## 107 - Python Math and Random Modules"
   ]
  },
  {
   "cell_type": "markdown",
   "id": "ecdc8301-f0b1-45c9-b1b3-87aa3786e0d9",
   "metadata": {},
   "source": [
    "### `math` Module"
   ]
  },
  {
   "cell_type": "code",
   "execution_count": 121,
   "id": "a2d64301-bbb4-4731-a35f-893c1496df1f",
   "metadata": {},
   "outputs": [],
   "source": [
    "import math"
   ]
  },
  {
   "cell_type": "code",
   "execution_count": 122,
   "id": "29174819-9632-4744-bd0e-99e86d123982",
   "metadata": {
    "scrolled": true
   },
   "outputs": [
    {
     "name": "stdout",
     "output_type": "stream",
     "text": [
      "Help on built-in module math:\n",
      "\n",
      "NAME\n",
      "    math\n",
      "\n",
      "DESCRIPTION\n",
      "    This module provides access to the mathematical functions\n",
      "    defined by the C standard.\n",
      "\n",
      "FUNCTIONS\n",
      "    acos(x, /)\n",
      "        Return the arc cosine (measured in radians) of x.\n",
      "\n",
      "        The result is between 0 and pi.\n",
      "\n",
      "    acosh(x, /)\n",
      "        Return the inverse hyperbolic cosine of x.\n",
      "\n",
      "    asin(x, /)\n",
      "        Return the arc sine (measured in radians) of x.\n",
      "\n",
      "        The result is between -pi/2 and pi/2.\n",
      "\n",
      "    asinh(x, /)\n",
      "        Return the inverse hyperbolic sine of x.\n",
      "\n",
      "    atan(x, /)\n",
      "        Return the arc tangent (measured in radians) of x.\n",
      "\n",
      "        The result is between -pi/2 and pi/2.\n",
      "\n",
      "    atan2(y, x, /)\n",
      "        Return the arc tangent (measured in radians) of y/x.\n",
      "\n",
      "        Unlike atan(y/x), the signs of both x and y are considered.\n",
      "\n",
      "    atanh(x, /)\n",
      "        Return the inverse hyperbolic tangent of x.\n",
      "\n",
      "    cbrt(x, /)\n",
      "        Return the cube root of x.\n",
      "\n",
      "    ceil(x, /)\n",
      "        Return the ceiling of x as an Integral.\n",
      "\n",
      "        This is the smallest integer >= x.\n",
      "\n",
      "    comb(n, k, /)\n",
      "        Number of ways to choose k items from n items without repetition and without order.\n",
      "\n",
      "        Evaluates to n! / (k! * (n - k)!) when k <= n and evaluates\n",
      "        to zero when k > n.\n",
      "\n",
      "        Also called the binomial coefficient because it is equivalent\n",
      "        to the coefficient of k-th term in polynomial expansion of the\n",
      "        expression (1 + x)**n.\n",
      "\n",
      "        Raises TypeError if either of the arguments are not integers.\n",
      "        Raises ValueError if either of the arguments are negative.\n",
      "\n",
      "    copysign(x, y, /)\n",
      "        Return a float with the magnitude (absolute value) of x but the sign of y.\n",
      "\n",
      "        On platforms that support signed zeros, copysign(1.0, -0.0)\n",
      "        returns -1.0.\n",
      "\n",
      "    cos(x, /)\n",
      "        Return the cosine of x (measured in radians).\n",
      "\n",
      "    cosh(x, /)\n",
      "        Return the hyperbolic cosine of x.\n",
      "\n",
      "    degrees(x, /)\n",
      "        Convert angle x from radians to degrees.\n",
      "\n",
      "    dist(p, q, /)\n",
      "        Return the Euclidean distance between two points p and q.\n",
      "\n",
      "        The points should be specified as sequences (or iterables) of\n",
      "        coordinates.  Both inputs must have the same dimension.\n",
      "\n",
      "        Roughly equivalent to:\n",
      "            sqrt(sum((px - qx) ** 2.0 for px, qx in zip(p, q)))\n",
      "\n",
      "    erf(x, /)\n",
      "        Error function at x.\n",
      "\n",
      "    erfc(x, /)\n",
      "        Complementary error function at x.\n",
      "\n",
      "    exp(x, /)\n",
      "        Return e raised to the power of x.\n",
      "\n",
      "    exp2(x, /)\n",
      "        Return 2 raised to the power of x.\n",
      "\n",
      "    expm1(x, /)\n",
      "        Return exp(x)-1.\n",
      "\n",
      "        This function avoids the loss of precision involved in the direct evaluation of exp(x)-1 for small x.\n",
      "\n",
      "    fabs(x, /)\n",
      "        Return the absolute value of the float x.\n",
      "\n",
      "    factorial(n, /)\n",
      "        Find n!.\n",
      "\n",
      "        Raise a ValueError if x is negative or non-integral.\n",
      "\n",
      "    floor(x, /)\n",
      "        Return the floor of x as an Integral.\n",
      "\n",
      "        This is the largest integer <= x.\n",
      "\n",
      "    fmod(x, y, /)\n",
      "        Return fmod(x, y), according to platform C.\n",
      "\n",
      "        x % y may differ.\n",
      "\n",
      "    frexp(x, /)\n",
      "        Return the mantissa and exponent of x, as pair (m, e).\n",
      "\n",
      "        m is a float and e is an int, such that x = m * 2.**e.\n",
      "        If x is 0, m and e are both 0.  Else 0.5 <= abs(m) < 1.0.\n",
      "\n",
      "    fsum(seq, /)\n",
      "        Return an accurate floating-point sum of values in the iterable seq.\n",
      "\n",
      "        Assumes IEEE-754 floating-point arithmetic.\n",
      "\n",
      "    gamma(x, /)\n",
      "        Gamma function at x.\n",
      "\n",
      "    gcd(*integers)\n",
      "        Greatest Common Divisor.\n",
      "\n",
      "    hypot(...)\n",
      "        hypot(*coordinates) -> value\n",
      "\n",
      "        Multidimensional Euclidean distance from the origin to a point.\n",
      "\n",
      "        Roughly equivalent to:\n",
      "            sqrt(sum(x**2 for x in coordinates))\n",
      "\n",
      "        For a two dimensional point (x, y), gives the hypotenuse\n",
      "        using the Pythagorean theorem:  sqrt(x*x + y*y).\n",
      "\n",
      "        For example, the hypotenuse of a 3/4/5 right triangle is:\n",
      "\n",
      "            >>> hypot(3.0, 4.0)\n",
      "            5.0\n",
      "\n",
      "    isclose(a, b, *, rel_tol=1e-09, abs_tol=0.0)\n",
      "        Determine whether two floating-point numbers are close in value.\n",
      "\n",
      "          rel_tol\n",
      "            maximum difference for being considered \"close\", relative to the\n",
      "            magnitude of the input values\n",
      "          abs_tol\n",
      "            maximum difference for being considered \"close\", regardless of the\n",
      "            magnitude of the input values\n",
      "\n",
      "        Return True if a is close in value to b, and False otherwise.\n",
      "\n",
      "        For the values to be considered close, the difference between them\n",
      "        must be smaller than at least one of the tolerances.\n",
      "\n",
      "        -inf, inf and NaN behave similarly to the IEEE 754 Standard.  That\n",
      "        is, NaN is not close to anything, even itself.  inf and -inf are\n",
      "        only close to themselves.\n",
      "\n",
      "    isfinite(x, /)\n",
      "        Return True if x is neither an infinity nor a NaN, and False otherwise.\n",
      "\n",
      "    isinf(x, /)\n",
      "        Return True if x is a positive or negative infinity, and False otherwise.\n",
      "\n",
      "    isnan(x, /)\n",
      "        Return True if x is a NaN (not a number), and False otherwise.\n",
      "\n",
      "    isqrt(n, /)\n",
      "        Return the integer part of the square root of the input.\n",
      "\n",
      "    lcm(*integers)\n",
      "        Least Common Multiple.\n",
      "\n",
      "    ldexp(x, i, /)\n",
      "        Return x * (2**i).\n",
      "\n",
      "        This is essentially the inverse of frexp().\n",
      "\n",
      "    lgamma(x, /)\n",
      "        Natural logarithm of absolute value of Gamma function at x.\n",
      "\n",
      "    log(...)\n",
      "        log(x, [base=math.e])\n",
      "        Return the logarithm of x to the given base.\n",
      "\n",
      "        If the base is not specified, returns the natural logarithm (base e) of x.\n",
      "\n",
      "    log10(x, /)\n",
      "        Return the base 10 logarithm of x.\n",
      "\n",
      "    log1p(x, /)\n",
      "        Return the natural logarithm of 1+x (base e).\n",
      "\n",
      "        The result is computed in a way which is accurate for x near zero.\n",
      "\n",
      "    log2(x, /)\n",
      "        Return the base 2 logarithm of x.\n",
      "\n",
      "    modf(x, /)\n",
      "        Return the fractional and integer parts of x.\n",
      "\n",
      "        Both results carry the sign of x and are floats.\n",
      "\n",
      "    nextafter(x, y, /, *, steps=None)\n",
      "        Return the floating-point value the given number of steps after x towards y.\n",
      "\n",
      "        If steps is not specified or is None, it defaults to 1.\n",
      "\n",
      "        Raises a TypeError, if x or y is not a double, or if steps is not an integer.\n",
      "        Raises ValueError if steps is negative.\n",
      "\n",
      "    perm(n, k=None, /)\n",
      "        Number of ways to choose k items from n items without repetition and with order.\n",
      "\n",
      "        Evaluates to n! / (n - k)! when k <= n and evaluates\n",
      "        to zero when k > n.\n",
      "\n",
      "        If k is not specified or is None, then k defaults to n\n",
      "        and the function returns n!.\n",
      "\n",
      "        Raises TypeError if either of the arguments are not integers.\n",
      "        Raises ValueError if either of the arguments are negative.\n",
      "\n",
      "    pow(x, y, /)\n",
      "        Return x**y (x to the power of y).\n",
      "\n",
      "    prod(iterable, /, *, start=1)\n",
      "        Calculate the product of all the elements in the input iterable.\n",
      "\n",
      "        The default start value for the product is 1.\n",
      "\n",
      "        When the iterable is empty, return the start value.  This function is\n",
      "        intended specifically for use with numeric values and may reject\n",
      "        non-numeric types.\n",
      "\n",
      "    radians(x, /)\n",
      "        Convert angle x from degrees to radians.\n",
      "\n",
      "    remainder(x, y, /)\n",
      "        Difference between x and the closest integer multiple of y.\n",
      "\n",
      "        Return x - n*y where n*y is the closest integer multiple of y.\n",
      "        In the case where x is exactly halfway between two multiples of\n",
      "        y, the nearest even value of n is used. The result is always exact.\n",
      "\n",
      "    sin(x, /)\n",
      "        Return the sine of x (measured in radians).\n",
      "\n",
      "    sinh(x, /)\n",
      "        Return the hyperbolic sine of x.\n",
      "\n",
      "    sqrt(x, /)\n",
      "        Return the square root of x.\n",
      "\n",
      "    sumprod(p, q, /)\n",
      "        Return the sum of products of values from two iterables p and q.\n",
      "\n",
      "        Roughly equivalent to:\n",
      "\n",
      "            sum(itertools.starmap(operator.mul, zip(p, q, strict=True)))\n",
      "\n",
      "        For float and mixed int/float inputs, the intermediate products\n",
      "        and sums are computed with extended precision.\n",
      "\n",
      "    tan(x, /)\n",
      "        Return the tangent of x (measured in radians).\n",
      "\n",
      "    tanh(x, /)\n",
      "        Return the hyperbolic tangent of x.\n",
      "\n",
      "    trunc(x, /)\n",
      "        Truncates the Real x to the nearest Integral toward 0.\n",
      "\n",
      "        Uses the __trunc__ magic method.\n",
      "\n",
      "    ulp(x, /)\n",
      "        Return the value of the least significant bit of the float x.\n",
      "\n",
      "DATA\n",
      "    e = 2.718281828459045\n",
      "    inf = inf\n",
      "    nan = nan\n",
      "    pi = 3.141592653589793\n",
      "    tau = 6.283185307179586\n",
      "\n",
      "FILE\n",
      "    (built-in)\n",
      "\n",
      "\n"
     ]
    }
   ],
   "source": [
    "help(math)"
   ]
  },
  {
   "cell_type": "markdown",
   "id": "0fc94993-65b5-442d-a5e5-ee59b43a9cd2",
   "metadata": {},
   "source": [
    "##### Rounding"
   ]
  },
  {
   "cell_type": "code",
   "execution_count": 124,
   "id": "e037c4d6-ea37-410d-8dd0-5e38e9995716",
   "metadata": {},
   "outputs": [
    {
     "name": "stdout",
     "output_type": "stream",
     "text": [
      "4\n",
      "5\n"
     ]
    }
   ],
   "source": [
    "value = 4.35\n",
    "print(math.floor(value))\n",
    "print(math.ceil(value))"
   ]
  },
  {
   "cell_type": "code",
   "execution_count": 125,
   "id": "c072e67d-ead6-462c-8726-ba552642d2e2",
   "metadata": {},
   "outputs": [
    {
     "name": "stdout",
     "output_type": "stream",
     "text": [
      "4\n",
      "4\n",
      "6\n"
     ]
    }
   ],
   "source": [
    "print(round(value))\n",
    "print(round(4.5))\n",
    "print(round(5.5))"
   ]
  },
  {
   "cell_type": "markdown",
   "id": "cd9032a4-e51c-4629-8cff-178b12f186e6",
   "metadata": {},
   "source": [
    "This is because it rounds to even integers."
   ]
  },
  {
   "cell_type": "code",
   "execution_count": 127,
   "id": "63643f1f-16a3-4f1f-b5f0-54353ed9abb3",
   "metadata": {},
   "outputs": [
    {
     "name": "stdout",
     "output_type": "stream",
     "text": [
      "6\n",
      "5\n"
     ]
    }
   ],
   "source": [
    "print(round(5.6))\n",
    "print(round(5.4))"
   ]
  },
  {
   "cell_type": "markdown",
   "id": "9f8949fb-1f30-4bb1-b61d-8481f490ac35",
   "metadata": {},
   "source": [
    "##### Some values"
   ]
  },
  {
   "cell_type": "code",
   "execution_count": 129,
   "id": "0d51bd34-8ddd-4550-9456-0a93577dec58",
   "metadata": {},
   "outputs": [
    {
     "name": "stdout",
     "output_type": "stream",
     "text": [
      "3.141592653589793\n",
      "2.718281828459045\n",
      "inf\n",
      "nan\n"
     ]
    }
   ],
   "source": [
    "print(math.pi)\n",
    "print(math.e)\n",
    "print(math.inf)\n",
    "print(math.nan)"
   ]
  },
  {
   "cell_type": "markdown",
   "id": "20124af2-5d3b-435f-8349-27d4591a7275",
   "metadata": {},
   "source": [
    "- Much deeper numerical processing, `numpy` library."
   ]
  },
  {
   "cell_type": "markdown",
   "id": "fb52d2a0-be66-49de-a5b3-6e69018a5f62",
   "metadata": {},
   "source": [
    "##### Some Functions"
   ]
  },
  {
   "cell_type": "code",
   "execution_count": 132,
   "id": "537e9cde-7058-425a-bde2-9affbda5c4f1",
   "metadata": {},
   "outputs": [
    {
     "data": {
      "text/plain": [
       "1.0"
      ]
     },
     "execution_count": 132,
     "metadata": {},
     "output_type": "execute_result"
    }
   ],
   "source": [
    "# Natural log\n",
    "math.log(math.e)"
   ]
  },
  {
   "cell_type": "code",
   "execution_count": 133,
   "id": "ebd72572-fdd9-4f5e-ae49-c02fd33097af",
   "metadata": {},
   "outputs": [
    {
     "data": {
      "text/plain": [
       "1.0"
      ]
     },
     "execution_count": 133,
     "metadata": {},
     "output_type": "execute_result"
    }
   ],
   "source": [
    "# Base 10\n",
    "math.log(10, 10)"
   ]
  },
  {
   "cell_type": "code",
   "execution_count": 134,
   "id": "bc45ac95-e73a-4206-87cd-7ce942e0b5a2",
   "metadata": {},
   "outputs": [
    {
     "data": {
      "text/plain": [
       "1.0"
      ]
     },
     "execution_count": 134,
     "metadata": {},
     "output_type": "execute_result"
    }
   ],
   "source": [
    "# Input in radians\n",
    "math.sin(math.pi/2)"
   ]
  },
  {
   "cell_type": "code",
   "execution_count": 135,
   "id": "20b191cf-5385-499f-9523-65174d49860c",
   "metadata": {},
   "outputs": [
    {
     "data": {
      "text/plain": [
       "90.0"
      ]
     },
     "execution_count": 135,
     "metadata": {},
     "output_type": "execute_result"
    }
   ],
   "source": [
    "# Conversion to degrees\n",
    "math.degrees(math.pi/2)"
   ]
  },
  {
   "cell_type": "markdown",
   "id": "20aee849-e4c4-4bb6-a460-fbea8047629a",
   "metadata": {},
   "source": [
    "### `random` Module"
   ]
  },
  {
   "cell_type": "code",
   "execution_count": 190,
   "id": "16b1863e-2bf4-4523-92d2-b2f7e33d8c54",
   "metadata": {},
   "outputs": [],
   "source": [
    "import random"
   ]
  },
  {
   "cell_type": "markdown",
   "id": "d880bf8c-1bd9-4249-bbf0-911b8a16f07b",
   "metadata": {},
   "source": [
    "##### Random Integer"
   ]
  },
  {
   "cell_type": "code",
   "execution_count": 192,
   "id": "83b0c211-99ae-419c-a7ac-b9efa72d1a20",
   "metadata": {},
   "outputs": [
    {
     "data": {
      "text/plain": [
       "72"
      ]
     },
     "execution_count": 192,
     "metadata": {},
     "output_type": "execute_result"
    }
   ],
   "source": [
    "random.randint(1, 100)"
   ]
  },
  {
   "cell_type": "code",
   "execution_count": 196,
   "id": "1f4e31cf-b817-4181-a1df-ec71c3efbdaf",
   "metadata": {},
   "outputs": [
    {
     "data": {
      "text/plain": [
       "59"
      ]
     },
     "execution_count": 196,
     "metadata": {},
     "output_type": "execute_result"
    }
   ],
   "source": [
    "# Seeding\n",
    "random.seed(666)\n",
    "# In same cell\n",
    "random.randint(1, 100)"
   ]
  },
  {
   "cell_type": "code",
   "execution_count": 198,
   "id": "35ac5d23-4a7a-4d65-87d2-021069253fac",
   "metadata": {},
   "outputs": [
    {
     "data": {
      "text/plain": [
       "49"
      ]
     },
     "execution_count": 198,
     "metadata": {},
     "output_type": "execute_result"
    }
   ],
   "source": [
    "# In another cell\n",
    "random.randint(1, 100)"
   ]
  },
  {
   "cell_type": "code",
   "execution_count": 200,
   "id": "ee2be5a8-4f6f-46af-80ee-ef29e0be385e",
   "metadata": {},
   "outputs": [
    {
     "data": {
      "text/plain": [
       "56"
      ]
     },
     "execution_count": 200,
     "metadata": {},
     "output_type": "execute_result"
    }
   ],
   "source": [
    "random.randint(1, 100)"
   ]
  },
  {
   "cell_type": "code",
   "execution_count": 204,
   "id": "da444bd2-0f27-4b74-98cf-e4c5312bc7f7",
   "metadata": {},
   "outputs": [
    {
     "name": "stdout",
     "output_type": "stream",
     "text": [
      "59\n",
      "49\n",
      "56\n"
     ]
    }
   ],
   "source": [
    "random.seed(666)\n",
    "\n",
    "print(random.randint(1, 100))\n",
    "print(random.randint(1, 100))\n",
    "print(random.randint(1, 100))"
   ]
  },
  {
   "cell_type": "markdown",
   "id": "13287d02-faef-4f6a-9f39-74a1c6c583ae",
   "metadata": {},
   "source": [
    "##### Random Choice"
   ]
  },
  {
   "cell_type": "code",
   "execution_count": 210,
   "id": "79b60765-4cf3-49d0-87b9-c76fb217b9c2",
   "metadata": {},
   "outputs": [
    {
     "data": {
      "text/plain": [
       "9"
      ]
     },
     "execution_count": 210,
     "metadata": {},
     "output_type": "execute_result"
    }
   ],
   "source": [
    "mylist = [1,2,3,4,5,6,76,8,8,9,12,34,45,56,67,67]\n",
    "random.choice(mylist)"
   ]
  },
  {
   "cell_type": "markdown",
   "id": "5a50bbd0-4dd3-42eb-9ed0-c061c5803a1b",
   "metadata": {},
   "source": [
    "##### Sampling with Replacement"
   ]
  },
  {
   "cell_type": "code",
   "execution_count": 213,
   "id": "fb75b53f-6f7b-4c7e-bc7b-6fdc9987cd7f",
   "metadata": {},
   "outputs": [
    {
     "data": {
      "text/plain": [
       "[8, 45, 8, 34, 2]"
      ]
     },
     "execution_count": 213,
     "metadata": {},
     "output_type": "execute_result"
    }
   ],
   "source": [
    "random.choices(population = mylist, k = 5)"
   ]
  },
  {
   "cell_type": "markdown",
   "id": "5787b113-cb83-4e0e-a86b-d91cfa653d7a",
   "metadata": {},
   "source": [
    "##### Sampling without Replacement"
   ]
  },
  {
   "cell_type": "code",
   "execution_count": 216,
   "id": "5cf65cdf-3202-4dea-a48b-164ae80046a9",
   "metadata": {},
   "outputs": [
    {
     "data": {
      "text/plain": [
       "[5, 76, 12, 8, 9]"
      ]
     },
     "execution_count": 216,
     "metadata": {},
     "output_type": "execute_result"
    }
   ],
   "source": [
    "random.sample(population = mylist, k = 5)"
   ]
  },
  {
   "cell_type": "markdown",
   "id": "c9489280-d268-4374-b56e-780ebd420b4e",
   "metadata": {},
   "source": [
    "##### Shuffling"
   ]
  },
  {
   "cell_type": "markdown",
   "id": "958b3ed1-f1ac-4867-9792-f148a692a739",
   "metadata": {},
   "source": [
    "- It´s in place."
   ]
  },
  {
   "cell_type": "code",
   "execution_count": 220,
   "id": "59dd2db1-d63c-4a13-bfd7-df43c91dd34a",
   "metadata": {},
   "outputs": [
    {
     "data": {
      "text/plain": [
       "[67, 8, 34, 4, 76, 67, 6, 12, 9, 3, 45, 56, 5, 2, 1, 8]"
      ]
     },
     "execution_count": 220,
     "metadata": {},
     "output_type": "execute_result"
    }
   ],
   "source": [
    "random.shuffle(mylist)\n",
    "mylist"
   ]
  },
  {
   "cell_type": "markdown",
   "id": "cf1b02ab-ea44-4827-9b48-088e4649ae17",
   "metadata": {},
   "source": [
    "##### Distributions"
   ]
  },
  {
   "cell_type": "code",
   "execution_count": 223,
   "id": "b9d6bcc7-96f5-4fab-8589-9d9cc257b978",
   "metadata": {},
   "outputs": [
    {
     "data": {
      "text/plain": [
       "51.18767304945438"
      ]
     },
     "execution_count": 223,
     "metadata": {},
     "output_type": "execute_result"
    }
   ],
   "source": [
    "random.uniform(a = 0, b = 99)"
   ]
  },
  {
   "cell_type": "code",
   "execution_count": 225,
   "id": "e04b9b96-5587-4155-a6f3-6e78cccb6622",
   "metadata": {},
   "outputs": [
    {
     "data": {
      "text/plain": [
       "2.17381968363062"
      ]
     },
     "execution_count": 225,
     "metadata": {},
     "output_type": "execute_result"
    }
   ],
   "source": [
    "random.gauss(mu = 0, sigma = 1)"
   ]
  },
  {
   "cell_type": "markdown",
   "id": "c599365b-2e7a-48a6-b8c0-5cb502e742c9",
   "metadata": {},
   "source": [
    "## 108 - Python Debugger"
   ]
  },
  {
   "cell_type": "markdown",
   "id": "1e3612eb-c239-462e-a071-439a9ba7a818",
   "metadata": {},
   "source": [
    "- Python comes with a built-in debugger tool."
   ]
  },
  {
   "cell_type": "code",
   "execution_count": 229,
   "id": "df06e255-bf12-4d83-88f2-996841602de4",
   "metadata": {},
   "outputs": [
    {
     "ename": "TypeError",
     "evalue": "can only concatenate list (not \"int\") to list",
     "output_type": "error",
     "traceback": [
      "\u001b[1;31m---------------------------------------------------------------------------\u001b[0m",
      "\u001b[1;31mTypeError\u001b[0m                                 Traceback (most recent call last)",
      "Cell \u001b[1;32mIn[229], line 6\u001b[0m\n\u001b[0;32m      3\u001b[0m z \u001b[38;5;241m=\u001b[39m \u001b[38;5;241m3\u001b[39m\n\u001b[0;32m      5\u001b[0m result1 \u001b[38;5;241m=\u001b[39m y \u001b[38;5;241m+\u001b[39m z\n\u001b[1;32m----> 6\u001b[0m result2 \u001b[38;5;241m=\u001b[39m x \u001b[38;5;241m+\u001b[39m y\n",
      "\u001b[1;31mTypeError\u001b[0m: can only concatenate list (not \"int\") to list"
     ]
    }
   ],
   "source": [
    "x = [1,2,3]\n",
    "y = 2\n",
    "z = 3\n",
    "\n",
    "result1 = y + z\n",
    "result2 = x + y"
   ]
  },
  {
   "cell_type": "code",
   "execution_count": 231,
   "id": "49238ccf-12d8-45f3-94b4-335250e35a82",
   "metadata": {},
   "outputs": [],
   "source": [
    "import pdb"
   ]
  },
  {
   "cell_type": "code",
   "execution_count": 235,
   "id": "43e22e7b-deaa-4187-ac4b-6ad7425e3db1",
   "metadata": {},
   "outputs": [
    {
     "name": "stdout",
     "output_type": "stream",
     "text": [
      "--Return--\n",
      "None\n",
      "> \u001b[1;32mc:\\users\\manitu\\appdata\\local\\temp\\ipykernel_7172\\2596328049.py\u001b[0m(7)\u001b[0;36m<module>\u001b[1;34m()\u001b[0m\n",
      "\n"
     ]
    },
    {
     "name": "stdin",
     "output_type": "stream",
     "text": [
      "ipdb>  x\n"
     ]
    },
    {
     "name": "stdout",
     "output_type": "stream",
     "text": [
      "[1, 2, 3]\n"
     ]
    },
    {
     "name": "stdin",
     "output_type": "stream",
     "text": [
      "ipdb>  y\n"
     ]
    },
    {
     "name": "stdout",
     "output_type": "stream",
     "text": [
      "2\n"
     ]
    },
    {
     "name": "stdin",
     "output_type": "stream",
     "text": [
      "ipdb>  x * y\n"
     ]
    },
    {
     "name": "stdout",
     "output_type": "stream",
     "text": [
      "[1, 2, 3, 1, 2, 3]\n"
     ]
    },
    {
     "name": "stdin",
     "output_type": "stream",
     "text": [
      "ipdb>  q\n"
     ]
    }
   ],
   "source": [
    "x = [1,2,3]\n",
    "y = 2\n",
    "z = 3\n",
    "\n",
    "result_one = y + z\n",
    "\n",
    "pdb.set_trace()\n",
    "result_two = y + x"
   ]
  },
  {
   "cell_type": "code",
   "execution_count": null,
   "id": "fbb3b8a6-8177-4899-92dd-b6d8caae7c77",
   "metadata": {},
   "outputs": [],
   "source": []
  }
 ],
 "metadata": {
  "kernelspec": {
   "display_name": "Python [conda env:base] *",
   "language": "python",
   "name": "conda-base-py"
  },
  "language_info": {
   "codemirror_mode": {
    "name": "ipython",
    "version": 3
   },
   "file_extension": ".py",
   "mimetype": "text/x-python",
   "name": "python",
   "nbconvert_exporter": "python",
   "pygments_lexer": "ipython3",
   "version": "3.12.7"
  }
 },
 "nbformat": 4,
 "nbformat_minor": 5
}
