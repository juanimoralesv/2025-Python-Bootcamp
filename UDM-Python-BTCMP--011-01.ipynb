{
 "cells": [
  {
   "cell_type": "markdown",
   "id": "e926399d",
   "metadata": {},
   "source": [
    "# Section 11 - Milestone Project 2"
   ]
  },
  {
   "cell_type": "markdown",
   "id": "89e953c5",
   "metadata": {},
   "source": [
    "## 86 - Intro to Milestone Project 2 - Warmup"
   ]
  },
  {
   "cell_type": "markdown",
   "id": "e4c994e2",
   "metadata": {},
   "source": [
    "- The 'War' card game will be replicated using OOP.\n",
    "<br>\n",
    "\n",
    "- To construct this game, we will create:\n",
    "   - Card Class\n",
    "   - Deck Class\n",
    "   - Player Class \n",
    "   - Game Logic\n",
    "<br><br>\n",
    "\n",
    "- The play will be a simulation: no human player taking part of it."
   ]
  },
  {
   "cell_type": "markdown",
   "id": "bd5c7ad5",
   "metadata": {},
   "source": [
    "## 87 - Card Class"
   ]
  },
  {
   "cell_type": "markdown",
   "id": "ceb47444",
   "metadata": {},
   "source": [
    "Logic:\n",
    "\n",
    "- Card\n",
    "    - Suit\n",
    "    - Rank\n",
    "    - Value (easy to use, for comparison)"
   ]
  },
  {
   "cell_type": "code",
   "execution_count": 1,
   "id": "82bb4670",
   "metadata": {},
   "outputs": [],
   "source": [
    "# Libraries\n",
    "import random\n",
    "# Suits\n",
    "suits = (\"Hearts\", \"Diamonds\", \"Spades\", \"Clubs\")\n",
    "# Ranks\n",
    "ranks = (\"Two\", \"Three\", \"Four\", \"Five\", \"Six\", \"Seven\", \"Eight\", \"Nine\", \"Ten\", \"Jack\", \"Queen\", \"King\", \"Ace\")\n",
    "# Value dictionary\n",
    "values = {\n",
    "    \"Two\": 2, \"Three\": 3, \"Four\": 4, \"Five\": 5, \"Six\": 6, \"Seven\": 7, \"Eight\": 8,\n",
    "    \"Nine\": 9, \"Ten\": 10, \"Jack\": 11, \"Queen\": 12, \"King\": 13, \"Ace\": 14\n",
    "}"
   ]
  },
  {
   "cell_type": "code",
   "execution_count": 2,
   "id": "9f13113b",
   "metadata": {},
   "outputs": [],
   "source": [
    "# Card class definition\n",
    "class Card():\n",
    "\n",
    "    def __init__(self, suit, rank):\n",
    "        self.suit = suit\n",
    "        self.rank = rank\n",
    "        self.value = values[rank]\n",
    "\n",
    "    def __str__(self):\n",
    "        return self.rank + \" of \" + self.suit"
   ]
  },
  {
   "cell_type": "code",
   "execution_count": 3,
   "id": "8394b01d",
   "metadata": {},
   "outputs": [
    {
     "data": {
      "text/plain": [
       "<__main__.Card at 0x14d9b936490>"
      ]
     },
     "execution_count": 3,
     "metadata": {},
     "output_type": "execute_result"
    }
   ],
   "source": [
    "# Card instantiation\n",
    "two_hearts = Card(\"Hearts\", \"Two\")\n",
    "two_hearts"
   ]
  },
  {
   "cell_type": "code",
   "execution_count": 4,
   "id": "df0452b0",
   "metadata": {},
   "outputs": [
    {
     "name": "stdout",
     "output_type": "stream",
     "text": [
      "Two of Hearts\n"
     ]
    }
   ],
   "source": [
    "print(two_hearts)"
   ]
  },
  {
   "cell_type": "code",
   "execution_count": 5,
   "id": "e7825c39",
   "metadata": {},
   "outputs": [
    {
     "name": "stdout",
     "output_type": "stream",
     "text": [
      "Hearts\n",
      "Two\n"
     ]
    }
   ],
   "source": [
    "# Card attributes\n",
    "print(two_hearts.suit)\n",
    "print(two_hearts.rank)"
   ]
  },
  {
   "cell_type": "code",
   "execution_count": 6,
   "id": "279b0d9c",
   "metadata": {},
   "outputs": [
    {
     "data": {
      "text/plain": [
       "2"
      ]
     },
     "execution_count": 6,
     "metadata": {},
     "output_type": "execute_result"
    }
   ],
   "source": [
    "values[two_hearts.rank]"
   ]
  },
  {
   "cell_type": "code",
   "execution_count": 7,
   "id": "560f5e54",
   "metadata": {},
   "outputs": [],
   "source": [
    "# Card instantiation\n",
    "three_clubs = Card(\"Clubs\", \"Three\")"
   ]
  },
  {
   "cell_type": "code",
   "execution_count": 8,
   "id": "03260f74",
   "metadata": {},
   "outputs": [
    {
     "name": "stdout",
     "output_type": "stream",
     "text": [
      "Clubs\n",
      "Three\n",
      "3\n"
     ]
    }
   ],
   "source": [
    "# Attributes\n",
    "print(three_clubs.suit)\n",
    "print(three_clubs.rank)\n",
    "print(three_clubs.value)"
   ]
  },
  {
   "cell_type": "code",
   "execution_count": 9,
   "id": "631f1c75",
   "metadata": {},
   "outputs": [
    {
     "data": {
      "text/plain": [
       "True"
      ]
     },
     "execution_count": 9,
     "metadata": {},
     "output_type": "execute_result"
    }
   ],
   "source": [
    "# Card comparison\n",
    "two_hearts.value < three_clubs.value"
   ]
  },
  {
   "cell_type": "code",
   "execution_count": null,
   "id": "575cd7cf",
   "metadata": {},
   "outputs": [],
   "source": []
  }
 ],
 "metadata": {
  "kernelspec": {
   "display_name": "Python 3 (ipykernel)",
   "language": "python",
   "name": "python3"
  },
  "language_info": {
   "codemirror_mode": {
    "name": "ipython",
    "version": 3
   },
   "file_extension": ".py",
   "mimetype": "text/x-python",
   "name": "python",
   "nbconvert_exporter": "python",
   "pygments_lexer": "ipython3",
   "version": "3.11.5"
  }
 },
 "nbformat": 4,
 "nbformat_minor": 5
}
