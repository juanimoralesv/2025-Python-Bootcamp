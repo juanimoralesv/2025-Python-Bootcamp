{
 "cells": [
  {
   "cell_type": "markdown",
   "id": "e926399d",
   "metadata": {},
   "source": [
    "# Section 11 - Milestone Project 2"
   ]
  },
  {
   "cell_type": "markdown",
   "id": "89e953c5",
   "metadata": {},
   "source": [
    "## 86 - Intro to Milestone Project 2 - Warmup"
   ]
  },
  {
   "cell_type": "markdown",
   "id": "e4c994e2",
   "metadata": {},
   "source": [
    "- The 'War' card game will be replicated using OOP.\n",
    "<br>\n",
    "\n",
    "- To construct this game, we will create:\n",
    "   - Card Class\n",
    "   - Deck Class\n",
    "   - Player Class \n",
    "   - Game Logic\n",
    "<br><br>\n",
    "\n",
    "- The play will be a simulation: no human player taking part of it."
   ]
  },
  {
   "cell_type": "markdown",
   "id": "bd5c7ad5",
   "metadata": {},
   "source": [
    "## 87 - Card Class"
   ]
  },
  {
   "cell_type": "markdown",
   "id": "ceb47444",
   "metadata": {},
   "source": [
    "Logic:\n",
    "\n",
    "- Card\n",
    "    - Suit\n",
    "    - Rank\n",
    "    - Value (easy to use, for comparison)"
   ]
  },
  {
   "cell_type": "code",
   "execution_count": 1,
   "id": "82bb4670",
   "metadata": {},
   "outputs": [],
   "source": [
    "# Libraries\n",
    "import random\n",
    "# Suits\n",
    "suits = (\"Hearts\", \"Diamonds\", \"Spades\", \"Clubs\")\n",
    "# Ranks\n",
    "ranks = (\"Two\", \"Three\", \"Four\", \"Five\", \"Six\", \"Seven\", \"Eight\", \"Nine\", \"Ten\", \"Jack\", \"Queen\", \"King\", \"Ace\")\n",
    "# Value dictionary\n",
    "values = {\n",
    "    \"Two\": 2, \"Three\": 3, \"Four\": 4, \"Five\": 5, \"Six\": 6, \"Seven\": 7, \"Eight\": 8,\n",
    "    \"Nine\": 9, \"Ten\": 10, \"Jack\": 11, \"Queen\": 12, \"King\": 13, \"Ace\": 14\n",
    "}"
   ]
  },
  {
   "cell_type": "code",
   "execution_count": 2,
   "id": "9f13113b",
   "metadata": {},
   "outputs": [],
   "source": [
    "# Card class definition\n",
    "class Card():\n",
    "\n",
    "    def __init__(self, suit, rank):\n",
    "        self.suit = suit\n",
    "        self.rank = rank\n",
    "        self.value = values[rank]\n",
    "\n",
    "    def __str__(self):\n",
    "        return self.rank + \" of \" + self.suit"
   ]
  },
  {
   "cell_type": "code",
   "execution_count": 3,
   "id": "8394b01d",
   "metadata": {},
   "outputs": [
    {
     "data": {
      "text/plain": [
       "<__main__.Card at 0x22c92f087d0>"
      ]
     },
     "execution_count": 3,
     "metadata": {},
     "output_type": "execute_result"
    }
   ],
   "source": [
    "# Card instantiation\n",
    "two_hearts = Card(\"Hearts\", \"Two\")\n",
    "two_hearts"
   ]
  },
  {
   "cell_type": "code",
   "execution_count": 4,
   "id": "df0452b0",
   "metadata": {},
   "outputs": [
    {
     "name": "stdout",
     "output_type": "stream",
     "text": [
      "Two of Hearts\n"
     ]
    }
   ],
   "source": [
    "print(two_hearts)"
   ]
  },
  {
   "cell_type": "code",
   "execution_count": 5,
   "id": "e7825c39",
   "metadata": {},
   "outputs": [
    {
     "name": "stdout",
     "output_type": "stream",
     "text": [
      "Hearts\n",
      "Two\n"
     ]
    }
   ],
   "source": [
    "# Card attributes\n",
    "print(two_hearts.suit)\n",
    "print(two_hearts.rank)"
   ]
  },
  {
   "cell_type": "code",
   "execution_count": 6,
   "id": "279b0d9c",
   "metadata": {},
   "outputs": [
    {
     "data": {
      "text/plain": [
       "2"
      ]
     },
     "execution_count": 6,
     "metadata": {},
     "output_type": "execute_result"
    }
   ],
   "source": [
    "values[two_hearts.rank]"
   ]
  },
  {
   "cell_type": "code",
   "execution_count": 7,
   "id": "560f5e54",
   "metadata": {},
   "outputs": [],
   "source": [
    "# Card instantiation\n",
    "three_clubs = Card(\"Clubs\", \"Three\")"
   ]
  },
  {
   "cell_type": "code",
   "execution_count": 8,
   "id": "03260f74",
   "metadata": {},
   "outputs": [
    {
     "name": "stdout",
     "output_type": "stream",
     "text": [
      "Clubs\n",
      "Three\n",
      "3\n"
     ]
    }
   ],
   "source": [
    "# Attributes\n",
    "print(three_clubs.suit)\n",
    "print(three_clubs.rank)\n",
    "print(three_clubs.value)"
   ]
  },
  {
   "cell_type": "code",
   "execution_count": 9,
   "id": "631f1c75",
   "metadata": {},
   "outputs": [
    {
     "data": {
      "text/plain": [
       "True"
      ]
     },
     "execution_count": 9,
     "metadata": {},
     "output_type": "execute_result"
    }
   ],
   "source": [
    "# Card comparison\n",
    "two_hearts.value < three_clubs.value"
   ]
  },
  {
   "cell_type": "markdown",
   "id": "e285923b",
   "metadata": {},
   "source": [
    "## 88 - Deck Class"
   ]
  },
  {
   "cell_type": "markdown",
   "id": "aee9ad21",
   "metadata": {},
   "source": [
    "Deck Class\n",
    "  - Instantiate a new deck\n",
    "    - Create all 52 Card objects\n",
    "    - Hold as a list of Card objects\n",
    "  - Shuffle a Deck through a method call\n",
    "    - Random library shuffle() function\n",
    "  - Deal cards from the Deck object\n",
    "    - Pop method from cards list"
   ]
  },
  {
   "cell_type": "code",
   "execution_count": 10,
   "id": "c29f80fe",
   "metadata": {},
   "outputs": [],
   "source": [
    "# Deck class definition\n",
    "class Deck():\n",
    "    \n",
    "    def __init__(self):\n",
    "        self.all_cards = [Card(suit, rank) for suit in suits for rank in ranks]\n",
    "\n",
    "    def shuffle_deck(self):\n",
    "        random.shuffle(self.all_cards)\n",
    "\n",
    "    def deal_one(self):\n",
    "        return self.all_cards.pop()"
   ]
  },
  {
   "cell_type": "code",
   "execution_count": 11,
   "id": "a5d5eb2f",
   "metadata": {},
   "outputs": [],
   "source": [
    "# Deck instantiation\n",
    "new_deck = Deck()"
   ]
  },
  {
   "cell_type": "code",
   "execution_count": 12,
   "id": "4ed8cb89",
   "metadata": {},
   "outputs": [
    {
     "data": {
      "text/plain": [
       "<__main__.Deck at 0x22c92f057d0>"
      ]
     },
     "execution_count": 12,
     "metadata": {},
     "output_type": "execute_result"
    }
   ],
   "source": [
    "new_deck"
   ]
  },
  {
   "cell_type": "code",
   "execution_count": 13,
   "id": "ee234747",
   "metadata": {},
   "outputs": [
    {
     "name": "stdout",
     "output_type": "stream",
     "text": [
      "Two of Hearts\n",
      "Three of Hearts\n",
      "Four of Hearts\n",
      "Five of Hearts\n",
      "Six of Hearts\n",
      "Seven of Hearts\n",
      "Eight of Hearts\n",
      "Nine of Hearts\n",
      "Ten of Hearts\n",
      "Jack of Hearts\n",
      "Queen of Hearts\n",
      "King of Hearts\n",
      "Ace of Hearts\n",
      "Two of Diamonds\n",
      "Three of Diamonds\n",
      "Four of Diamonds\n",
      "Five of Diamonds\n",
      "Six of Diamonds\n",
      "Seven of Diamonds\n",
      "Eight of Diamonds\n",
      "Nine of Diamonds\n",
      "Ten of Diamonds\n",
      "Jack of Diamonds\n",
      "Queen of Diamonds\n",
      "King of Diamonds\n",
      "Ace of Diamonds\n",
      "Two of Spades\n",
      "Three of Spades\n",
      "Four of Spades\n",
      "Five of Spades\n",
      "Six of Spades\n",
      "Seven of Spades\n",
      "Eight of Spades\n",
      "Nine of Spades\n",
      "Ten of Spades\n",
      "Jack of Spades\n",
      "Queen of Spades\n",
      "King of Spades\n",
      "Ace of Spades\n",
      "Two of Clubs\n",
      "Three of Clubs\n",
      "Four of Clubs\n",
      "Five of Clubs\n",
      "Six of Clubs\n",
      "Seven of Clubs\n",
      "Eight of Clubs\n",
      "Nine of Clubs\n",
      "Ten of Clubs\n",
      "Jack of Clubs\n",
      "Queen of Clubs\n",
      "King of Clubs\n",
      "Ace of Clubs\n"
     ]
    }
   ],
   "source": [
    "# Print the whole deck\n",
    "for card in new_deck.all_cards:\n",
    "    print(card)"
   ]
  },
  {
   "cell_type": "code",
   "execution_count": 14,
   "id": "f47f3194",
   "metadata": {},
   "outputs": [],
   "source": [
    "# Shuffle the deck\n",
    "new_deck.shuffle_deck()"
   ]
  },
  {
   "cell_type": "code",
   "execution_count": 15,
   "id": "4bed4954",
   "metadata": {},
   "outputs": [
    {
     "name": "stdout",
     "output_type": "stream",
     "text": [
      "King of Clubs\n",
      "Ten of Spades\n",
      "Seven of Hearts\n",
      "Nine of Clubs\n",
      "Four of Hearts\n",
      "King of Hearts\n",
      "Queen of Hearts\n",
      "Six of Spades\n",
      "Queen of Clubs\n",
      "Ace of Clubs\n",
      "Three of Diamonds\n",
      "Four of Clubs\n",
      "Two of Diamonds\n",
      "Two of Hearts\n",
      "Five of Spades\n",
      "Four of Spades\n",
      "Nine of Hearts\n",
      "Seven of Clubs\n",
      "Five of Diamonds\n",
      "Ten of Hearts\n",
      "Eight of Clubs\n",
      "Ace of Hearts\n",
      "King of Diamonds\n",
      "Eight of Diamonds\n",
      "Six of Clubs\n",
      "Jack of Spades\n",
      "Ace of Diamonds\n",
      "Three of Clubs\n",
      "Queen of Spades\n",
      "Five of Clubs\n",
      "Three of Hearts\n",
      "King of Spades\n",
      "Nine of Spades\n",
      "Nine of Diamonds\n",
      "Jack of Diamonds\n",
      "Jack of Clubs\n",
      "Ten of Diamonds\n",
      "Eight of Hearts\n",
      "Six of Diamonds\n",
      "Eight of Spades\n",
      "Four of Diamonds\n",
      "Ten of Clubs\n",
      "Queen of Diamonds\n",
      "Seven of Spades\n",
      "Jack of Hearts\n",
      "Two of Clubs\n",
      "Seven of Diamonds\n",
      "Six of Hearts\n",
      "Five of Hearts\n",
      "Two of Spades\n",
      "Ace of Spades\n",
      "Three of Spades\n"
     ]
    }
   ],
   "source": [
    "# Print to check if shuffled\n",
    "for card in new_deck.all_cards:\n",
    "    print(card)"
   ]
  },
  {
   "cell_type": "code",
   "execution_count": 16,
   "id": "ab20f9ae",
   "metadata": {},
   "outputs": [
    {
     "name": "stdout",
     "output_type": "stream",
     "text": [
      "Three of Spades\n",
      "51\n"
     ]
    }
   ],
   "source": [
    "# Deal one card from the deck, see which one,\n",
    "# check how many left on the deck\n",
    "one_card = new_deck.deal_one()\n",
    "print(one_card)\n",
    "print(len(new_deck.all_cards))"
   ]
  },
  {
   "cell_type": "markdown",
   "id": "02167bcd",
   "metadata": {},
   "source": [
    "## 89 - Player Class"
   ]
  },
  {
   "cell_type": "markdown",
   "id": "47e12ba9",
   "metadata": {},
   "source": [
    "Player Class\n",
    "  - This class will be used to hold a player's current list of cards.\n",
    "  - A player should be able to add or remove cards from their \"hand\" (list of Card objects)."
   ]
  },
  {
   "cell_type": "code",
   "execution_count": 17,
   "id": "5c335fde",
   "metadata": {},
   "outputs": [],
   "source": [
    "# Class definition\n",
    "class Player():\n",
    "    \n",
    "    def __init__(self, name):\n",
    "        self.name = name\n",
    "        self.all_cards = []\n",
    "\n",
    "    def __str__(self):\n",
    "        return f\"Player {self.name} has {len(self.all_cards)} cards.\"\n",
    "    \n",
    "    def remove_one(self):\n",
    "        return self.all_cards.pop(0)\n",
    "\n",
    "    def add_cards(self, new_cards):\n",
    "        if type(new_cards) == type([]):\n",
    "            self.all_cards.extend(new_cards)\n",
    "        else:\n",
    "            self.all_cards.append(new_cards)"
   ]
  },
  {
   "cell_type": "code",
   "execution_count": 18,
   "id": "969e8305",
   "metadata": {},
   "outputs": [
    {
     "name": "stdout",
     "output_type": "stream",
     "text": [
      "Player José has 0 cards.\n"
     ]
    }
   ],
   "source": [
    "# Player instantiation\n",
    "new_player = Player(\"José\")\n",
    "print(new_player)"
   ]
  },
  {
   "cell_type": "code",
   "execution_count": 19,
   "id": "b451b2ba",
   "metadata": {},
   "outputs": [
    {
     "name": "stdout",
     "output_type": "stream",
     "text": [
      "Three of Spades\n"
     ]
    }
   ],
   "source": [
    "print(one_card)"
   ]
  },
  {
   "cell_type": "code",
   "execution_count": 20,
   "id": "fcf107ba",
   "metadata": {},
   "outputs": [],
   "source": [
    "# Player adds one card\n",
    "new_player.add_cards(one_card)"
   ]
  },
  {
   "cell_type": "code",
   "execution_count": 21,
   "id": "79f7fafe",
   "metadata": {},
   "outputs": [
    {
     "name": "stdout",
     "output_type": "stream",
     "text": [
      "Player José has 1 cards.\n"
     ]
    }
   ],
   "source": [
    "# Player's cards\n",
    "print(new_player)"
   ]
  },
  {
   "cell_type": "code",
   "execution_count": 22,
   "id": "1cab82ad",
   "metadata": {},
   "outputs": [
    {
     "name": "stdout",
     "output_type": "stream",
     "text": [
      "Three of Spades\n"
     ]
    }
   ],
   "source": [
    "print(new_player.all_cards[0])"
   ]
  },
  {
   "cell_type": "code",
   "execution_count": 23,
   "id": "9d8ae78f",
   "metadata": {},
   "outputs": [
    {
     "name": "stdout",
     "output_type": "stream",
     "text": [
      "Player José has 4 cards.\n",
      "Three of Spades\n",
      "Three of Spades\n",
      "Three of Spades\n",
      "Three of Spades\n"
     ]
    }
   ],
   "source": [
    "# Player adds multiple cards\n",
    "new_player.add_cards([one_card, one_card, one_card])\n",
    "print(new_player)\n",
    "for card in new_player.all_cards:\n",
    "    print(card)"
   ]
  },
  {
   "cell_type": "code",
   "execution_count": 24,
   "id": "5849c64f",
   "metadata": {},
   "outputs": [
    {
     "name": "stdout",
     "output_type": "stream",
     "text": [
      "Removed card:  Three of Spades\n",
      "Player José has 3 cards.\n",
      "Three of Spades\n",
      "Three of Spades\n",
      "Three of Spades\n"
     ]
    }
   ],
   "source": [
    "# Player removes one card\n",
    "print(\"Removed card: \", new_player.remove_one())\n",
    "print(new_player)\n",
    "for card in new_player.all_cards:\n",
    "    print(card)"
   ]
  },
  {
   "cell_type": "markdown",
   "id": "cc969462",
   "metadata": {},
   "source": [
    "## 90 - Game Logic - Part 1"
   ]
  },
  {
   "cell_type": "markdown",
   "id": "e2ad279e",
   "metadata": {},
   "source": [
    "- The logic of the program tends to be the most difficult part of a program.\n",
    "- Usually, the logic and the classes are designed about simultaneously, so they fit each other."
   ]
  },
  {
   "cell_type": "markdown",
   "id": "08ccf2e9",
   "metadata": {},
   "source": [
    "## 91/92 - Game Logic - Part 2/3"
   ]
  },
  {
   "cell_type": "markdown",
   "id": "9e26df7b",
   "metadata": {},
   "source": [
    "#### Game Setup"
   ]
  },
  {
   "cell_type": "markdown",
   "id": "9f703a42",
   "metadata": {},
   "source": [
    "- The rules we'll use in this version is if there is a tie, each player needs to draw 5 additional cards.\n",
    "- We'll also say that a player loses if they don't have at least 5 cards to play the war.\n",
    "- This logic is easily edited to fit any rule structure you want."
   ]
  },
  {
   "cell_type": "code",
   "execution_count": 49,
   "id": "57684446",
   "metadata": {},
   "outputs": [],
   "source": [
    "# Players\n",
    "player1 = Player(\"One\")\n",
    "player2 = Player(\"Two\")\n",
    "\n",
    "# Deck\n",
    "the_deck = Deck()\n",
    "the_deck.shuffle_deck()\n",
    "\n",
    "# Dealing\n",
    "for loopn in range(26):\n",
    "    player1.add_cards(the_deck.deal_one())\n",
    "    player2.add_cards(the_deck.deal_one())"
   ]
  },
  {
   "cell_type": "markdown",
   "id": "7042ad9d",
   "metadata": {},
   "source": [
    "#### Game"
   ]
  },
  {
   "cell_type": "code",
   "execution_count": 50,
   "id": "8a59137a",
   "metadata": {},
   "outputs": [
    {
     "name": "stdout",
     "output_type": "stream",
     "text": [
      "Round number: 1.\n",
      "Round number: 2.\n",
      "Round number: 3.\n",
      "Round number: 4.\n",
      "War!\n",
      "Round number: 5.\n",
      "Round number: 6.\n",
      "Round number: 7.\n",
      "Round number: 8.\n",
      "War!\n",
      "Round number: 9.\n",
      "Round number: 10.\n",
      "War!\n",
      "Round number: 11.\n",
      "Round number: 12.\n",
      "Round number: 13.\n",
      "Round number: 14.\n",
      "Round number: 15.\n",
      "Round number: 16.\n",
      "Round number: 17.\n",
      "Round number: 18.\n",
      "Round number: 19.\n",
      "Round number: 20.\n",
      "Round number: 21.\n",
      "Round number: 22.\n",
      "Round number: 23.\n",
      "Round number: 24.\n",
      "Round number: 25.\n",
      "Round number: 26.\n",
      "War!\n",
      "Round number: 27.\n",
      "War!\n",
      "Player One unable to go to war!\n",
      "Player Two wins!\n"
     ]
    }
   ],
   "source": [
    "round_num = 0\n",
    "game_on = True\n",
    "\n",
    "while game_on:\n",
    "    round_num += 1\n",
    "    print(f\"Round number: {round_num}.\")\n",
    "\n",
    "    # Check for win/lose\n",
    "    if len(player1.all_cards) == 0:\n",
    "        print(\"Player One is out of cards, so Player Two wins!\")\n",
    "        game_on = False\n",
    "        break\n",
    "\n",
    "    if len(player2.all_cards) == 0:\n",
    "        print(\"Player Two is out of cards, so Player One wins!\")\n",
    "        game_on = False\n",
    "        break\n",
    "\n",
    "    # Start a new round\n",
    "    player1_cards = []\n",
    "    player1_cards.append(player1.remove_one())\n",
    "\n",
    "    player2_cards = []\n",
    "    player2_cards.append(player2.remove_one())\n",
    "\n",
    "    war_on = True\n",
    "    # War situation\n",
    "    while war_on:\n",
    "        if player1_cards[-1].value > player2_cards[-1].value:\n",
    "            player1.add_cards(player1_cards)\n",
    "            player1.add_cards(player2_cards)\n",
    "            break\n",
    "        elif player1_cards[-1].value < player2_cards[-1].value:\n",
    "            player2.add_cards(player1_cards)\n",
    "            player2.add_cards(player2_cards)\n",
    "            break\n",
    "        else:\n",
    "            print(\"War!\")\n",
    "            if len(player1.all_cards) < 5:\n",
    "                print(\"Player One unable to go to war!\")\n",
    "                print(\"Player Two wins!\")\n",
    "                game_on = False\n",
    "                break\n",
    "            elif len(player2.all_cards) < 5:\n",
    "                print(\"Player Two unable to go to war!\")\n",
    "                print(\"Player One wins!\")\n",
    "                game_on = False\n",
    "                break\n",
    "            else:\n",
    "                for num in range(5):\n",
    "                    player1_cards.append(player1.remove_one())\n",
    "                    player2_cards.append(player2.remove_one())"
   ]
  }
 ],
 "metadata": {
  "kernelspec": {
   "display_name": "Python 3 (ipykernel)",
   "language": "python",
   "name": "python3"
  },
  "language_info": {
   "codemirror_mode": {
    "name": "ipython",
    "version": 3
   },
   "file_extension": ".py",
   "mimetype": "text/x-python",
   "name": "python",
   "nbconvert_exporter": "python",
   "pygments_lexer": "ipython3",
   "version": "3.11.5"
  }
 },
 "nbformat": 4,
 "nbformat_minor": 5
}
