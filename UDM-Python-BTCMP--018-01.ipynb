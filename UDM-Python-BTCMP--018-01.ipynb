{
 "cells": [
  {
   "cell_type": "markdown",
   "id": "e926399d",
   "metadata": {},
   "source": [
    "# Section 18 - Emails with Python"
   ]
  },
  {
   "cell_type": "markdown",
   "id": "89e953c5",
   "metadata": {},
   "source": [
    "## 134 - Introduction to Emails with Python"
   ]
  },
  {
   "cell_type": "markdown",
   "id": "e0135e5c-a64b-4504-a78b-99c3ba14831b",
   "metadata": {},
   "source": [
    "N/A"
   ]
  },
  {
   "cell_type": "markdown",
   "id": "d199ec5b-6c50-4d08-a2e7-99b4c2ad1266",
   "metadata": {},
   "source": [
    "## 135 - Sending Emails with Python"
   ]
  },
  {
   "cell_type": "markdown",
   "id": "c2a09972-dd10-48cf-b691-7f635d99b182",
   "metadata": {},
   "source": [
    "Steps:\n",
    "- Connect to email server\n",
    "- Confirm connection\n",
    "- Set protocol\n",
    "- Log on\n",
    "- Send message"
   ]
  },
  {
   "cell_type": "markdown",
   "id": "065b3519-8c9f-49ba-b6f5-994ba4fb0de2",
   "metadata": {},
   "source": [
    "- Use of built-in `smtplib` module.\n",
    "- SMTP, simple mail transfer protocol"
   ]
  },
  {
   "cell_type": "code",
   "execution_count": 7,
   "id": "573e7deb-bc67-4b97-8767-cb676e480273",
   "metadata": {},
   "outputs": [],
   "source": [
    "import smtplib"
   ]
  },
  {
   "cell_type": "code",
   "execution_count": 9,
   "id": "2671d39c-1c62-4012-95c9-a9ecf6fbb5a5",
   "metadata": {},
   "outputs": [
    {
     "data": {
      "text/plain": [
       "(250,\n",
       " b'smtp.gmail.com at your service, [2800:810:502:1305:dc1d:9d59:3a67:3519]\\nSIZE 35882577\\n8BITMIME\\nSTARTTLS\\nENHANCEDSTATUSCODES\\nPIPELINING\\nCHUNKING\\nSMTPUTF8')"
      ]
     },
     "execution_count": 9,
     "metadata": {},
     "output_type": "execute_result"
    }
   ],
   "source": [
    "smtp_object = smtplib.SMTP('smtp.gmail.com', 587)\n",
    "smtp_object.ehlo()"
   ]
  },
  {
   "cell_type": "code",
   "execution_count": 11,
   "id": "88eaaa70-a783-4af5-ad73-f3757dae963f",
   "metadata": {},
   "outputs": [
    {
     "data": {
      "text/plain": [
       "(220, b'2.0.0 Ready to start TLS')"
      ]
     },
     "execution_count": 11,
     "metadata": {},
     "output_type": "execute_result"
    }
   ],
   "source": [
    "# If port 587, not for 465\n",
    "smtp_object.starttls()"
   ]
  },
  {
   "cell_type": "code",
   "execution_count": null,
   "id": "d88bb9c2-1415-4715-a93b-81bf99ede3d3",
   "metadata": {},
   "outputs": [],
   "source": []
  }
 ],
 "metadata": {
  "kernelspec": {
   "display_name": "Python [conda env:base] *",
   "language": "python",
   "name": "conda-base-py"
  },
  "language_info": {
   "codemirror_mode": {
    "name": "ipython",
    "version": 3
   },
   "file_extension": ".py",
   "mimetype": "text/x-python",
   "name": "python",
   "nbconvert_exporter": "python",
   "pygments_lexer": "ipython3",
   "version": "3.12.7"
  }
 },
 "nbformat": 4,
 "nbformat_minor": 5
}
