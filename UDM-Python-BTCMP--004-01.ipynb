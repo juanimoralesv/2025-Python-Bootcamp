{
 "cells": [
  {
   "cell_type": "markdown",
   "id": "27ab4e5f",
   "metadata": {},
   "source": [
    "# Section 04 - Python Comparison Operators"
   ]
  },
  {
   "cell_type": "markdown",
   "id": "4624bdca",
   "metadata": {},
   "source": [
    "## 32 - Comparison Operators in Python"
   ]
  },
  {
   "cell_type": "markdown",
   "id": "90df0b74",
   "metadata": {},
   "source": [
    "## Table of Comparison Operators\n",
    "\n",
    "In the table below, a = 3 and b = 4.\n",
    "\n",
    "| Operator | Description                                                                                                         | Example                   |\n",
    "|----------|---------------------------------------------------------------------------------------------------------------------|---------------------------|\n",
    "| ==       | If the values of two operands are equal, then the condition becomes true.                                          | (a == b) is not true.     |\n",
    "| !=       | If values of two operands are not equal, then condition becomes true.                                             | (a != b) is true          |\n",
    "| >        | If the value of left operand is greater than the value of right operand, then condition becomes true.             | (a > b) is not true.      |\n",
    "| <        | If the value of left operand is less than the value of right operand, then condition becomes true.                | (a < b) is true.          |\n",
    "| >=       | If the value of left operand is greater than or equal to the value of right operand, then condition becomes true. | (a >= b) is not true.     |\n",
    "| <=       | If the value of left operand is less than or equal to the value of right operand, then condition becomes true.    | (a <= b) is true.         |"
   ]
  },
  {
   "cell_type": "code",
   "execution_count": 2,
   "id": "ffcd1f4b",
   "metadata": {},
   "outputs": [
    {
     "data": {
      "text/plain": [
       "True"
      ]
     },
     "execution_count": 2,
     "metadata": {},
     "output_type": "execute_result"
    }
   ],
   "source": [
    "# Equality\n",
    "2 == 2"
   ]
  },
  {
   "cell_type": "code",
   "execution_count": 3,
   "id": "1b1ea534",
   "metadata": {},
   "outputs": [
    {
     "data": {
      "text/plain": [
       "False"
      ]
     },
     "execution_count": 3,
     "metadata": {},
     "output_type": "execute_result"
    }
   ],
   "source": [
    "# Equality\n",
    "1 == 2"
   ]
  },
  {
   "cell_type": "code",
   "execution_count": 4,
   "id": "27318ca1",
   "metadata": {},
   "outputs": [
    {
     "data": {
      "text/plain": [
       "False"
      ]
     },
     "execution_count": 4,
     "metadata": {},
     "output_type": "execute_result"
    }
   ],
   "source": [
    "# Capitalization matters\n",
    "'Bye' == 'bye'"
   ]
  },
  {
   "cell_type": "code",
   "execution_count": 5,
   "id": "f9161174",
   "metadata": {},
   "outputs": [
    {
     "data": {
      "text/plain": [
       "True"
      ]
     },
     "execution_count": 5,
     "metadata": {},
     "output_type": "execute_result"
    }
   ],
   "source": [
    "# Inequality\n",
    "1 != 2"
   ]
  },
  {
   "cell_type": "code",
   "execution_count": 6,
   "id": "a1fe48d2",
   "metadata": {},
   "outputs": [
    {
     "data": {
      "text/plain": [
       "True"
      ]
     },
     "execution_count": 6,
     "metadata": {},
     "output_type": "execute_result"
    }
   ],
   "source": [
    "# Inequality\n",
    "2 < 3"
   ]
  },
  {
   "cell_type": "markdown",
   "id": "0f9f1b94",
   "metadata": {},
   "source": [
    "## 33 - Chaining Comparison Operators in Python with Logical Operators"
   ]
  },
  {
   "cell_type": "markdown",
   "id": "36785af7",
   "metadata": {},
   "source": [
    "Logical operators:\n",
    "- `and`\n",
    "- `or`\n",
    "- `not`"
   ]
  },
  {
   "cell_type": "code",
   "execution_count": 7,
   "id": "531e2a60",
   "metadata": {},
   "outputs": [
    {
     "data": {
      "text/plain": [
       "True"
      ]
     },
     "execution_count": 7,
     "metadata": {},
     "output_type": "execute_result"
    }
   ],
   "source": [
    "# Compare\n",
    "1 < 2"
   ]
  },
  {
   "cell_type": "code",
   "execution_count": 8,
   "id": "e20312cb",
   "metadata": {},
   "outputs": [
    {
     "data": {
      "text/plain": [
       "True"
      ]
     },
     "execution_count": 8,
     "metadata": {},
     "output_type": "execute_result"
    }
   ],
   "source": [
    "2 < 3"
   ]
  },
  {
   "cell_type": "code",
   "execution_count": 9,
   "id": "433f6084",
   "metadata": {},
   "outputs": [
    {
     "data": {
      "text/plain": [
       "True"
      ]
     },
     "execution_count": 9,
     "metadata": {},
     "output_type": "execute_result"
    }
   ],
   "source": [
    "# This is a way of chaining\n",
    "1 < 2 < 3"
   ]
  },
  {
   "cell_type": "code",
   "execution_count": 10,
   "id": "3e588efa",
   "metadata": {},
   "outputs": [
    {
     "data": {
      "text/plain": [
       "False"
      ]
     },
     "execution_count": 10,
     "metadata": {},
     "output_type": "execute_result"
    }
   ],
   "source": [
    "1 < 2 > 3"
   ]
  },
  {
   "cell_type": "code",
   "execution_count": 11,
   "id": "96fe0a3f",
   "metadata": {},
   "outputs": [
    {
     "data": {
      "text/plain": [
       "False"
      ]
     },
     "execution_count": 11,
     "metadata": {},
     "output_type": "execute_result"
    }
   ],
   "source": [
    "# With logical operator\n",
    "1 < 2 and 2 > 3"
   ]
  },
  {
   "cell_type": "code",
   "execution_count": 12,
   "id": "4aee1ca4",
   "metadata": {},
   "outputs": [
    {
     "data": {
      "text/plain": [
       "True"
      ]
     },
     "execution_count": 12,
     "metadata": {},
     "output_type": "execute_result"
    }
   ],
   "source": [
    "'h' == 'h' and 2 == 2"
   ]
  },
  {
   "cell_type": "markdown",
   "id": "fc1cc0a0",
   "metadata": {},
   "source": [
    "Keyword `and` needs all comparisons to be `True` in order to return `True`."
   ]
  },
  {
   "cell_type": "code",
   "execution_count": 13,
   "id": "39eb5d07",
   "metadata": {},
   "outputs": [
    {
     "data": {
      "text/plain": [
       "True"
      ]
     },
     "execution_count": 13,
     "metadata": {},
     "output_type": "execute_result"
    }
   ],
   "source": [
    "100 == 1 or 2 == 2"
   ]
  },
  {
   "cell_type": "markdown",
   "id": "35f376f9",
   "metadata": {},
   "source": [
    "Keyword `or` needs only one condition to be `True` in order to return `True`; i.e., all to be `False` in order to return `False`."
   ]
  },
  {
   "cell_type": "code",
   "execution_count": 14,
   "id": "b3c5b46e",
   "metadata": {},
   "outputs": [
    {
     "data": {
      "text/plain": [
       "True"
      ]
     },
     "execution_count": 14,
     "metadata": {},
     "output_type": "execute_result"
    }
   ],
   "source": [
    "not 100 == 1"
   ]
  },
  {
   "cell_type": "markdown",
   "id": "8d3d6867",
   "metadata": {},
   "source": [
    "Keyword `not` returns the opposite boolean value."
   ]
  }
 ],
 "metadata": {
  "kernelspec": {
   "display_name": "Python 3 (ipykernel)",
   "language": "python",
   "name": "python3"
  },
  "language_info": {
   "codemirror_mode": {
    "name": "ipython",
    "version": 3
   },
   "file_extension": ".py",
   "mimetype": "text/x-python",
   "name": "python",
   "nbconvert_exporter": "python",
   "pygments_lexer": "ipython3",
   "version": "3.11.5"
  }
 },
 "nbformat": 4,
 "nbformat_minor": 5
}
