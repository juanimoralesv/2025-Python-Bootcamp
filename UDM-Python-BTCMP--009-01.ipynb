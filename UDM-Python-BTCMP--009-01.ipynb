{
 "cells": [
  {
   "cell_type": "markdown",
   "id": "e926399d",
   "metadata": {},
   "source": [
    "# Section 09 - Modules and Packages"
   ]
  },
  {
   "cell_type": "markdown",
   "id": "89e953c5",
   "metadata": {},
   "source": [
    "## 77 - pip install and PyPI"
   ]
  },
  {
   "cell_type": "markdown",
   "id": "bb7c6d12",
   "metadata": {},
   "source": [
    "## PyPI"
   ]
  },
  {
   "cell_type": "markdown",
   "id": "458ff9ae",
   "metadata": {},
   "source": [
    "- Repository for open-source third party packages.\n",
    "- `pip` is a simply way of downloading packages from the PyPI repository.\n",
    "- In Windows' console:\n",
    "```Python\n",
    "pip install openpyxl\n",
    "```"
   ]
  },
  {
   "cell_type": "markdown",
   "id": "e5606327",
   "metadata": {},
   "source": [
    "## 78 - Writing Your Own Modules and Packages"
   ]
  },
  {
   "cell_type": "markdown",
   "id": "e44b473e",
   "metadata": {},
   "source": [
    "- Modules are .py scripts that are used in another .py script.\n",
    "- Packages are a collection of modules, but they need a particular file among them so that Python knows these modules are to be treated as a package.\n",
    "    - Inside package or subpackage folders, a file named `__init__.py` needs to exist.\n",
    "    - The init file doesn't need to have any text or code inside.\n",
    "- For script file names to be used as modules, keep in mind:\n",
    "    - They can start with underscore or letters.\n",
    "    - They can have letters, numbers and underscores.\n",
    "    - They can't have special characters, not even dashes."
   ]
  },
  {
   "cell_type": "markdown",
   "id": "79ebd8e5",
   "metadata": {},
   "source": [
    "- The following code has been executed on Spyder:\n",
    "```Python\n",
    "# Using files in root directory\n",
    "from UDM_Python_BTCMP__009_02__module import my_func\n",
    "my_func()\n",
    "\n",
    "# Importing from a package\n",
    "from MyMainPackage import some_main_script\n",
    "# Importing from a subpackage\n",
    "from MyMainPackage.Subpackage import my_subscript\n",
    "\n",
    "# Run function from package\n",
    "some_main_script.main_report()\n",
    "# Run function from subpackage\n",
    "my_subscript.sub_report()\n",
    "```\n",
    "\n",
    "- It needed the creation of this folder/file structure:\n",
    "    - MyMainPackage (folder)\n",
    "        - some_main_script.py\n",
    "        - Subpackage (folder)\n",
    "            - my_subscript.py"
   ]
  },
  {
   "cell_type": "markdown",
   "id": "53a01997",
   "metadata": {},
   "source": [
    "## 79 - \\_\\_name\\_\\_ and \"\\_\\_main\\_\\_\""
   ]
  },
  {
   "cell_type": "markdown",
   "id": "d678d5a1",
   "metadata": {},
   "source": [
    "- When Python directly executes a file, in the background, it uses the variable `__name__` and assigns it the `string` \"__main__\".\n",
    "- If that same file is executed through a call from another script, it uses a different `string`, which is (apparently) the name of the script file, without the '.py' extension.\n",
    "- Hence, in code:\n",
    "```Python\n",
    "# Main body of the script with, for example, many function definitions\n",
    "def f1():\n",
    "    pass\n",
    "\n",
    "def f2():\n",
    "    pass\n",
    "\n",
    "def f3():\n",
    "    pass\n",
    "\n",
    "# At the end of the code:\n",
    "if __name__ == '__main__':\n",
    "    f1()\n",
    "    f2()\n",
    "    f3()\n",
    "```"
   ]
  },
  {
   "cell_type": "markdown",
   "id": "9bf7a9a2",
   "metadata": {},
   "source": [
    "A good read about this in stackoverflow: [What does `if __name__ == \"__main__\":` do?](https://stackoverflow.com/questions/419163/what-does-if-name-main-do)."
   ]
  },
  {
   "cell_type": "markdown",
   "id": "1dc9b3ab",
   "metadata": {},
   "source": [
    "These two files have been created (and used) at the root directory:\n",
    "- UDM_Python_BTCMP__009_04__ONE.py\n",
    "- UDM_Python_BTCMP__009_05__TWO.py"
   ]
  }
 ],
 "metadata": {
  "kernelspec": {
   "display_name": "Python 3 (ipykernel)",
   "language": "python",
   "name": "python3"
  },
  "language_info": {
   "codemirror_mode": {
    "name": "ipython",
    "version": 3
   },
   "file_extension": ".py",
   "mimetype": "text/x-python",
   "name": "python",
   "nbconvert_exporter": "python",
   "pygments_lexer": "ipython3",
   "version": "3.11.5"
  }
 },
 "nbformat": 4,
 "nbformat_minor": 5
}
