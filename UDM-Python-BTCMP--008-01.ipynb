{
 "cells": [
  {
   "cell_type": "markdown",
   "id": "e926399d",
   "metadata": {},
   "source": [
    "# Section 08 - Object Oriented Programming"
   ]
  },
  {
   "cell_type": "markdown",
   "id": "89e953c5",
   "metadata": {},
   "source": [
    "## 68 - Object Oriented Programming - Introduction"
   ]
  },
  {
   "cell_type": "markdown",
   "id": "bb7c6d12",
   "metadata": {},
   "source": [
    "- Create objects that have methods and attributes.\n",
    "- Useful for ordering code, make it repeatable, and for scaling.\n",
    "\n",
    "#### Methods are functions that use the object, or information about the object, to obtain results or change the object.\n",
    "\n",
    "- Code example:\n",
    "```Python\n",
    "class nameOfClass():\n",
    "    def __init__(self, param1, param2):\n",
    "        self.param1 = param1\n",
    "        self.param2 = param2\n",
    "        \n",
    "    def some_method(self):\n",
    "        # Perform some action\n",
    "        print(self.param1)\n",
    "```\n",
    "\n",
    "- \\_\\_init\\_\\_ allows for creation of object instances."
   ]
  },
  {
   "cell_type": "markdown",
   "id": "d3713e20",
   "metadata": {},
   "source": [
    "## 69 - OOP - Attributes and Class Keyword"
   ]
  },
  {
   "cell_type": "markdown",
   "id": "5f023f0c",
   "metadata": {},
   "source": [
    "- With `class` the blueprint of an object is created, from which later an instance of the object can be created."
   ]
  },
  {
   "cell_type": "code",
   "execution_count": 1,
   "id": "4838559a",
   "metadata": {},
   "outputs": [],
   "source": [
    "# Class definition\n",
    "class Sample():\n",
    "    pass"
   ]
  },
  {
   "cell_type": "code",
   "execution_count": 2,
   "id": "7c73685f",
   "metadata": {},
   "outputs": [],
   "source": [
    "# Class instancing\n",
    "mysample = Sample()"
   ]
  },
  {
   "cell_type": "code",
   "execution_count": 3,
   "id": "7e9bf6f7",
   "metadata": {},
   "outputs": [
    {
     "data": {
      "text/plain": [
       "__main__.Sample"
      ]
     },
     "execution_count": 3,
     "metadata": {},
     "output_type": "execute_result"
    }
   ],
   "source": [
    "type(mysample)"
   ]
  },
  {
   "cell_type": "markdown",
   "id": "47db0403",
   "metadata": {},
   "source": [
    "- `__init__` method:\n",
    "It needs to be called at the creation of a class. It's a class constructor method and it will automatically be called when a class instance is created.\n",
    "- `self` keyword:\n",
    "It connects the method to the instance of the class. It represents the instance of the object itself."
   ]
  },
  {
   "cell_type": "code",
   "execution_count": 4,
   "id": "7e2b9caf",
   "metadata": {},
   "outputs": [],
   "source": [
    "# Class definition\n",
    "class Dog():\n",
    "    \n",
    "    def __init__(self, breed):\n",
    "        # Attributes\n",
    "        self.breed = breed"
   ]
  },
  {
   "cell_type": "markdown",
   "id": "ffe0e62f",
   "metadata": {},
   "source": [
    "Here, `self.breed` is the attribute. The other two times the word `breed` appears are equivalent to parameters in functions: between parenthesis, indicating the function expects that parameter to be passed; right of the equal sign, to assign the passed parameter. In this case, however, an attribute is being defined: the `breed` attribute."
   ]
  },
  {
   "cell_type": "code",
   "execution_count": 5,
   "id": "bff06229",
   "metadata": {},
   "outputs": [],
   "source": [
    "# Instancing\n",
    "mydog = Dog('Lab')"
   ]
  },
  {
   "cell_type": "code",
   "execution_count": 7,
   "id": "a817d598",
   "metadata": {},
   "outputs": [
    {
     "data": {
      "text/plain": [
       "__main__.Dog"
      ]
     },
     "execution_count": 7,
     "metadata": {},
     "output_type": "execute_result"
    }
   ],
   "source": [
    "type(mydog)"
   ]
  },
  {
   "cell_type": "code",
   "execution_count": 6,
   "id": "c1319f8f",
   "metadata": {},
   "outputs": [
    {
     "data": {
      "text/plain": [
       "'Lab'"
      ]
     },
     "execution_count": 6,
     "metadata": {},
     "output_type": "execute_result"
    }
   ],
   "source": [
    "mydog.breed"
   ]
  },
  {
   "cell_type": "code",
   "execution_count": 8,
   "id": "9b411d17",
   "metadata": {},
   "outputs": [],
   "source": [
    "# Class re-definition\n",
    "class Dog():\n",
    "    \n",
    "    def __init__(self, breed, name, spots):\n",
    "        # Attributes\n",
    "        self.breed = breed\n",
    "        self.name = name\n",
    "        self.spots = spots"
   ]
  },
  {
   "cell_type": "code",
   "execution_count": 9,
   "id": "03973fce",
   "metadata": {},
   "outputs": [],
   "source": [
    "my_dog = Dog(breed = 'Lab', name = 'Sammy', spots = False)"
   ]
  },
  {
   "cell_type": "code",
   "execution_count": 10,
   "id": "52313aff",
   "metadata": {},
   "outputs": [
    {
     "data": {
      "text/plain": [
       "'Lab'"
      ]
     },
     "execution_count": 10,
     "metadata": {},
     "output_type": "execute_result"
    }
   ],
   "source": [
    "my_dog.breed"
   ]
  },
  {
   "cell_type": "code",
   "execution_count": 11,
   "id": "416bd936",
   "metadata": {},
   "outputs": [
    {
     "data": {
      "text/plain": [
       "'Sammy'"
      ]
     },
     "execution_count": 11,
     "metadata": {},
     "output_type": "execute_result"
    }
   ],
   "source": [
    "my_dog.name"
   ]
  },
  {
   "cell_type": "code",
   "execution_count": 12,
   "id": "2ffb3033",
   "metadata": {},
   "outputs": [
    {
     "data": {
      "text/plain": [
       "False"
      ]
     },
     "execution_count": 12,
     "metadata": {},
     "output_type": "execute_result"
    }
   ],
   "source": [
    "my_dog.spots"
   ]
  },
  {
   "cell_type": "markdown",
   "id": "15e02308",
   "metadata": {},
   "source": [
    "## 70 - OOP - Class Objects Attributes and Methods"
   ]
  },
  {
   "cell_type": "markdown",
   "id": "5d5b6449",
   "metadata": {},
   "source": [
    "- Class object attributes are the same for any instance of the class.\n",
    "- Methods are functions defined inside the class to perform operations that sometimes use the attributes of the object."
   ]
  },
  {
   "cell_type": "code",
   "execution_count": 14,
   "id": "cbcb48c7",
   "metadata": {},
   "outputs": [],
   "source": [
    "# Class re-definition\n",
    "class Dog():\n",
    "    '''This is the docstring?'''\n",
    "    # Class object attributes, not connected to `self`\n",
    "    species = 'mammal' # mammal in taxonomy is class, but to avoid repeating keyword: species\n",
    "    \n",
    "    def __init__(self, breed, name, spots):\n",
    "        # Attributes\n",
    "        self.breed = breed\n",
    "        self.name = name\n",
    "        self.spots = spots"
   ]
  },
  {
   "cell_type": "code",
   "execution_count": 15,
   "id": "4dae539c",
   "metadata": {},
   "outputs": [],
   "source": [
    "# Instance\n",
    "my_dog = Dog(breed = 'Lab', name = 'Sammy', spots = False)"
   ]
  },
  {
   "cell_type": "code",
   "execution_count": 16,
   "id": "ba08f175",
   "metadata": {},
   "outputs": [
    {
     "data": {
      "text/plain": [
       "'mammal'"
      ]
     },
     "execution_count": 16,
     "metadata": {},
     "output_type": "execute_result"
    }
   ],
   "source": [
    "my_dog.species"
   ]
  },
  {
   "cell_type": "code",
   "execution_count": 17,
   "id": "a241aaf2",
   "metadata": {},
   "outputs": [],
   "source": [
    "# Class re-definition\n",
    "class Dog():\n",
    "    '''This is the docstring?'''\n",
    "    # Class object attributes\n",
    "    species = 'mammal'\n",
    "    \n",
    "    def __init__(self, breed, name):\n",
    "        # Attributes\n",
    "        self.breed = breed\n",
    "        self.name = name\n",
    "    \n",
    "    # Methods\n",
    "    def bark(self):\n",
    "        print(\"WOOF!\")"
   ]
  },
  {
   "cell_type": "code",
   "execution_count": 18,
   "id": "9152e1a2",
   "metadata": {},
   "outputs": [],
   "source": [
    "# Instance\n",
    "my_dog = Dog('Lab', 'Frankie')"
   ]
  },
  {
   "cell_type": "code",
   "execution_count": 19,
   "id": "1ddfd3a1",
   "metadata": {},
   "outputs": [
    {
     "name": "stdout",
     "output_type": "stream",
     "text": [
      "mammal\n",
      "Frankie\n",
      "Lab\n"
     ]
    }
   ],
   "source": [
    "# Attributes\n",
    "print(my_dog.species)\n",
    "print(my_dog.name)\n",
    "print(my_dog.breed)"
   ]
  },
  {
   "cell_type": "markdown",
   "id": "99f3fbd7",
   "metadata": {},
   "source": [
    "Methods use the parenthesis, because they are executed."
   ]
  },
  {
   "cell_type": "code",
   "execution_count": 21,
   "id": "5b66b71e",
   "metadata": {},
   "outputs": [
    {
     "data": {
      "text/plain": [
       "<bound method Dog.bark of <__main__.Dog object at 0x000001135A7D0B10>>"
      ]
     },
     "execution_count": 21,
     "metadata": {},
     "output_type": "execute_result"
    }
   ],
   "source": [
    "# Method\n",
    "my_dog.bark"
   ]
  },
  {
   "cell_type": "code",
   "execution_count": 20,
   "id": "1962e525",
   "metadata": {},
   "outputs": [
    {
     "name": "stdout",
     "output_type": "stream",
     "text": [
      "WOOF!\n"
     ]
    }
   ],
   "source": [
    "# Executing the method\n",
    "my_dog.bark()"
   ]
  },
  {
   "cell_type": "markdown",
   "id": "ed810a96",
   "metadata": {},
   "source": [
    "#### Use of attribute in method:"
   ]
  },
  {
   "cell_type": "code",
   "execution_count": 25,
   "id": "8de13465",
   "metadata": {},
   "outputs": [],
   "source": [
    "# Class re-definition, so that it barks its name\n",
    "class Dog():\n",
    "    '''This is the docstring?'''\n",
    "    # Class object attributes\n",
    "    species = 'mammal'\n",
    "    \n",
    "    def __init__(self, breed, name):\n",
    "        # Attributes\n",
    "        self.breed = breed\n",
    "        self.name = name\n",
    "    \n",
    "    # Methods\n",
    "    def bark(self):\n",
    "        print(\"WOOF! My name is {}!\".format(self.name))"
   ]
  },
  {
   "cell_type": "code",
   "execution_count": 26,
   "id": "45b775d8",
   "metadata": {},
   "outputs": [],
   "source": [
    "# Instance\n",
    "my_dog = Dog('Lab', 'Frankie')"
   ]
  },
  {
   "cell_type": "code",
   "execution_count": 27,
   "id": "de660506",
   "metadata": {},
   "outputs": [
    {
     "name": "stdout",
     "output_type": "stream",
     "text": [
      "WOOF! My name is Frankie!\n"
     ]
    }
   ],
   "source": [
    "# Executing method\n",
    "my_dog.bark()"
   ]
  },
  {
   "cell_type": "markdown",
   "id": "60b2b6ca",
   "metadata": {},
   "source": [
    "#### Method using external parameter:"
   ]
  },
  {
   "cell_type": "code",
   "execution_count": 28,
   "id": "9f4f167f",
   "metadata": {},
   "outputs": [],
   "source": [
    "# Class re-definition, method with external parameter\n",
    "class Dog():\n",
    "    '''This is the docstring?'''\n",
    "    # Class object attributes\n",
    "    species = 'mammal'\n",
    "    \n",
    "    def __init__(self, breed, name):\n",
    "        # Attributes\n",
    "        self.breed = breed\n",
    "        self.name = name\n",
    "    \n",
    "    # Methods\n",
    "    def bark(self, number):\n",
    "        print(\"WOOF! My name is {} and the number is {}!\".format(self.name, number))"
   ]
  },
  {
   "cell_type": "code",
   "execution_count": 29,
   "id": "8cdaa050",
   "metadata": {},
   "outputs": [],
   "source": [
    "# Instance\n",
    "my_dog = Dog('Lab', 'Frankie')"
   ]
  },
  {
   "cell_type": "code",
   "execution_count": 30,
   "id": "a90dada0",
   "metadata": {},
   "outputs": [
    {
     "name": "stdout",
     "output_type": "stream",
     "text": [
      "WOOF! My name is Frankie and the number is 3!\n"
     ]
    }
   ],
   "source": [
    "# Executing method\n",
    "my_dog.bark(3)"
   ]
  },
  {
   "cell_type": "markdown",
   "id": "03b3d890",
   "metadata": {},
   "source": [
    "If no number had been passed, it raises an error, as it expects that parameter number."
   ]
  },
  {
   "cell_type": "code",
   "execution_count": 34,
   "id": "99a2fdc3",
   "metadata": {},
   "outputs": [],
   "source": [
    "class Circle():\n",
    "    # Class object attributes\n",
    "    pi = 3.14\n",
    "    \n",
    "    # Attributes\n",
    "    def __init__(self, radius = 1):\n",
    "        self.radius = radius\n",
    "    \n",
    "    # Methods\n",
    "    def get_circumference(self):\n",
    "        return self.radius * self.pi * 2"
   ]
  },
  {
   "cell_type": "code",
   "execution_count": 35,
   "id": "84a72a94",
   "metadata": {},
   "outputs": [],
   "source": [
    "mycirc = Circle(2)"
   ]
  },
  {
   "cell_type": "code",
   "execution_count": 37,
   "id": "64294bd9",
   "metadata": {},
   "outputs": [
    {
     "data": {
      "text/plain": [
       "3.14"
      ]
     },
     "execution_count": 37,
     "metadata": {},
     "output_type": "execute_result"
    }
   ],
   "source": [
    "# Object class attribute\n",
    "mycirc.pi"
   ]
  },
  {
   "cell_type": "code",
   "execution_count": 38,
   "id": "37d77102",
   "metadata": {},
   "outputs": [
    {
     "data": {
      "text/plain": [
       "2"
      ]
     },
     "execution_count": 38,
     "metadata": {},
     "output_type": "execute_result"
    }
   ],
   "source": [
    "# Attribute\n",
    "mycirc.radius"
   ]
  },
  {
   "cell_type": "code",
   "execution_count": 36,
   "id": "9329cf03",
   "metadata": {},
   "outputs": [
    {
     "data": {
      "text/plain": [
       "12.56"
      ]
     },
     "execution_count": 36,
     "metadata": {},
     "output_type": "execute_result"
    }
   ],
   "source": [
    "# Method\n",
    "mycirc.get_circumference()"
   ]
  },
  {
   "cell_type": "markdown",
   "id": "86c5ccad",
   "metadata": {},
   "source": [
    "Attributes don't need to be passed during object instantiation, it can be created internally."
   ]
  },
  {
   "cell_type": "code",
   "execution_count": 42,
   "id": "91cffcba",
   "metadata": {},
   "outputs": [],
   "source": [
    "# Class re-definition, 'internal' attribute\n",
    "class Circle():\n",
    "    # Class object attributes\n",
    "    pi = 3.14\n",
    "    \n",
    "    # Attributes\n",
    "    def __init__(self, radius = 1):\n",
    "        self.radius = radius\n",
    "        self.area = radius * radius * Circle.pi # Referencing class object attribute using class name\n",
    "    \n",
    "    # Methods\n",
    "    def get_circumference(self):\n",
    "        return self.radius * Circle.pi * 2 # Referencing class object attribute using class name"
   ]
  },
  {
   "cell_type": "markdown",
   "id": "8edad244",
   "metadata": {},
   "source": [
    "Referencing class object attributes using the name of the class makes it clear what type of attribute it's being referenced."
   ]
  },
  {
   "cell_type": "code",
   "execution_count": 43,
   "id": "f8d297bc",
   "metadata": {},
   "outputs": [],
   "source": [
    "# Instance\n",
    "mycirc = Circle(5)"
   ]
  },
  {
   "cell_type": "code",
   "execution_count": 44,
   "id": "3b98b628",
   "metadata": {},
   "outputs": [
    {
     "data": {
      "text/plain": [
       "78.5"
      ]
     },
     "execution_count": 44,
     "metadata": {},
     "output_type": "execute_result"
    }
   ],
   "source": [
    "# Attribute\n",
    "mycirc.area"
   ]
  },
  {
   "cell_type": "markdown",
   "id": "9cb21d83",
   "metadata": {},
   "source": [
    "## 71 - OOP - Inheritance and Polymorphism"
   ]
  },
  {
   "cell_type": "markdown",
   "id": "39d04733",
   "metadata": {},
   "source": [
    "- **Inheritance:** creation of new classes using already existing classes."
   ]
  },
  {
   "cell_type": "code",
   "execution_count": 47,
   "id": "e342aa27",
   "metadata": {},
   "outputs": [],
   "source": [
    "# Base class\n",
    "class Animal():\n",
    "    \n",
    "    def __init__(self):\n",
    "        print(\"Animal created!\")\n",
    "    \n",
    "    def who_am_i(self):\n",
    "        print(\"I am an animal.\")\n",
    "        \n",
    "    def eat(self):\n",
    "        print(\"I am eating.\")"
   ]
  },
  {
   "cell_type": "code",
   "execution_count": 48,
   "id": "bfe14758",
   "metadata": {},
   "outputs": [
    {
     "name": "stdout",
     "output_type": "stream",
     "text": [
      "Animal created!\n"
     ]
    }
   ],
   "source": [
    "# Instance\n",
    "myanimal = Animal()"
   ]
  },
  {
   "cell_type": "code",
   "execution_count": 50,
   "id": "cff34347",
   "metadata": {},
   "outputs": [
    {
     "name": "stdout",
     "output_type": "stream",
     "text": [
      "I am an animal.\n"
     ]
    }
   ],
   "source": [
    "# Method call\n",
    "myanimal.who_am_i()"
   ]
  },
  {
   "cell_type": "code",
   "execution_count": 51,
   "id": "7de78fe9",
   "metadata": {},
   "outputs": [
    {
     "name": "stdout",
     "output_type": "stream",
     "text": [
      "I am eating.\n"
     ]
    }
   ],
   "source": [
    "# Method call\n",
    "myanimal.eat()"
   ]
  },
  {
   "cell_type": "markdown",
   "id": "40edc95d",
   "metadata": {},
   "source": [
    "Creation of another class."
   ]
  },
  {
   "cell_type": "code",
   "execution_count": 52,
   "id": "a93df9a6",
   "metadata": {},
   "outputs": [],
   "source": [
    "# Derived class\n",
    "class Dog(Animal):\n",
    "    \n",
    "    def __init__(self):\n",
    "        Animal.__init__(self)\n",
    "        print(\"Dog created!\")"
   ]
  },
  {
   "cell_type": "code",
   "execution_count": 53,
   "id": "bbf77647",
   "metadata": {},
   "outputs": [
    {
     "name": "stdout",
     "output_type": "stream",
     "text": [
      "Animal created!\n",
      "Dog created!\n"
     ]
    }
   ],
   "source": [
    "thedog = Dog()"
   ]
  },
  {
   "cell_type": "code",
   "execution_count": 54,
   "id": "3654ab19",
   "metadata": {},
   "outputs": [
    {
     "name": "stdout",
     "output_type": "stream",
     "text": [
      "I am eating.\n"
     ]
    }
   ],
   "source": [
    "# Inherited methods\n",
    "thedog.eat()"
   ]
  },
  {
   "cell_type": "code",
   "execution_count": 55,
   "id": "63917c45",
   "metadata": {},
   "outputs": [
    {
     "name": "stdout",
     "output_type": "stream",
     "text": [
      "I am an animal.\n"
     ]
    }
   ],
   "source": [
    "thedog.who_am_i()"
   ]
  },
  {
   "cell_type": "markdown",
   "id": "5d6d464e",
   "metadata": {},
   "source": [
    "Inherited methods can be overridden by re-defining a method with exactly the same name as the one defined in the base class."
   ]
  },
  {
   "cell_type": "code",
   "execution_count": 56,
   "id": "262a87d2",
   "metadata": {},
   "outputs": [],
   "source": [
    "# Re-definition of derived class\n",
    "class Dog(Animal):\n",
    "    \n",
    "    def __init__(self):\n",
    "        Animal.__init__(self)\n",
    "        print(\"Dog created!\")\n",
    "    \n",
    "    def who_am_i(self):\n",
    "        print(\"I am a dog!\")"
   ]
  },
  {
   "cell_type": "code",
   "execution_count": 57,
   "id": "5aa68622",
   "metadata": {},
   "outputs": [
    {
     "name": "stdout",
     "output_type": "stream",
     "text": [
      "Animal created!\n",
      "Dog created!\n"
     ]
    }
   ],
   "source": [
    "# Instance\n",
    "anotherdog = Dog()"
   ]
  },
  {
   "cell_type": "code",
   "execution_count": 58,
   "id": "8a74fcd2",
   "metadata": {},
   "outputs": [
    {
     "name": "stdout",
     "output_type": "stream",
     "text": [
      "I am a dog!\n"
     ]
    }
   ],
   "source": [
    "# Re-defined method\n",
    "anotherdog.who_am_i()"
   ]
  },
  {
   "cell_type": "markdown",
   "id": "302f49a6",
   "metadata": {},
   "source": [
    "New methods can be added to the inherited ones."
   ]
  },
  {
   "cell_type": "code",
   "execution_count": 59,
   "id": "089a12fa",
   "metadata": {},
   "outputs": [],
   "source": [
    "# Re-definition of derived class\n",
    "class Dog(Animal):\n",
    "    \n",
    "    def __init__(self):\n",
    "        Animal.__init__(self)\n",
    "        print(\"Dog created!\")\n",
    "    \n",
    "    def eat(self):\n",
    "        print(\"I am a dog and eating!\")\n",
    "        \n",
    "    def bark(self):\n",
    "        print(\"WOOF!\")"
   ]
  },
  {
   "cell_type": "code",
   "execution_count": 60,
   "id": "8760e55e",
   "metadata": {},
   "outputs": [
    {
     "name": "stdout",
     "output_type": "stream",
     "text": [
      "Animal created!\n",
      "Dog created!\n"
     ]
    }
   ],
   "source": [
    "# Instance\n",
    "adog = Dog()"
   ]
  },
  {
   "cell_type": "code",
   "execution_count": 61,
   "id": "29ec8da1",
   "metadata": {},
   "outputs": [
    {
     "name": "stdout",
     "output_type": "stream",
     "text": [
      "WOOF!\n"
     ]
    }
   ],
   "source": [
    "# Method calls\n",
    "adog.bark()"
   ]
  },
  {
   "cell_type": "code",
   "execution_count": 62,
   "id": "836e2064",
   "metadata": {},
   "outputs": [
    {
     "name": "stdout",
     "output_type": "stream",
     "text": [
      "I am a dog and eating!\n"
     ]
    }
   ],
   "source": [
    "adog.eat()"
   ]
  },
  {
   "cell_type": "code",
   "execution_count": 63,
   "id": "21715c00",
   "metadata": {},
   "outputs": [
    {
     "name": "stdout",
     "output_type": "stream",
     "text": [
      "I am an animal.\n"
     ]
    }
   ],
   "source": [
    "adog.who_am_i()"
   ]
  },
  {
   "cell_type": "markdown",
   "id": "b6ac9864",
   "metadata": {},
   "source": [
    "- **Polymorphism:** when different object classes share the same method name. Then, these methods can be called from the same place, though a variety of objects might be passed in."
   ]
  },
  {
   "cell_type": "code",
   "execution_count": 64,
   "id": "d55dc24f",
   "metadata": {},
   "outputs": [],
   "source": [
    "# Class definition\n",
    "class Dog():\n",
    "    \n",
    "    def __init__(self, name):\n",
    "        self.name = name\n",
    "        \n",
    "    def speak(self):\n",
    "        return self.name + \" says woof!\""
   ]
  },
  {
   "cell_type": "code",
   "execution_count": 65,
   "id": "6110852b",
   "metadata": {},
   "outputs": [],
   "source": [
    "# Class definition\n",
    "class Cat():\n",
    "    \n",
    "    def __init__(self, name):\n",
    "        self.name = name\n",
    "        \n",
    "    def speak(self):\n",
    "        return self.name + \" says meow!\""
   ]
  },
  {
   "cell_type": "code",
   "execution_count": 66,
   "id": "4677990c",
   "metadata": {},
   "outputs": [],
   "source": [
    "# Instances\n",
    "niko = Dog(\"Niko\")\n",
    "felix = Cat(\"Felix\")"
   ]
  },
  {
   "cell_type": "code",
   "execution_count": 68,
   "id": "15e77834",
   "metadata": {},
   "outputs": [
    {
     "data": {
      "text/plain": [
       "'Niko says woof!'"
      ]
     },
     "execution_count": 68,
     "metadata": {},
     "output_type": "execute_result"
    }
   ],
   "source": [
    "# Method calls\n",
    "niko.speak()"
   ]
  },
  {
   "cell_type": "code",
   "execution_count": 69,
   "id": "a1865a5d",
   "metadata": {},
   "outputs": [
    {
     "data": {
      "text/plain": [
       "'Felix says meow!'"
      ]
     },
     "execution_count": 69,
     "metadata": {},
     "output_type": "execute_result"
    }
   ],
   "source": [
    "felix.speak()"
   ]
  },
  {
   "cell_type": "code",
   "execution_count": 67,
   "id": "d8bb9296",
   "metadata": {},
   "outputs": [
    {
     "name": "stdout",
     "output_type": "stream",
     "text": [
      "Niko\n",
      "Felix\n"
     ]
    }
   ],
   "source": [
    "# Showing polymorphism\n",
    "for pet in [niko, felix]:\n",
    "    print(pet.name)"
   ]
  },
  {
   "cell_type": "code",
   "execution_count": 72,
   "id": "68c57c47",
   "metadata": {},
   "outputs": [
    {
     "name": "stdout",
     "output_type": "stream",
     "text": [
      "<class '__main__.Dog'>\n",
      "Niko says woof!\n",
      "\n",
      "<class '__main__.Cat'>\n",
      "Felix says meow!\n",
      "\n"
     ]
    }
   ],
   "source": [
    "# Showing polymorphism\n",
    "for pet in [niko, felix]:\n",
    "    print(type(pet))\n",
    "    print(pet.speak())\n",
    "    print(\"\")"
   ]
  },
  {
   "cell_type": "code",
   "execution_count": 75,
   "id": "4caa95bd",
   "metadata": {},
   "outputs": [],
   "source": [
    "# Showing polymorphism with function\n",
    "def pet_speak(pet):\n",
    "    print(pet.speak())"
   ]
  },
  {
   "cell_type": "code",
   "execution_count": 76,
   "id": "be3aad0d",
   "metadata": {},
   "outputs": [
    {
     "name": "stdout",
     "output_type": "stream",
     "text": [
      "Niko says woof!\n"
     ]
    }
   ],
   "source": [
    "# Function call\n",
    "pet_speak(niko)"
   ]
  },
  {
   "cell_type": "code",
   "execution_count": 77,
   "id": "de26784f",
   "metadata": {},
   "outputs": [
    {
     "name": "stdout",
     "output_type": "stream",
     "text": [
      "Felix says meow!\n"
     ]
    }
   ],
   "source": [
    "# Function call\n",
    "pet_speak(felix)"
   ]
  },
  {
   "cell_type": "markdown",
   "id": "41c4213b",
   "metadata": {},
   "source": [
    "- **Abstract class:** one that is created never expected to be *directly* instantiated, and instead to be used as base class."
   ]
  },
  {
   "cell_type": "code",
   "execution_count": 78,
   "id": "c7221896",
   "metadata": {},
   "outputs": [],
   "source": [
    "# Redefinition as abstract class\n",
    "class Animal():\n",
    "    \n",
    "    def __init__(self, name):\n",
    "        self.name = name\n",
    "        \n",
    "    def speak(self):\n",
    "        raise NotImplementedError(\"Subclass must implement this abstract method.\")"
   ]
  },
  {
   "cell_type": "code",
   "execution_count": 79,
   "id": "c377ec2e",
   "metadata": {},
   "outputs": [],
   "source": [
    "# Instantiation\n",
    "myanim = Animal(\"Fred\")"
   ]
  },
  {
   "cell_type": "code",
   "execution_count": 80,
   "id": "7234d3a1",
   "metadata": {},
   "outputs": [
    {
     "ename": "NotImplementedError",
     "evalue": "Subclass must implement this abstract method.",
     "output_type": "error",
     "traceback": [
      "\u001b[1;31m---------------------------------------------------------------------------\u001b[0m",
      "\u001b[1;31mNotImplementedError\u001b[0m                       Traceback (most recent call last)",
      "Cell \u001b[1;32mIn[80], line 1\u001b[0m\n\u001b[1;32m----> 1\u001b[0m myanim\u001b[38;5;241m.\u001b[39mspeak()\n",
      "Cell \u001b[1;32mIn[78], line 8\u001b[0m, in \u001b[0;36mAnimal.speak\u001b[1;34m(self)\u001b[0m\n\u001b[0;32m      7\u001b[0m \u001b[38;5;28;01mdef\u001b[39;00m \u001b[38;5;21mspeak\u001b[39m(\u001b[38;5;28mself\u001b[39m):\n\u001b[1;32m----> 8\u001b[0m     \u001b[38;5;28;01mraise\u001b[39;00m \u001b[38;5;167;01mNotImplementedError\u001b[39;00m(\u001b[38;5;124m\"\u001b[39m\u001b[38;5;124mSubclass must implement this abstract method.\u001b[39m\u001b[38;5;124m\"\u001b[39m)\n",
      "\u001b[1;31mNotImplementedError\u001b[0m: Subclass must implement this abstract method."
     ]
    }
   ],
   "source": [
    "myanim.speak()"
   ]
  },
  {
   "cell_type": "markdown",
   "id": "3fe2a6b8",
   "metadata": {},
   "source": [
    "It is expected the `Animal` class to be inherited and then the `speak` method to be overridden."
   ]
  },
  {
   "cell_type": "code",
   "execution_count": 81,
   "id": "fa7bd483",
   "metadata": {},
   "outputs": [],
   "source": [
    "# Class definition\n",
    "class Dog(Animal):\n",
    "    \n",
    "    def speak(self):\n",
    "        return self.name + \" says woof!\""
   ]
  },
  {
   "cell_type": "code",
   "execution_count": 82,
   "id": "1c708bc4",
   "metadata": {},
   "outputs": [],
   "source": [
    "# Class definition\n",
    "class Cat(Animal):\n",
    "    \n",
    "    def speak(self):\n",
    "        return self.name + \" says meow!\""
   ]
  },
  {
   "cell_type": "code",
   "execution_count": 83,
   "id": "5933eff2",
   "metadata": {},
   "outputs": [],
   "source": [
    "# Instances\n",
    "fido = Dog(\"Fido\")\n",
    "isis = Cat(\"Isis\")"
   ]
  },
  {
   "cell_type": "code",
   "execution_count": 84,
   "id": "8d990869",
   "metadata": {},
   "outputs": [
    {
     "data": {
      "text/plain": [
       "'Fido says woof!'"
      ]
     },
     "execution_count": 84,
     "metadata": {},
     "output_type": "execute_result"
    }
   ],
   "source": [
    "# Showing polymorphism\n",
    "fido.speak()"
   ]
  },
  {
   "cell_type": "code",
   "execution_count": 85,
   "id": "c52ffdcf",
   "metadata": {},
   "outputs": [
    {
     "data": {
      "text/plain": [
       "'Isis says meow!'"
      ]
     },
     "execution_count": 85,
     "metadata": {},
     "output_type": "execute_result"
    }
   ],
   "source": [
    "# Showing polymorphism\n",
    "isis.speak()"
   ]
  },
  {
   "cell_type": "markdown",
   "id": "bcac663c",
   "metadata": {},
   "source": [
    "## 72 - OOP - Special (Magic/Dunder) Methods"
   ]
  },
  {
   "cell_type": "markdown",
   "id": "940e7645",
   "metadata": {},
   "source": [
    "- These allow for applying Python's built-in operations in user-defined classes."
   ]
  },
  {
   "cell_type": "code",
   "execution_count": 86,
   "id": "85402de7",
   "metadata": {},
   "outputs": [
    {
     "data": {
      "text/plain": [
       "[1, 2, 3]"
      ]
     },
     "execution_count": 86,
     "metadata": {},
     "output_type": "execute_result"
    }
   ],
   "source": [
    "mylist = [1, 2, 3]\n",
    "mylist"
   ]
  },
  {
   "cell_type": "code",
   "execution_count": 90,
   "id": "05dcdc64",
   "metadata": {},
   "outputs": [
    {
     "data": {
      "text/plain": [
       "3"
      ]
     },
     "execution_count": 90,
     "metadata": {},
     "output_type": "execute_result"
    }
   ],
   "source": [
    "# Built-in operation\n",
    "len(mylist)"
   ]
  },
  {
   "cell_type": "code",
   "execution_count": 88,
   "id": "0e303297",
   "metadata": {},
   "outputs": [],
   "source": [
    "# Class definition\n",
    "class Sample():\n",
    "    pass"
   ]
  },
  {
   "cell_type": "code",
   "execution_count": 89,
   "id": "5342aee4",
   "metadata": {},
   "outputs": [],
   "source": [
    "mysample = Sample()"
   ]
  },
  {
   "cell_type": "code",
   "execution_count": 91,
   "id": "89095467",
   "metadata": {},
   "outputs": [
    {
     "ename": "TypeError",
     "evalue": "object of type 'Sample' has no len()",
     "output_type": "error",
     "traceback": [
      "\u001b[1;31m---------------------------------------------------------------------------\u001b[0m",
      "\u001b[1;31mTypeError\u001b[0m                                 Traceback (most recent call last)",
      "Cell \u001b[1;32mIn[91], line 2\u001b[0m\n\u001b[0;32m      1\u001b[0m \u001b[38;5;66;03m# Built-in operation\u001b[39;00m\n\u001b[1;32m----> 2\u001b[0m \u001b[38;5;28mlen\u001b[39m(mysample)\n",
      "\u001b[1;31mTypeError\u001b[0m: object of type 'Sample' has no len()"
     ]
    }
   ],
   "source": [
    "# Built-in operation\n",
    "len(mysample)"
   ]
  },
  {
   "cell_type": "code",
   "execution_count": 92,
   "id": "a4e64edd",
   "metadata": {},
   "outputs": [
    {
     "name": "stdout",
     "output_type": "stream",
     "text": [
      "<__main__.Sample object at 0x000001135BB56310>\n"
     ]
    }
   ],
   "source": [
    "# Built-in operation\n",
    "print(mysample)"
   ]
  },
  {
   "cell_type": "code",
   "execution_count": 93,
   "id": "87e69ff0",
   "metadata": {},
   "outputs": [],
   "source": [
    "# Class definition\n",
    "class Book():\n",
    "    \n",
    "    def __init__(self, title, author, pages):\n",
    "        self.title = title\n",
    "        self_author = author\n",
    "        self.pages = pages"
   ]
  },
  {
   "cell_type": "code",
   "execution_count": 94,
   "id": "49f6e0f0",
   "metadata": {},
   "outputs": [],
   "source": [
    "# Instance\n",
    "b = Book(\"Python rocks!\", \"José\", 200)"
   ]
  },
  {
   "cell_type": "code",
   "execution_count": 95,
   "id": "812b5b76",
   "metadata": {},
   "outputs": [
    {
     "name": "stdout",
     "output_type": "stream",
     "text": [
      "<__main__.Book object at 0x000001135A7F87D0>\n"
     ]
    }
   ],
   "source": [
    "print(b)"
   ]
  },
  {
   "cell_type": "code",
   "execution_count": 96,
   "id": "c4d7f3d3",
   "metadata": {},
   "outputs": [
    {
     "data": {
      "text/plain": [
       "'<__main__.Book object at 0x000001135A7F87D0>'"
      ]
     },
     "execution_count": 96,
     "metadata": {},
     "output_type": "execute_result"
    }
   ],
   "source": [
    "str(b)"
   ]
  },
  {
   "cell_type": "code",
   "execution_count": 114,
   "id": "98c682a6",
   "metadata": {},
   "outputs": [],
   "source": [
    "# Class re-definition\n",
    "class Book():\n",
    "    \n",
    "    def __init__(self, title, author, pages):\n",
    "        self.title = title\n",
    "        self.author = author\n",
    "        self.pages = pages\n",
    "        \n",
    "    def __str__(self):\n",
    "        return f\"{self.title} by {self.author}.\"\n",
    "    \n",
    "    def __len__(self):\n",
    "        return self.pages\n",
    "    \n",
    "    def __del__(self):\n",
    "        print(\"A book object has been deleted.\")"
   ]
  },
  {
   "cell_type": "code",
   "execution_count": 115,
   "id": "c518a188",
   "metadata": {},
   "outputs": [],
   "source": [
    "# Instance\n",
    "bookie = Book(\"'Python rocks!'\", \"José\", 200)"
   ]
  },
  {
   "cell_type": "code",
   "execution_count": 116,
   "id": "9d6af9f4",
   "metadata": {},
   "outputs": [
    {
     "name": "stdout",
     "output_type": "stream",
     "text": [
      "'Python rocks!' by José.\n"
     ]
    }
   ],
   "source": [
    "# Calls\n",
    "print(bookie)"
   ]
  },
  {
   "cell_type": "code",
   "execution_count": 117,
   "id": "78600a9c",
   "metadata": {},
   "outputs": [
    {
     "data": {
      "text/plain": [
       "200"
      ]
     },
     "execution_count": 117,
     "metadata": {},
     "output_type": "execute_result"
    }
   ],
   "source": [
    "len(bookie)"
   ]
  },
  {
   "cell_type": "code",
   "execution_count": 118,
   "id": "f32d9e24",
   "metadata": {},
   "outputs": [
    {
     "name": "stdout",
     "output_type": "stream",
     "text": [
      "A book object has been deleted.\n"
     ]
    }
   ],
   "source": [
    "# Delete variable from computer's memory\n",
    "del bookie"
   ]
  },
  {
   "cell_type": "code",
   "execution_count": 119,
   "id": "89d231a7",
   "metadata": {},
   "outputs": [
    {
     "ename": "NameError",
     "evalue": "name 'bookie' is not defined",
     "output_type": "error",
     "traceback": [
      "\u001b[1;31m---------------------------------------------------------------------------\u001b[0m",
      "\u001b[1;31mNameError\u001b[0m                                 Traceback (most recent call last)",
      "Cell \u001b[1;32mIn[119], line 1\u001b[0m\n\u001b[1;32m----> 1\u001b[0m bookie\n",
      "\u001b[1;31mNameError\u001b[0m: name 'bookie' is not defined"
     ]
    }
   ],
   "source": [
    "bookie"
   ]
  }
 ],
 "metadata": {
  "kernelspec": {
   "display_name": "Python 3 (ipykernel)",
   "language": "python",
   "name": "python3"
  },
  "language_info": {
   "codemirror_mode": {
    "name": "ipython",
    "version": 3
   },
   "file_extension": ".py",
   "mimetype": "text/x-python",
   "name": "python",
   "nbconvert_exporter": "python",
   "pygments_lexer": "ipython3",
   "version": "3.11.5"
  }
 },
 "nbformat": 4,
 "nbformat_minor": 5
}
